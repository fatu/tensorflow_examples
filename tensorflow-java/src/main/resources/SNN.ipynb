{
 "cells": [
  {
   "cell_type": "code",
   "execution_count": 1,
   "metadata": {},
   "outputs": [],
   "source": [
    "import tensorflow as tf\n",
    "import os\n",
    "import numpy as np\n",
    "from tensorflow.python.platform import gfile"
   ]
  },
  {
   "cell_type": "code",
   "execution_count": null,
   "metadata": {},
   "outputs": [],
   "source": []
  },
  {
   "cell_type": "code",
   "execution_count": 4,
   "metadata": {},
   "outputs": [
    {
     "name": "stdout",
     "output_type": "stream",
     "text": [
      "(<tf.Tensor 'dense_5_input_2:0' shape=<unknown> dtype=float32>,)\n",
      "dense_5_input_2\n",
      "(<tf.Tensor 'dense_5_2/kernel:0' shape=(294, 100) dtype=float32>,)\n",
      "dense_5_2/kernel\n",
      "(<tf.Tensor 'dense_5_2/kernel/read:0' shape=(294, 100) dtype=float32>,)\n",
      "dense_5_2/kernel/read\n",
      "(<tf.Tensor 'dense_5_2/bias:0' shape=(100,) dtype=float32>,)\n",
      "dense_5_2/bias\n",
      "(<tf.Tensor 'dense_5_2/bias/read:0' shape=(100,) dtype=float32>,)\n",
      "dense_5_2/bias/read\n",
      "(<tf.Tensor 'dense_5_2/MatMul:0' shape=(?, 100) dtype=float32>,)\n",
      "dense_5_2/MatMul\n",
      "(<tf.Tensor 'dense_5_2/BiasAdd:0' shape=(?, 100) dtype=float32>,)\n",
      "dense_5_2/BiasAdd\n",
      "(<tf.Tensor 'dense_5_2/Sigmoid:0' shape=(?, 100) dtype=float32>,)\n",
      "dense_5_2/Sigmoid\n",
      "(<tf.Tensor 'dense_6_2/kernel:0' shape=(100, 2) dtype=float32>,)\n",
      "dense_6_2/kernel\n",
      "(<tf.Tensor 'dense_6_2/kernel/read:0' shape=(100, 2) dtype=float32>,)\n",
      "dense_6_2/kernel/read\n",
      "(<tf.Tensor 'dense_6_2/bias:0' shape=(2,) dtype=float32>,)\n",
      "dense_6_2/bias\n",
      "(<tf.Tensor 'dense_6_2/bias/read:0' shape=(2,) dtype=float32>,)\n",
      "dense_6_2/bias/read\n",
      "(<tf.Tensor 'dense_6_2/MatMul:0' shape=(?, 2) dtype=float32>,)\n",
      "dense_6_2/MatMul\n",
      "(<tf.Tensor 'dense_6_2/BiasAdd:0' shape=(?, 2) dtype=float32>,)\n",
      "dense_6_2/BiasAdd\n",
      "(<tf.Tensor 'dense_6_2/Softmax:0' shape=(?, 2) dtype=float32>,)\n",
      "dense_6_2/Softmax\n",
      "(<tf.Tensor 'strided_slice/stack:0' shape=(1,) dtype=int32>,)\n",
      "strided_slice/stack\n",
      "(<tf.Tensor 'strided_slice/stack_1:0' shape=(1,) dtype=int32>,)\n",
      "strided_slice/stack_1\n",
      "(<tf.Tensor 'strided_slice/stack_2:0' shape=(1,) dtype=int32>,)\n",
      "strided_slice/stack_2\n",
      "(<tf.Tensor 'strided_slice:0' shape=(2,) dtype=float32>,)\n",
      "strided_slice\n",
      "(<tf.Tensor 'output_node0:0' shape=(2,) dtype=float32>,)\n",
      "output_node0\n",
      "(<tf.Tensor 'strided_slice_1/stack:0' shape=(1,) dtype=int32>,)\n",
      "strided_slice_1/stack\n",
      "(<tf.Tensor 'strided_slice_1/stack_1:0' shape=(1,) dtype=int32>,)\n",
      "strided_slice_1/stack_1\n",
      "(<tf.Tensor 'strided_slice_1/stack_2:0' shape=(1,) dtype=int32>,)\n",
      "strided_slice_1/stack_2\n",
      "(<tf.Tensor 'strided_slice_1:0' shape=(2,) dtype=float32>,)\n",
      "strided_slice_1\n",
      "(<tf.Tensor 'output_node1:0' shape=(2,) dtype=float32>,)\n",
      "output_node1\n",
      "Tensor(\"dense_5_input_2:0\", dtype=float32)\n"
     ]
    }
   ],
   "source": [
    "with gfile.FastGFile(\"SNN_294_100_sigmoid_softmax.pb\",'rb') as f:\n",
    "    graph_def = tf.GraphDef()\n",
    "    graph_def.ParseFromString(f.read())\n",
    "    tf.import_graph_def(graph_def, name='')\n",
    "\n",
    "\n",
    "# In[3]:\n",
    "\n",
    "sess = tf.Session()\n",
    "all_ops_list = sess.graph.get_operations()\n",
    "\n",
    "#Method 1\n",
    "for ops_range in range(len(all_ops_list)):\n",
    "    print([m.values() for m in all_ops_list][ops_range])\n",
    "    print([m.name for m in all_ops_list][ops_range])\n",
    "\n",
    "\n",
    "# In[4]:\n",
    "\n",
    "#Method 2\n",
    "with tf.Session() as sess:\n",
    "    input_x = sess.graph.get_tensor_by_name(\"dense_5_input_2:0\")\n",
    "    print(input_x)"
   ]
  },
  {
   "cell_type": "code",
   "execution_count": 7,
   "metadata": {},
   "outputs": [],
   "source": [
    "import keras.backend as K\n",
    "from keras.applications import VGG19\n",
    "from keras.models import Model\n",
    "\n",
    "from tensorflow.python.saved_model import builder as saved_model_builder\n",
    "from tensorflow.python.saved_model import utils\n",
    "from tensorflow.python.saved_model import tag_constants, signature_constants\n",
    "from tensorflow.python.saved_model.signature_def_utils_impl import build_signature_def, predict_signature_def\n",
    "from tensorflow.contrib.session_bundle import exporter"
   ]
  },
  {
   "cell_type": "code",
   "execution_count": 10,
   "metadata": {},
   "outputs": [
    {
     "name": "stdout",
     "output_type": "stream",
     "text": [
      "INFO:tensorflow:No assets to save.\n",
      "INFO:tensorflow:No assets to write.\n",
      "INFO:tensorflow:SavedModel written to: folder_to_export/saved_model.pb\n"
     ]
    }
   ],
   "source": [
    "from keras.models import load_model\n",
    "model = load_model('SNN_294_100_sigmoid_softmax.h5')\n",
    "export_path = 'folder_to_export'\n",
    "builder = saved_model_builder.SavedModelBuilder(export_path)\n",
    "\n",
    "signature = predict_signature_def(inputs={'images': model.input},\n",
    "                                  outputs={'scores': model.output})\n",
    "\n",
    "with K.get_session() as sess:\n",
    "    builder.add_meta_graph_and_variables(sess=sess,\n",
    "                                         tags=[tag_constants.SERVING],\n",
    "                                         signature_def_map={'predict': signature})\n",
    "    builder.save()"
   ]
  },
  {
   "cell_type": "code",
   "execution_count": null,
   "metadata": {
    "collapsed": true
   },
   "outputs": [],
   "source": [
    "import argparse\n",
    "import pprint\n",
    "\n",
    "from tensorflow_serving_python.client import TFClient\n",
    "\n",
    "pp = pprint.PrettyPrinter(indent=2)\n",
    "\n",
    "if __name__ == \"__main__\":\n",
    "    parser = argparse.ArgumentParser(description='RPC Test.')\n",
    "\n",
    "    parser.add_argument('--host', required=True, type=str, help='Hostname to query')\n",
    "    parser.add_argument('--port', required=True, type=str, help='Port to query')\n",
    "    parser.add_argument('--image', required=True, type=str, help='Image to send (JPG format)')\n",
    "    args = parser.parse_args()\n",
    "\n",
    "    data = open(args.image, \"rb\").read()\n",
    "    client = TFClient(args.host, args.port)\n",
    "    pp.pprint(client.make_prediction(data, timeout=10))"
   ]
  }
 ],
 "metadata": {
  "kernelspec": {
   "display_name": "Python 3",
   "language": "python",
   "name": "python3"
  },
  "language_info": {
   "codemirror_mode": {
    "name": "ipython",
    "version": 3
   },
   "file_extension": ".py",
   "mimetype": "text/x-python",
   "name": "python",
   "nbconvert_exporter": "python",
   "pygments_lexer": "ipython3",
   "version": "3.5.6"
  }
 },
 "nbformat": 4,
 "nbformat_minor": 2
}
