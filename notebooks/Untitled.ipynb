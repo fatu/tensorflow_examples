{
 "cells": [
  {
   "cell_type": "code",
   "execution_count": 50,
   "metadata": {},
   "outputs": [
    {
     "name": "stderr",
     "output_type": "stream",
     "text": [
      "2018-03-28 19:44:29,661 - magic_google - INFO: https://www.google.com.bd/search?hl=en&q=Chow+Tai+Fook+Jewellery+payment+options&btnG=Search&gbv=1&num=1\n"
     ]
    },
    {
     "name": "stdout",
     "output_type": "stream",
     "text": [
      "{'text': 'At the end of this membership, the redemption value for jewellery '\n",
      "         'and gold\\n'\n",
      "         'products will be greater than the actual amount you have paid for '\n",
      "         'the\\n'\n",
      "         'membership, bringing you even greater benefits. We also provide a '\n",
      "         'more\\n'\n",
      "         'convenient and flexible payment option to the brides-to-be and '\n",
      "         'grooms-to-be.?\\n'\n",
      "         'Upon full payment of the\\xa0...',\n",
      " 'title': 'Chow Tai Fook Jewellery Club',\n",
      " 'url': 'http://www.chowtaifook.com/en/diy/jewellery_club.aspx'}\n",
      "{'title': 'Chow Tai Fook Jewellery Club', 'url': 'http://www.chowtaifook.com/en/diy/jewellery_club.aspx', 'text': 'At the end of this membership, the redemption value for jewellery and gold\\nproducts will be greater than the actual amount you have paid for the\\nmembership, bringing you even greater benefits. We also provide a more\\nconvenient and flexible payment option to the brides-to-be and grooms-to-be.?\\nUpon full payment of the\\xa0...'}\n"
     ]
    },
    {
     "name": "stderr",
     "output_type": "stream",
     "text": [
      "2018-03-28 19:44:40,344 - magic_google - INFO: https://www.google.co.kr/search?hl=en&q=Dick%27s+Sporting+Goods+payment+options&btnG=Search&gbv=1&num=1\n"
     ]
    },
    {
     "name": "stdout",
     "output_type": "stream",
     "text": [
      "{'text': \"Learn about payment options at DICK'S Sporting Goods. We offer a \"\n",
      "         'variety of\\n'\n",
      "         'secure payment options for online orders including major debit & '\n",
      "         'credit cards,\\n'\n",
      "         'PayPal and more.',\n",
      " 'title': \"Payment Options - Credit Cards & More | DICK'S Sporting Goods\",\n",
      " 'url': 'https://www.dickssportinggoods.com/s/payment-options'}\n",
      "{'title': \"Payment Options - Credit Cards & More | DICK'S Sporting Goods\", 'url': 'https://www.dickssportinggoods.com/s/payment-options', 'text': \"Learn about payment options at DICK'S Sporting Goods. We offer a variety of\\nsecure payment options for online orders including major debit & credit cards,\\nPayPal and more.\"}\n"
     ]
    },
    {
     "name": "stderr",
     "output_type": "stream",
     "text": [
      "2018-03-28 19:44:59,441 - magic_google - INFO: https://www.google.ne/search?hl=en&q=Office+Depot+payment+options&btnG=Search&gbv=1&num=1\n"
     ]
    },
    {
     "name": "stdout",
     "output_type": "stream",
     "text": [
      "{'text': 'We accept Visa, MasterCard, American Express and Discover along with '\n",
      "         'the Office Depot® OfficeMax® Business and Personal credit cards. '\n",
      "         'Orders placed for delivery require prepayment via credit card.',\n",
      " 'title': 'Payment Methods - Office Depot',\n",
      " 'url': 'https://www.officedepot.com/a/customerservice/payment/'}\n",
      "{'title': 'Payment Methods - Office Depot', 'url': 'https://www.officedepot.com/a/customerservice/payment/', 'text': 'We accept Visa, MasterCard, American Express and Discover along with the Office Depot® OfficeMax® Business and Personal credit cards. Orders placed for delivery require prepayment via credit card.'}\n"
     ]
    },
    {
     "name": "stderr",
     "output_type": "stream",
     "text": [
      "2018-03-28 19:45:30,143 - magic_google - INFO: https://www.google.com.qa/search?hl=en&q=Kesko+Corporation+payment+options&btnG=Search&gbv=1&num=1\n"
     ]
    },
    {
     "name": "stdout",
     "output_type": "stream",
     "text": [
      "{'text': \"Company. Let's do good. Together. Kesko provides trading sector \"\n",
      "         'services in\\n'\n",
      "         'nine countries. For Kesko and K-stores, responsibility is part of '\n",
      "         'our everyday work\\n'\n",
      "         \"that helps ... Kesko's strengths also include a good dividend-paying \"\n",
      "         'capacity and\\n'\n",
      "         'a strong financial position. ... We have a wide range of job options '\n",
      "         'available.',\n",
      " 'title': 'Kesko',\n",
      " 'url': 'https://www.kesko.fi/en/'}\n",
      "{'title': 'Kesko', 'url': 'https://www.kesko.fi/en/', 'text': \"Company. Let's do good. Together. Kesko provides trading sector services in\\nnine countries. For Kesko and K-stores, responsibility is part of our everyday work\\nthat helps ... Kesko's strengths also include a good dividend-paying capacity and\\na strong financial position. ... We have a wide range of job options available.\"}\n"
     ]
    },
    {
     "name": "stderr",
     "output_type": "stream",
     "text": [
      "2018-03-28 19:46:02,501 - magic_google - INFO: https://www.google.co.ls/search?hl=en&q=H2O+Retailing+Corporation+payment+options&btnG=Search&gbv=1&num=1\n"
     ]
    },
    {
     "name": "stdout",
     "output_type": "stream",
     "text": [
      "{'text': 'Monthly Sales Report(February, 2018) · Consolidated Financial '\n",
      "         'Statements for\\n'\n",
      "         'the Third Quarter of the Fiscal Year ending March 31, 2018 · '\n",
      "         'Financial Results\\n'\n",
      "         '3rd Quarter of FY2017 · Financial Report 2017 · Message to our '\n",
      "         'shareholders\\n'\n",
      "         '2017 · Notice of the 98th Annual General Meeting of Shareholders\\xa0'\n",
      "         '...',\n",
      " 'title': 'H2O RETAILING CORPORATION',\n",
      " 'url': 'https://www.h2o-retailing.co.jp/e/'}\n",
      "{'title': 'H2O RETAILING CORPORATION', 'url': 'https://www.h2o-retailing.co.jp/e/', 'text': 'Monthly Sales Report(February, 2018) · Consolidated Financial Statements for\\nthe Third Quarter of the Fiscal Year ending March 31, 2018 · Financial Results\\n3rd Quarter of FY2017 · Financial Report 2017 · Message to our shareholders\\n2017 · Notice of the 98th Annual General Meeting of Shareholders\\xa0...'}\n"
     ]
    },
    {
     "name": "stderr",
     "output_type": "stream",
     "text": [
      "2018-03-28 19:46:14,211 - magic_google - INFO: https://www.google.je/search?hl=en&q=The+Sherwin-Williams+payment+options&btnG=Search&gbv=1&num=1\n"
     ]
    },
    {
     "name": "stdout",
     "output_type": "stream",
     "text": [
      "{'text': \"Don't have a profile? Create one now. Create your mySW.com profile \"\n",
      "         'now by\\n'\n",
      "         'clicking here to gain instant access to exclusive benefits. '\n",
      "         'Sherwin-Williams Pro.\\n'\n",
      "         'Professionals. Buy online with your pricing, plan jobs and view '\n",
      "         'store inventory\\n'\n",
      "         'and order history. Learn more here. Preferred Customer PaintPerks '\n",
      "         'from Sherwin\\n'\n",
      "         '-\\xa0...',\n",
      " 'title': 'Sign In - Sherwin-Williams',\n",
      " 'url': 'https://www.sherwin-williams.com/login'}\n",
      "{'title': 'Sign In - Sherwin-Williams', 'url': 'https://www.sherwin-williams.com/login', 'text': \"Don't have a profile? Create one now. Create your mySW.com profile now by\\nclicking here to gain instant access to exclusive benefits. Sherwin-Williams Pro.\\nProfessionals. Buy online with your pricing, plan jobs and view store inventory\\nand order history. Learn more here. Preferred Customer PaintPerks from Sherwin\\n-\\xa0...\"}\n"
     ]
    },
    {
     "name": "stderr",
     "output_type": "stream",
     "text": [
      "2018-03-28 19:46:27,141 - magic_google - INFO: https://www.google.mk/search?hl=en&q=Army+and+Air+Force+Exchange+payment+options&btnG=Search&gbv=1&num=1\n"
     ]
    },
    {
     "name": "stdout",
     "output_type": "stream",
     "text": [
      "{'text': 'What payment methods can I use? You can pay with your Military Star '\n",
      "         'Card,\\n'\n",
      "         'Discover, MasterCard, Visa or American Express. ... I redeem a gift '\n",
      "         'card? In the\\n'\n",
      "         'payment section during online checkout, you can fill in your '\n",
      "         'Exchange Gift Card\\n'\n",
      "         'number as it appears on the back of your card.',\n",
      " 'title': \"Military Discounts On Top Brands, Women's Clothing ... - Exchange\",\n",
      " 'url': 'https://www.shopmyexchange.com/customer-service/faqs'}\n",
      "{'title': \"Military Discounts On Top Brands, Women's Clothing ... - Exchange\", 'url': 'https://www.shopmyexchange.com/customer-service/faqs', 'text': 'What payment methods can I use? You can pay with your Military Star Card,\\nDiscover, MasterCard, Visa or American Express. ... I redeem a gift card? In the\\npayment section during online checkout, you can fill in your Exchange Gift Card\\nnumber as it appears on the back of your card.'}\n"
     ]
    },
    {
     "name": "stderr",
     "output_type": "stream",
     "text": [
      "2018-03-28 19:46:41,045 - magic_google - INFO: https://www.google.com.fj/search?hl=en&q=Reitan+Group+payment+options&btnG=Search&gbv=1&num=1\n"
     ]
    },
    {
     "name": "stdout",
     "output_type": "stream",
     "text": [
      "{'text': 'Reitangruppen (The Reitan Group) – is one of the largest companies '\n",
      "         'in Norway.\\n'\n",
      "         'We work hard and continuously to reach our vision of becoming the '\n",
      "         'most value\\n'\n",
      "         'driven company. This is achieved through cultivating the different '\n",
      "         'business ideas\\n'\n",
      "         'in our different concepts, and by maintaining and amplifying a '\n",
      "         'culture that has the\\n'\n",
      "         '...',\n",
      " 'title': 'The Reitan Group | Reitangruppen',\n",
      " 'url': 'http://www.reitangruppen.no/the-reitan-group/'}\n",
      "{'title': 'The Reitan Group | Reitangruppen', 'url': 'http://www.reitangruppen.no/the-reitan-group/', 'text': 'Reitangruppen (The Reitan Group) – is one of the largest companies in Norway.\\nWe work hard and continuously to reach our vision of becoming the most value\\ndriven company. This is achieved through cultivating the different business ideas\\nin our different concepts, and by maintaining and amplifying a culture that has the\\n...'}\n"
     ]
    },
    {
     "name": "stderr",
     "output_type": "stream",
     "text": [
      "2018-03-28 19:47:10,736 - magic_google - INFO: https://www.google.com.sa/search?hl=en&q=Takashimaya+payment+options&btnG=Search&gbv=1&num=1\n"
     ]
    },
    {
     "name": "stdout",
     "output_type": "stream",
     "text": [
      "{'text': 'HIRE PURCHASE. Interior Department,B1. Our easy-payment, '\n",
      "         'low-interest hire\\n'\n",
      "         'purchase is applicable for minimum $500 spent on bedding and '\n",
      "         'furniture at\\n'\n",
      "         'Interior Department, B1 For more information or to apply, please '\n",
      "         'visit the Hire\\n'\n",
      "         'Purchase counter at B1, Interior Department. Hire Purchase Enquiry '\n",
      "         'Hotline:\\n'\n",
      "         '6506 0491.',\n",
      " 'title': 'General Services - Takashimaya Singapore Official Site | Popular '\n",
      "          '...',\n",
      " 'url': 'https://www.takashimaya.com.sg/about-us/general-services/'}\n",
      "{'title': 'General Services - Takashimaya Singapore Official Site | Popular ...', 'url': 'https://www.takashimaya.com.sg/about-us/general-services/', 'text': 'HIRE PURCHASE. Interior Department,B1. Our easy-payment, low-interest hire\\npurchase is applicable for minimum $500 spent on bedding and furniture at\\nInterior Department, B1 For more information or to apply, please visit the Hire\\nPurchase counter at B1, Interior Department. Hire Purchase Enquiry Hotline:\\n6506 0491.'}\n"
     ]
    },
    {
     "name": "stderr",
     "output_type": "stream",
     "text": [
      "2018-03-28 19:47:38,469 - magic_google - INFO: https://www.google.cf/search?hl=en&q=Kering+payment+options&btnG=Search&gbv=1&num=1\n"
     ]
    },
    {
     "name": "stdout",
     "output_type": "stream",
     "text": [
      "{'text': 'View the basic KER.PA option chain and compare options of KERING on '\n",
      "         'Yahoo\\n'\n",
      "         'Finance.',\n",
      " 'title': 'KER.PA Option Chain | KERING Stock - Yahoo Finance',\n",
      " 'url': 'https://finance.yahoo.com/quote/KER.PA/options?p=KER.PA'}\n",
      "{'title': 'KER.PA Option Chain | KERING Stock - Yahoo Finance', 'url': 'https://finance.yahoo.com/quote/KER.PA/options?p=KER.PA', 'text': 'View the basic KER.PA option chain and compare options of KERING on Yahoo\\nFinance.'}\n"
     ]
    },
    {
     "name": "stderr",
     "output_type": "stream",
     "text": [
      "2018-03-28 19:47:50,206 - magic_google - INFO: https://www.google.jo/search?hl=en&q=Central+Group+payment+options&btnG=Search&gbv=1&num=1\n"
     ]
    },
    {
     "name": "stdout",
     "output_type": "stream",
     "text": [
      "{'text': 'Health care benefit programs issued or administered by Capital '\n",
      "         'BlueCross and/\\n'\n",
      "         'or its subsidiaries, Capital Advantage Insurance Company®, Capital '\n",
      "         'Advantage\\n'\n",
      "         'Assurance Company® and Keystone Health Plan® Central. Independent\\n'\n",
      "         'licensees of the BlueCross BlueShield Association serving 21 '\n",
      "         'counties in Central\\n'\n",
      "         '...',\n",
      " 'title': 'Group Payment Options - Capital BlueCross',\n",
      " 'url': 'https://www.capbluecross.com/wps/portal/cap/employer/resource/group-payment-options/'}\n",
      "{'title': 'Group Payment Options - Capital BlueCross', 'url': 'https://www.capbluecross.com/wps/portal/cap/employer/resource/group-payment-options/', 'text': 'Health care benefit programs issued or administered by Capital BlueCross and/\\nor its subsidiaries, Capital Advantage Insurance Company®, Capital Advantage\\nAssurance Company® and Keystone Health Plan® Central. Independent\\nlicensees of the BlueCross BlueShield Association serving 21 counties in Central\\n...'}\n"
     ]
    },
    {
     "name": "stderr",
     "output_type": "stream",
     "text": [
      "2018-03-28 19:47:59,813 - magic_google - INFO: https://www.google.com.ng/search?hl=en&q=Organizaci%C3%8C%C3%94n+SorianaB.+de+payment+options&btnG=Search&gbv=1&num=1\n"
     ]
    },
    {
     "name": "stdout",
     "output_type": "stream",
     "text": [
      "{'text': 'Connect to the most current information on stocks and bonds on '\n",
      "         'Reuters.com for\\n'\n",
      "         'SORIANAB.MX.',\n",
      " 'title': 'Organizacion Soriana SAB de CV (SORIANAB.MX) Financials ...',\n",
      " 'url': 'https://www.reuters.com/finance/stocks/financial-highlights/SORIANAB.MX'}\n",
      "{'title': 'Organizacion Soriana SAB de CV (SORIANAB.MX) Financials ...', 'url': 'https://www.reuters.com/finance/stocks/financial-highlights/SORIANAB.MX', 'text': 'Connect to the most current information on stocks and bonds on Reuters.com for\\nSORIANAB.MX.'}\n"
     ]
    },
    {
     "name": "stderr",
     "output_type": "stream",
     "text": [
      "2018-03-28 19:48:23,801 - magic_google - INFO: https://www.google.com.jm/search?hl=en&q=Beisia+Group+payment+options&btnG=Search&gbv=1&num=1\n"
     ]
    },
    {
     "name": "stdout",
     "output_type": "stream",
     "text": [
      "{'text': 'With Beisia Shopping Centers and CAINZ Home as the core of the '\n",
      "         'group, we are\\n'\n",
      "         'developing shopping areas lined with Beisia Group stores and '\n",
      "         'products that ... a\\n'\n",
      "         'wide selection of consumables and accessories. We plan on '\n",
      "         'stabilizing our\\n'\n",
      "         'customer base and increasing the frequency of customer visits. '\n",
      "         'Beisia Electronics',\n",
      " 'title': 'About Beisia Group | CAINZ',\n",
      " 'url': 'https://www.cainz.co.jp/en/about/aboutbeisia.html'}\n",
      "{'title': 'About Beisia Group | CAINZ', 'url': 'https://www.cainz.co.jp/en/about/aboutbeisia.html', 'text': 'With Beisia Shopping Centers and CAINZ Home as the core of the group, we are\\ndeveloping shopping areas lined with Beisia Group stores and products that ... a\\nwide selection of consumables and accessories. We plan on stabilizing our\\ncustomer base and increasing the frequency of customer visits. Beisia Electronics'}\n",
      "{'text': '', 'title': ''}\n",
      "{'title': '', 'text': ''}\n"
     ]
    },
    {
     "name": "stderr",
     "output_type": "stream",
     "text": [
      "2018-03-28 19:48:50,622 - magic_google - INFO: https://www.google.gg/search?hl=en&q=Compagnie+Financi%C3%A5%C2%8Fre+Richemont+payment+options&btnG=Search&gbv=1&num=1\n"
     ]
    },
    {
     "name": "stdout",
     "output_type": "stream",
     "text": [
      "{'text': \"About Richemont. Richemont owns several of the world's leading \"\n",
      "         'companies in\\n'\n",
      "         'the field of luxury goods, with particular strengths in jewellery, '\n",
      "         'watches and\\n'\n",
      "         'writing instruments. Our Maisons™ encompass several of the most '\n",
      "         'prestigious\\n'\n",
      "         'names in the luxury industry including Cartier, Van Cleef & Arpels, '\n",
      "         'IWC\\n'\n",
      "         'Schaffhausen,\\xa0...',\n",
      " 'title': 'Compagnie Financière Richemont SA - Home',\n",
      " 'url': 'https://www.richemont.com/'}\n",
      "{'title': 'Compagnie Financière Richemont SA - Home', 'url': 'https://www.richemont.com/', 'text': \"About Richemont. Richemont owns several of the world's leading companies in\\nthe field of luxury goods, with particular strengths in jewellery, watches and\\nwriting instruments. Our Maisons™ encompass several of the most prestigious\\nnames in the luxury industry including Cartier, Van Cleef & Arpels, IWC\\nSchaffhausen,\\xa0...\"}\n"
     ]
    },
    {
     "name": "stderr",
     "output_type": "stream",
     "text": [
      "2018-03-28 19:48:59,209 - magic_google - INFO: https://www.google.me/search?hl=en&q=Bic+Camera+payment+options&btnG=Search&gbv=1&num=1\n"
     ]
    },
    {
     "name": "stdout",
     "output_type": "stream",
     "text": [
      "{'text': 'You can choose various payment methods including ginren, QUICPay '\n",
      "         '(quick pay\\n'\n",
      "         '), Alipay (ant pays) from pro-traffic card gift card debit cards '\n",
      "         'such as kakushukuri\\n'\n",
      "         'credit card, Suica.',\n",
      " 'title': 'Selectable payment method - bic camera inc.',\n",
      " 'url': 'http://www.biccamera.co.jp.e.lj.hp.transer.com/shopguide/service/payment/index.html'}\n",
      "{'title': 'Selectable payment method - bic camera inc.', 'url': 'http://www.biccamera.co.jp.e.lj.hp.transer.com/shopguide/service/payment/index.html', 'text': 'You can choose various payment methods including ginren, QUICPay (quick pay\\n), Alipay (ant pays) from pro-traffic card gift card debit cards such as kakushukuri\\ncredit card, Suica.'}\n"
     ]
    },
    {
     "name": "stderr",
     "output_type": "stream",
     "text": [
      "2018-03-28 19:49:08,931 - magic_google - INFO: https://www.google.com.gh/search?hl=en&q=Dillard%27s+payment+options&btnG=Search&gbv=1&num=1\n"
     ]
    },
    {
     "name": "stdout",
     "output_type": "stream",
     "text": [
      "{'text': 'Sign on. Enter your username and password to securely view and '\n",
      "         'manage your\\n'\n",
      "         'account. Your username is not the same as your Dillards.com '\n",
      "         'username.\\n'\n",
      "         'Username. Password. Forgot your Username or Password? New User? '\n",
      "         'Enroll\\n'\n",
      "         \"Now. Welcome. Enroll in Dillard's Card Services to: Pay your \"\n",
      "         \"Dillard's Card bill\\n\"\n",
      "         'online',\n",
      " 'title': \"Dillard's Sign On\",\n",
      " 'url': 'https://dillards.myonlineresourcecenter.com/'}\n",
      "{'title': \"Dillard's Sign On\", 'url': 'https://dillards.myonlineresourcecenter.com/', 'text': \"Sign on. Enter your username and password to securely view and manage your\\naccount. Your username is not the same as your Dillards.com username.\\nUsername. Password. Forgot your Username or Password? New User? Enroll\\nNow. Welcome. Enroll in Dillard's Card Services to: Pay your Dillard's Card bill\\nonline\"}\n"
     ]
    },
    {
     "name": "stderr",
     "output_type": "stream",
     "text": [
      "2018-03-28 19:49:19,658 - magic_google - INFO: https://www.google.tm/search?hl=en&q=Signet+Jewelers+Limited+payment+options&btnG=Search&gbv=1&num=1\n"
     ]
    },
    {
     "name": "stdout",
     "output_type": "stream",
     "text": [
      "{'text': 'May 25, 2017 ... In addition, Signet announced today a seven-year '\n",
      "         'partnership with Progressive\\n'\n",
      "         'Leasing , to provide a lease-purchase payment option to customers '\n",
      "         'who do not\\n'\n",
      "         \"wish to pursue a credit option to access Signet's merchandise, or \"\n",
      "         'may not be\\n'\n",
      "         'eligible for credit programs. This includes customers who will no\\xa0'\n",
      "         '...',\n",
      " 'title': 'Signet Jewelers Limited - Signet Jewelers Announces First Phase of '\n",
      "          '...',\n",
      " 'url': 'http://www.signetjewelers.com/investors/news-releases/news-release-details/2017/Signet-Jewelers-Announces-First-Phase-of-Strategic-Outsourcing-of-Credit-Portfolio/default.aspx'}\n",
      "{'title': 'Signet Jewelers Limited - Signet Jewelers Announces First Phase of ...', 'url': 'http://www.signetjewelers.com/investors/news-releases/news-release-details/2017/Signet-Jewelers-Announces-First-Phase-of-Strategic-Outsourcing-of-Credit-Portfolio/default.aspx', 'text': \"May 25, 2017 ... In addition, Signet announced today a seven-year partnership with Progressive\\nLeasing , to provide a lease-purchase payment option to customers who do not\\nwish to pursue a credit option to access Signet's merchandise, or may not be\\neligible for credit programs. This includes customers who will no\\xa0...\"}\n"
     ]
    },
    {
     "name": "stderr",
     "output_type": "stream",
     "text": [
      "2018-03-28 19:49:36,370 - magic_google - INFO: https://www.google.at/search?hl=en&q=Belle+International+Limited+payment+options&btnG=Search&gbv=1&num=1\n"
     ]
    },
    {
     "name": "stdout",
     "output_type": "stream",
     "text": [
      "{'text': \"Belle is the top ladies' shoes brand in China providing elegant, \"\n",
      "         'easy to mix and\\n'\n",
      "         'match footwear products to the market. Its slogan “Keep Changing for '\n",
      "         'Beauty”is\\n'\n",
      "         'well received by the consumer and represents an attitude for the '\n",
      "         'modern, fashion\\n'\n",
      "         'conscious generation.http://www.belle.com.cn. STACCATO is an '\n",
      "         'European Style\\n'\n",
      "         '...',\n",
      " 'title': 'Belle International',\n",
      " 'url': 'http://www.belleintl.com/index.php?c=channel&a=type&tid=37'}\n",
      "{'title': 'Belle International', 'url': 'http://www.belleintl.com/index.php?c=channel&a=type&tid=37', 'text': \"Belle is the top ladies' shoes brand in China providing elegant, easy to mix and\\nmatch footwear products to the market. Its slogan “Keep Changing for Beauty”is\\nwell received by the consumer and represents an attitude for the modern, fashion\\nconscious generation.http://www.belle.com.cn. STACCATO is an European Style\\n...\"}\n"
     ]
    },
    {
     "name": "stderr",
     "output_type": "stream",
     "text": [
      "2018-03-28 19:49:53,204 - magic_google - INFO: https://www.google.se/search?hl=en&q=Yonghui+Superstores+payment+options&btnG=Search&gbv=1&num=1\n"
     ]
    },
    {
     "name": "stdout",
     "output_type": "stream",
     "text": [
      "{'text': 'Yonghui continues to pursue an aggressive expansion plan. It hopes '\n",
      "         'to ... focus\\n'\n",
      "         'on the retail business of Yonghui. Retail. Finance. Innovations. '\n",
      "         'B2B. • Yonghui\\n'\n",
      "         'Superstores. • Bravo YH. • Yonghui Life. • YH Super Species. • One '\n",
      "         'Bank ....\\n'\n",
      "         'Customers can pay with Yonghui shopping card, and third-party '\n",
      "         'payment tools\\n'\n",
      "         'such.',\n",
      " 'title': 'Yonghui Superstores - Fung Business Intelligence',\n",
      " 'url': 'https://www.fbicgroup.com/sites/default/files/New_Retail_in_Action_issue10.pdf'}\n",
      "{'title': 'Yonghui Superstores - Fung Business Intelligence', 'url': 'https://www.fbicgroup.com/sites/default/files/New_Retail_in_Action_issue10.pdf', 'text': 'Yonghui continues to pursue an aggressive expansion plan. It hopes to ... focus\\non the retail business of Yonghui. Retail. Finance. Innovations. B2B. • Yonghui\\nSuperstores. • Bravo YH. • Yonghui Life. • YH Super Species. • One Bank ....\\nCustomers can pay with Yonghui shopping card, and third-party payment tools\\nsuch.'}\n"
     ]
    },
    {
     "name": "stderr",
     "output_type": "stream",
     "text": [
      "2018-03-28 19:50:05,317 - magic_google - INFO: https://www.google.az/search?hl=en&q=B_M+Birle_ik+Ma_azalar+A._.+payment+options&btnG=Search&gbv=1&num=1\n"
     ]
    },
    {
     "name": "stdout",
     "output_type": "stream",
     "text": [
      "{'text': '153, B_M Birle_ik Ma_azalar A._. Turkey, $6,621, $6,621, $181, 3.0%. '\n",
      "         '154,\\n'\n",
      "         'Bauhaus GmbH & Co. KG, Germany, $6,589, e, $6,589, e, n/a, 17.0 ... '\n",
      "         '161, Pick n\\n'\n",
      "         'Pay Stores Limited, S. Africa, $6,125, $6,125, $79, 7.0%. 162, OJSC '\n",
      "         'Dixy Group,\\n'\n",
      "         'Russia, $6,043, $6,091, $119, 1.0%. 163, WinCo Foods LLC, U.S., '\n",
      "         '$6,000, e,\\n'\n",
      "         '$6,000\\xa0...',\n",
      " 'title': 'Global250 Table | National Retail Federation',\n",
      " 'url': 'https://nrf.com/2016/global250-table'}\n",
      "{'title': 'Global250 Table | National Retail Federation', 'url': 'https://nrf.com/2016/global250-table', 'text': '153, B_M Birle_ik Ma_azalar A._. Turkey, $6,621, $6,621, $181, 3.0%. 154,\\nBauhaus GmbH & Co. KG, Germany, $6,589, e, $6,589, e, n/a, 17.0 ... 161, Pick n\\nPay Stores Limited, S. Africa, $6,125, $6,125, $79, 7.0%. 162, OJSC Dixy Group,\\nRussia, $6,043, $6,091, $119, 1.0%. 163, WinCo Foods LLC, U.S., $6,000, e,\\n$6,000\\xa0...'}\n"
     ]
    },
    {
     "name": "stderr",
     "output_type": "stream",
     "text": [
      "2018-03-28 19:50:18,526 - magic_google - INFO: https://www.google.bt/search?hl=en&q=Home+Retail+Group+payment+options&btnG=Search&gbv=1&num=1\n"
     ]
    },
    {
     "name": "stdout",
     "output_type": "stream",
     "text": [
      "{'text': '49 Home Retail Group reviews. A free inside look at company reviews '\n",
      "         'and\\n'\n",
      "         'salaries posted anonymously by employees.',\n",
      " 'title': 'Home Retail Group Reviews | Glassdoor',\n",
      " 'url': 'https://www.glassdoor.com/Reviews/Home-Retail-Group-Reviews-E39968.htm'}\n",
      "{'title': 'Home Retail Group Reviews | Glassdoor', 'url': 'https://www.glassdoor.com/Reviews/Home-Retail-Group-Reviews-E39968.htm', 'text': '49 Home Retail Group reviews. A free inside look at company reviews and\\nsalaries posted anonymously by employees.'}\n"
     ]
    },
    {
     "name": "stderr",
     "output_type": "stream",
     "text": [
      "2018-03-28 19:50:26,170 - magic_google - INFO: https://www.google.co.ls/search?hl=en&q=Next+payment+options&btnG=Search&gbv=1&num=1\n"
     ]
    },
    {
     "name": "stdout",
     "output_type": "stream",
     "text": [
      "{'text': '',\n",
      " 'title': 'Method of Payment - Pay your Account - NEXT - Help information',\n",
      " 'url': 'http://help.next.co.uk/Section.aspx?ItemId=10379'}\n",
      "{'title': 'Method of Payment - Pay your Account - NEXT - Help information', 'url': 'http://help.next.co.uk/Section.aspx?ItemId=10379', 'text': ''}\n",
      "{'text': '', 'title': ''}\n",
      "{'title': '', 'text': ''}\n",
      "{'text': 'Please Wait... Credit & Debit Cards. Direct Debit. In Store Payment. '\n",
      "         'Online Banking. Selfserve. Next Gift Card / eVoucher. Next Gift '\n",
      "         'Voucher. Payzone Payments.',\n",
      " 'title': 'Method of Payment - Pay your Account - NEXT - Help information',\n",
      " 'url': 'http://help.next.co.uk/Section.aspx?ItemId=10379'}\n",
      "{'title': 'Method of Payment - Pay your Account - NEXT - Help information', 'url': 'http://help.next.co.uk/Section.aspx?ItemId=10379', 'text': 'Please Wait... Credit & Debit Cards. Direct Debit. In Store Payment. Online Banking. Selfserve. Next Gift Card / eVoucher. Next Gift Voucher. Payzone Payments.'}\n"
     ]
    },
    {
     "name": "stderr",
     "output_type": "stream",
     "text": [
      "2018-03-28 19:50:48,912 - magic_google - INFO: https://www.google.be/search?hl=en&q=Don+Quijote+payment+options&btnG=Search&gbv=1&num=1\n"
     ]
    },
    {
     "name": "stdout",
     "output_type": "stream",
     "text": [
      "{'text': 'READ THE GENERAL CONDITIONS BEFORE YOU REGISTER. donquijote;\\n'\n",
      "         'General Conditions. don Quijote is a private company owned by the '\n",
      "         'Ideal\\n'\n",
      "         'Education Group. don Quijote schools are accredited by the Cervantes '\n",
      "         'Institute\\n'\n",
      "         'and other institutions. Head office: Gustavo Fern├índez Balbuena 11, '\n",
      "         '28002\\n'\n",
      "         'Madrid, Spain.',\n",
      " 'title': 'General Conditions for don Quijote courses and services',\n",
      " 'url': 'https://www.donquijote.org/general-conditions/'}\n",
      "{'title': 'General Conditions for don Quijote courses and services', 'url': 'https://www.donquijote.org/general-conditions/', 'text': 'READ THE GENERAL CONDITIONS BEFORE YOU REGISTER. donquijote;\\nGeneral Conditions. don Quijote is a private company owned by the Ideal\\nEducation Group. don Quijote schools are accredited by the Cervantes Institute\\nand other institutions. Head office: Gustavo Fern├índez Balbuena 11, 28002\\nMadrid, Spain.'}\n"
     ]
    },
    {
     "name": "stderr",
     "output_type": "stream",
     "text": [
      "2018-03-28 19:51:06,323 - magic_google - INFO: https://www.google.vu/search?hl=en&q=Tractor+Supply+Company+payment+options&btnG=Search&gbv=1&num=1\n"
     ]
    },
    {
     "name": "stdout",
     "output_type": "stream",
     "text": [
      "{'text': '*With credit approval for qualifying major purchase plan made on the '\n",
      "         'Tractor\\n'\n",
      "         'Supply Company Personal Credit Card. 3.99% APR until balance is paid '\n",
      "         'in full.\\n'\n",
      "         'The amount of the 48 monthly payments will be equal to the total '\n",
      "         'purchase\\n'\n",
      "         'amount (including taxes) divided by 48, rounded up to the nearest '\n",
      "         'dollar. If you\\n'\n",
      "         'have other\\xa0...',\n",
      " 'title': 'Financing and Credit Cards | Tractor Supply Co.',\n",
      " 'url': 'https://www.tractorsupply.com/policies-information_customer-solutions_financing_tsc-personal-credit-card'}\n",
      "{'title': 'Financing and Credit Cards | Tractor Supply Co.', 'url': 'https://www.tractorsupply.com/policies-information_customer-solutions_financing_tsc-personal-credit-card', 'text': '*With credit approval for qualifying major purchase plan made on the Tractor\\nSupply Company Personal Credit Card. 3.99% APR until balance is paid in full.\\nThe amount of the 48 monthly payments will be equal to the total purchase\\namount (including taxes) divided by 48, rounded up to the nearest dollar. If you\\nhave other\\xa0...'}\n"
     ]
    },
    {
     "name": "stderr",
     "output_type": "stream",
     "text": [
      "2018-03-28 19:51:34,040 - magic_google - INFO: https://www.google.cm/search?hl=en&q=Dufry+AG+payment+options&btnG=Search&gbv=1&num=1\n"
     ]
    },
    {
     "name": "stdout",
     "output_type": "stream",
     "text": [
      "{'text': 'Dufry is committed to ensuring that all information of interest to '\n",
      "         'investors is\\n'\n",
      "         'presented clearly and is easy to access. In this area you can find '\n",
      "         'all information\\n'\n",
      "         'relating and of interest to investors. If there is any further '\n",
      "         'information you would\\n'\n",
      "         'like, please contact our IR team, who would be pleased to assist '\n",
      "         \"you. Dufry's\\n\"\n",
      "         '2017 Full\\xa0...',\n",
      " 'title': 'Investor Relations | Dufry',\n",
      " 'url': 'https://www.dufry.com/en/investors'}\n",
      "{'title': 'Investor Relations | Dufry', 'url': 'https://www.dufry.com/en/investors', 'text': \"Dufry is committed to ensuring that all information of interest to investors is\\npresented clearly and is easy to access. In this area you can find all information\\nrelating and of interest to investors. If there is any further information you would\\nlike, please contact our IR team, who would be pleased to assist you. Dufry's\\n2017 Full\\xa0...\"}\n"
     ]
    },
    {
     "name": "stderr",
     "output_type": "stream",
     "text": [
      "2018-03-28 19:52:02,695 - magic_google - INFO: https://www.google.cl/search?hl=en&q=Emke+Group+%2F+Lulu+Group+International+payment+options&btnG=Search&gbv=1&num=1\n"
     ]
    },
    {
     "name": "stdout",
     "output_type": "stream",
     "text": [
      "{'text': 'LuLu Updates : Lulu on expansion track in sync with Vision 2030, '\n",
      "         'Opens new\\n'\n",
      "         'Lulu store in Dammam; LuLu Group International Signs up as First '\n",
      "         'Official Retail\\n'\n",
      "         'Sponsor of Special Olympics World Summer Games Abu Dhabi 2019. '\n",
      "         '“Business\\n'\n",
      "         'is not just about money, products or services read more » yusuffali. '\n",
      "         'LuLu Group\\xa0...',\n",
      " 'title': 'LuLu Group International | Retail Hypermarket Chain Middle East ...',\n",
      " 'url': 'http://www.lulugroupinternational.com/'}\n",
      "{'title': 'LuLu Group International | Retail Hypermarket Chain Middle East ...', 'url': 'http://www.lulugroupinternational.com/', 'text': 'LuLu Updates : Lulu on expansion track in sync with Vision 2030, Opens new\\nLulu store in Dammam; LuLu Group International Signs up as First Official Retail\\nSponsor of Special Olympics World Summer Games Abu Dhabi 2019. “Business\\nis not just about money, products or services read more » yusuffali. LuLu Group\\xa0...'}\n"
     ]
    },
    {
     "name": "stderr",
     "output_type": "stream",
     "text": [
      "2018-03-28 19:52:32,477 - magic_google - INFO: https://www.google.ms/search?hl=en&q=WinCo+Foods+payment+options&btnG=Search&gbv=1&num=1\n"
     ]
    },
    {
     "name": "stdout",
     "output_type": "stream",
     "text": [
      "{'text': '',\n",
      " 'title': 'FAQs | WinCo Foods',\n",
      " 'url': 'https://www.wincofoods.com/customer-service/faqs'}\n",
      "{'title': 'FAQs | WinCo Foods', 'url': 'https://www.wincofoods.com/customer-service/faqs', 'text': ''}\n",
      "{'text': '', 'title': ''}\n",
      "{'title': '', 'text': ''}\n",
      "{'text': 'Jan 21, 2011 ... A: In general, we gladly accept cash, checks (that '\n",
      "         'meet our requirements), debit, WIC and EBT transactions as forms of '\n",
      "         'payment.',\n",
      " 'title': 'FAQs | WinCo Foods',\n",
      " 'url': 'https://www.wincofoods.com/customer-service/faqs'}\n",
      "{'title': 'FAQs | WinCo Foods', 'url': 'https://www.wincofoods.com/customer-service/faqs', 'text': 'Jan 21, 2011 ... A: In general, we gladly accept cash, checks (that meet our requirements), debit, WIC and EBT transactions as forms of payment.'}\n"
     ]
    },
    {
     "name": "stderr",
     "output_type": "stream",
     "text": [
      "2018-03-28 19:53:03,136 - magic_google - INFO: https://www.google.pl/search?hl=en&q=The+SPAR+Group+Limited+payment+options&btnG=Search&gbv=1&num=1\n"
     ]
    },
    {
     "name": "stdout",
     "output_type": "stream",
     "text": [
      "{'text': 'Add account payments to your shopping routine and save time with '\n",
      "         'SPAR! At\\n'\n",
      "         'SPAR, you can pay your monthly electricity accounts, traffic fines, '\n",
      "         'your phone bill\\n'\n",
      "         'and much more. Our service includes the ability to check how much '\n",
      "         'you owe and\\n'\n",
      "         '...',\n",
      " 'title': 'SPAR - My Payments',\n",
      " 'url': 'https://www.spar.co.za/In-store/In-Store-Services/My-Payments'}\n",
      "{'title': 'SPAR - My Payments', 'url': 'https://www.spar.co.za/In-store/In-Store-Services/My-Payments', 'text': 'Add account payments to your shopping routine and save time with SPAR! At\\nSPAR, you can pay your monthly electricity accounts, traffic fines, your phone bill\\nand much more. Our service includes the ability to check how much you owe and\\n...'}\n"
     ]
    },
    {
     "name": "stderr",
     "output_type": "stream",
     "text": [
      "2018-03-28 19:53:34,747 - magic_google - INFO: https://www.google.co.tz/search?hl=en&q=Coppel+de+C.V.+payment+options&btnG=Search&gbv=1&num=1\n"
     ]
    },
    {
     "name": "stdout",
     "output_type": "stream",
     "text": [
      "{'text': 'Coppel S.A. De C.V. company research & investing information. Find '\n",
      "         'executives\\n'\n",
      "         'and the latest company news.',\n",
      " 'title': 'Coppel S.A. De C.V.: Private Company Information - Bloomberg',\n",
      " 'url': 'https://www.bloomberg.com/research/stocks/private/snapshot.asp?privcapid=5488714'}\n",
      "{'title': 'Coppel S.A. De C.V.: Private Company Information - Bloomberg', 'url': 'https://www.bloomberg.com/research/stocks/private/snapshot.asp?privcapid=5488714', 'text': 'Coppel S.A. De C.V. company research & investing information. Find executives\\nand the latest company news.'}\n"
     ]
    },
    {
     "name": "stderr",
     "output_type": "stream",
     "text": [
      "2018-03-28 19:53:59,361 - magic_google - INFO: https://www.google.com.co/search?hl=en&q=Vipshop+Limited+payment+options&btnG=Search&gbv=1&num=1\n"
     ]
    },
    {
     "name": "stdout",
     "output_type": "stream",
     "text": [
      "{'text': 'Vipshop Holdings Limited (VIPS) Options Chain - Get free stock '\n",
      "         'options quotes\\n'\n",
      "         'including option chains with call and put prices, viewable by '\n",
      "         'expiration date, most\\n'\n",
      "         'active, and more at NASDAQ.com.',\n",
      " 'title': 'Vipshop Holdings Limited (VIPS) Option Chain - Stock Puts &amp ...',\n",
      " 'url': 'https://www.nasdaq.com/symbol/vips/option-chain'}\n",
      "{'title': 'Vipshop Holdings Limited (VIPS) Option Chain - Stock Puts &amp ...', 'url': 'https://www.nasdaq.com/symbol/vips/option-chain', 'text': 'Vipshop Holdings Limited (VIPS) Options Chain - Get free stock options quotes\\nincluding option chains with call and put prices, viewable by expiration date, most\\nactive, and more at NASDAQ.com.'}\n"
     ]
    },
    {
     "name": "stderr",
     "output_type": "stream",
     "text": [
      "2018-03-28 19:54:14,704 - magic_google - INFO: https://www.google.lv/search?hl=en&q=President+Chain+Store+Corp.+payment+options&btnG=Search&gbv=1&num=1\n"
     ]
    },
    {
     "name": "stdout",
     "output_type": "stream",
     "text": [
      "{'text': 'President Chain Store Corporation invests in and manages convenience '\n",
      "         'stores,\\n'\n",
      "         'restaurants, drugstores, department stores, supermarkets, '\n",
      "         'hypermarkets, and\\n'\n",
      "         'online shopping stores in Taiwan, Mainland China, the Philippines, '\n",
      "         'and Japan. It\\n'\n",
      "         'operates through Convenience Stores, Retail Business Group, '\n",
      "         'Logistics\\n'\n",
      "         'Business\\xa0...',\n",
      " 'title': 'President Chain Store Corporation: Private Company Information ...',\n",
      " 'url': 'https://www.bloomberg.com/research/stocks/private/snapshot.asp?privcapId=1433510'}\n",
      "{'title': 'President Chain Store Corporation: Private Company Information ...', 'url': 'https://www.bloomberg.com/research/stocks/private/snapshot.asp?privcapId=1433510', 'text': 'President Chain Store Corporation invests in and manages convenience stores,\\nrestaurants, drugstores, department stores, supermarkets, hypermarkets, and\\nonline shopping stores in Taiwan, Mainland China, the Philippines, and Japan. It\\noperates through Convenience Stores, Retail Business Group, Logistics\\nBusiness\\xa0...'}\n"
     ]
    },
    {
     "name": "stderr",
     "output_type": "stream",
     "text": [
      "2018-03-28 19:54:24,426 - magic_google - INFO: https://www.google.com.bz/search?hl=en&q=Agrokor+d.d.+payment+options&btnG=Search&gbv=1&num=1\n"
     ]
    },
    {
     "name": "stdout",
     "output_type": "stream",
     "text": [
      "{'text': 'The Agrokor Group is the leading company in the Adria region '\n",
      "         '(southeast Europe\\n'\n",
      "         ') with consolidated revenues greater than HRK 49 billion.',\n",
      " 'title': 'Agrokor',\n",
      " 'url': 'http://www.agrokor.hr/en/'}\n",
      "{'title': 'Agrokor', 'url': 'http://www.agrokor.hr/en/', 'text': 'The Agrokor Group is the leading company in the Adria region (southeast Europe\\n) with consolidated revenues greater than HRK 49 billion.'}\n"
     ]
    },
    {
     "name": "stderr",
     "output_type": "stream",
     "text": [
      "2018-03-28 19:54:54,103 - magic_google - INFO: https://www.google.com.gt/search?hl=en&q=Majid+Al+Futtaim+Holding+payment+options&btnG=Search&gbv=1&num=1\n"
     ]
    },
    {
     "name": "stdout",
     "output_type": "stream",
     "text": [
      "{'text': 'Please review the comprehensive payment options table below. Where '\n",
      "         'to pay\\n'\n",
      "         'How to pay Time until payment credited. Emirates NBD You can deposit '\n",
      "         'cash at\\n'\n",
      "         \"any of this banks' Cash & Cheque Deposit Machines (CCDM) 2 working \"\n",
      "         'days.\\n'\n",
      "         \"Emirates NBD Cardmembers having Emirates NBD A/C's can pay their \"\n",
      "         'Najm\\n'\n",
      "         'Credit\\xa0...',\n",
      " 'title': 'Where to Pay for Najm Cards - Majid Al Futtaim Finance',\n",
      " 'url': 'https://www.najm.ae/about-us/payment-locations/'}\n",
      "{'title': 'Where to Pay for Najm Cards - Majid Al Futtaim Finance', 'url': 'https://www.najm.ae/about-us/payment-locations/', 'text': \"Please review the comprehensive payment options table below. Where to pay\\nHow to pay Time until payment credited. Emirates NBD You can deposit cash at\\nany of this banks' Cash & Cheque Deposit Machines (CCDM) 2 working days.\\nEmirates NBD Cardmembers having Emirates NBD A/C's can pay their Najm\\nCredit\\xa0...\"}\n"
     ]
    },
    {
     "name": "stderr",
     "output_type": "stream",
     "text": [
      "2018-03-28 19:55:07,917 - magic_google - INFO: https://www.google.be/search?hl=en&q=Jumbo+Groep+Holding+B.V.+payment+options&btnG=Search&gbv=1&num=1\n"
     ]
    },
    {
     "name": "stdout",
     "output_type": "stream",
     "text": [
      "{'text': 'Jaarverslag 2016 Jumbo Groep Holding B.V.. 2. Jaarverslag 2016 Jumbo '\n",
      "         'Groep\\n'\n",
      "         'Holding B.V. ..... Drs. M.J.G. van de Meulenhof RA (36 jaar), '\n",
      "         'Finance Director.\\n'\n",
      "         'Centrale Ondernemingsraad (COR). A.T.G.N. Teklenburg (63 jaar), '\n",
      "         '...... Plan toe\\n'\n",
      "         'op een adequate werking van de internal controls. Daarnaast zijn de '\n",
      "         'controls die\\n'\n",
      "         '...',\n",
      " 'title': 'Jumbo Groep Holding BV - Jumbo 2017',\n",
      " 'url': 'http://www.jumborapportage.com/FbContent.ashx/pub_1005/Downloads/Corporate%20jaarverslag%20Jumbo%20Groep%20Holding.pdf'}\n",
      "{'title': 'Jumbo Groep Holding BV - Jumbo 2017', 'url': 'http://www.jumborapportage.com/FbContent.ashx/pub_1005/Downloads/Corporate%20jaarverslag%20Jumbo%20Groep%20Holding.pdf', 'text': 'Jaarverslag 2016 Jumbo Groep Holding B.V.. 2. Jaarverslag 2016 Jumbo Groep\\nHolding B.V. ..... Drs. M.J.G. van de Meulenhof RA (36 jaar), Finance Director.\\nCentrale Ondernemingsraad (COR). A.T.G.N. Teklenburg (63 jaar), ...... Plan toe\\nop een adequate werking van de internal controls. Daarnaast zijn de controls die\\n...'}\n"
     ]
    },
    {
     "name": "stderr",
     "output_type": "stream",
     "text": [
      "2018-03-28 19:55:29,615 - magic_google - INFO: https://www.google.dk/search?hl=en&q=Yodobashi+Camera+payment+options&btnG=Search&gbv=1&num=1\n"
     ]
    },
    {
     "name": "stdout",
     "output_type": "stream",
     "text": [
      "{'text': 'We are carrying out no interest rate campaign until up to 60 times '\n",
      "         'of Orico shopping loans in BicCamera Kojima!\\n'\n",
      "         '... In the case of the use, it becomes Point of basic 8% with BIC '\n",
      "         'reward card by various credit cards.\\n'\n",
      "         '... â€»Credit card \"Keio passport card\" of Keio is available in '\n",
      "         'BicCamera ...',\n",
      " 'title': 'Selectable payment method - bic camera inc.',\n",
      " 'url': 'http://www.biccamera.co.jp.e.lj.hp.transer.com/shopguide/service/payment/index.html'}\n",
      "{'title': 'Selectable payment method - bic camera inc.', 'url': 'http://www.biccamera.co.jp.e.lj.hp.transer.com/shopguide/service/payment/index.html', 'text': 'We are carrying out no interest rate campaign until up to 60 times of Orico shopping loans in BicCamera Kojima!\\n... In the case of the use, it becomes Point of basic 8% with BIC reward card by various credit cards.\\n... â€»Credit card \"Keio passport card\" of Keio is available in BicCamera ...'}\n"
     ]
    },
    {
     "name": "stderr",
     "output_type": "stream",
     "text": [
      "2018-03-28 19:55:41,249 - magic_google - INFO: https://www.google.la/search?hl=en&q=Homeplus+payment+options&btnG=Search&gbv=1&num=1\n"
     ]
    },
    {
     "name": "stdout",
     "output_type": "stream",
     "text": [
      "{'text': 'Web Pay FAQs. Hardware / Software: Q: Do I need any special hardware '\n",
      "         'or\\n'\n",
      "         'software to sign up for the Remote Payments Online Service? A: No '\n",
      "         'special\\n'\n",
      "         'hardware or software is required to use this service. You will only '\n",
      "         'need Web\\n'\n",
      "         'access and your Internet Explorer browser. Please note that Firefox '\n",
      "         'and Chrome\\n'\n",
      "         'works for most\\xa0...',\n",
      " 'title': \"Conn's HomePlus Web Pay FAQs : Online Payment Service | Conn's\",\n",
      " 'url': 'http://www.conns.com/webpay_faqs'}\n",
      "{'title': \"Conn's HomePlus Web Pay FAQs : Online Payment Service | Conn's\", 'url': 'http://www.conns.com/webpay_faqs', 'text': 'Web Pay FAQs. Hardware / Software: Q: Do I need any special hardware or\\nsoftware to sign up for the Remote Payments Online Service? A: No special\\nhardware or software is required to use this service. You will only need Web\\naccess and your Internet Explorer browser. Please note that Firefox and Chrome\\nworks for most\\xa0...'}\n"
     ]
    },
    {
     "name": "stderr",
     "output_type": "stream",
     "text": [
      "2018-03-28 19:56:13,057 - magic_google - INFO: https://www.google.com.sv/search?hl=en&q=Axel+Johnson+AB+%2F+Axfood+Axstores+payment+options&btnG=Search&gbv=1&num=1\n"
     ]
    },
    {
     "name": "stdout",
     "output_type": "stream",
     "text": [
      "{'text': 'Axel Johnson International is a market leading technology trading '\n",
      "         'group that\\n'\n",
      "         'caters to industrial companies throughout Europe. Read more ». '\n",
      "         'Axfood AB ...\\n'\n",
      "         'Axstores is one of the leading retail groups in the Nordic region. '\n",
      "         'In all our\\n'\n",
      "         'department stores and shops, focus is on modern, inspiring shopping. '\n",
      "         'Read\\n'\n",
      "         'more ». Axstores\\xa0...',\n",
      " 'title': 'Axel Johnson | Our Group Companies',\n",
      " 'url': 'http://www.axeljohnson.se/en/our-group-companies/'}\n",
      "{'title': 'Axel Johnson | Our Group Companies', 'url': 'http://www.axeljohnson.se/en/our-group-companies/', 'text': 'Axel Johnson International is a market leading technology trading group that\\ncaters to industrial companies throughout Europe. Read more ». Axfood AB ...\\nAxstores is one of the leading retail groups in the Nordic region. In all our\\ndepartment stores and shops, focus is on modern, inspiring shopping. Read\\nmore ». Axstores\\xa0...'}\n"
     ]
    },
    {
     "name": "stderr",
     "output_type": "stream",
     "text": [
      "2018-03-28 19:56:21,700 - magic_google - INFO: https://www.google.co.zm/search?hl=en&q=Bauhaus+GmbH+%26+payment+options&btnG=Search&gbv=1&num=1\n"
     ]
    },
    {
     "name": "stdout",
     "output_type": "stream",
     "text": [
      "{'text': 'BAUHAUS GmbH & Co. KG company research & investing information. '\n",
      "         'Find\\n'\n",
      "         'executives and the latest company news.',\n",
      " 'title': 'BAUHAUS GmbH & Co. KG: Private Company Information ...',\n",
      " 'url': 'https://www.bloomberg.com/research/stocks/private/snapshot.asp?privcapId=5545353'}\n",
      "{'title': 'BAUHAUS GmbH & Co. KG: Private Company Information ...', 'url': 'https://www.bloomberg.com/research/stocks/private/snapshot.asp?privcapId=5545353', 'text': 'BAUHAUS GmbH & Co. KG company research & investing information. Find\\nexecutives and the latest company news.'}\n"
     ]
    },
    {
     "name": "stderr",
     "output_type": "stream",
     "text": [
      "2018-03-28 19:56:30,808 - magic_google - INFO: https://www.google.dj/search?hl=en&q=Edion+Corporation+payment+options&btnG=Search&gbv=1&num=1\n"
     ]
    },
    {
     "name": "stdout",
     "output_type": "stream",
     "text": [
      "{'text': 'Based on our Group-wide management philosophy of \"Achieving '\n",
      "         'long-lasting\\n'\n",
      "         'customer satisfaction through outstanding products and reliable '\n",
      "         'service,\" we at\\n'\n",
      "         'the EDION Group are committed to continued efforts to provide '\n",
      "         'sincere customer\\n'\n",
      "         'service, aiming to become a corporation that \"continually endeavors '\n",
      "         'to support\\xa0...',\n",
      " 'title': 'Message from the President｜Company Info.｜家電と暮らしのエディオン',\n",
      " 'url': 'https://www.edion.co.jp/english/corporate/'}\n",
      "{'title': 'Message from the President｜Company Info.｜家電と暮らしのエディオン', 'url': 'https://www.edion.co.jp/english/corporate/', 'text': 'Based on our Group-wide management philosophy of \"Achieving long-lasting\\ncustomer satisfaction through outstanding products and reliable service,\" we at\\nthe EDION Group are committed to continued efforts to provide sincere customer\\nservice, aiming to become a corporation that \"continually endeavors to support\\xa0...'}\n"
     ]
    },
    {
     "name": "stderr",
     "output_type": "stream",
     "text": [
      "2018-03-28 19:56:56,657 - magic_google - INFO: https://www.google.co.zw/search?hl=en&q=Coop+Danmark+A%2FS+payment+options&btnG=Search&gbv=1&num=1\n"
     ]
    },
    {
     "name": "stdout",
     "output_type": "stream",
     "text": [
      "{'text': 'Coop is the largest retailer of consumer goods in Denmark. We are a '\n",
      "         'cooperative\\n'\n",
      "         ', owned by more than 1.4 million members. Coop Danmark A/S is '\n",
      "         \"Denmark's\\n\"\n",
      "         'leading consumer goods retailer. Coop operates the retail chains '\n",
      "         'Kvickly,\\n'\n",
      "         \"SuperBrugsen, Dagli'Brugsen, Coop.dk Shopping, Coop.dk MAD and the\\n\"\n",
      "         'subsidiaries\\xa0...',\n",
      " 'title': 'In English - Coop',\n",
      " 'url': 'https://om.coop.dk/koncern/in+english.aspx'}\n",
      "{'title': 'In English - Coop', 'url': 'https://om.coop.dk/koncern/in+english.aspx', 'text': \"Coop is the largest retailer of consumer goods in Denmark. We are a cooperative\\n, owned by more than 1.4 million members. Coop Danmark A/S is Denmark's\\nleading consumer goods retailer. Coop operates the retail chains Kvickly,\\nSuperBrugsen, Dagli'Brugsen, Coop.dk Shopping, Coop.dk MAD and the\\nsubsidiaries\\xa0...\"}\n"
     ]
    },
    {
     "name": "stderr",
     "output_type": "stream",
     "text": [
      "2018-03-28 19:57:19,418 - magic_google - INFO: https://www.google.as/search?hl=en&q=Grupo+Eroski+payment+options&btnG=Search&gbv=1&num=1\n"
     ]
    },
    {
     "name": "stdout",
     "output_type": "stream",
     "text": [
      "{'text': 'Visa Electron. American Express. To view this website correctly, '\n",
      "         'rotate your\\n'\n",
      "         'device. Cookie policy We use first-party and third-party cookies to '\n",
      "         'measure the\\n'\n",
      "         'use of the website and improve your shopping experience. If you '\n",
      "         'continue\\n'\n",
      "         'browsing we consider you accept the use of cookies. You can change '\n",
      "         'the\\n'\n",
      "         'settings or get more\\xa0...',\n",
      " 'title': 'Welcome to the EROSKI online supermarket',\n",
      " 'url': 'https://www.compraonline.grupoeroski.com/en/statics/footer/purchaseconditions/general-information.html'}\n",
      "{'title': 'Welcome to the EROSKI online supermarket', 'url': 'https://www.compraonline.grupoeroski.com/en/statics/footer/purchaseconditions/general-information.html', 'text': 'Visa Electron. American Express. To view this website correctly, rotate your\\ndevice. Cookie policy We use first-party and third-party cookies to measure the\\nuse of the website and improve your shopping experience. If you continue\\nbrowsing we consider you accept the use of cookies. You can change the\\nsettings or get more\\xa0...'}\n"
     ]
    },
    {
     "name": "stderr",
     "output_type": "stream",
     "text": [
      "2018-03-28 19:57:32,106 - magic_google - INFO: https://www.google.ie/search?hl=en&q=Defense+Commissary+Agency+%28DeCA%29+payment+options&btnG=Search&gbv=1&num=1\n"
     ]
    },
    {
     "name": "stdout",
     "output_type": "stream",
     "text": [
      "{'text': \"How does DeCA's new electronic check processing system work? Checks\\n\"\n",
      "         'account ... If I pay for my commissary purchases with a personal '\n",
      "         'check, do I have\\n'\n",
      "         'to have my Social Security number imprinted or written on my check? '\n",
      "         'No. Your\\n'\n",
      "         'Social ... What methods of payment do commissaries accept for '\n",
      "         'commissary\\n'\n",
      "         'purchases?',\n",
      " 'title': 'FAQs | Commissaries',\n",
      " 'url': 'https://www.commissaries.com/customer-service/faqs-listing?field_faq_categories_target_id%5B0%5D=58'}\n",
      "{'title': 'FAQs | Commissaries', 'url': 'https://www.commissaries.com/customer-service/faqs-listing?field_faq_categories_target_id%5B0%5D=58', 'text': \"How does DeCA's new electronic check processing system work? Checks\\naccount ... If I pay for my commissary purchases with a personal check, do I have\\nto have my Social Security number imprinted or written on my check? No. Your\\nSocial ... What methods of payment do commissaries accept for commissary\\npurchases?\"}\n"
     ]
    },
    {
     "name": "stderr",
     "output_type": "stream",
     "text": [
      "2018-03-28 19:57:58,843 - magic_google - INFO: https://www.google.com.co/search?hl=en&q=Lojas+Americanas+payment+options&btnG=Search&gbv=1&num=1\n"
     ]
    },
    {
     "name": "stdout",
     "output_type": "stream",
     "text": [
      "{'text': 'Preço baixo e as melhores ofertas de smartphones, notebooks, TV '\n",
      "         'LED,\\n'\n",
      "         'geladeiras, móveis, tablets e mais na Americanas.com. Aproveite!',\n",
      " 'title': 'Americanas.com - A maior loja. Os menores preços.',\n",
      " 'url': 'https://www.americanas.com.br/'}\n",
      "{'title': 'Americanas.com - A maior loja. Os menores preços.', 'url': 'https://www.americanas.com.br/', 'text': 'Preço baixo e as melhores ofertas de smartphones, notebooks, TV LED,\\ngeladeiras, móveis, tablets e mais na Americanas.com. Aproveite!'}\n"
     ]
    },
    {
     "name": "stderr",
     "output_type": "stream",
     "text": [
      "2018-03-28 19:58:30,387 - magic_google - INFO: https://www.google.com.kw/search?hl=en&q=Pick+n+Pay+Stores+Limited+payment+options&btnG=Search&gbv=1&num=1\n"
     ]
    },
    {
     "name": "stdout",
     "output_type": "stream",
     "text": [
      "{'text': 'Pick n Pay Retailers (Pty) Ltd is a subsidiary of Pick n Pay Stores '\n",
      "         'Ltd, a public\\n'\n",
      "         'company listed on the Johannesburg Stock Exchange. ..... Methods of '\n",
      "         'payment.\\n'\n",
      "         'We will debit the total value of your online order against the '\n",
      "         'payment card\\n'\n",
      "         'tendered by you during the check out process. Payment will be '\n",
      "         'effected on\\n'\n",
      "         'acceptance of\\xa0...',\n",
      " 'title': 'Terms and Conditions - Popup - Pick n Pay',\n",
      " 'url': 'http://www.picknpay.co.za/terms_and_conditions'}\n",
      "{'title': 'Terms and Conditions - Popup - Pick n Pay', 'url': 'http://www.picknpay.co.za/terms_and_conditions', 'text': 'Pick n Pay Retailers (Pty) Ltd is a subsidiary of Pick n Pay Stores Ltd, a public\\ncompany listed on the Johannesburg Stock Exchange. ..... Methods of payment.\\nWe will debit the total value of your online order against the payment card\\ntendered by you during the check out process. Payment will be effected on\\nacceptance of\\xa0...'}\n"
     ]
    },
    {
     "name": "stderr",
     "output_type": "stream",
     "text": [
      "2018-03-28 19:58:48,568 - magic_google - INFO: https://www.google.com.bn/search?hl=en&q=K%27s+Corporation+payment+options&btnG=Search&gbv=1&num=1\n"
     ]
    },
    {
     "name": "stdout",
     "output_type": "stream",
     "text": [
      "{'text': 'Global Payments is a world leader in financial technology solutions. '\n",
      "         'Accept credit\\n'\n",
      "         'and debit cards with our POS systems, online and mobile payment '\n",
      "         'solutions. ...\\n'\n",
      "         'As a tech enabled, software driven company, we remain committed to '\n",
      "         'our journey\\n'\n",
      "         'of innovation as we continue to deliver powerful, cutting-edge '\n",
      "         'payment\\xa0...',\n",
      " 'title': 'Global Payments',\n",
      " 'url': 'https://www.globalpaymentsinc.com/en-us'}\n",
      "{'title': 'Global Payments', 'url': 'https://www.globalpaymentsinc.com/en-us', 'text': 'Global Payments is a world leader in financial technology solutions. Accept credit\\nand debit cards with our POS systems, online and mobile payment solutions. ...\\nAs a tech enabled, software driven company, we remain committed to our journey\\nof innovation as we continue to deliver powerful, cutting-edge payment\\xa0...'}\n"
     ]
    },
    {
     "name": "stderr",
     "output_type": "stream",
     "text": [
      "2018-03-28 19:59:07,688 - magic_google - INFO: https://www.google.co.il/search?hl=en&q=E.Land+World+payment+options&btnG=Search&gbv=1&num=1\n"
     ]
    },
    {
     "name": "stdout",
     "output_type": "stream",
     "text": [
      "{'text': 'May 30, 2017 ... tenure of service of Mr. Jae Ho Song, the payment '\n",
      "         'of salary, perquisites and other\\n'\n",
      "         'allowances as approved by this resolution shall be ..... M. You can '\n",
      "         'also take out\\n'\n",
      "         'print of the voting done by you by clicking on “Click here to print” '\n",
      "         'option on the\\n'\n",
      "         'Voting page. N. If Demat ...... economy in the world. Though '\n",
      "         \"India's\\xa0...\",\n",
      " 'title': 'E-Land Apparel Limited - E-Land Apparel LTD',\n",
      " 'url': 'http://www.mudralifestyle.com/20th%20Annual%20Report%202016-17.pdf'}\n",
      "{'title': 'E-Land Apparel Limited - E-Land Apparel LTD', 'url': 'http://www.mudralifestyle.com/20th%20Annual%20Report%202016-17.pdf', 'text': \"May 30, 2017 ... tenure of service of Mr. Jae Ho Song, the payment of salary, perquisites and other\\nallowances as approved by this resolution shall be ..... M. You can also take out\\nprint of the voting done by you by clicking on “Click here to print” option on the\\nVoting page. N. If Demat ...... economy in the world. Though India's\\xa0...\"}\n"
     ]
    },
    {
     "name": "stderr",
     "output_type": "stream",
     "text": [
      "2018-03-28 19:59:35,513 - magic_google - INFO: https://www.google.dj/search?hl=en&q=GS+Retail+payment+options&btnG=Search&gbv=1&num=1\n"
     ]
    },
    {
     "name": "stdout",
     "output_type": "stream",
     "text": [
      "{'text': 'Complete Integration With Your POS System, Highly Secured EMV '\n",
      "         'Transactions,\\n'\n",
      "         'Support of All Up to Date Payment Methods, Detect Fraud and Avoid '\n",
      "         'It, Fast &\\n'\n",
      "         'Easy Implementation.',\n",
      " 'title': 'GS Paytech - Integrated EMV to Specialty Retail - NFC and EMV ...',\n",
      " 'url': 'https://gspaytech.com/'}\n",
      "{'title': 'GS Paytech - Integrated EMV to Specialty Retail - NFC and EMV ...', 'url': 'https://gspaytech.com/', 'text': 'Complete Integration With Your POS System, Highly Secured EMV Transactions,\\nSupport of All Up to Date Payment Methods, Detect Fraud and Avoid It, Fast &\\nEasy Implementation.'}\n"
     ]
    },
    {
     "name": "stderr",
     "output_type": "stream",
     "text": [
      "2018-03-28 20:00:06,517 - magic_google - INFO: https://www.google.nu/search?hl=en&q=Sonae+SGPS+SA+payment+options&btnG=Search&gbv=1&num=1\n"
     ]
    },
    {
     "name": "stdout",
     "output_type": "stream",
     "text": [
      "{'text': 'Sonae - SGPS, S.A. informs on Sonae Sierra 2017 Results. 13 March '\n",
      "         '2018 ·\\n'\n",
      "         'Sonae informs about Payment of Interests of Coupon Number 4, '\n",
      "         'concerning the\\n'\n",
      "         'bond – Sonae SGPS 2016-2023. 10 January 2018 · Sonae – SGPS, S.A. '\n",
      "         'informs\\n'\n",
      "         'on the completion of the combination of Sport Zone with JD Sprinter '\n",
      "         'Holdings.',\n",
      " 'title': 'Investors - Sonae',\n",
      " 'url': 'https://www.sonae.pt/en/investors/'}\n",
      "{'title': 'Investors - Sonae', 'url': 'https://www.sonae.pt/en/investors/', 'text': 'Sonae - SGPS, S.A. informs on Sonae Sierra 2017 Results. 13 March 2018 ·\\nSonae informs about Payment of Interests of Coupon Number 4, concerning the\\nbond – Sonae SGPS 2016-2023. 10 January 2018 · Sonae – SGPS, S.A. informs\\non the completion of the combination of Sport Zone with JD Sprinter Holdings.'}\n"
     ]
    },
    {
     "name": "stderr",
     "output_type": "stream",
     "text": [
      "2018-03-28 20:00:14,409 - magic_google - INFO: https://www.google.jo/search?hl=en&q=Izumi+payment+options&btnG=Search&gbv=1&num=1\n"
     ]
    },
    {
     "name": "stdout",
     "output_type": "stream",
     "text": [
      "{'text': 'All payments in our shop are handled by Payment Service Provider '\n",
      "         'Docdata\\n'\n",
      "         'Payments. It is possible to pay by one of the following payment '\n",
      "         'methods: Bank\\n'\n",
      "         'transfer;; Credit Card (MasterCard/ VISA);; PayPal. Paying by bank '\n",
      "         'transfer. Via a\\n'\n",
      "         'bank transfer you will transfer the designated amount to the bank '\n",
      "         'account of our\\xa0...',\n",
      " 'title': 'How can I pay? – Pearl Izumi Online Factory Store',\n",
      " 'url': 'https://pearlizumifactorystore.zendesk.com/hc/fi/articles/204122599-How-can-I-pay-'}\n",
      "{'title': 'How can I pay? – Pearl Izumi Online Factory Store', 'url': 'https://pearlizumifactorystore.zendesk.com/hc/fi/articles/204122599-How-can-I-pay-', 'text': 'All payments in our shop are handled by Payment Service Provider Docdata\\nPayments. It is possible to pay by one of the following payment methods: Bank\\ntransfer;; Credit Card (MasterCard/ VISA);; PayPal. Paying by bank transfer. Via a\\nbank transfer you will transfer the designated amount to the bank account of our\\xa0...'}\n"
     ]
    },
    {
     "name": "stderr",
     "output_type": "stream",
     "text": [
      "2018-03-28 20:00:39,993 - magic_google - INFO: https://www.google.vg/search?hl=en&q=Berkshire+Hathaway+payment+options&btnG=Search&gbv=1&num=1\n"
     ]
    },
    {
     "name": "stdout",
     "output_type": "stream",
     "text": [
      "{'text': 'Policy Information. Make a payment on your direct billed Berkshire '\n",
      "         'Hathaway\\n'\n",
      "         'Homestate Companies policy. Policy Number: Effective Date of the '\n",
      "         'Policy: / /.\\n'\n",
      "         'Mailing ZIP Code: (as it appears on the policy). Continue. X\\xa0...',\n",
      " 'title': 'Berkshire Hathaway Homestate Companies',\n",
      " 'url': 'https://expresspay.bhhc.com/'}\n",
      "{'title': 'Berkshire Hathaway Homestate Companies', 'url': 'https://expresspay.bhhc.com/', 'text': 'Policy Information. Make a payment on your direct billed Berkshire Hathaway\\nHomestate Companies policy. Policy Number: Effective Date of the Policy: / /.\\nMailing ZIP Code: (as it appears on the policy). Continue. X\\xa0...'}\n"
     ]
    },
    {
     "name": "stderr",
     "output_type": "stream",
     "text": [
      "2018-03-28 20:00:48,691 - magic_google - INFO: https://www.google.ro/search?hl=en&q=Big+Lots+payment+options&btnG=Search&gbv=1&num=1\n"
     ]
    },
    {
     "name": "stdout",
     "output_type": "stream",
     "text": [
      "{'text': '90-DAY PAYMENT OPTION Apply Now. No Credit Needed. No credit? Bad '\n",
      "         'credit\\n'\n",
      "         \"? It doesn't matter when you apply with Progressive. Our approval is \"\n",
      "         'based on\\n'\n",
      "         'income and employment, no need to worry about your credit. Fast, '\n",
      "         'Easy\\n'\n",
      "         'Application. All you need is a couple of minutes to fill out your '\n",
      "         'online application,\\n'\n",
      "         \"and you'll\\xa0...\",\n",
      " 'title': 'Easy Progressive Leasing | Big Lots',\n",
      " 'url': 'http://www.biglots.com/page/progressive-leasing/'}\n",
      "{'title': 'Easy Progressive Leasing | Big Lots', 'url': 'http://www.biglots.com/page/progressive-leasing/', 'text': \"90-DAY PAYMENT OPTION Apply Now. No Credit Needed. No credit? Bad credit\\n? It doesn't matter when you apply with Progressive. Our approval is based on\\nincome and employment, no need to worry about your credit. Fast, Easy\\nApplication. All you need is a couple of minutes to fill out your online application,\\nand you'll\\xa0...\"}\n"
     ]
    },
    {
     "name": "stderr",
     "output_type": "stream",
     "text": [
      "2018-03-28 20:01:06,397 - magic_google - INFO: https://www.google.com.sg/search?hl=en&q=Burlington+Stores+payment+options&btnG=Search&gbv=1&num=1\n"
     ]
    },
    {
     "name": "stdout",
     "output_type": "stream",
     "text": [
      "{'text': 'Order Tracking · Gift Card Balance · Baby Registry. FAQ. Order '\n",
      "         'Assistance ·\\n'\n",
      "         'Shipping & Delivery · Gift Cards · Baby Registry · Pricing Info · '\n",
      "         'Stores. Our\\n'\n",
      "         'Policies. Return Policy · Privacy Policy · Pricing Policy · Tax '\n",
      "         'Exempt Policy ·\\n'\n",
      "         'Terms of Use · Accessibility · California Transparency in Supply '\n",
      "         'Chain Act ·\\n'\n",
      "         'Product Safety',\n",
      " 'title': 'Help Center | Burlington',\n",
      " 'url': 'https://www.burlingtoncoatfactory.com/HelpCenter/Default.aspx'}\n",
      "{'title': 'Help Center | Burlington', 'url': 'https://www.burlingtoncoatfactory.com/HelpCenter/Default.aspx', 'text': 'Order Tracking · Gift Card Balance · Baby Registry. FAQ. Order Assistance ·\\nShipping & Delivery · Gift Cards · Baby Registry · Pricing Info · Stores. Our\\nPolicies. Return Policy · Privacy Policy · Pricing Policy · Tax Exempt Policy ·\\nTerms of Use · Accessibility · California Transparency in Supply Chain Act ·\\nProduct Safety'}\n"
     ]
    },
    {
     "name": "stderr",
     "output_type": "stream",
     "text": [
      "2018-03-28 20:01:20,313 - magic_google - INFO: https://www.google.is/search?hl=en&q=Deichmann+SE+payment+options&btnG=Search&gbv=1&num=1\n"
     ]
    },
    {
     "name": "stdout",
     "output_type": "stream",
     "text": [
      "{'text': 'Company information. DEICHMANN-SHOES UK Ltd. Address; 16 Compass '\n",
      "         'Point\\n'\n",
      "         'Market Harborough Leicestershire LE16 9HW; Telephone +44 - 1858 - '\n",
      "         '468546;\\n'\n",
      "         'E-mail service-uk@deichmann.com; VAT No GB 896 104014; Company No\\n'\n",
      "         '02893066; Managing directors. Andy J. Underwood Chris M. Holden Olaf '\n",
      "         'B. Ihde.',\n",
      " 'title': 'Company information - Deichmann',\n",
      " 'url': 'https://www.deichmann.com/GB/en/shop/content/company_information.jsp'}\n",
      "{'title': 'Company information - Deichmann', 'url': 'https://www.deichmann.com/GB/en/shop/content/company_information.jsp', 'text': 'Company information. DEICHMANN-SHOES UK Ltd. Address; 16 Compass Point\\nMarket Harborough Leicestershire LE16 9HW; Telephone +44 - 1858 - 468546;\\nE-mail service-uk@deichmann.com; VAT No GB 896 104014; Company No\\n02893066; Managing directors. Andy J. Underwood Chris M. Holden Olaf B. Ihde.'}\n"
     ]
    },
    {
     "name": "stderr",
     "output_type": "stream",
     "text": [
      "2018-03-28 20:01:34,332 - magic_google - INFO: https://www.google.gp/search?hl=en&q=Neiman+Marcus+payment+options&btnG=Search&gbv=1&num=1\n"
     ]
    },
    {
     "name": "stdout",
     "output_type": "stream",
     "text": [
      "{'text': 'View All · My Account. Sign In/Register · Forgot Password · Order '\n",
      "         'History · My\\n'\n",
      "         'Favorites · InCircle┬« · Neiman Marcus Credit Card · Managing Email '\n",
      "         'Preferences\\n'\n",
      "         '· Returns & Exchanges · Return Policy · Start A Return Now · View '\n",
      "         'All · Shop with\\n'\n",
      "         'Us. Payment Methods · Sales Tax · Buy Online Pickup in Store · Store '\n",
      "         'Locator.',\n",
      " 'title': 'Assistance at Neiman Marcus',\n",
      " 'url': 'https://www.neimanmarcus.com/assistance/assistance.jsp?itemId=catAssistance'}\n",
      "{'title': 'Assistance at Neiman Marcus', 'url': 'https://www.neimanmarcus.com/assistance/assistance.jsp?itemId=catAssistance', 'text': 'View All · My Account. Sign In/Register · Forgot Password · Order History · My\\nFavorites · InCircle┬« · Neiman Marcus Credit Card · Managing Email Preferences\\n· Returns & Exchanges · Return Policy · Start A Return Now · View All · Shop with\\nUs. Payment Methods · Sales Tax · Buy Online Pickup in Store · Store Locator.'}\n"
     ]
    },
    {
     "name": "stderr",
     "output_type": "stream",
     "text": [
      "2018-03-28 20:01:44,570 - magic_google - INFO: https://www.google.com.mm/search?hl=en&q=Life+Corporation+payment+options&btnG=Search&gbv=1&num=1\n"
     ]
    },
    {
     "name": "stdout",
     "output_type": "stream",
     "text": [
      "{'text': 'Select the Payment Option That is Right for You. The Main Street '\n",
      "         'America\\n'\n",
      "         \"Group's Payment Option Plan. With Main Street America's payment \"\n",
      "         'option plan*,\\n'\n",
      "         'you will receive just one monthly bill for all of your policies. '\n",
      "         'Select the payment\\n'\n",
      "         'option that fits your budget and lifestyle. Personal Insurance. '\n",
      "         'Monthly Payments If\\n'\n",
      "         'you like\\xa0...',\n",
      " 'title': 'Payments - The Main Street America Group',\n",
      " 'url': 'https://www.msagroup.com/policyholder/paymentoptions.cfm'}\n",
      "{'title': 'Payments - The Main Street America Group', 'url': 'https://www.msagroup.com/policyholder/paymentoptions.cfm', 'text': \"Select the Payment Option That is Right for You. The Main Street America\\nGroup's Payment Option Plan. With Main Street America's payment option plan*,\\nyou will receive just one monthly bill for all of your policies. Select the payment\\noption that fits your budget and lifestyle. Personal Insurance. Monthly Payments If\\nyou like\\xa0...\"}\n"
     ]
    },
    {
     "name": "stderr",
     "output_type": "stream",
     "text": [
      "2018-03-28 20:02:07,537 - magic_google - INFO: https://www.google.de/search?hl=en&q=El+Puerto+de+Liverpool+payment+options&btnG=Search&gbv=1&num=1\n"
     ]
    },
    {
     "name": "stdout",
     "output_type": "stream",
     "text": [
      "{'text': 'With 4.4 million card holders, this is the most important source of '\n",
      "         'payment for the\\n'\n",
      "         'company. Credit Card Liverpool and FĂˇbricas de Francia. Both are '\n",
      "         'welcome at\\n'\n",
      "         'our two business formats. Liverpool Premium Card (VISA). This card '\n",
      "         'can be used\\n'\n",
      "         'at millions of locations worldwide. Suburbia operates 122 clothing '\n",
      "         'stores.',\n",
      " 'title': 'Retail - El Puerto de Liverpool: Investor Relations',\n",
      " 'url': 'https://www.elpuertodeliverpool.mx/en/negocio.html'}\n",
      "{'title': 'Retail - El Puerto de Liverpool: Investor Relations', 'url': 'https://www.elpuertodeliverpool.mx/en/negocio.html', 'text': 'With 4.4 million card holders, this is the most important source of payment for the\\ncompany. Credit Card Liverpool and FĂˇbricas de Francia. Both are welcome at\\nour two business formats. Liverpool Premium Card (VISA). This card can be used\\nat millions of locations worldwide. Suburbia operates 122 clothing stores.'}\n"
     ]
    },
    {
     "name": "stderr",
     "output_type": "stream",
     "text": [
      "2018-03-28 20:02:37,381 - magic_google - INFO: https://www.google.cv/search?hl=en&q=Coop+Norge+the+Group+payment+options&btnG=Search&gbv=1&num=1\n"
     ]
    },
    {
     "name": "stdout",
     "output_type": "stream",
     "text": [
      "{'text': 'Coop Norge Salaries in Norway. 1 salary (for 1 job title ) Back to '\n",
      "         'all Salaries. How\\n'\n",
      "         'much do Coop Norge employees make in Norway? Glassdoor has '\n",
      "         'salaries,\\n'\n",
      "         'wages, tips, bonuses, and hourly pay submitted anonymously by 1 Coop '\n",
      "         'Norge\\n'\n",
      "         'employees in Norway. Job Title. Location. Norway - All Cities. '\n",
      "         'Norway - All Cities.',\n",
      " 'title': 'Coop Norge Salaries in Norway | Glassdoor',\n",
      " 'url': 'https://www.glassdoor.com/Salary/Coop-Norge-Norway-Salaries-EI_IE13479.0,10_IL.11,17_IN180.htm'}\n",
      "{'title': 'Coop Norge Salaries in Norway | Glassdoor', 'url': 'https://www.glassdoor.com/Salary/Coop-Norge-Norway-Salaries-EI_IE13479.0,10_IL.11,17_IN180.htm', 'text': 'Coop Norge Salaries in Norway. 1 salary (for 1 job title ) Back to all Salaries. How\\nmuch do Coop Norge employees make in Norway? Glassdoor has salaries,\\nwages, tips, bonuses, and hourly pay submitted anonymously by 1 Coop Norge\\nemployees in Norway. Job Title. Location. Norway - All Cities. Norway - All Cities.'}\n"
     ]
    },
    {
     "name": "stderr",
     "output_type": "stream",
     "text": [
      "2018-03-28 20:03:00,090 - magic_google - INFO: https://www.google.com.vn/search?hl=en&q=Williams-Sonoma+payment+options&btnG=Search&gbv=1&num=1\n"
     ]
    },
    {
     "name": "stdout",
     "output_type": "stream",
     "text": [
      "{'text': 'Sign in or sign up to manage your Williams Sonoma credit card '\n",
      "         'account online.\\n'\n",
      "         \"It's easy to pay bills, view statements and more.\",\n",
      " 'title': 'Williams Sonoma Credit Card - Manage your account - Comenity',\n",
      " 'url': 'https://d.comenity.net/williamssonoma/'}\n",
      "{'title': 'Williams Sonoma Credit Card - Manage your account - Comenity', 'url': 'https://d.comenity.net/williamssonoma/', 'text': \"Sign in or sign up to manage your Williams Sonoma credit card account online.\\nIt's easy to pay bills, view statements and more.\"}\n"
     ]
    },
    {
     "name": "stderr",
     "output_type": "stream",
     "text": [
      "2018-03-28 20:03:23,010 - magic_google - INFO: https://www.google.com.tj/search?hl=en&q=Grupo+Comercial+Chedraui+payment+options&btnG=Search&gbv=1&num=1\n"
     ]
    },
    {
     "name": "stdout",
     "output_type": "stream",
     "text": [
      "{'text': 'Grupo Comercial Chedraui, S.A.B. de C.V. engages in the operation of '\n",
      "         'self–\\n'\n",
      "         'service stores. It operates through three segments: Self-Service in '\n",
      "         'Mexico, Self-\\n'\n",
      "         'Services in the United States, and Real Estate Division. The '\n",
      "         \"company's stores\\n\"\n",
      "         'offer consumer products, PGC inedibles, perishables, food, general '\n",
      "         'goods,\\n'\n",
      "         'clothing, and\\xa0...',\n",
      " 'title': 'Grupo Comercial Chedraui, S.A.B. DE C.V.: Private Company ...',\n",
      " 'url': 'https://www.bloomberg.com/research/stocks/private/snapshot.asp?privcapId=5478458'}\n",
      "{'title': 'Grupo Comercial Chedraui, S.A.B. DE C.V.: Private Company ...', 'url': 'https://www.bloomberg.com/research/stocks/private/snapshot.asp?privcapId=5478458', 'text': \"Grupo Comercial Chedraui, S.A.B. de C.V. engages in the operation of self–\\nservice stores. It operates through three segments: Self-Service in Mexico, Self-\\nServices in the United States, and Real Estate Division. The company's stores\\noffer consumer products, PGC inedibles, perishables, food, general goods,\\nclothing, and\\xa0...\"}\n",
      "{'text': '', 'title': ''}\n",
      "{'title': '', 'text': ''}\n"
     ]
    },
    {
     "name": "stderr",
     "output_type": "stream",
     "text": [
      "2018-03-28 20:03:40,820 - magic_google - INFO: https://www.google.ps/search?hl=en&q=The+Michaels+Companies+payment+options&btnG=Search&gbv=1&num=1\n"
     ]
    },
    {
     "name": "stdout",
     "output_type": "stream",
     "text": [
      "{'text': 'YOU REPRESENT AND WARRANT THAT YOU HAVE THE LEGAL RIGHT TO\\n'\n",
      "         'USE ANY CREDIT CARD(S) OR OTHER PAYMENT METHOD(S) UTILIZED IN\\n'\n",
      "         'CONNECTION WITH ANY TRANSACTION. By submitting such information, '\n",
      "         'you\\n'\n",
      "         'grant to Michaels the right to provide such information to third '\n",
      "         'parties for\\n'\n",
      "         'purposes of\\xa0...',\n",
      " 'title': 'Terms and Conditions - Michaels Stores',\n",
      " 'url': 'https://www.michaels.com/terms-and-conditions/ca-terms-and-conditions.html'}\n",
      "{'title': 'Terms and Conditions - Michaels Stores', 'url': 'https://www.michaels.com/terms-and-conditions/ca-terms-and-conditions.html', 'text': 'YOU REPRESENT AND WARRANT THAT YOU HAVE THE LEGAL RIGHT TO\\nUSE ANY CREDIT CARD(S) OR OTHER PAYMENT METHOD(S) UTILIZED IN\\nCONNECTION WITH ANY TRANSACTION. By submitting such information, you\\ngrant to Michaels the right to provide such information to third parties for\\npurposes of\\xa0...'}\n"
     ]
    },
    {
     "name": "stderr",
     "output_type": "stream",
     "text": [
      "2018-03-28 20:04:13,565 - magic_google - INFO: https://www.google.sm/search?hl=en&q=Gruppo+Eurospin+payment+options&btnG=Search&gbv=1&num=1\n"
     ]
    },
    {
     "name": "stdout",
     "output_type": "stream",
     "text": [
      "{'text': 'Eurospin è il più grande discount italiano con oltre 1100 punti '\n",
      "         'vendita in Italia e\\n'\n",
      "         'Slovenia. È una delle poche realtà economiche, nel settore '\n",
      "         'distributivo, in\\n'\n",
      "         'continua espansione che mira a una rete di punti vendita sempre più '\n",
      "         'capillare\\n'\n",
      "         'sul territorio. Nel 2013 il gruppo festeggia i 20 anni di attività e '\n",
      "         'successi: Eurospin\\n'\n",
      "         'è leader\\xa0...',\n",
      " 'title': 'Il Gruppo | Eurospin',\n",
      " 'url': 'https://www.eurospin.it/gruppo/'}\n",
      "{'title': 'Il Gruppo | Eurospin', 'url': 'https://www.eurospin.it/gruppo/', 'text': 'Eurospin è il più grande discount italiano con oltre 1100 punti vendita in Italia e\\nSlovenia. È una delle poche realtà economiche, nel settore distributivo, in\\ncontinua espansione che mira a una rete di punti vendita sempre più capillare\\nsul territorio. Nel 2013 il gruppo festeggia i 20 anni di attività e successi: Eurospin\\nè leader\\xa0...'}\n"
     ]
    },
    {
     "name": "stderr",
     "output_type": "stream",
     "text": [
      "2018-03-28 20:04:37,240 - magic_google - INFO: https://www.google.bg/search?hl=en&q=Ascena+Retail+Group+payment+options&btnG=Search&gbv=1&num=1\n"
     ]
    },
    {
     "name": "stdout",
     "output_type": "stream",
     "text": [
      "{'text': 'ascena retail group, inc. (NASDAQ: ASNA) is a leading national '\n",
      "         'specialty retailer\\n'\n",
      "         'offering apparel, shoes, and accessories for women under the Ann '\n",
      "         'Taylor, LOFT,\\n'\n",
      "         'Lou & Grey, Lane Bryant, maurices, dressbarn and Catherines brands, '\n",
      "         'and for\\n'\n",
      "         'tween girls under the Justice brand. ascena retail group, inc. '\n",
      "         'operates\\n'\n",
      "         'ecommerce\\xa0...',\n",
      " 'title': 'Investors - welcome to ascena retail group, inc.',\n",
      " 'url': 'http://ascenaretail.com/investors.jsp'}\n",
      "{'title': 'Investors - welcome to ascena retail group, inc.', 'url': 'http://ascenaretail.com/investors.jsp', 'text': 'ascena retail group, inc. (NASDAQ: ASNA) is a leading national specialty retailer\\noffering apparel, shoes, and accessories for women under the Ann Taylor, LOFT,\\nLou & Grey, Lane Bryant, maurices, dressbarn and Catherines brands, and for\\ntween girls under the Justice brand. ascena retail group, inc. operates\\necommerce\\xa0...'}\n"
     ]
    },
    {
     "name": "stderr",
     "output_type": "stream",
     "text": [
      "2018-03-28 20:04:51,119 - magic_google - INFO: https://www.google.com.kh/search?hl=en&q=Demoulas+Super+Markets+payment+options&btnG=Search&gbv=1&num=1\n"
     ]
    },
    {
     "name": "stdout",
     "output_type": "stream",
     "text": [
      "{'text': 'A free inside look at Demoulas Super Markets salary trends. 99 '\n",
      "         'salaries for 31\\n'\n",
      "         'jobs at Demoulas Super Markets. Salaries posted anonymously by '\n",
      "         'Demoulas\\n'\n",
      "         'Super Markets employees.',\n",
      " 'title': 'Demoulas Super Markets Salaries | Glassdoor',\n",
      " 'url': 'https://www.glassdoor.com/Salary/Demoulas-Super-Markets-Salaries-E2765.htm'}\n",
      "{'title': 'Demoulas Super Markets Salaries | Glassdoor', 'url': 'https://www.glassdoor.com/Salary/Demoulas-Super-Markets-Salaries-E2765.htm', 'text': 'A free inside look at Demoulas Super Markets salary trends. 99 salaries for 31\\njobs at Demoulas Super Markets. Salaries posted anonymously by Demoulas\\nSuper Markets employees.'}\n"
     ]
    },
    {
     "name": "stderr",
     "output_type": "stream",
     "text": [
      "2018-03-28 20:05:19,979 - magic_google - INFO: https://www.google.tt/search?hl=en&q=SM+Investments+Corporation+payment+options&btnG=Search&gbv=1&num=1\n"
     ]
    },
    {
     "name": "stdout",
     "output_type": "stream",
     "text": [
      "{'text': \"SM's banking business consists of BDO Unibank, Inc., now the \"\n",
      "         \"country's largest\\n\"\n",
      "         'bank and China Banking Corporation, the first and one of the oldest '\n",
      "         'privately\\n'\n",
      "         'owned local commercial banks in the country. READ MORE\\xa0...',\n",
      " 'title': 'SM Investments Corporation',\n",
      " 'url': 'http://www.sminvestments.com/'}\n",
      "{'title': 'SM Investments Corporation', 'url': 'http://www.sminvestments.com/', 'text': \"SM's banking business consists of BDO Unibank, Inc., now the country's largest\\nbank and China Banking Corporation, the first and one of the oldest privately\\nowned local commercial banks in the country. READ MORE\\xa0...\"}\n"
     ]
    },
    {
     "name": "stderr",
     "output_type": "stream",
     "text": [
      "2018-03-28 20:05:43,718 - magic_google - INFO: https://www.google.ws/search?hl=en&q=Chongqing+Department+Store+payment+options&btnG=Search&gbv=1&num=1\n"
     ]
    },
    {
     "name": "stdout",
     "output_type": "stream",
     "text": [
      "{'text': 'Chongqing Department Store says 2016 A share dividend payment date '\n",
      "         'on Aug.\\n'\n",
      "         '15. Wednesday, 9 Aug 2017 ... Says the plan was disclosed on Dec. '\n",
      "         '31, 2016.\\n'\n",
      "         'Full Article ... 6 Apr 2016 08:00pm EDT. Chongqing Department Store '\n",
      "         'Co Ltd:To\\n'\n",
      "         'pay cash dividend of 2.8 yuan per 10 shares (before tax) to '\n",
      "         'shareholders for\\n'\n",
      "         '2015.',\n",
      " 'title': 'Chongqing Department Store Co Ltd (600729.SS) Key ... - Reuters',\n",
      " 'url': 'http://www.reuters.com/finance/stocks/600729.SS/key-developments'}\n",
      "{'title': 'Chongqing Department Store Co Ltd (600729.SS) Key ... - Reuters', 'url': 'http://www.reuters.com/finance/stocks/600729.SS/key-developments', 'text': 'Chongqing Department Store says 2016 A share dividend payment date on Aug.\\n15. Wednesday, 9 Aug 2017 ... Says the plan was disclosed on Dec. 31, 2016.\\nFull Article ... 6 Apr 2016 08:00pm EDT. Chongqing Department Store Co Ltd:To\\npay cash dividend of 2.8 yuan per 10 shares (before tax) to shareholders for\\n2015.'}\n"
     ]
    },
    {
     "name": "stderr",
     "output_type": "stream",
     "text": [
      "2018-03-28 20:06:10,447 - magic_google - INFO: https://www.google.co.jp/search?hl=en&q=Academy+payment+options&btnG=Search&gbv=1&num=1\n"
     ]
    },
    {
     "name": "stdout",
     "output_type": "stream",
     "text": [
      "{'text': 'Amounts paid over the minimum payment will be applied in the order '\n",
      "         'of highest\\n'\n",
      "         'to lowest APR balances. 2 This offer is only valid for applications '\n",
      "         'processed and\\n'\n",
      "         'approved in-store at the POS with a minimum purchase of $15 (before '\n",
      "         'tax). This\\n'\n",
      "         'purchase must be applied to your new Academy Sports + Outdoors Visa '\n",
      "         'Card.',\n",
      " 'title': 'Academy - Visa Credit Card - Academy Sports + Outdoors',\n",
      " 'url': 'https://www.academy.com/shop/store/academy-visa-rewards'}\n",
      "{'title': 'Academy - Visa Credit Card - Academy Sports + Outdoors', 'url': 'https://www.academy.com/shop/store/academy-visa-rewards', 'text': 'Amounts paid over the minimum payment will be applied in the order of highest\\nto lowest APR balances. 2 This offer is only valid for applications processed and\\napproved in-store at the POS with a minimum purchase of $15 (before tax). This\\npurchase must be applied to your new Academy Sports + Outdoors Visa Card.'}\n"
     ]
    },
    {
     "name": "stderr",
     "output_type": "stream",
     "text": [
      "2018-03-28 20:06:32,327 - magic_google - INFO: https://www.google.ht/search?hl=en&q=McKesson+Corporation+payment+options&btnG=Search&gbv=1&num=1\n"
     ]
    },
    {
     "name": "stdout",
     "output_type": "stream",
     "text": [
      "{'text': 'McKesson Patient Care Solutions makes it easy to pay your bill '\n",
      "         'online through\\n'\n",
      "         'ZPAY. To pay ... with a letter; If you have multiple invoice '\n",
      "         'numbers, please enter\\n'\n",
      "         'the number that corresponds with the oldest date of service; If you '\n",
      "         'have any\\n'\n",
      "         'questions about your bill please call us at 855.404.6727 and select '\n",
      "         'the option for\\n'\n",
      "         'Billing.',\n",
      " 'title': 'Pay Bill - MPCS - McKesson Patient Care Solutions',\n",
      " 'url': 'https://mpcs.mckesson.com/web/mpcs/pay-bill'}\n",
      "{'title': 'Pay Bill - MPCS - McKesson Patient Care Solutions', 'url': 'https://mpcs.mckesson.com/web/mpcs/pay-bill', 'text': 'McKesson Patient Care Solutions makes it easy to pay your bill online through\\nZPAY. To pay ... with a letter; If you have multiple invoice numbers, please enter\\nthe number that corresponds with the oldest date of service; If you have any\\nquestions about your bill please call us at 855.404.6727 and select the option for\\nBilling.'}\n"
     ]
    },
    {
     "name": "stderr",
     "output_type": "stream",
     "text": [
      "2018-03-28 20:06:39,902 - magic_google - INFO: https://www.google.is/search?hl=en&q=Dashang+payment+options&btnG=Search&gbv=1&num=1\n"
     ]
    },
    {
     "name": "stdout",
     "output_type": "stream",
     "text": [
      "{'text': \"It's just good business to offer your customers options for making \"\n",
      "         'payments.\\n'\n",
      "         'These options can include payment plans, using credit or debit card, '\n",
      "         'online\\n'\n",
      "         'payments, checks, cash, money orders, cashiers checks, automatic '\n",
      "         'withdrawals\\n'\n",
      "         'or western. \"People tend to resist that which is forced upon them. '\n",
      "         'People tend to\\n'\n",
      "         'support\\xa0...',\n",
      " 'title': 'Give Customers Payment Options - Business Payment Plans ...',\n",
      " 'url': 'https://www.entrepreneur.com/article/204932'}\n",
      "{'title': 'Give Customers Payment Options - Business Payment Plans ...', 'url': 'https://www.entrepreneur.com/article/204932', 'text': 'It\\'s just good business to offer your customers options for making payments.\\nThese options can include payment plans, using credit or debit card, online\\npayments, checks, cash, money orders, cashiers checks, automatic withdrawals\\nor western. \"People tend to resist that which is forced upon them. People tend to\\nsupport\\xa0...'}\n"
     ]
    },
    {
     "name": "stderr",
     "output_type": "stream",
     "text": [
      "2018-03-28 20:07:12,765 - magic_google - INFO: https://www.google.dk/search?hl=en&q=Shimamura+payment+options&btnG=Search&gbv=1&num=1\n"
     ]
    },
    {
     "name": "stdout",
     "output_type": "stream",
     "text": [
      "{'text': 'This is the Tax-Free web page of Shimamura Music,which is the '\n",
      "         'general musical\\n'\n",
      "         'instruments retailer across Japan.You can get many information about '\n",
      "         'shopping\\n'\n",
      "         'process and tax-free shop on this web page.',\n",
      " 'title': 'taxfree-ShimamuraMusic',\n",
      " 'url': 'https://www.shimamura.co.jp/taxfree/index.html'}\n",
      "{'title': 'taxfree-ShimamuraMusic', 'url': 'https://www.shimamura.co.jp/taxfree/index.html', 'text': 'This is the Tax-Free web page of Shimamura Music,which is the general musical\\ninstruments retailer across Japan.You can get many information about shopping\\nprocess and tax-free shop on this web page.'}\n"
     ]
    },
    {
     "name": "stderr",
     "output_type": "stream",
     "text": [
      "2018-03-28 20:07:20,452 - magic_google - INFO: https://www.google.com.cy/search?hl=en&q=Woolworths+Limited+payment+options&btnG=Search&gbv=1&num=1\n"
     ]
    },
    {
     "name": "stdout",
     "output_type": "stream",
     "text": [
      "{'text': 'We accept payments by credit or debit card – MasterCard, VISA, AMEX '\n",
      "         'and\\n'\n",
      "         'Diners. You can also pay with your PayPal account or Wish gift '\n",
      "         'cards, and\\n'\n",
      "         'business customers can apply for a 30 day interest free credit '\n",
      "         'account to process\\n'\n",
      "         'payment on a monthly invoice. Please take a look at our Terms and '\n",
      "         'Conditions\\n'\n",
      "         'for more\\xa0...',\n",
      " 'title': 'How do I pay for my order online? - Woolworths Online',\n",
      " 'url': 'https://help.woolworths.com.au/content/how-do-i-pay-for-my-order-online/'}\n",
      "{'title': 'How do I pay for my order online? - Woolworths Online', 'url': 'https://help.woolworths.com.au/content/how-do-i-pay-for-my-order-online/', 'text': 'We accept payments by credit or debit card – MasterCard, VISA, AMEX and\\nDiners. You can also pay with your PayPal account or Wish gift cards, and\\nbusiness customers can apply for a 30 day interest free credit account to process\\npayment on a monthly invoice. Please take a look at our Terms and Conditions\\nfor more\\xa0...'}\n"
     ]
    },
    {
     "name": "stderr",
     "output_type": "stream",
     "text": [
      "2018-03-28 20:07:51,124 - magic_google - INFO: https://www.google.com.gt/search?hl=en&q=OJSC+Dixy+Group+payment+options&btnG=Search&gbv=1&num=1\n"
     ]
    },
    {
     "name": "stdout",
     "output_type": "stream",
     "text": [
      "{'text': 'We strive to meet the daily needs of most people in Russia by '\n",
      "         'offering the highest\\n'\n",
      "         'quality at the best price.',\n",
      " 'title': 'DIXY Group: Home',\n",
      " 'url': 'http://www.dixygroup.com/'}\n",
      "{'title': 'DIXY Group: Home', 'url': 'http://www.dixygroup.com/', 'text': 'We strive to meet the daily needs of most people in Russia by offering the highest\\nquality at the best price.'}\n"
     ]
    },
    {
     "name": "stderr",
     "output_type": "stream",
     "text": [
      "2018-03-28 20:08:20,799 - magic_google - INFO: https://www.google.tm/search?hl=en&q=Tsuruha+payment+options&btnG=Search&gbv=1&num=1\n"
     ]
    },
    {
     "name": "stdout",
     "output_type": "stream",
     "text": [
      "{'text': 'View the basic TSUSF option chain and compare options of TSURUHA\\n'\n",
      "         'HOLDINGS I on Yahoo Finance.',\n",
      " 'title': 'TSUSF Option Chain | TSURUHA HOLDINGS I Stock - Yahoo Finance',\n",
      " 'url': 'https://finance.yahoo.com/quote/TSUSF/options?p=TSUSF'}\n",
      "{'title': 'TSUSF Option Chain | TSURUHA HOLDINGS I Stock - Yahoo Finance', 'url': 'https://finance.yahoo.com/quote/TSUSF/options?p=TSUSF', 'text': 'View the basic TSUSF option chain and compare options of TSURUHA\\nHOLDINGS I on Yahoo Finance.'}\n"
     ]
    },
    {
     "name": "stderr",
     "output_type": "stream",
     "text": [
      "2018-03-28 20:08:28,578 - magic_google - INFO: https://www.google.com.np/search?hl=en&q=Matsumotokiyoshi+payment+options&btnG=Search&gbv=1&num=1\n"
     ]
    },
    {
     "name": "stdout",
     "output_type": "stream",
     "text": [
      "{'text': 'Mr. Akio Ishibashi has been serving as Chief Director of Business '\n",
      "         'Planning,\\n'\n",
      "         'Director of Business Planning and Director in Matsumotokiyoshi '\n",
      "         'Holdings Co.,\\n'\n",
      "         'Ltd. since June 2017. His previous titles include Manager of '\n",
      "         'Business\\n'\n",
      "         'Development Office, Executive Officer and Director of Finance & '\n",
      "         'Accounting in\\n'\n",
      "         'the Company.',\n",
      " 'title': 'MatsumotoKiyoshi Holdings Co Ltd (3088.T) People | Reuters.com',\n",
      " 'url': 'https://www.reuters.com/finance/stocks/company-officers/3088.T'}\n",
      "{'title': 'MatsumotoKiyoshi Holdings Co Ltd (3088.T) People | Reuters.com', 'url': 'https://www.reuters.com/finance/stocks/company-officers/3088.T', 'text': 'Mr. Akio Ishibashi has been serving as Chief Director of Business Planning,\\nDirector of Business Planning and Director in Matsumotokiyoshi Holdings Co.,\\nLtd. since June 2017. His previous titles include Manager of Business\\nDevelopment Office, Executive Officer and Director of Finance & Accounting in\\nthe Company.'}\n"
     ]
    },
    {
     "name": "stderr",
     "output_type": "stream",
     "text": [
      "2018-03-28 20:08:37,206 - magic_google - INFO: https://www.google.com.au/search?hl=en&q=Forever+21+payment+options&btnG=Search&gbv=1&num=1\n"
     ]
    },
    {
     "name": "stdout",
     "output_type": "stream",
     "text": [
      "{'text': 'When approved for the Forever 21 Credit Card, a 15% discount will be '\n",
      "         'applied at checkout to your first regular price purchase made with '\n",
      "         'your new card online at forever21.com or at participating Forever '\n",
      "         '21, xxi, for love 21, f21 red, or forever under $10 locations '\n",
      "         '(excluding u.s.',\n",
      " 'title': 'Forever 21 Credit Card - Manage your account - Comenity',\n",
      " 'url': 'https://d.comenity.net/forever21/'}\n",
      "{'title': 'Forever 21 Credit Card - Manage your account - Comenity', 'url': 'https://d.comenity.net/forever21/', 'text': 'When approved for the Forever 21 Credit Card, a 15% discount will be applied at checkout to your first regular price purchase made with your new card online at forever21.com or at participating Forever 21, xxi, for love 21, f21 red, or forever under $10 locations (excluding u.s.'}\n"
     ]
    },
    {
     "name": "stderr",
     "output_type": "stream",
     "text": [
      "2018-03-28 20:08:53,961 - magic_google - INFO: https://www.google.ht/search?hl=en&q=Foodstuffs+North+Island+payment+options&btnG=Search&gbv=1&num=1\n"
     ]
    },
    {
     "name": "stdout",
     "output_type": "stream",
     "text": [
      "{'text': 'Foodstuffs North Island Limited. Foodstuffs North Island is led by '\n",
      "         'CEO Chris Quin,\\n'\n",
      "         'and employs more than 1,700 people who support the hundreds of '\n",
      "         'stores.\\n'\n",
      "         'Foodstuffs North Island supplies 96 New World, two Fresh Collective '\n",
      "         'by New\\n'\n",
      "         \"World, 44 PAK'nSAVE, one PAK'nSAVE Mini and 179 Four Square owner-\\n\"\n",
      "         'operated retail\\xa0...',\n",
      " 'title': 'Company Information | Foodstuffs',\n",
      " 'url': 'https://www.foodstuffs.co.nz/about-foodstuffs/company-information/'}\n",
      "{'title': 'Company Information | Foodstuffs', 'url': 'https://www.foodstuffs.co.nz/about-foodstuffs/company-information/', 'text': \"Foodstuffs North Island Limited. Foodstuffs North Island is led by CEO Chris Quin,\\nand employs more than 1,700 people who support the hundreds of stores.\\nFoodstuffs North Island supplies 96 New World, two Fresh Collective by New\\nWorld, 44 PAK'nSAVE, one PAK'nSAVE Mini and 179 Four Square owner-\\noperated retail\\xa0...\"}\n"
     ]
    },
    {
     "name": "stderr",
     "output_type": "stream",
     "text": [
      "2018-03-28 20:09:18,722 - magic_google - INFO: https://www.google.iq/search?hl=en&q=Herm%C3%A5%C2%8Fs+International+SCA+payment+options&btnG=Search&gbv=1&num=1\n"
     ]
    },
    {
     "name": "stdout",
     "output_type": "stream",
     "text": [
      "{'text': 'The world is getting smaller as businesses of all sizes expand '\n",
      "         'across the globe.\\n'\n",
      "         'Competitive companies need a simple, reliable way to promptly pay '\n",
      "         'their\\n'\n",
      "         'employees while complying with all relevant tax laws in their home '\n",
      "         'country. With\\n'\n",
      "         'the proper plan and strategy, you can use the power of foreign '\n",
      "         'currency\\n'\n",
      "         'exchange to\\xa0...',\n",
      " 'title': 'How to Pay International Contractors | OFX',\n",
      " 'url': 'https://www.ofx.com/en-us/blog/how-to-pay-international-contractors/'}\n",
      "{'title': 'How to Pay International Contractors | OFX', 'url': 'https://www.ofx.com/en-us/blog/how-to-pay-international-contractors/', 'text': 'The world is getting smaller as businesses of all sizes expand across the globe.\\nCompetitive companies need a simple, reliable way to promptly pay their\\nemployees while complying with all relevant tax laws in their home country. With\\nthe proper plan and strategy, you can use the power of foreign currency\\nexchange to\\xa0...'}\n"
     ]
    },
    {
     "name": "stderr",
     "output_type": "stream",
     "text": [
      "2018-03-28 20:09:47,471 - magic_google - INFO: https://www.google.vg/search?hl=en&q=XXXLutz+Group+payment+options&btnG=Search&gbv=1&num=1\n"
     ]
    },
    {
     "name": "stdout",
     "output_type": "stream",
     "text": [
      "{'text': 'With an approximate Turnover of 4.2 Billion Euros, the XXXLutz Group '\n",
      "         'is one of the largest furniture retailers in the world.\\n'\n",
      "         '... Lutz became XXXLutz.\\n'\n",
      "         '... With 566 stores in Austria, Germany, Czech Republic, Croatia, '\n",
      "         'France, Switzerland, Romania, Sweden, Slovenia, Slovakia, Bulgaria '\n",
      "         'and ...',\n",
      " 'title': 'Welcome to XXXLUTZ Group',\n",
      " 'url': 'https://xxxlgroup.com/en/xxxlutz-group/'}\n",
      "{'title': 'Welcome to XXXLUTZ Group', 'url': 'https://xxxlgroup.com/en/xxxlutz-group/', 'text': 'With an approximate Turnover of 4.2 Billion Euros, the XXXLutz Group is one of the largest furniture retailers in the world.\\n... Lutz became XXXLutz.\\n... With 566 stores in Austria, Germany, Czech Republic, Croatia, France, Switzerland, Romania, Sweden, Slovenia, Slovakia, Bulgaria and ...'}\n"
     ]
    },
    {
     "name": "stderr",
     "output_type": "stream",
     "text": [
      "2018-03-28 20:10:05,284 - magic_google - INFO: https://www.google.sr/search?hl=en&q=Groupe+FNAC+payment+options&btnG=Search&gbv=1&num=1\n"
     ]
    },
    {
     "name": "stdout",
     "output_type": "stream",
     "text": [
      "{'text': 'News and latest publications of FNAC DARTY. 21.02.2018. Corporate - '\n",
      "         'Finance.\\n'\n",
      "         '2017 full-year results. Download · 04.12.2017. Corporate - Finance. '\n",
      "         'Fnac Darty\\n'\n",
      "         'announces its strategic plan: Confiance +. Download · 05.02.2018. '\n",
      "         'Products and\\n'\n",
      "         'services. Sowee energy offerings and connected station. Download · '\n",
      "         '05.01.2018.',\n",
      " 'title': 'Fnac Darty',\n",
      " 'url': 'http://www.fnacdarty.com/?lang=en'}\n",
      "{'title': 'Fnac Darty', 'url': 'http://www.fnacdarty.com/?lang=en', 'text': 'News and latest publications of FNAC DARTY. 21.02.2018. Corporate - Finance.\\n2017 full-year results. Download · 04.12.2017. Corporate - Finance. Fnac Darty\\nannounces its strategic plan: Confiance +. Download · 05.02.2018. Products and\\nservices. Sowee energy offerings and connected station. Download · 05.01.2018.'}\n"
     ]
    },
    {
     "name": "stderr",
     "output_type": "stream",
     "text": [
      "2018-03-28 20:10:36,106 - magic_google - INFO: https://www.google.cm/search?hl=en&q=The+Save+Mart+payment+options&btnG=Search&gbv=1&num=1\n"
     ]
    },
    {
     "name": "stdout",
     "output_type": "stream",
     "text": [
      "{'text': 'Jul 31, 2017 ... Frequently Asked Questions [block:multiblock=40]',\n",
      " 'title': 'FAQ | Save Mart Supermarkets',\n",
      " 'url': 'https://www.savemart.com/faq'}\n",
      "{'title': 'FAQ | Save Mart Supermarkets', 'url': 'https://www.savemart.com/faq', 'text': 'Jul 31, 2017 ... Frequently Asked Questions [block:multiblock=40]'}\n"
     ]
    },
    {
     "name": "stderr",
     "output_type": "stream",
     "text": [
      "2018-03-28 20:10:49,901 - magic_google - INFO: https://www.google.com.fj/search?hl=en&q=SHV+N.V.+%2F+Makro+payment+options&btnG=Search&gbv=1&num=1\n"
     ]
    },
    {
     "name": "stdout",
     "output_type": "stream",
     "text": [
      "{'text': 'Financial. Net sales in 2016 amounted to € 18.6 billion, an increase '\n",
      "         'of 2.7% (€\\n'\n",
      "         '0.5 billion) compared to 2015. Adjusted for foreign currency '\n",
      "         'translation effects,\\n'\n",
      "         'sales increased by 9.3%. This was mainly caused by the strong '\n",
      "         'devaluation of a\\n'\n",
      "         'number of currencies against the euro compared to 2015. At € 724 '\n",
      "         'million,\\n'\n",
      "         'income\\xa0...',\n",
      " 'title': 'Financial | SHV',\n",
      " 'url': 'http://shv.nl/english/financial/'}\n",
      "{'title': 'Financial | SHV', 'url': 'http://shv.nl/english/financial/', 'text': 'Financial. Net sales in 2016 amounted to € 18.6 billion, an increase of 2.7% (€\\n0.5 billion) compared to 2015. Adjusted for foreign currency translation effects,\\nsales increased by 9.3%. This was mainly caused by the strong devaluation of a\\nnumber of currencies against the euro compared to 2015. At € 724 million,\\nincome\\xa0...'}\n"
     ]
    },
    {
     "name": "stderr",
     "output_type": "stream",
     "text": [
      "2018-03-28 20:11:01,773 - magic_google - INFO: https://www.google.com.tr/search?hl=en&q=PETCO+Animal+Supplies+payment+options&btnG=Search&gbv=1&num=1\n"
     ]
    },
    {
     "name": "stdout",
     "output_type": "stream",
     "text": [
      "{'text': 'We gladly accept the following forms of payment: Credit Cards '\n",
      "         'including Visa, MasterCard, American Express, Discover. PayPal. '\n",
      "         'Petco and Unleashed by Petco Gift Cards and eGift Cards.',\n",
      " 'title': 'Payments & Fees Help | Petco',\n",
      " 'url': 'https://www.petco.com/content/petco/PetcoStore/en_US/pet-services/help/help-payments-fees.html'}\n",
      "{'title': 'Payments & Fees Help | Petco', 'url': 'https://www.petco.com/content/petco/PetcoStore/en_US/pet-services/help/help-payments-fees.html', 'text': 'We gladly accept the following forms of payment: Credit Cards including Visa, MasterCard, American Express, Discover. PayPal. Petco and Unleashed by Petco Gift Cards and eGift Cards.'}\n",
      "{'text': '', 'title': ''}\n",
      "{'title': '', 'text': ''}\n"
     ]
    },
    {
     "name": "stderr",
     "output_type": "stream",
     "text": [
      "2018-03-28 20:11:15,484 - magic_google - INFO: https://www.google.co.tz/search?hl=en&q=Stater+Bros.+payment+options&btnG=Search&gbv=1&num=1\n"
     ]
    },
    {
     "name": "stdout",
     "output_type": "stream",
     "text": [
      "{'text': 'Explore Stater Bros. Salaries. See Stater Bros. Hourly Pay or Stater '\n",
      "         'Bros.\\n'\n",
      "         'Bonuses. Stater Bros. Salaries by Location. San Bernardino, CA · '\n",
      "         'Riverside, CA ·\\n'\n",
      "         'Corona, CA · Fontana, CA. Check out the latest Stater Bros. Jobs & '\n",
      "         'Careers\\xa0...',\n",
      " 'title': 'Stater Bros. Salaries | Glassdoor',\n",
      " 'url': 'https://www.glassdoor.com/Salary/Stater-Bros-Salaries-E2992.htm'}\n",
      "{'title': 'Stater Bros. Salaries | Glassdoor', 'url': 'https://www.glassdoor.com/Salary/Stater-Bros-Salaries-E2992.htm', 'text': 'Explore Stater Bros. Salaries. See Stater Bros. Hourly Pay or Stater Bros.\\nBonuses. Stater Bros. Salaries by Location. San Bernardino, CA · Riverside, CA ·\\nCorona, CA · Fontana, CA. Check out the latest Stater Bros. Jobs & Careers\\xa0...'}\n"
     ]
    },
    {
     "name": "stderr",
     "output_type": "stream",
     "text": [
      "2018-03-28 20:11:25,311 - magic_google - INFO: https://www.google.ml/search?hl=en&q=Sundrug+payment+options&btnG=Search&gbv=1&num=1\n"
     ]
    },
    {
     "name": "stdout",
     "output_type": "stream",
     "text": [
      "{'text': 'TSYS offers merchants a wide range of high-tech payment options that '\n",
      "         'help run\\n'\n",
      "         'an efficient, cost-effective operation and build customer '\n",
      "         'satisfaction.',\n",
      " 'title': 'Payment Methods for Merchant Services – TSYS',\n",
      " 'url': 'https://www.tsys.com/solutions/products-services/merchant/payment-methods/'}\n",
      "{'title': 'Payment Methods for Merchant Services – TSYS', 'url': 'https://www.tsys.com/solutions/products-services/merchant/payment-methods/', 'text': 'TSYS offers merchants a wide range of high-tech payment options that help run\\nan efficient, cost-effective operation and build customer satisfaction.'}\n"
     ]
    },
    {
     "name": "stderr",
     "output_type": "stream",
     "text": [
      "2018-03-28 20:11:34,723 - magic_google - INFO: https://www.google.co.mz/search?hl=en&q=Reinalt-Thomas+payment+options&btnG=Search&gbv=1&num=1\n"
     ]
    },
    {
     "name": "stdout",
     "output_type": "stream",
     "text": [
      "{'text': 'Customers in the U.S. and U.S. Armed Forces. We accept Visa, '\n",
      "         'Mastercard,\\n'\n",
      "         'American Express, Discover Network cards, and PayPal. We also accept '\n",
      "         'Postal\\n'\n",
      "         'Money Orders and Bank Wire Transfers (please contact a sales agent '\n",
      "         'for further\\n'\n",
      "         'instructions on using these options).',\n",
      " 'title': 'Payment Methods | Discount Tire Direct',\n",
      " 'url': 'https://www.discounttiredirect.com/financing/payment-methods'}\n",
      "{'title': 'Payment Methods | Discount Tire Direct', 'url': 'https://www.discounttiredirect.com/financing/payment-methods', 'text': 'Customers in the U.S. and U.S. Armed Forces. We accept Visa, Mastercard,\\nAmerican Express, Discover Network cards, and PayPal. We also accept Postal\\nMoney Orders and Bank Wire Transfers (please contact a sales agent for further\\ninstructions on using these options).'}\n"
     ]
    },
    {
     "name": "stderr",
     "output_type": "stream",
     "text": [
      "2018-03-28 20:12:01,440 - magic_google - INFO: https://www.google.by/search?hl=en&q=Lenta+Group+payment+options&btnG=Search&gbv=1&num=1\n"
     ]
    },
    {
     "name": "stdout",
     "output_type": "stream",
     "text": [
      "{'text': 'Distinctive and flexible hypermarket formats. Store network. Latest '\n",
      "         'news. 27\\n'\n",
      "         'March 2018. Lenta opens its sixteenth supermarket in Novosibirsk. 12 '\n",
      "         'March\\n'\n",
      "         '2018. Lenta publishes audited IFRS financial results for the year '\n",
      "         'ended... All\\n'\n",
      "         'news\\xa0...',\n",
      " 'title': 'Lenta - Home',\n",
      " 'url': 'http://www.lentainvestor.com/en/'}\n",
      "{'title': 'Lenta - Home', 'url': 'http://www.lentainvestor.com/en/', 'text': 'Distinctive and flexible hypermarket formats. Store network. Latest news. 27\\nMarch 2018. Lenta opens its sixteenth supermarket in Novosibirsk. 12 March\\n2018. Lenta publishes audited IFRS financial results for the year ended... All\\nnews\\xa0...'}\n"
     ]
    },
    {
     "name": "stderr",
     "output_type": "stream",
     "text": [
      "2018-03-28 20:12:22,452 - magic_google - INFO: https://www.google.lk/search?hl=en&q=Belk+payment+options&btnG=Search&gbv=1&num=1\n"
     ]
    },
    {
     "name": "stdout",
     "output_type": "stream",
     "text": [
      "{'text': 'Belk.com accepts the following forms of payment: Belk Rewards Credit '\n",
      "         'Card, MasterCard, Visa, American Express, Discover, Debit Cards with '\n",
      "         'a Visa/MasterCard/Amex/Discover logo, Belk Gift Cards, Pre-paid gift '\n",
      "         \"cards, such as Simon's: as long as the sale is less than or equal to \"\n",
      "         'the value/balance of the card.',\n",
      " 'title': 'Belk FAQs | belk',\n",
      " 'url': 'https://www.belk.com/customer-service/faqs/'}\n",
      "{'title': 'Belk FAQs | belk', 'url': 'https://www.belk.com/customer-service/faqs/', 'text': \"Belk.com accepts the following forms of payment: Belk Rewards Credit Card, MasterCard, Visa, American Express, Discover, Debit Cards with a Visa/MasterCard/Amex/Discover logo, Belk Gift Cards, Pre-paid gift cards, such as Simon's: as long as the sale is less than or equal to the value/balance of the card.\"}\n"
     ]
    },
    {
     "name": "stderr",
     "output_type": "stream",
     "text": [
      "2018-03-28 20:12:33,257 - magic_google - INFO: https://www.google.lk/search?hl=en&q=Nonggongshang+Supermarket+payment+options&btnG=Search&gbv=1&num=1\n"
     ]
    },
    {
     "name": "stdout",
     "output_type": "stream",
     "text": [
      "{'text': 'Company profile & key executives for Nonggongshang Supermarket Group '\n",
      "         'Co\\n'\n",
      "         'Ltd (NGSSUZ:-) including description, corporate address, management '\n",
      "         'team and\\n'\n",
      "         'contact info.',\n",
      " 'title': 'Nonggongshang Supermarket Group Co Ltd: Company Profile ...',\n",
      " 'url': 'http://www.bloomberg.com/profiles/companies/NGSSUZ:CH-nonggongshang-supermarket-group-co-ltd'}\n",
      "{'title': 'Nonggongshang Supermarket Group Co Ltd: Company Profile ...', 'url': 'http://www.bloomberg.com/profiles/companies/NGSSUZ:CH-nonggongshang-supermarket-group-co-ltd', 'text': 'Company profile & key executives for Nonggongshang Supermarket Group Co\\nLtd (NGSSUZ:-) including description, corporate address, management team and\\ncontact info.'}\n"
     ]
    },
    {
     "name": "stderr",
     "output_type": "stream",
     "text": [
      "2018-03-28 20:13:01,029 - magic_google - INFO: https://www.google.ps/search?hl=en&q=Barnes%C3%8C_%26+Noble+payment+options&btnG=Search&gbv=1&num=1\n"
     ]
    },
    {
     "name": "stdout",
     "output_type": "stream",
     "text": [
      "{'text': 'Online Bill Pay. Pay all the bills you want, anytime you want - from '\n",
      "         'the\\n'\n",
      "         'convenience of your computer 24 hours a day, 7 days a week and avoid '\n",
      "         'the\\n'\n",
      "         'hassles of writing checks or buying stamps. Online Bill Pay is fast, '\n",
      "         'easy and\\n'\n",
      "         \"secure. Once you've tried Online Bill Pay, you'll never write a \"\n",
      "         'check again! With\\n'\n",
      "         'your checking\\xa0...',\n",
      " 'title': 'Noble Credit Union - eSERVICES - Online Banking - Bill Pay',\n",
      " 'url': 'https://www.noblecu.com/home/eservices/online/bill'}\n",
      "{'title': 'Noble Credit Union - eSERVICES - Online Banking - Bill Pay', 'url': 'https://www.noblecu.com/home/eservices/online/bill', 'text': \"Online Bill Pay. Pay all the bills you want, anytime you want - from the\\nconvenience of your computer 24 hours a day, 7 days a week and avoid the\\nhassles of writing checks or buying stamps. Online Bill Pay is fast, easy and\\nsecure. Once you've tried Online Bill Pay, you'll never write a check again! With\\nyour checking\\xa0...\"}\n"
     ]
    },
    {
     "name": "stderr",
     "output_type": "stream",
     "text": [
      "2018-03-28 20:13:25,963 - magic_google - INFO: https://www.google.nl/search?hl=en&q=Arcs+payment+options&btnG=Search&gbv=1&num=1\n"
     ]
    },
    {
     "name": "stdout",
     "output_type": "stream",
     "text": [
      "{'text': 'As the financial industry becomes increasingly computerized, ARC has '\n",
      "         'become\\n'\n",
      "         'the norm rather than the exception for large payment processors. '\n",
      "         'Prior to ARC\\n'\n",
      "         'and electronic payments, the most common method of payment was '\n",
      "         'lockbox\\n'\n",
      "         'banking, in which payments are made to a post office box serviced by '\n",
      "         'a bank.',\n",
      " 'title': 'Accounts Receivable Conversion (ARC) - Investopedia',\n",
      " 'url': 'https://www.investopedia.com/terms/a/accounts-receivable-conversion.asp'}\n",
      "{'title': 'Accounts Receivable Conversion (ARC) - Investopedia', 'url': 'https://www.investopedia.com/terms/a/accounts-receivable-conversion.asp', 'text': 'As the financial industry becomes increasingly computerized, ARC has become\\nthe norm rather than the exception for large payment processors. Prior to ARC\\nand electronic payments, the most common method of payment was lockbox\\nbanking, in which payments are made to a post office box serviced by a bank.'}\n"
     ]
    },
    {
     "name": "stderr",
     "output_type": "stream",
     "text": [
      "2018-03-28 20:13:34,664 - magic_google - INFO: https://www.google.im/search?hl=en&q=Lawson+payment+options&btnG=Search&gbv=1&num=1\n"
     ]
    },
    {
     "name": "stdout",
     "output_type": "stream",
     "text": [
      "{'text': 'It is the page of Payment method at LAWSON/MINISTOP.Skymark offers\\n'\n",
      "         'comfortable air travel with affordable fares.',\n",
      " 'title': 'Payment method at LAWSON/MINISTOP | Making payments ...',\n",
      " 'url': 'http://www.skymark.co.jp/en/reservation/change/payment/conv/conv_ls.html'}\n",
      "{'title': 'Payment method at LAWSON/MINISTOP | Making payments ...', 'url': 'http://www.skymark.co.jp/en/reservation/change/payment/conv/conv_ls.html', 'text': 'It is the page of Payment method at LAWSON/MINISTOP.Skymark offers\\ncomfortable air travel with affordable fares.'}\n"
     ]
    },
    {
     "name": "stderr",
     "output_type": "stream",
     "text": [
      "2018-03-28 20:13:56,352 - magic_google - INFO: https://www.google.com.ar/search?hl=en&q=Darty+payment+options&btnG=Search&gbv=1&num=1\n"
     ]
    },
    {
     "name": "stdout",
     "output_type": "stream",
     "text": [
      "{'text': 'Payment Options. Payment Options. For your convenience, we accept '\n",
      "         'cash,\\n'\n",
      "         'personal checks, money orders and major credit cards including, '\n",
      "         'VISA,\\n'\n",
      "         'MasterCard & AMERICAN EXPRESS. Payment is expected at the time '\n",
      "         'services\\n'\n",
      "         'are performed. When more extensive dental care is necessary, '\n",
      "         'financial\\n'\n",
      "         'arrangements can be\\xa0...',\n",
      " 'title': 'Amanda Darty, DMD PC - Payment Options',\n",
      " 'url': 'http://www.jaspersmiles.com/payment-options/'}\n",
      "{'title': 'Amanda Darty, DMD PC - Payment Options', 'url': 'http://www.jaspersmiles.com/payment-options/', 'text': 'Payment Options. Payment Options. For your convenience, we accept cash,\\npersonal checks, money orders and major credit cards including, VISA,\\nMasterCard & AMERICAN EXPRESS. Payment is expected at the time services\\nare performed. When more extensive dental care is necessary, financial\\narrangements can be\\xa0...'}\n"
     ]
    },
    {
     "name": "stderr",
     "output_type": "stream",
     "text": [
      "2018-03-28 20:14:13,341 - magic_google - INFO: https://www.google.bs/search?hl=en&q=M%C3%8C%C2%AAller+Holding+payment+options&btnG=Search&gbv=1&num=1\n"
     ]
    },
    {
     "name": "stdout",
     "output_type": "stream",
     "text": [
      "{'text': 'Dec 18, 2017 ... Are there laws – state or federal – that govern how '\n",
      "         'long a payment processor like\\n'\n",
      "         'eBay, PayPal, Amazon, Stripe or Authorize.net can hold on to your '\n",
      "         'funds (from\\n'\n",
      "         'customer payments) without disbursement to your bank? – Lucia. '\n",
      "         'Answer Dear\\n'\n",
      "         'Lucia, This is a great question – and it is one that many small\\xa0'\n",
      "         '...',\n",
      " 'title': 'How long can a payment processor hold funds from my business ...',\n",
      " 'url': 'https://www.creditcards.com/credit-card-news/how-long-can-payment-processor-hold-funds-from-business.php'}\n",
      "{'title': 'How long can a payment processor hold funds from my business ...', 'url': 'https://www.creditcards.com/credit-card-news/how-long-can-payment-processor-hold-funds-from-business.php', 'text': 'Dec 18, 2017 ... Are there laws – state or federal – that govern how long a payment processor like\\neBay, PayPal, Amazon, Stripe or Authorize.net can hold on to your funds (from\\ncustomer payments) without disbursement to your bank? – Lucia. Answer Dear\\nLucia, This is a great question – and it is one that many small\\xa0...'}\n"
     ]
    },
    {
     "name": "stderr",
     "output_type": "stream",
     "text": [
      "2018-03-28 20:14:20,926 - magic_google - INFO: https://www.google.com.sv/search?hl=en&q=Iceland+Topco+Limited+payment+options&btnG=Search&gbv=1&num=1\n"
     ]
    },
    {
     "name": "stdout",
     "output_type": "stream",
     "text": [
      "{'text': 'Jan 10, 2018 ... To place an order on Our Website You must have a '\n",
      "         'delivery address within Our\\n'\n",
      "         'delivery area and have a valid credit/debit card or PayPal account '\n",
      "         'in Your ... 8am\\n'\n",
      "         '-8pm and Sun 8am-6pm (opening hours subject to change and calls may '\n",
      "         'be\\n'\n",
      "         'recorded) or write to Us at: Bonus Card Opt Out, Iceland Foods '\n",
      "         'Ltd,\\xa0...',\n",
      " 'title': 'Terms and Conditions Page | Iceland Groceries',\n",
      " 'url': 'http://groceries.iceland.co.uk/terms'}\n",
      "{'title': 'Terms and Conditions Page | Iceland Groceries', 'url': 'http://groceries.iceland.co.uk/terms', 'text': 'Jan 10, 2018 ... To place an order on Our Website You must have a delivery address within Our\\ndelivery area and have a valid credit/debit card or PayPal account in Your ... 8am\\n-8pm and Sun 8am-6pm (opening hours subject to change and calls may be\\nrecorded) or write to Us at: Bonus Card Opt Out, Iceland Foods Ltd,\\xa0...'}\n"
     ]
    },
    {
     "name": "stderr",
     "output_type": "stream",
     "text": [
      "2018-03-28 20:14:37,699 - magic_google - INFO: https://www.google.as/search?hl=en&q=Sports+Direct+International+payment+options&btnG=Search&gbv=1&num=1\n"
     ]
    },
    {
     "name": "stdout",
     "output_type": "stream",
     "text": [
      "{'text': 'The Payment Pages used at SportsDirect.com USA are secure and you '\n",
      "         'can\\n'\n",
      "         'safely enter your card details to pay for your order. We accept the '\n",
      "         'following\\n'\n",
      "         'methods of payment: Mastercard, VISA, VISA Debit, VISA Electron, '\n",
      "         'Maestro,\\n'\n",
      "         'PayPal and Gift Cards. Please select the desired payment option and '\n",
      "         'proceed to\\n'\n",
      "         'the next page\\xa0...',\n",
      " 'title': 'Payment Options | Sports Direct USA',\n",
      " 'url': 'https://us.sportsdirect.com/customerservices/placingorders/paymentoptions'}\n",
      "{'title': 'Payment Options | Sports Direct USA', 'url': 'https://us.sportsdirect.com/customerservices/placingorders/paymentoptions', 'text': 'The Payment Pages used at SportsDirect.com USA are secure and you can\\nsafely enter your card details to pay for your order. We accept the following\\nmethods of payment: Mastercard, VISA, VISA Debit, VISA Electron, Maestro,\\nPayPal and Gift Cards. Please select the desired payment option and proceed to\\nthe next page\\xa0...'}\n"
     ]
    },
    {
     "name": "stderr",
     "output_type": "stream",
     "text": [
      "2018-03-28 20:14:48,547 - magic_google - INFO: https://www.google.com.my/search?hl=en&q=Smart+%26+Final+Stores+payment+options&btnG=Search&gbv=1&num=1\n"
     ]
    },
    {
     "name": "stdout",
     "output_type": "stream",
     "text": [
      "{'text': 'Get groceries delivered from local stores in two hours. Your first '\n",
      "         'Delivery is free.\\n'\n",
      "         'Try it today! See terms.',\n",
      " 'title': 'Smart & Final Help Center - Payments',\n",
      " 'url': 'https://shop.smartandfinal.com/help/section/115001185246'}\n",
      "{'title': 'Smart & Final Help Center - Payments', 'url': 'https://shop.smartandfinal.com/help/section/115001185246', 'text': 'Get groceries delivered from local stores in two hours. Your first Delivery is free.\\nTry it today! See terms.'}\n",
      "{'text': '', 'title': ''}\n",
      "{'title': '', 'text': ''}\n"
     ]
    },
    {
     "name": "stderr",
     "output_type": "stream",
     "text": [
      "2018-03-28 20:15:12,181 - magic_google - INFO: https://www.google.no/search?hl=en&q=Valor+payment+options&btnG=Search&gbv=1&num=1\n"
     ]
    },
    {
     "name": "stdout",
     "output_type": "stream",
     "text": [
      "{'text': 'Families choosing the monthly payment plan are required to '\n",
      "         'participate in the\\n'\n",
      "         'Tuition Refund Plan at the additional cost of approximately $300 per '\n",
      "         'year. If your\\n'\n",
      "         'student withdraws from Valor, the Tuition Refund Plan will pay '\n",
      "         'benefits (subject to\\n'\n",
      "         'its terms, conditions and limitations and based on the amount '\n",
      "         'insured) directly to\\n'\n",
      "         '...',\n",
      " 'title': 'Tuition & Fees – Valor Christian High School',\n",
      " 'url': 'https://govalor.com/inside-admissions/tuition-fees/'}\n",
      "{'title': 'Tuition & Fees – Valor Christian High School', 'url': 'https://govalor.com/inside-admissions/tuition-fees/', 'text': 'Families choosing the monthly payment plan are required to participate in the\\nTuition Refund Plan at the additional cost of approximately $300 per year. If your\\nstudent withdraws from Valor, the Tuition Refund Plan will pay benefits (subject to\\nits terms, conditions and limitations and based on the amount insured) directly to\\n...'}\n"
     ]
    },
    {
     "name": "stderr",
     "output_type": "stream",
     "text": [
      "2018-03-28 20:15:34,285 - magic_google - INFO: https://www.google.im/search?hl=en&q=Ralph+Lauren+payment+options&btnG=Search&gbv=1&num=1\n"
     ]
    },
    {
     "name": "stdout",
     "output_type": "stream",
     "text": [
      "{'text': 'Credit cards accepted: American Express. Discover. MasterCard. Visa. '\n",
      "         'Other\\n'\n",
      "         'forms of payment: Online gift certificates. Ralph Lauren gift cards. '\n",
      "         'PayPal. PayPal\\n'\n",
      "         'Credit. Credit Card gift cards*. We do not accept: CODs. Layaway '\n",
      "         'plan. Personal\\n'\n",
      "         'checks. Money orders. Important information about payment: For your\\n'\n",
      "         'convenience\\xa0...',\n",
      " 'title': 'Payment Method - Ralph Lauren',\n",
      " 'url': 'https://www.ralphlauren.com/customerservice?cid=cs-payment-method'}\n",
      "{'title': 'Payment Method - Ralph Lauren', 'url': 'https://www.ralphlauren.com/customerservice?cid=cs-payment-method', 'text': 'Credit cards accepted: American Express. Discover. MasterCard. Visa. Other\\nforms of payment: Online gift certificates. Ralph Lauren gift cards. PayPal. PayPal\\nCredit. Credit Card gift cards*. We do not accept: CODs. Layaway plan. Personal\\nchecks. Money orders. Important information about payment: For your\\nconvenience\\xa0...'}\n"
     ]
    },
    {
     "name": "stderr",
     "output_type": "stream",
     "text": [
      "2018-03-28 20:16:04,065 - magic_google - INFO: https://www.google.rw/search?hl=en&q=HORNBACH+Baumarkt+AG+Group+payment+options&btnG=Search&gbv=1&num=1\n"
     ]
    },
    {
     "name": "stdout",
     "output_type": "stream",
     "text": [
      "{'text': 'Net sales at Hornbach Group clearly exceed four billion euros. Sales '\n",
      "         'at the\\n'\n",
      "         'Hornbach Group (Hornbach Holding AG & Co. KGaA Group) clearly topped '\n",
      "         'the\\n'\n",
      "         'four billion euro mark in the 2017/18 financial year. According to '\n",
      "         \"today's trading\\n\"\n",
      "         'statement, consolidated sales grew by 5.1% to Euro 4,141 million. '\n",
      "         '21-Dec-2017\\xa0...',\n",
      " 'title': 'HORNBACH Holding',\n",
      " 'url': 'http://www.hornbach-holding.de/en'}\n",
      "{'title': 'HORNBACH Holding', 'url': 'http://www.hornbach-holding.de/en', 'text': \"Net sales at Hornbach Group clearly exceed four billion euros. Sales at the\\nHornbach Group (Hornbach Holding AG & Co. KGaA Group) clearly topped the\\nfour billion euro mark in the 2017/18 financial year. According to today's trading\\nstatement, consolidated sales grew by 5.1% to Euro 4,141 million. 21-Dec-2017\\xa0...\"}\n"
     ]
    },
    {
     "name": "stderr",
     "output_type": "stream",
     "text": [
      "2018-03-28 20:16:29,852 - magic_google - INFO: https://www.google.co.in/search?hl=en&q=Tiffany+payment+options&btnG=Search&gbv=1&num=1\n"
     ]
    },
    {
     "name": "stdout",
     "output_type": "stream",
     "text": [
      "{'text': 'Tiffany Pricing Parameters. Because every diamond is unique, each '\n",
      "         'with its own\\n'\n",
      "         'precise gemological characteristics, pricing will vary. Of all '\n",
      "         'gem-quality diamonds\\n'\n",
      "         \", only a fraction ever meet Tiffany's strict quality requirements. \"\n",
      "         'Tiffany diamond\\n'\n",
      "         'engagement rings are offered from just over $1,000 to over '\n",
      "         '$1,000,000. A Tiffany\\n'\n",
      "         '...',\n",
      " 'title': 'Pricing & Payment Plans | Tiffany & Co.',\n",
      " 'url': 'https://m.tiffany.com/Mobile/Engagement/LearnMore/AboutPaymentPlan.aspx'}\n",
      "{'title': 'Pricing & Payment Plans | Tiffany & Co.', 'url': 'https://m.tiffany.com/Mobile/Engagement/LearnMore/AboutPaymentPlan.aspx', 'text': \"Tiffany Pricing Parameters. Because every diamond is unique, each with its own\\nprecise gemological characteristics, pricing will vary. Of all gem-quality diamonds\\n, only a fraction ever meet Tiffany's strict quality requirements. Tiffany diamond\\nengagement rings are offered from just over $1,000 to over $1,000,000. A Tiffany\\n...\"}\n"
     ]
    },
    {
     "name": "stderr",
     "output_type": "stream",
     "text": [
      "2018-03-28 20:16:45,713 - magic_google - INFO: https://www.google.kz/search?hl=en&q=BGFretail+payment+options&btnG=Search&gbv=1&num=1\n"
     ]
    },
    {
     "name": "stdout",
     "output_type": "stream",
     "text": [
      "{'text': 'Can the plan and the output be specifically represented in numbers?\\n'\n",
      "         'Preparedness against Crisis. Has the plan been rigorously analyzed '\n",
      "         'and\\n'\n",
      "         'accurately prepared from a conservative point of view? Is there an '\n",
      "         'alternative\\n'\n",
      "         'measure prepared for a situation in which normal procedure is '\n",
      "         'impossible? Are\\n'\n",
      "         'there additional human\\xa0...',\n",
      " 'title': 'BGFretail',\n",
      " 'url': 'https://www.bgfretail.com/companyEng/companyVision.do'}\n",
      "{'title': 'BGFretail', 'url': 'https://www.bgfretail.com/companyEng/companyVision.do', 'text': 'Can the plan and the output be specifically represented in numbers?\\nPreparedness against Crisis. Has the plan been rigorously analyzed and\\naccurately prepared from a conservative point of view? Is there an alternative\\nmeasure prepared for a situation in which normal procedure is impossible? Are\\nthere additional human\\xa0...'}\n"
     ]
    },
    {
     "name": "stderr",
     "output_type": "stream",
     "text": [
      "2018-03-28 20:16:53,392 - magic_google - INFO: https://www.google.com.my/search?hl=en&q=Coop+Sverige+AB+payment+options&btnG=Search&gbv=1&num=1\n"
     ]
    },
    {
     "name": "stdout",
     "output_type": "stream",
     "text": [
      "{'text': 'KF - The Swedish Cooperative Union, is a federation of 41 consumer '\n",
      "         'cooperative\\n'\n",
      "         'societies in Sweden, with over 3 million individual members. KF is '\n",
      "         'the parent\\n'\n",
      "         \"company of KF Group where Coop's grocery retail trade constitutes \"\n",
      "         'its core\\n'\n",
      "         'business. Coop operates grocery retail shops in chains like Coop '\n",
      "         'Forum, Coop\\n'\n",
      "         'Extra,\\xa0...',\n",
      " 'title': 'About KF | Coop',\n",
      " 'url': 'https://www.coop.se/Globala-sidor/In-english/'}\n",
      "{'title': 'About KF | Coop', 'url': 'https://www.coop.se/Globala-sidor/In-english/', 'text': \"KF - The Swedish Cooperative Union, is a federation of 41 consumer cooperative\\nsocieties in Sweden, with over 3 million individual members. KF is the parent\\ncompany of KF Group where Coop's grocery retail trade constitutes its core\\nbusiness. Coop operates grocery retail shops in chains like Coop Forum, Coop\\nExtra,\\xa0...\"}\n"
     ]
    },
    {
     "name": "stderr",
     "output_type": "stream",
     "text": [
      "2018-03-28 20:17:09,132 - magic_google - INFO: https://www.google.com.tw/search?hl=en&q=Hobby+Lobby+Stores+payment+options&btnG=Search&gbv=1&num=1\n"
     ]
    },
    {
     "name": "stdout",
     "output_type": "stream",
     "text": [
      "{'text': '... of $69 or more. Ends at 11:59PM 03/31/18. Skip to content Skip '\n",
      "         'to navigation.\\n'\n",
      "         'Menu. Uncached Time = Mon Mar 26 09:35:23 CDT 2018. Hobby Lobby - '\n",
      "         'Super\\n'\n",
      "         'Savings, Super Selection! Cached Time = Mon Mar 26 09:34:01 CDT '\n",
      "         '2018.\\n'\n",
      "         'Email Sign-Up; Store Finder · My Account .... Stores & hours ... '\n",
      "         'Ordering &\\n'\n",
      "         'payment\\xa0...',\n",
      " 'title': 'Frequently Asked Questions - Hobby Lobby',\n",
      " 'url': 'https://www.hobbylobby.com/customer-service/faq'}\n",
      "{'title': 'Frequently Asked Questions - Hobby Lobby', 'url': 'https://www.hobbylobby.com/customer-service/faq', 'text': '... of $69 or more. Ends at 11:59PM 03/31/18. Skip to content Skip to navigation.\\nMenu. Uncached Time = Mon Mar 26 09:35:23 CDT 2018. Hobby Lobby - Super\\nSavings, Super Selection! Cached Time = Mon Mar 26 09:34:01 CDT 2018.\\nEmail Sign-Up; Store Finder · My Account .... Stores & hours ... Ordering &\\npayment\\xa0...'}\n"
     ]
    },
    {
     "name": "stderr",
     "output_type": "stream",
     "text": [
      "2018-03-28 20:17:34,880 - magic_google - INFO: https://www.google.dk/search?hl=en&q=Cosmos+Pharmaceutical+payment+options&btnG=Search&gbv=1&num=1\n"
     ]
    },
    {
     "name": "stdout",
     "output_type": "stream",
     "text": [
      "{'text': 'Cosmo is a specialty pharmaceutical company that aims to become a '\n",
      "         'global\\n'\n",
      "         'leader in the market of optimized therapies for selected '\n",
      "         'gastro-intestinal diseases\\n'\n",
      "         \". The company's proprietary clinical development pipeline \"\n",
      "         'specifically.',\n",
      " 'title': 'Home – Cosmo Pharmaceuticals NV',\n",
      " 'url': 'http://www.cosmopharma.com/'}\n",
      "{'title': 'Home – Cosmo Pharmaceuticals NV', 'url': 'http://www.cosmopharma.com/', 'text': \"Cosmo is a specialty pharmaceutical company that aims to become a global\\nleader in the market of optimized therapies for selected gastro-intestinal diseases\\n. The company's proprietary clinical development pipeline specifically.\"}\n"
     ]
    },
    {
     "name": "stderr",
     "output_type": "stream",
     "text": [
      "2018-03-28 20:17:44,428 - magic_google - INFO: https://www.google.com.ly/search?hl=en&q=Nojima+payment+options&btnG=Search&gbv=1&num=1\n"
     ]
    },
    {
     "name": "stdout",
     "output_type": "stream",
     "text": [
      "{'text': \"See what employees say it's like to work at Lederer & Nojima. \"\n",
      "         'Salaries, reviews,\\n'\n",
      "         'and more - all posted by employees working at Lederer & Nojima.',\n",
      " 'title': 'Working at Lederer & Nojima | Glassdoor',\n",
      " 'url': 'https://www.glassdoor.com/Overview/Working-at-Lederer-and-Nojima-EI_IE1423374.11,29.htm'}\n",
      "{'title': 'Working at Lederer & Nojima | Glassdoor', 'url': 'https://www.glassdoor.com/Overview/Working-at-Lederer-and-Nojima-EI_IE1423374.11,29.htm', 'text': \"See what employees say it's like to work at Lederer & Nojima. Salaries, reviews,\\nand more - all posted by employees working at Lederer & Nojima.\"}\n"
     ]
    },
    {
     "name": "stderr",
     "output_type": "stream",
     "text": [
      "2018-03-28 20:18:09,225 - magic_google - INFO: https://www.google.fi/search?hl=en&q=Coach+payment+options&btnG=Search&gbv=1&num=1\n"
     ]
    },
    {
     "name": "stdout",
     "output_type": "stream",
     "text": [
      "{'text': '',\n",
      " 'title': 'COACH: Customer Service',\n",
      " 'url': 'https://www.coach.com/customer-care-faqs.html'}\n",
      "{'title': 'COACH: Customer Service', 'url': 'https://www.coach.com/customer-care-faqs.html', 'text': ''}\n",
      "{'text': '', 'title': ''}\n",
      "{'title': '', 'text': ''}\n",
      "{'text': 'Coach.com is currently accepting orders using Visa, Mastercard, '\n",
      "         'American Express, Discover, Diners Club, JCB, PayPal, and the Coach '\n",
      "         'gift card. Orders paid for by check may be mailed in.',\n",
      " 'title': 'COACH: Customer Service',\n",
      " 'url': 'https://www.coach.com/customer-care-faqs.html'}\n",
      "{'title': 'COACH: Customer Service', 'url': 'https://www.coach.com/customer-care-faqs.html', 'text': 'Coach.com is currently accepting orders using Visa, Mastercard, American Express, Discover, Diners Club, JCB, PayPal, and the Coach gift card. Orders paid for by check may be mailed in.'}\n"
     ]
    },
    {
     "name": "stderr",
     "output_type": "stream",
     "text": [
      "2018-03-28 20:18:32,348 - magic_google - INFO: https://www.google.sr/search?hl=en&q=Nitori+payment+options&btnG=Search&gbv=1&num=1\n"
     ]
    },
    {
     "name": "stdout",
     "output_type": "stream",
     "text": [
      "{'text': 'Members shall be able to receive points only when they show their '\n",
      "         'Membership\\n'\n",
      "         \"Card at a cash register at one of the Company's Stores before paying \"\n",
      "         'for their\\n'\n",
      "         'purchases. .... （3）Conducting Member purchasing trend surveys, '\n",
      "         'verifying the\\n'\n",
      "         'results of sales promotion activities and creating sales promotion '\n",
      "         'plans. （4）For\\xa0...',\n",
      " 'title': 'Terms and Conditions｜NITORI Membership Card｜Services ...',\n",
      " 'url': 'http://www.nitori.co.jp/en/service/memberscard/rule.html'}\n",
      "{'title': 'Terms and Conditions｜NITORI Membership Card｜Services ...', 'url': 'http://www.nitori.co.jp/en/service/memberscard/rule.html', 'text': \"Members shall be able to receive points only when they show their Membership\\nCard at a cash register at one of the Company's Stores before paying for their\\npurchases. .... （3）Conducting Member purchasing trend surveys, verifying the\\nresults of sales promotion activities and creating sales promotion plans. （4）For\\xa0...\"}\n"
     ]
    },
    {
     "name": "stderr",
     "output_type": "stream",
     "text": [
      "2018-03-28 20:18:58,339 - magic_google - INFO: https://www.google.com.et/search?hl=en&q=Ulta+Salon+Cosmetics+%26+Fragrance+payment+options&btnG=Search&gbv=1&num=1\n"
     ]
    },
    {
     "name": "stdout",
     "output_type": "stream",
     "text": [
      "{'text': 'Products returned to stores that were purchased using an online '\n",
      "         'payment service\\n'\n",
      "         '(i.e., PayPal) will be refunded to your preferred credit card or '\n",
      "         'issued as a store\\n'\n",
      "         'merchandise credit. ... Ulta.com orders placed using a gift card and '\n",
      "         'returned to\\n'\n",
      "         'the Ulta Beauty returns center will receive a new e-gift card for '\n",
      "         'the return value.',\n",
      " 'title': 'Ulta Return Policy, Shipping Rates & More | Ulta Beauty',\n",
      " 'url': 'https://www.ulta.com/guestservices/guestServicesCenterDetails.jsp'}\n",
      "{'title': 'Ulta Return Policy, Shipping Rates & More | Ulta Beauty', 'url': 'https://www.ulta.com/guestservices/guestServicesCenterDetails.jsp', 'text': 'Products returned to stores that were purchased using an online payment service\\n(i.e., PayPal) will be refunded to your preferred credit card or issued as a store\\nmerchandise credit. ... Ulta.com orders placed using a gift card and returned to\\nthe Ulta Beauty returns center will receive a new e-gift card for the return value.'}\n"
     ]
    },
    {
     "name": "stderr",
     "output_type": "stream",
     "text": [
      "2018-03-28 20:19:23,211 - magic_google - INFO: https://www.google.mu/search?hl=en&q=PT+Indomarco+Prismatama+%28Indomaret%29+payment+options&btnG=Search&gbv=1&num=1\n"
     ]
    },
    {
     "name": "stdout",
     "output_type": "stream",
     "text": [
      "{'text': 'Aug 24, 2016 ... By cooperating with two of the biggest franchise '\n",
      "         'retailers owned by PT Indomarco\\n'\n",
      "         \"Prismatama in Indonesia, Indomaret and Ceria Mart, Chubb Life's \"\n",
      "         'customers can\\n'\n",
      "         'easily pay their premium via more than 12,000 convenience stores '\n",
      "         'across\\n'\n",
      "         'Indonesia from August 15, 2016. The additional payment options '\n",
      "         'will\\xa0...',\n",
      " 'title': 'Chubb Life Adds New Payment Options through Indomaret and ...',\n",
      " 'url': 'http://chubb.mediaroom.com/2016-08-24-Chubb-Life-Adds-New-Payment-Options-through-Indomaret-and-Ceria-Mart-Outlets'}\n",
      "{'title': 'Chubb Life Adds New Payment Options through Indomaret and ...', 'url': 'http://chubb.mediaroom.com/2016-08-24-Chubb-Life-Adds-New-Payment-Options-through-Indomaret-and-Ceria-Mart-Outlets', 'text': \"Aug 24, 2016 ... By cooperating with two of the biggest franchise retailers owned by PT Indomarco\\nPrismatama in Indonesia, Indomaret and Ceria Mart, Chubb Life's customers can\\neasily pay their premium via more than 12,000 convenience stores across\\nIndonesia from August 15, 2016. The additional payment options will\\xa0...\"}\n"
     ]
    },
    {
     "name": "stderr",
     "output_type": "stream",
     "text": [
      "2018-03-28 20:19:45,015 - magic_google - INFO: https://www.google.com.uy/search?hl=en&q=HSN+payment+options&btnG=Search&gbv=1&num=1\n"
     ]
    },
    {
     "name": "stdout",
     "output_type": "stream",
     "text": [
      "{'text': 'Payment Options at HSN. Your destination for top brands and '\n",
      "         'exclusive products\\n'\n",
      "         \"you can't find anywhere else. Free Shipping, FlexPay and more.\",\n",
      " 'title': 'Payment Options | HSN',\n",
      " 'url': 'https://www.hsn.com/shop/payment-options/6848'}\n",
      "{'title': 'Payment Options | HSN', 'url': 'https://www.hsn.com/shop/payment-options/6848', 'text': \"Payment Options at HSN. Your destination for top brands and exclusive products\\nyou can't find anywhere else. Free Shipping, FlexPay and more.\"}\n"
     ]
    },
    {
     "name": "stderr",
     "output_type": "stream",
     "text": [
      "2018-03-28 20:20:04,654 - magic_google - INFO: https://www.google.com.uy/search?hl=en&q=Tokyu+payment+options&btnG=Search&gbv=1&num=1\n"
     ]
    },
    {
     "name": "stdout",
     "output_type": "stream",
     "text": [
      "{'text': 'Jan 11, 2018 ... The official currency of Japan is the Japanese yen '\n",
      "         '(円/￥).\\n'\n",
      "         '... Although foreign currencies are generally accepted at '\n",
      "         'international airports, only Japanese yen is accepted throughout the '\n",
      "         'country.\\n'\n",
      "         '... Most stores in Japan only accept payment in Japanese Yen and '\n",
      "         'will be unable to exchange ...',\n",
      " 'title': 'Japanese Currency and Payment Methods in Japan - LIVE JAPAN ...',\n",
      " 'url': 'https://livejapan.com/en/article-a0000946/'}\n",
      "{'title': 'Japanese Currency and Payment Methods in Japan - LIVE JAPAN ...', 'url': 'https://livejapan.com/en/article-a0000946/', 'text': 'Jan 11, 2018 ... The official currency of Japan is the Japanese yen (円/￥).\\n... Although foreign currencies are generally accepted at international airports, only Japanese yen is accepted throughout the country.\\n... Most stores in Japan only accept payment in Japanese Yen and will be unable to exchange ...'}\n"
     ]
    },
    {
     "name": "stderr",
     "output_type": "stream",
     "text": [
      "2018-03-28 20:20:15,397 - magic_google - INFO: https://www.google.im/search?hl=en&q=Ingles+Markets+payment+options&btnG=Search&gbv=1&num=1\n"
     ]
    },
    {
     "name": "stdout",
     "output_type": "stream",
     "text": [
      "{'text': \"They may choose Ingles because of our selection and value, but it's \"\n",
      "         'our people\\n'\n",
      "         'that keep them coming back. Core Benefit Options for All Eligible '\n",
      "         'Associates.\\n'\n",
      "         'Enjoy the benefit of weekly pay; Convenience of direct deposit; '\n",
      "         'Flexible work\\n'\n",
      "         'schedule; Scholarship program for high school seniors; 401(k) '\n",
      "         'savings and\\n'\n",
      "         'retirement\\xa0...',\n",
      " 'title': 'Benefits - Ingles Markets',\n",
      " 'url': 'https://www.ingles-markets.com/inside/career/benefits'}\n",
      "{'title': 'Benefits - Ingles Markets', 'url': 'https://www.ingles-markets.com/inside/career/benefits', 'text': \"They may choose Ingles because of our selection and value, but it's our people\\nthat keep them coming back. Core Benefit Options for All Eligible Associates.\\nEnjoy the benefit of weekly pay; Convenience of direct deposit; Flexible work\\nschedule; Scholarship program for high school seniors; 401(k) savings and\\nretirement\\xa0...\"}\n"
     ]
    },
    {
     "name": "stderr",
     "output_type": "stream",
     "text": [
      "2018-03-28 20:20:28,195 - magic_google - INFO: https://www.google.ca/search?hl=en&q=PT+Sumber+Alfaria+Trijaya+Tbk+%28Alfamart%29+payment+options&btnG=Search&gbv=1&num=1\n"
     ]
    },
    {
     "name": "stdout",
     "output_type": "stream",
     "text": [
      "{'text': 'Alfamart. Retail Solution. Case Study. Customer. • PT Sumber Alfaria '\n",
      "         'Trijaya Tbk\\n'\n",
      "         '(Alfamart) http://corporate.alfamartku.com/lang/set/lang/ENG. '\n",
      "         'Industry. • Retail.\\n'\n",
      "         'Challenges ... Alfamart utilized general PC as POS to run the daily '\n",
      "         'operation.\\n'\n",
      "         'Performance ... After paying at the cashier counter, customers will '\n",
      "         'choose the\\n'\n",
      "         'prizes.',\n",
      " 'title': 'Retail Solution Alfamart',\n",
      " 'url': 'https://www.nec.com/en/case/alfamart/pdf/brochure.pdf'}\n",
      "{'title': 'Retail Solution Alfamart', 'url': 'https://www.nec.com/en/case/alfamart/pdf/brochure.pdf', 'text': 'Alfamart. Retail Solution. Case Study. Customer. • PT Sumber Alfaria Trijaya Tbk\\n(Alfamart) http://corporate.alfamartku.com/lang/set/lang/ENG. Industry. • Retail.\\nChallenges ... Alfamart utilized general PC as POS to run the daily operation.\\nPerformance ... After paying at the cashier counter, customers will choose the\\nprizes.'}\n"
     ]
    },
    {
     "name": "stderr",
     "output_type": "stream",
     "text": [
      "2018-03-28 20:21:00,965 - magic_google - INFO: https://www.google.com.tj/search?hl=en&q=Savola+Group%2FPanda+Retail+Company+payment+options&btnG=Search&gbv=1&num=1\n"
     ]
    },
    {
     "name": "stdout",
     "output_type": "stream",
     "text": [
      "{'text': 'PANDA RETAIL COMPANY IN FOCUS. Panda is a grocery store chain known\\n'\n",
      "         'and loved by 134 million customers in Saudi Arabia, the UAE and '\n",
      "         'Egypt. With a\\n'\n",
      "         'history dating back to 1978, it is a leading player in the retail '\n",
      "         'sector. Panda Retail\\n'\n",
      "         \"Company is operated under Savola Retail: one of Savola's main \"\n",
      "         'entities.',\n",
      " 'title': 'Savola Group | Panda Retail Company',\n",
      " 'url': 'https://www.savola.com/en/investments/retail-investments/savola-retail/panda-retail-company'}\n",
      "{'title': 'Savola Group | Panda Retail Company', 'url': 'https://www.savola.com/en/investments/retail-investments/savola-retail/panda-retail-company', 'text': \"PANDA RETAIL COMPANY IN FOCUS. Panda is a grocery store chain known\\nand loved by 134 million customers in Saudi Arabia, the UAE and Egypt. With a\\nhistory dating back to 1978, it is a leading player in the retail sector. Panda Retail\\nCompany is operated under Savola Retail: one of Savola's main entities.\"}\n"
     ]
    },
    {
     "name": "stderr",
     "output_type": "stream",
     "text": [
      "2018-03-28 20:21:12,807 - magic_google - INFO: https://www.google.to/search?hl=en&q=Debenhams+payment+options&btnG=Search&gbv=1&num=1\n"
     ]
    },
    {
     "name": "stdout",
     "output_type": "stream",
     "text": [
      "{'text': 'Payment options & reward cards. Placing an order online · Online '\n",
      "         'Payment\\n'\n",
      "         'Options · Beauty Club Reward Card · Payment Charges · Payment issues '\n",
      "         '· Using\\n'\n",
      "         'promotional codes · In store e-Receipts · Payment security terms & '\n",
      "         'conditions ·\\n'\n",
      "         'Buying and using gift cards & vouchers. Instore services. Stock '\n",
      "         'checker · Click &\\n'\n",
      "         'Collect\\xa0...',\n",
      " 'title': 'Online Payment Options - Help - Debenhams',\n",
      " 'url': 'https://www.debenhams.com/wcsstore/DebenhamsUKSite/faq/payment_options_and_reward_cards/online_payment_options.html'}\n",
      "{'title': 'Online Payment Options - Help - Debenhams', 'url': 'https://www.debenhams.com/wcsstore/DebenhamsUKSite/faq/payment_options_and_reward_cards/online_payment_options.html', 'text': 'Payment options & reward cards. Placing an order online · Online Payment\\nOptions · Beauty Club Reward Card · Payment Charges · Payment issues · Using\\npromotional codes · In store e-Receipts · Payment security terms & conditions ·\\nBuying and using gift cards & vouchers. Instore services. Stock checker · Click &\\nCollect\\xa0...'}\n"
     ]
    },
    {
     "name": "stderr",
     "output_type": "stream",
     "text": [
      "2018-03-28 20:21:32,557 - magic_google - INFO: https://www.google.sr/search?hl=en&q=Sprouts+Farmers+Market+payment+options&btnG=Search&gbv=1&num=1\n"
     ]
    },
    {
     "name": "stdout",
     "output_type": "stream",
     "text": [
      "{'text': \"Frequently Asked Questions on Sprouts.com | If you don't see what \"\n",
      "         \"you're looking\\n\"\n",
      "         'for, reach out to us via our customer contact form.',\n",
      " 'title': 'Frequently Asked Questions | Sprouts.com - Sprouts Farmers Market',\n",
      " 'url': 'https://www.sprouts.com/faq/'}\n",
      "{'title': 'Frequently Asked Questions | Sprouts.com - Sprouts Farmers Market', 'url': 'https://www.sprouts.com/faq/', 'text': \"Frequently Asked Questions on Sprouts.com | If you don't see what you're looking\\nfor, reach out to us via our customer contact form.\"}\n"
     ]
    },
    {
     "name": "stderr",
     "output_type": "stream",
     "text": [
      "2018-03-28 20:21:46,373 - magic_google - INFO: https://www.google.com.my/search?hl=en&q=Overwaitea+Food+Group+payment+options&btnG=Search&gbv=1&num=1\n"
     ]
    },
    {
     "name": "stdout",
     "output_type": "stream",
     "text": [
      "{'text': 'In March 1915, the first Overwaitea Food Group (OFG) store opened on '\n",
      "         'Columbia\\n'\n",
      "         'Street in New Westminster, BC. Since then, OFG has grown to become '\n",
      "         \"Canada's\\n\"\n",
      "         'largest western-based food store chain. For more than a century, OFG '\n",
      "         'stays\\xa0...',\n",
      " 'title': 'Overwaitea Food Group',\n",
      " 'url': 'https://www.owfg.com/'}\n",
      "{'title': 'Overwaitea Food Group', 'url': 'https://www.owfg.com/', 'text': \"In March 1915, the first Overwaitea Food Group (OFG) store opened on Columbia\\nStreet in New Westminster, BC. Since then, OFG has grown to become Canada's\\nlargest western-based food store chain. For more than a century, OFG stays\\xa0...\"}\n"
     ]
    },
    {
     "name": "stderr",
     "output_type": "stream",
     "text": [
      "2018-03-28 20:21:59,009 - magic_google - INFO: https://www.google.com.ai/search?hl=en&q=Grandvision+N.V.+payment+options&btnG=Search&gbv=1&num=1\n"
     ]
    },
    {
     "name": "stdout",
     "output_type": "stream",
     "text": [
      "{'text': 'GrandVision is a global leader in optical retailing and delivers '\n",
      "         'high quality and\\n'\n",
      "         'affordable eye care to more and more people around the world.',\n",
      " 'title': 'GrandVision is a global leader in optical retailing',\n",
      " 'url': 'https://www.grandvision.com/'}\n",
      "{'title': 'GrandVision is a global leader in optical retailing', 'url': 'https://www.grandvision.com/', 'text': 'GrandVision is a global leader in optical retailing and delivers high quality and\\naffordable eye care to more and more people around the world.'}\n"
     ]
    },
    {
     "name": "stderr",
     "output_type": "stream",
     "text": [
      "2018-03-28 20:22:22,805 - magic_google - INFO: https://www.google.gg/search?hl=en&q=FamilyMart+payment+options&btnG=Search&gbv=1&num=1\n"
     ]
    },
    {
     "name": "stdout",
     "output_type": "stream",
     "text": [
      "{'text': 'It is the page of Payment method at FamilyMart.Skymark offers '\n",
      "         'comfortable air\\n'\n",
      "         'travel with affordable fares.',\n",
      " 'title': 'Payment method at FamilyMart | Making payments(Payment ...',\n",
      " 'url': 'http://www.skymark.co.jp/en/reservation/change/payment/conv/conv_fm.html'}\n",
      "{'title': 'Payment method at FamilyMart | Making payments(Payment ...', 'url': 'http://www.skymark.co.jp/en/reservation/change/payment/conv/conv_fm.html', 'text': 'It is the page of Payment method at FamilyMart.Skymark offers comfortable air\\ntravel with affordable fares.'}\n"
     ]
    },
    {
     "name": "stderr",
     "output_type": "stream",
     "text": [
      "2018-03-28 20:22:41,764 - magic_google - INFO: https://www.google.co.bw/search?hl=en&q=SMU+payment+options&btnG=Search&gbv=1&num=1\n"
     ]
    },
    {
     "name": "stdout",
     "output_type": "stream",
     "text": [
      "{'text': 'Undergraduate & Graduate Payment Options Icon. Dear Members of the '\n",
      "         'SMU\\n'\n",
      "         'Community: SMU is in the process of updating available payment plans '\n",
      "         'to better\\n'\n",
      "         'serve our students and families. More information will be '\n",
      "         'forthcoming. Please visit\\n'\n",
      "         'this website after May 1st for detailed payment plan information. '\n",
      "         'Thank you for\\xa0...',\n",
      " 'title': 'Payment Plan Options - Bursar - SMU',\n",
      " 'url': 'https://www.smu.edu/EnrollmentServices/Bursar/Payments/PaymentPlanOptions'}\n",
      "{'title': 'Payment Plan Options - Bursar - SMU', 'url': 'https://www.smu.edu/EnrollmentServices/Bursar/Payments/PaymentPlanOptions', 'text': 'Undergraduate & Graduate Payment Options Icon. Dear Members of the SMU\\nCommunity: SMU is in the process of updating available payment plans to better\\nserve our students and families. More information will be forthcoming. Please visit\\nthis website after May 1st for detailed payment plan information. Thank you for\\xa0...'}\n"
     ]
    },
    {
     "name": "stderr",
     "output_type": "stream",
     "text": [
      "2018-03-28 20:23:12,537 - magic_google - INFO: https://www.google.bj/search?hl=en&q=American+Eagle+Outfitters+payment+options&btnG=Search&gbv=1&num=1\n"
     ]
    },
    {
     "name": "stdout",
     "output_type": "stream",
     "text": [
      "{'text': \"Shop American Eagle Outfitters for men's and women's jeans, T's, \"\n",
      "         'shoes and\\n'\n",
      "         'more. All styles are available in additional sizes only at ae.com.',\n",
      " 'title': 'Payment Options - American Eagle',\n",
      " 'url': 'https://www.ae.com/content/help/payment-options'}\n",
      "{'title': 'Payment Options - American Eagle', 'url': 'https://www.ae.com/content/help/payment-options', 'text': \"Shop American Eagle Outfitters for men's and women's jeans, T's, shoes and\\nmore. All styles are available in additional sizes only at ae.com.\"}\n"
     ]
    },
    {
     "name": "stderr",
     "output_type": "stream",
     "text": [
      "2018-03-28 20:23:36,381 - magic_google - INFO: https://www.google.pn/search?hl=en&q=Abercrombie+%26+Fitch+payment+options&btnG=Search&gbv=1&num=1\n"
     ]
    },
    {
     "name": "stdout",
     "output_type": "stream",
     "text": [
      "{'text': 'Apply for the A&F Credit Card and get:\\n'\n",
      "         '... When you register, you get 24/7 access to manage your '\n",
      "         'Abercrombie & Fitch Credit Card Account online from any device, '\n",
      "         'including your computer, tablet or smartphone.\\n'\n",
      "         '... Comenity Bank issues your Abercrombie & Fitch Credit Card '\n",
      "         'account.',\n",
      " 'title': 'Abercrombie & Fitch Credit Card - Manage your account - Comenity',\n",
      " 'url': 'https://c.comenity.net/abercrombie/'}\n",
      "{'title': 'Abercrombie & Fitch Credit Card - Manage your account - Comenity', 'url': 'https://c.comenity.net/abercrombie/', 'text': 'Apply for the A&F Credit Card and get:\\n... When you register, you get 24/7 access to manage your Abercrombie & Fitch Credit Card Account online from any device, including your computer, tablet or smartphone.\\n... Comenity Bank issues your Abercrombie & Fitch Credit Card account.'}\n"
     ]
    },
    {
     "name": "stderr",
     "output_type": "stream",
     "text": [
      "2018-03-28 20:24:00,226 - magic_google - INFO: https://www.google.com.mt/search?hl=en&q=Norma+Lebensmittelfilialbetrieb+Stiftung+payment+options&btnG=Search&gbv=1&num=1\n"
     ]
    },
    {
     "name": "stdout",
     "output_type": "stream",
     "text": [
      "{'text': 'Norma Lebensmittelfilialbetrieb Stiftung & Co. KG company research & '\n",
      "         'investing\\n'\n",
      "         'information. Find executives and the latest company news.',\n",
      " 'title': 'Norma Lebensmittelfilialbetrieb Stiftung & Co. KG: Private Company '\n",
      "          '...',\n",
      " 'url': 'https://www.bloomberg.com/research/stocks/private/snapshot.asp?privcapId=261229508'}\n",
      "{'title': 'Norma Lebensmittelfilialbetrieb Stiftung & Co. KG: Private Company ...', 'url': 'https://www.bloomberg.com/research/stocks/private/snapshot.asp?privcapId=261229508', 'text': 'Norma Lebensmittelfilialbetrieb Stiftung & Co. KG company research & investing\\ninformation. Find executives and the latest company news.'}\n"
     ]
    },
    {
     "name": "stderr",
     "output_type": "stream",
     "text": [
      "2018-03-28 20:24:23,865 - magic_google - INFO: https://www.google.vu/search?hl=en&q=DCM+payment+options&btnG=Search&gbv=1&num=1\n"
     ]
    },
    {
     "name": "stdout",
     "output_type": "stream",
     "text": [
      "{'text': 'Data and Contact Management Solutions At DCM Services (DCMS), '\n",
      "         'creating\\n'\n",
      "         'technology driven specialty account receivable solutions is our core '\n",
      "         'focus. Our\\n'\n",
      "         'unique tradition of innovation provides brand protection and '\n",
      "         'superior results that\\n'\n",
      "         'our clients have come to expect. Learn More.',\n",
      " 'title': 'DCM Services',\n",
      " 'url': 'https://www.dcmservices.com/'}\n",
      "{'title': 'DCM Services', 'url': 'https://www.dcmservices.com/', 'text': 'Data and Contact Management Solutions At DCM Services (DCMS), creating\\ntechnology driven specialty account receivable solutions is our core focus. Our\\nunique tradition of innovation provides brand protection and superior results that\\nour clients have come to expect. Learn More.'}\n"
     ]
    }
   ],
   "source": [
    "import os\n",
    "import sys\n",
    "import time\n",
    "import random\n",
    "import pprint\n",
    "\n",
    "\n",
    "from MagicGoogle import MagicGoogle\n",
    "\n",
    "# Or PROXIES = None\n",
    "PROXIES = None\n",
    "\n",
    "# Or MagicGoogle()\n",
    "mg = MagicGoogle(PROXIES)\n",
    "\n",
    "# file\n",
    "fname = \"restlist.csv\"\n",
    "with open(fname) as f:\n",
    "    content = f.readlines()\n",
    "# you may also want to remove whitespace characters like `\\n` at the end of each line\n",
    "content = [x.strip() for x in content] \n",
    "for line in content:\n",
    "    for i in mg.search(query=line+' payment options', num=1, language='en'):\n",
    "        pprint.pprint(i)\n",
    "        print(i)\n",
    "    time.sleep(random.randint(5, 30))\n",
    "#  info\n",
    "# for i in mg.search(query='costco payment options', num=1, language='en'):\n",
    "#     time.sleep(random.randint(1, 5))\n",
    "#     pprint.pprint(i)\n",
    "\n",
    "\n",
    "\n"
   ]
  },
  {
   "cell_type": "code",
   "execution_count": null,
   "metadata": {},
   "outputs": [],
   "source": [
    "time.sleep(random.randint(5, 30))\n",
    "print(a)"
   ]
  },
  {
   "cell_type": "code",
   "execution_count": 1,
   "metadata": {},
   "outputs": [],
   "source": [
    "import subprocess"
   ]
  },
  {
   "cell_type": "code",
   "execution_count": 21,
   "metadata": {},
   "outputs": [],
   "source": [
    "proc1 = subprocess.Popen(\"top > log.txt\", shell=True, preexec_fn=os.setsid)"
   ]
  },
  {
   "cell_type": "code",
   "execution_count": 22,
   "metadata": {},
   "outputs": [
    {
     "name": "stdout",
     "output_type": "stream",
     "text": [
      "proc1 =  11139\n"
     ]
    }
   ],
   "source": [
    "print 'proc1 = ', proc1.pid"
   ]
  },
  {
   "cell_type": "code",
   "execution_count": 23,
   "metadata": {},
   "outputs": [],
   "source": [
    "import os\n",
    "import signal"
   ]
  },
  {
   "cell_type": "code",
   "execution_count": 24,
   "metadata": {},
   "outputs": [],
   "source": [
    "os.killpg(os.getpgid(proc1.pid), signal.SIGTERM)"
   ]
  },
  {
   "cell_type": "code",
   "execution_count": null,
   "metadata": {},
   "outputs": [],
   "source": []
  }
 ],
 "metadata": {
  "kernelspec": {
   "display_name": "Python 2",
   "language": "python",
   "name": "python2"
  },
  "language_info": {
   "codemirror_mode": {
    "name": "ipython",
    "version": 2
   },
   "file_extension": ".py",
   "mimetype": "text/x-python",
   "name": "python",
   "nbconvert_exporter": "python",
   "pygments_lexer": "ipython2",
   "version": "2.7.14"
  }
 },
 "nbformat": 4,
 "nbformat_minor": 2
}
