{
 "cells": [
  {
   "cell_type": "code",
   "execution_count": 1,
   "metadata": {},
   "outputs": [],
   "source": [
    "import tensorflow as tf\n",
    "import pandas as pd\n",
    "import numpy as np"
   ]
  },
  {
   "cell_type": "code",
   "execution_count": 2,
   "metadata": {},
   "outputs": [],
   "source": [
    "tf.keras.backend.set_learning_phase(0)"
   ]
  },
  {
   "cell_type": "code",
   "execution_count": 3,
   "metadata": {},
   "outputs": [
    {
     "name": "stderr",
     "output_type": "stream",
     "text": [
      "/Users/fatu/venv/tensorflowpy36/lib/python3.6/site-packages/tensorflow/python/ops/gradients_impl.py:112: UserWarning: Converting sparse IndexedSlices to a dense Tensor of unknown shape. This may consume a large amount of memory.\n",
      "  \"Converting sparse IndexedSlices to a dense Tensor of unknown shape. \"\n"
     ]
    }
   ],
   "source": [
    "model_v1 = tf.keras.models.load_model('./eg_ep10.h5')"
   ]
  },
  {
   "cell_type": "code",
   "execution_count": 4,
   "metadata": {},
   "outputs": [
    {
     "name": "stdout",
     "output_type": "stream",
     "text": [
      "{'name': 'sequential', 'layers': [{'class_name': 'Embedding', 'config': {'name': 'embedding_1', 'trainable': True, 'batch_input_shape': (None, 100), 'dtype': 'float32', 'input_dim': 431, 'output_dim': 32, 'embeddings_initializer': {'class_name': 'RandomUniform', 'config': {'minval': 0, 'maxval': None, 'seed': None, 'dtype': 'float32'}}, 'embeddings_regularizer': None, 'activity_regularizer': None, 'embeddings_constraint': None, 'mask_zero': False, 'input_length': 100}}, {'class_name': 'Conv1D', 'config': {'name': 'conv1d_1', 'trainable': True, 'batch_input_shape': (None, 100, 32), 'dtype': 'float32', 'filters': 64, 'kernel_size': (3,), 'strides': (1,), 'padding': 'valid', 'data_format': 'channels_last', 'dilation_rate': (1,), 'activation': 'relu', 'use_bias': True, 'kernel_initializer': {'class_name': 'VarianceScaling', 'config': {'scale': 1.0, 'mode': 'fan_avg', 'distribution': 'uniform', 'seed': None, 'dtype': 'float32'}}, 'bias_initializer': {'class_name': 'Zeros', 'config': {'dtype': 'float32'}}, 'kernel_regularizer': None, 'bias_regularizer': None, 'activity_regularizer': None, 'kernel_constraint': None, 'bias_constraint': None}}, {'class_name': 'LSTM', 'config': {'name': 'lstm_1', 'trainable': True, 'dtype': 'float32', 'return_sequences': False, 'return_state': False, 'go_backwards': False, 'stateful': False, 'unroll': False, 'units': 128, 'activation': 'tanh', 'recurrent_activation': 'hard_sigmoid', 'use_bias': True, 'kernel_initializer': {'class_name': 'VarianceScaling', 'config': {'scale': 1.0, 'mode': 'fan_avg', 'distribution': 'uniform', 'seed': None, 'dtype': 'float32'}}, 'recurrent_initializer': {'class_name': 'Orthogonal', 'config': {'gain': 1.0, 'seed': None, 'dtype': 'float32'}}, 'bias_initializer': {'class_name': 'Zeros', 'config': {'dtype': 'float32'}}, 'unit_forget_bias': True, 'kernel_regularizer': None, 'recurrent_regularizer': None, 'bias_regularizer': None, 'activity_regularizer': None, 'kernel_constraint': None, 'recurrent_constraint': None, 'bias_constraint': None, 'dropout': 0.0, 'recurrent_dropout': 0.0, 'implementation': 1}}, {'class_name': 'Dense', 'config': {'name': 'dense_1', 'trainable': True, 'dtype': 'float32', 'units': 40, 'activation': 'relu', 'use_bias': True, 'kernel_initializer': {'class_name': 'VarianceScaling', 'config': {'scale': 1.0, 'mode': 'fan_avg', 'distribution': 'uniform', 'seed': None, 'dtype': 'float32'}}, 'bias_initializer': {'class_name': 'Zeros', 'config': {'dtype': 'float32'}}, 'kernel_regularizer': None, 'bias_regularizer': None, 'activity_regularizer': None, 'kernel_constraint': None, 'bias_constraint': None}}, {'class_name': 'Dense', 'config': {'name': 'dense_2', 'trainable': True, 'dtype': 'float32', 'units': 1, 'activation': 'sigmoid', 'use_bias': True, 'kernel_initializer': {'class_name': 'VarianceScaling', 'config': {'scale': 1.0, 'mode': 'fan_avg', 'distribution': 'uniform', 'seed': None, 'dtype': 'float32'}}, 'bias_initializer': {'class_name': 'Zeros', 'config': {'dtype': 'float32'}}, 'kernel_regularizer': None, 'bias_regularizer': None, 'activity_regularizer': None, 'kernel_constraint': None, 'bias_constraint': None}}]}\n"
     ]
    }
   ],
   "source": [
    "print(model_v1.get_config())"
   ]
  },
  {
   "cell_type": "code",
   "execution_count": 5,
   "metadata": {},
   "outputs": [
    {
     "name": "stdout",
     "output_type": "stream",
     "text": [
      "[array([[ 1.0021752 ,  0.26204398,  0.31785712, ...,  0.23875196,\n",
      "         0.3913663 ,  0.3587429 ],\n",
      "       [ 0.81531745,  0.2572122 ,  0.54582524, ...,  0.49821588,\n",
      "         0.6872999 ,  0.30481407],\n",
      "       [ 0.59198606,  0.42191884, -0.09812167, ...,  0.29949376,\n",
      "         0.29123694,  0.65364844],\n",
      "       ...,\n",
      "       [ 0.32096216,  0.32550454,  0.0472488 , ...,  0.6816348 ,\n",
      "         0.39748153, -0.00397035],\n",
      "       [ 0.40711677,  0.86350214,  0.41283154, ...,  0.89059377,\n",
      "         0.20293581,  0.49655426],\n",
      "       [ 0.98318285,  1.0639186 ,  1.3765662 , ...,  0.63009465,\n",
      "         0.7101511 , -0.2548745 ]], dtype=float32), array([[[ 0.08757229, -0.09728882,  0.08866032, ...,  0.12907915,\n",
      "         -0.2673875 ,  0.00167561],\n",
      "        [-0.08651137,  0.00868798, -0.07626797, ..., -0.28211036,\n",
      "          0.08819439, -0.01394905],\n",
      "        [ 0.08739914,  0.07263602, -0.12780094, ...,  0.12506469,\n",
      "         -0.32316664,  0.17936715],\n",
      "        ...,\n",
      "        [-0.04977933,  0.03450754, -0.06413529, ..., -0.02467312,\n",
      "         -0.04247774,  0.0665236 ],\n",
      "        [-0.04896386,  0.00374137, -0.017807  , ..., -0.06442048,\n",
      "         -0.04655365, -0.15032345],\n",
      "        [ 0.08391671,  0.03731019,  0.12396172, ..., -0.1059716 ,\n",
      "          0.11469409,  0.12946513]],\n",
      "\n",
      "       [[-0.0935244 , -0.2141173 ,  0.00409643, ..., -0.03585385,\n",
      "          0.07737036, -0.04655663],\n",
      "        [-0.04876105,  0.16264449,  0.17077762, ..., -0.13697708,\n",
      "          0.10370322, -0.04823017],\n",
      "        [-0.19313107,  0.11272293,  0.08364524, ...,  0.14392155,\n",
      "         -0.10929228, -0.20678627],\n",
      "        ...,\n",
      "        [-0.06570318, -0.07113127,  0.08369581, ..., -0.01690626,\n",
      "         -0.01195246,  0.05900054],\n",
      "        [ 0.06764838, -0.0071264 ,  0.06356014, ..., -0.04041942,\n",
      "         -0.05957749,  0.18172541],\n",
      "        [ 0.00850126, -0.15562177, -0.00869755, ...,  0.02785266,\n",
      "         -0.04722078, -0.11352748]],\n",
      "\n",
      "       [[-0.11765346, -0.00099441,  0.01262159, ...,  0.01036067,\n",
      "          0.10300536, -0.166513  ],\n",
      "        [-0.07593145, -0.11779395, -0.01426349, ..., -0.01065681,\n",
      "         -0.38292846,  0.05795372],\n",
      "        [ 0.04424798, -0.05403256, -0.05709819, ..., -0.11138384,\n",
      "          0.31734163, -0.2223608 ],\n",
      "        ...,\n",
      "        [ 0.13925387,  0.0989933 , -0.14546932, ..., -0.05578051,\n",
      "          0.00146349, -0.28331473],\n",
      "        [-0.09378527,  0.11183552, -0.0864039 , ..., -0.10312133,\n",
      "         -0.1950751 ,  0.08156215],\n",
      "        [-0.18513772, -0.12495884,  0.1789388 , ..., -0.10209838,\n",
      "          0.1789539 , -0.12108673]]], dtype=float32), array([-0.02093734, -0.00815885,  0.01469407,  0.01699949,  0.0023355 ,\n",
      "        0.0083439 , -0.00828818, -0.00671715,  0.01556762, -0.00725426,\n",
      "       -0.00198225,  0.00911097, -0.00853074, -0.01028186, -0.00933939,\n",
      "       -0.01639604,  0.00130343, -0.02523043, -0.00690077, -0.01442482,\n",
      "       -0.00142138,  0.00674819,  0.04828652,  0.04434149, -0.00971265,\n",
      "        0.02567765,  0.00196684,  0.00855987,  0.00629383,  0.0032482 ,\n",
      "       -0.00054979,  0.00172956, -0.00049942, -0.00551856, -0.00181713,\n",
      "       -0.00489928, -0.00410386,  0.00920972,  0.00020283, -0.00749094,\n",
      "       -0.00989732, -0.02093072,  0.02447497, -0.0026657 , -0.01294425,\n",
      "       -0.01288809,  0.00699488, -0.01584402,  0.03624119,  0.00463068,\n",
      "        0.00908705, -0.00724973, -0.00660162, -0.00715341, -0.02558175,\n",
      "       -0.00853561,  0.02104017, -0.00675904,  0.00940249, -0.01535485,\n",
      "       -0.00766817,  0.00808857,  0.01504282, -0.01284595], dtype=float32), array([[-0.0610343 ,  0.03993102,  0.05344909, ...,  0.05675896,\n",
      "        -0.0412855 ,  0.02222419],\n",
      "       [ 0.09947366,  0.00381389,  0.08021101, ..., -0.13100122,\n",
      "        -0.14818889,  0.08082182],\n",
      "       [ 0.11112343,  0.04118504, -0.0774208 , ..., -0.13272718,\n",
      "        -0.03984799, -0.09654701],\n",
      "       ...,\n",
      "       [ 0.04032183,  0.08849256, -0.07211703, ..., -0.11555226,\n",
      "         0.12029473, -0.11306246],\n",
      "       [-0.06840488,  0.09037904, -0.04635826, ..., -0.06108367,\n",
      "         0.13235116,  0.01880512],\n",
      "       [-0.05339119,  0.02561002, -0.01247342, ..., -0.19844349,\n",
      "         0.18650447, -0.12874055]], dtype=float32), array([[-0.02004044, -0.04783317,  0.13890038, ...,  0.07456084,\n",
      "         0.08906142,  0.07650388],\n",
      "       [-0.00247999,  0.0769458 ,  0.06152284, ..., -0.01243899,\n",
      "         0.08755208, -0.04878663],\n",
      "       [-0.02428379,  0.01336705, -0.05981005, ...,  0.01885658,\n",
      "         0.00802652, -0.07392356],\n",
      "       ...,\n",
      "       [-0.042712  , -0.0591653 , -0.03768723, ..., -0.03840913,\n",
      "        -0.00548091, -0.09514885],\n",
      "       [ 0.00560791,  0.04764712, -0.07403584, ..., -0.05598576,\n",
      "        -0.05161785,  0.06344282],\n",
      "       [-0.02296693,  0.04575251,  0.01160084, ..., -0.01284127,\n",
      "        -0.07874421, -0.03387573]], dtype=float32), array([ 1.46403639e-02,  1.06037175e-02, -4.41118404e-02,  2.03888267e-02,\n",
      "       -2.59853471e-02,  1.39632057e-02,  3.88301611e-02, -1.92710999e-02,\n",
      "       -2.05896124e-02, -2.50412840e-02, -7.05055846e-03, -1.64471101e-02,\n",
      "        1.19313113e-02, -2.51201987e-02, -1.54358909e-01, -4.96036448e-02,\n",
      "        1.32104428e-02,  1.53180705e-02, -1.46254441e-02,  6.84814341e-03,\n",
      "        4.03457601e-03,  3.17433551e-02, -3.55801545e-02, -1.32601243e-02,\n",
      "        1.04140146e-02,  1.57086775e-02, -7.64118275e-03,  1.81986659e-03,\n",
      "       -5.47255501e-02,  1.94500685e-02,  1.66800153e-02, -7.57129788e-02,\n",
      "       -5.93944378e-02, -1.42250694e-02,  2.51136217e-02, -2.34882906e-03,\n",
      "        6.40267367e-03,  1.08804014e-02,  2.38735769e-02, -8.10696185e-02,\n",
      "       -2.40308307e-02, -2.23257151e-02, -3.38598676e-02, -3.11094336e-02,\n",
      "       -2.16700602e-02,  1.76959559e-02,  2.53258795e-02, -7.92189874e-03,\n",
      "        3.11474781e-02, -4.49374039e-03,  2.13501193e-02, -2.21924391e-02,\n",
      "       -3.42824645e-02, -3.47152650e-02, -3.49277854e-02,  4.32741269e-03,\n",
      "       -4.00957875e-02,  4.20170948e-02, -3.28856148e-03,  1.05735324e-02,\n",
      "        3.44491675e-02,  2.25332100e-03,  1.07677625e-02, -4.81381081e-02,\n",
      "       -1.30507005e-02, -4.42331657e-02, -1.88690368e-02,  3.34129557e-02,\n",
      "        7.59328855e-03,  2.44164187e-02, -5.57229407e-02, -2.45357510e-02,\n",
      "       -9.91382450e-02,  2.51829438e-02, -9.24771950e-02,  1.72728878e-02,\n",
      "        1.13258436e-02, -1.77967884e-02, -1.81942713e-02,  1.60169695e-02,\n",
      "       -4.29963432e-02, -4.66663428e-02, -4.88160625e-02, -2.16296781e-02,\n",
      "       -2.37857196e-02, -3.07299905e-02,  3.47180292e-02,  1.73547491e-02,\n",
      "        1.22009451e-02, -8.80199224e-02,  2.02932358e-02, -8.58500898e-02,\n",
      "        3.63579281e-02, -9.42804944e-03, -4.51827887e-04, -4.03377227e-02,\n",
      "        2.66128033e-03,  1.06838653e-02,  3.22963372e-02, -2.20786203e-02,\n",
      "        1.67590156e-02, -3.52667586e-04, -1.23086236e-02,  2.15612222e-02,\n",
      "        3.74334045e-02, -9.10533145e-02, -1.27757275e-02,  2.92757656e-02,\n",
      "       -1.30400443e-02,  4.76225046e-03,  4.09609918e-03,  2.97674779e-02,\n",
      "        8.70152470e-03, -2.79885028e-02, -5.95342778e-02, -2.59103589e-02,\n",
      "       -6.78027747e-03, -2.08623372e-02, -4.74392213e-02, -8.02196935e-02,\n",
      "        2.01656967e-02,  7.71790557e-03,  7.52307195e-03, -8.47711880e-03,\n",
      "        2.11822055e-02,  2.13537421e-02, -2.65241936e-02, -2.27719303e-02,\n",
      "        1.02082598e+00,  1.04848444e+00,  9.86935377e-01,  1.02612233e+00,\n",
      "        1.02118576e+00,  1.02468801e+00,  1.05122221e+00,  9.82117355e-01,\n",
      "        9.90684748e-01,  1.03443360e+00,  1.02463424e+00,  1.01845372e+00,\n",
      "        1.01093459e+00,  9.95670736e-01,  1.06581509e+00,  9.09035861e-01,\n",
      "        1.02376735e+00,  1.01342392e+00,  1.03265762e+00,  1.02905726e+00,\n",
      "        9.99274492e-01,  1.08742547e+00,  1.06504929e+00,  9.85133410e-01,\n",
      "        1.00536335e+00,  1.02383971e+00,  1.00491416e+00,  1.00911021e+00,\n",
      "        1.03324413e+00,  1.01525283e+00,  1.03232849e+00,  1.08431602e+00,\n",
      "        1.03411770e+00,  1.00576317e+00,  1.02120554e+00,  9.78559554e-01,\n",
      "        1.00646698e+00,  1.04290259e+00,  1.03143239e+00,  9.54409361e-01,\n",
      "        9.83260393e-01,  9.85280216e-01,  9.72481012e-01,  1.03433383e+00,\n",
      "        9.85515475e-01,  1.02864039e+00,  1.01567805e+00,  1.03025699e+00,\n",
      "        1.03376567e+00,  1.05111468e+00,  1.02197897e+00,  9.82738972e-01,\n",
      "        1.00787616e+00,  1.08053577e+00,  1.03639305e+00,  1.00121665e+00,\n",
      "        9.91736948e-01,  1.02843988e+00,  9.38345611e-01,  1.06530488e+00,\n",
      "        1.02539539e+00,  1.01213634e+00,  1.05241251e+00,  9.75493610e-01,\n",
      "        1.00529873e+00,  1.01379788e+00,  1.00339806e+00,  1.01621652e+00,\n",
      "        1.03250003e+00,  1.02019703e+00,  9.70072567e-01,  9.72224176e-01,\n",
      "        1.01367700e+00,  1.01873124e+00,  1.03601098e+00,  1.02163482e+00,\n",
      "        1.02526069e+00,  9.83325005e-01,  9.04418707e-01,  1.01670361e+00,\n",
      "        9.53127265e-01,  1.06811059e+00,  9.43793833e-01,  9.94057417e-01,\n",
      "        1.00428534e+00,  1.03655934e+00,  9.82103169e-01,  1.09356046e+00,\n",
      "        1.01749742e+00,  1.06602669e+00,  1.01549149e+00,  1.05460632e+00,\n",
      "        1.01283085e+00,  9.91938591e-01,  1.09327281e+00,  9.86460745e-01,\n",
      "        9.94356751e-01,  1.04283547e+00,  1.01805854e+00,  9.79339480e-01,\n",
      "        1.01632524e+00,  1.05131030e+00,  9.87927020e-01,  1.05087042e+00,\n",
      "        1.01728141e+00,  1.01858735e+00,  1.02962196e+00,  1.01609325e+00,\n",
      "        9.95864332e-01,  1.01104605e+00,  1.01816130e+00,  1.01307511e+00,\n",
      "        1.03006458e+00,  1.00003207e+00,  9.49412763e-01,  9.67969775e-01,\n",
      "        1.02145398e+00,  1.02488840e+00,  1.01879895e+00,  9.36570227e-01,\n",
      "        1.01002073e+00,  1.01682317e+00,  1.03479278e+00,  9.81557965e-01,\n",
      "        1.03406084e+00,  1.02046657e+00,  1.00833404e+00,  9.89326239e-01,\n",
      "       -1.23868920e-02, -6.94637245e-04, -1.11063533e-02,  1.51357315e-02,\n",
      "       -1.71918068e-02, -1.41822184e-02,  4.29215431e-02,  8.58001132e-03,\n",
      "        1.81967241e-03, -9.96775925e-03,  2.01746095e-02,  2.10365653e-02,\n",
      "        1.11911660e-02, -8.16925988e-03,  1.61466319e-02, -2.23168056e-04,\n",
      "       -1.95627362e-02, -1.44444760e-02,  3.32848504e-02,  4.69472678e-03,\n",
      "        1.18845527e-03, -2.68931892e-02, -1.55600868e-02, -3.63531010e-03,\n",
      "       -1.75593942e-02, -1.37387989e-02, -1.41775059e-02, -2.40835194e-02,\n",
      "        1.20886294e-02,  1.67233404e-02,  1.50567610e-02,  1.67275853e-02,\n",
      "       -1.23208761e-02, -1.95053648e-02, -1.66420322e-02, -1.17038367e-02,\n",
      "       -1.43134799e-02,  2.59826817e-02,  1.58839580e-02, -1.69060621e-02,\n",
      "        8.39257520e-03,  1.54825067e-03, -3.52940522e-03,  9.75254830e-03,\n",
      "        1.32894022e-02,  1.33438306e-02,  1.65719893e-02, -1.72199048e-02,\n",
      "       -1.75103601e-02, -2.31120232e-02, -1.63994711e-02, -1.00986939e-02,\n",
      "        2.21745167e-02, -3.07121947e-02, -1.93923377e-02, -1.53981186e-02,\n",
      "        1.11026866e-02,  2.01954301e-02,  1.86826102e-02,  5.02522010e-03,\n",
      "       -2.22361777e-02, -1.97662301e-02,  7.36650359e-03,  1.52467052e-02,\n",
      "       -8.22033919e-03,  1.73340254e-02,  1.52309621e-02, -1.87263992e-02,\n",
      "        5.51388152e-02,  1.51112834e-02,  5.30785695e-03, -9.66842566e-03,\n",
      "       -7.29882997e-03, -1.67143848e-02,  6.04220200e-03,  1.86640918e-02,\n",
      "        1.51982512e-02,  1.06692696e-02, -8.50979798e-03,  1.23913586e-02,\n",
      "        5.34894003e-04, -5.52015938e-03, -7.38847582e-03, -6.42793672e-03,\n",
      "       -1.47239882e-02, -1.68818347e-02, -5.92715107e-04,  1.10228527e-02,\n",
      "       -1.16915610e-02, -1.10409306e-02,  1.58346109e-02,  1.09254115e-03,\n",
      "       -1.71975922e-02,  1.39086600e-03, -1.75374243e-02,  9.30549763e-03,\n",
      "       -1.66419172e-03,  5.25275106e-03, -1.77215934e-02,  1.00344261e-02,\n",
      "        1.30077386e-02, -1.39191393e-02, -2.27306783e-03,  1.55690275e-02,\n",
      "       -2.07489710e-02, -6.43124012e-03,  1.94949452e-02,  1.58634614e-02,\n",
      "        5.33958618e-03, -1.65522248e-02, -1.46340029e-02, -1.01207523e-02,\n",
      "       -1.70685370e-02,  1.28391385e-02,  1.54316472e-03, -4.59867436e-03,\n",
      "        2.46343086e-03,  6.84486516e-03,  1.46584334e-02, -1.94952113e-03,\n",
      "       -1.74396168e-02, -8.91049951e-03,  5.35281375e-04, -9.44660045e-03,\n",
      "       -2.35929526e-02,  1.34266233e-02, -8.84108618e-03, -1.18876137e-02,\n",
      "        6.52068900e-03, -5.75652681e-02, -1.71755366e-02,  1.64037186e-03,\n",
      "        1.71799269e-02, -8.73979926e-03, -2.53614318e-02, -5.05552106e-02,\n",
      "       -2.79830694e-02, -3.46291922e-02, -2.26182695e-02, -9.92078101e-04,\n",
      "       -3.65575664e-02, -1.77360307e-02,  3.73124667e-02, -5.13960049e-02,\n",
      "       -1.93329826e-02, -3.60780098e-02, -7.73429424e-02, -6.49700016e-02,\n",
      "       -7.02935681e-02,  3.27497115e-03,  6.43033087e-02, -1.63511168e-02,\n",
      "       -4.79156822e-02,  7.54428655e-03, -2.41203010e-02, -2.06865147e-02,\n",
      "       -5.47184935e-03, -1.79305244e-02,  3.57011217e-03,  7.24551976e-02,\n",
      "        2.38380488e-02, -1.89036019e-02,  1.10577382e-02, -1.50707969e-02,\n",
      "       -3.18944417e-02, -1.11570274e-02, -8.71167704e-03, -2.50005517e-02,\n",
      "       -1.46474717e-02, -3.02135423e-02, -2.92969178e-02,  7.32969418e-02,\n",
      "       -2.37142313e-02, -1.50454501e-02, -1.33413710e-02, -2.07233033e-03,\n",
      "       -2.60127559e-02, -4.40921198e-04, -2.19931267e-03, -2.77409684e-02,\n",
      "       -4.47992533e-02, -1.39370263e-02, -1.16454372e-02, -4.74261753e-02,\n",
      "       -1.30983945e-02, -3.79416570e-02,  8.20557587e-03, -8.11186358e-02,\n",
      "       -6.37778640e-02, -4.92481403e-02, -7.92049468e-02, -4.91730906e-02,\n",
      "        1.95546560e-02, -1.60199609e-02, -3.67496349e-02, -1.96342207e-02,\n",
      "       -4.94324937e-02,  5.61243854e-03, -3.82435098e-02, -5.38485795e-02,\n",
      "        2.44165231e-02, -3.00223455e-02,  3.59206162e-02, -1.37106748e-02,\n",
      "       -1.58606488e-02, -3.45226191e-02, -6.46746205e-03, -3.06927469e-02,\n",
      "       -7.35763609e-02, -7.41713718e-02, -6.10454455e-02, -2.43484285e-02,\n",
      "       -4.55472022e-02, -2.32450850e-02, -5.42582199e-02, -3.68708596e-02,\n",
      "       -3.20418999e-02,  7.65376166e-03, -3.36329546e-03, -2.22109668e-02,\n",
      "       -3.06510907e-02, -4.13189083e-02, -1.06023841e-01,  1.34803168e-02,\n",
      "       -5.76526634e-02, -3.53547744e-02, -1.89981926e-02, -3.06233596e-02,\n",
      "        3.52104823e-03, -3.53971459e-02,  5.98319573e-03, -3.52036543e-02,\n",
      "       -1.02353441e-02,  4.77944873e-02, -1.22690108e-02,  3.38539743e-04,\n",
      "       -5.88140711e-02, -5.10452166e-02, -3.13699841e-02, -5.31732254e-02,\n",
      "       -5.45199681e-03, -3.32204700e-02, -3.41254734e-02, -3.50612700e-02,\n",
      "       -7.35550225e-02, -2.89485324e-02, -1.01944907e-02, -4.33131829e-02,\n",
      "       -1.09600713e-02, -1.86746791e-02, -5.67596629e-02, -1.95820183e-02,\n",
      "        1.16131408e-02, -4.63524833e-02, -4.01500762e-02, -5.32284565e-02],\n",
      "      dtype=float32), array([[ 0.16127363,  0.02274842,  0.23461874, ..., -0.04355689,\n",
      "         0.08340492,  0.15612495],\n",
      "       [ 0.14328156,  0.08384168,  0.05726008, ..., -0.0487106 ,\n",
      "         0.09654921, -0.12769078],\n",
      "       [ 0.14622039, -0.19510262,  0.00424534, ...,  0.09468005,\n",
      "        -0.15494303, -0.13295281],\n",
      "       ...,\n",
      "       [ 0.06626891, -0.0855324 , -0.12702377, ..., -0.06772356,\n",
      "        -0.15151456, -0.06437322],\n",
      "       [ 0.01229286, -0.00931356, -0.14058317, ...,  0.00955582,\n",
      "         0.01893804, -0.13142847],\n",
      "       [-0.05280033,  0.04637066,  0.19386749, ...,  0.05542645,\n",
      "         0.0991256 ,  0.09789965]], dtype=float32), array([-0.00164945, -0.00714969, -0.0533732 , -0.01413912,  0.03076622,\n",
      "       -0.02444041, -0.00854551,  0.04508245,  0.03803072, -0.03037126,\n",
      "       -0.01032976, -0.01460147,  0.03516807,  0.00099024, -0.03178476,\n",
      "        0.03050922, -0.01565845,  0.02770605, -0.01475574,  0.03159349,\n",
      "        0.02802859,  0.03687485,  0.04017885,  0.02164103,  0.03270933,\n",
      "       -0.01222585,  0.03442265, -0.00369823, -0.04716922,  0.02816731,\n",
      "        0.05817509, -0.01059987, -0.01111982,  0.03594005, -0.05423101,\n",
      "        0.01247149, -0.03000452, -0.06825421, -0.01686886, -0.02426878],\n",
      "      dtype=float32), array([[ 0.34362966],\n",
      "       [ 0.32111645],\n",
      "       [-0.0127525 ],\n",
      "       [ 0.27988192],\n",
      "       [-0.19025818],\n",
      "       [ 0.07114024],\n",
      "       [ 0.11991282],\n",
      "       [-0.21265039],\n",
      "       [-0.20662817],\n",
      "       [ 0.07988396],\n",
      "       [ 0.25209388],\n",
      "       [ 0.20756873],\n",
      "       [-0.38477686],\n",
      "       [ 0.22704461],\n",
      "       [-0.11060554],\n",
      "       [-0.2223857 ],\n",
      "       [ 0.14528921],\n",
      "       [-0.10260195],\n",
      "       [ 0.31824702],\n",
      "       [-0.39494184],\n",
      "       [-0.10380244],\n",
      "       [-0.3459467 ],\n",
      "       [-0.17371641],\n",
      "       [ 0.2232583 ],\n",
      "       [-0.14383133],\n",
      "       [ 0.3261762 ],\n",
      "       [-0.3292453 ],\n",
      "       [-0.16341792],\n",
      "       [-0.15599388],\n",
      "       [-0.10067812],\n",
      "       [-0.3260527 ],\n",
      "       [ 0.13602099],\n",
      "       [ 0.36343682],\n",
      "       [-0.3472822 ],\n",
      "       [ 0.0770756 ],\n",
      "       [-0.23359635],\n",
      "       [-0.24173227],\n",
      "       [-0.27783695],\n",
      "       [ 0.223038  ],\n",
      "       [ 0.32342458]], dtype=float32), array([-0.03003068], dtype=float32)]\n"
     ]
    }
   ],
   "source": [
    "print(model_v1.get_weights())"
   ]
  },
  {
   "cell_type": "code",
   "execution_count": 4,
   "metadata": {},
   "outputs": [
    {
     "name": "stdout",
     "output_type": "stream",
     "text": [
      "[<tf.Tensor 'dense_2/Sigmoid:0' shape=(?, 1) dtype=float32>]\n"
     ]
    }
   ],
   "source": [
    "print (model_v1.outputs)"
   ]
  },
  {
   "cell_type": "code",
   "execution_count": 5,
   "metadata": {},
   "outputs": [
    {
     "ename": "AttributeError",
     "evalue": "module 'tensorflow' has no attribute 'py'",
     "output_type": "error",
     "traceback": [
      "\u001b[0;31m---------------------------------------------------------------------------\u001b[0m",
      "\u001b[0;31mAttributeError\u001b[0m                            Traceback (most recent call last)",
      "\u001b[0;32m<ipython-input-5-af1af401dd88>\u001b[0m in \u001b[0;36m<module>\u001b[0;34m()\u001b[0m\n\u001b[0;32m----> 1\u001b[0;31m \u001b[0mtf\u001b[0m\u001b[0;34m.\u001b[0m\u001b[0mpy\u001b[0m\u001b[0;34m\u001b[0m\u001b[0m\n\u001b[0m",
      "\u001b[0;31mAttributeError\u001b[0m: module 'tensorflow' has no attribute 'py'"
     ]
    }
   ],
   "source": [
    "tf.py"
   ]
  },
  {
   "cell_type": "code",
   "execution_count": 14,
   "metadata": {},
   "outputs": [
    {
     "name": "stdout",
     "output_type": "stream",
     "text": [
      "INFO:tensorflow:Froze 90 variables.\n",
      "INFO:tensorflow:Converted 90 variables to const ops.\n"
     ]
    }
   ],
   "source": [
    "def freeze_session(session, keep_var_names=None, output_names=None, clear_devices=True):\n",
    "    \"\"\"\n",
    "    Freezes the state of a session into a pruned computation graph.\n",
    "\n",
    "    Creates a new computation graph where variable nodes are replaced by\n",
    "    constants taking their current value in the session. The new graph will be\n",
    "    pruned so subgraphs that are not necessary to compute the requested\n",
    "    outputs are removed.\n",
    "    @param session The TensorFlow session to be frozen.\n",
    "    @param keep_var_names A list of variable names that should not be frozen,\n",
    "                          or None to freeze all the variables in the graph.\n",
    "    @param output_names Names of the relevant graph outputs.\n",
    "    @param clear_devices Remove the device directives from the graph for better portability.\n",
    "    @return The frozen graph definition.\n",
    "    \"\"\"\n",
    "    from tensorflow.graph_util import convert_variables_to_constants\n",
    "    graph = session.graph\n",
    "    with graph.as_default():\n",
    "        freeze_var_names = list(set(v.op.name for v in tf.global_variables()).difference(keep_var_names or []))\n",
    "        output_names = output_names or []\n",
    "        output_names += [v.op.name for v in tf.global_variables()]\n",
    "        # Graph -> GraphDef ProtoBuf\n",
    "        input_graph_def = graph.as_graph_def()\n",
    "        if clear_devices:\n",
    "            for node in input_graph_def.node:\n",
    "                node.device = \"\"\n",
    "        frozen_graph = convert_variables_to_constants(session, input_graph_def,\n",
    "                                                      output_names, freeze_var_names)\n",
    "        return frozen_graph\n",
    "\n",
    "\n",
    "frozen_graph = freeze_session(tf.keras.backend.get_session(),\n",
    "                              output_names=[out.op.name for out in model_v1.outputs])"
   ]
  },
  {
   "cell_type": "code",
   "execution_count": 15,
   "metadata": {},
   "outputs": [
    {
     "data": {
      "text/plain": [
       "'model/tf_model.pb'"
      ]
     },
     "execution_count": 15,
     "metadata": {},
     "output_type": "execute_result"
    }
   ],
   "source": [
    "tf.train.write_graph(frozen_graph, \"model\", \"tf_model.pb\", as_text=False)"
   ]
  },
  {
   "cell_type": "code",
   "execution_count": 3,
   "metadata": {},
   "outputs": [
    {
     "name": "stdout",
     "output_type": "stream",
     "text": [
      "WARNING:tensorflow:From <ipython-input-3-ccdcafbf3e17>:1: __init__ (from tensorflow.python.platform.gfile) is deprecated and will be removed in a future version.\n",
      "Instructions for updating:\n",
      "Use tf.gfile.GFile.\n"
     ]
    }
   ],
   "source": [
    "f = tf.gfile.FastGFile(\"./model/tf_model.pb\",\"rb\")\n",
    "graph_def = tf.GraphDef()"
   ]
  },
  {
   "cell_type": "code",
   "execution_count": 4,
   "metadata": {},
   "outputs": [],
   "source": [
    "graph_def.ParseFromString(f.read())\n",
    "f.close()"
   ]
  },
  {
   "cell_type": "code",
   "execution_count": 5,
   "metadata": {},
   "outputs": [],
   "source": [
    "sess = tf.Session()"
   ]
  },
  {
   "cell_type": "code",
   "execution_count": 6,
   "metadata": {},
   "outputs": [
    {
     "ename": "ValueError",
     "evalue": "Node 'embedding_1_1/embedding_lookup' expects to be colocated with unknown node 'embedding_1_1/embedding_lookup/Read/ReadVariableOp'",
     "output_type": "error",
     "traceback": [
      "\u001b[0;31m\u001b[0m",
      "\u001b[0;31mValueError\u001b[0mTraceback (most recent call last)",
      "\u001b[0;32m<ipython-input-6-6eead058a565>\u001b[0m in \u001b[0;36m<module>\u001b[0;34m()\u001b[0m\n\u001b[1;32m      1\u001b[0m \u001b[0msess\u001b[0m\u001b[0;34m.\u001b[0m\u001b[0mgraph\u001b[0m\u001b[0;34m.\u001b[0m\u001b[0mas_default\u001b[0m\u001b[0;34m(\u001b[0m\u001b[0;34m)\u001b[0m\u001b[0;34m\u001b[0m\u001b[0m\n\u001b[0;32m----> 2\u001b[0;31m \u001b[0mtf\u001b[0m\u001b[0;34m.\u001b[0m\u001b[0mimport_graph_def\u001b[0m\u001b[0;34m(\u001b[0m\u001b[0mgraph_def\u001b[0m\u001b[0;34m)\u001b[0m\u001b[0;34m\u001b[0m\u001b[0m\n\u001b[0m",
      "\u001b[0;32m/usr/local/lib/python2.7/dist-packages/tensorflow/python/util/deprecation.pyc\u001b[0m in \u001b[0;36mnew_func\u001b[0;34m(*args, **kwargs)\u001b[0m\n\u001b[1;32m    486\u001b[0m                 \u001b[0;34m'in a future version'\u001b[0m \u001b[0;32mif\u001b[0m \u001b[0mdate\u001b[0m \u001b[0;32mis\u001b[0m \u001b[0mNone\u001b[0m \u001b[0;32melse\u001b[0m \u001b[0;34m(\u001b[0m\u001b[0;34m'after %s'\u001b[0m \u001b[0;34m%\u001b[0m \u001b[0mdate\u001b[0m\u001b[0;34m)\u001b[0m\u001b[0;34m,\u001b[0m\u001b[0;34m\u001b[0m\u001b[0m\n\u001b[1;32m    487\u001b[0m                 instructions)\n\u001b[0;32m--> 488\u001b[0;31m       \u001b[0;32mreturn\u001b[0m \u001b[0mfunc\u001b[0m\u001b[0;34m(\u001b[0m\u001b[0;34m*\u001b[0m\u001b[0margs\u001b[0m\u001b[0;34m,\u001b[0m \u001b[0;34m**\u001b[0m\u001b[0mkwargs\u001b[0m\u001b[0;34m)\u001b[0m\u001b[0;34m\u001b[0m\u001b[0m\n\u001b[0m\u001b[1;32m    489\u001b[0m     return tf_decorator.make_decorator(func, new_func, 'deprecated',\n\u001b[1;32m    490\u001b[0m                                        _add_deprecated_arg_notice_to_docstring(\n",
      "\u001b[0;32m/usr/local/lib/python2.7/dist-packages/tensorflow/python/framework/importer.pyc\u001b[0m in \u001b[0;36mimport_graph_def\u001b[0;34m(graph_def, input_map, return_elements, name, op_dict, producer_op_list)\u001b[0m\n\u001b[1;32m    420\u001b[0m       \u001b[0;32mexcept\u001b[0m \u001b[0merrors\u001b[0m\u001b[0;34m.\u001b[0m\u001b[0mInvalidArgumentError\u001b[0m \u001b[0;32mas\u001b[0m \u001b[0me\u001b[0m\u001b[0;34m:\u001b[0m\u001b[0;34m\u001b[0m\u001b[0m\n\u001b[1;32m    421\u001b[0m         \u001b[0;31m# Convert to ValueError for backwards compatibility.\u001b[0m\u001b[0;34m\u001b[0m\u001b[0;34m\u001b[0m\u001b[0m\n\u001b[0;32m--> 422\u001b[0;31m         \u001b[0;32mraise\u001b[0m \u001b[0mValueError\u001b[0m\u001b[0;34m(\u001b[0m\u001b[0mstr\u001b[0m\u001b[0;34m(\u001b[0m\u001b[0me\u001b[0m\u001b[0;34m)\u001b[0m\u001b[0;34m)\u001b[0m\u001b[0;34m\u001b[0m\u001b[0m\n\u001b[0m\u001b[1;32m    423\u001b[0m \u001b[0;34m\u001b[0m\u001b[0m\n\u001b[1;32m    424\u001b[0m     \u001b[0;31m# Create _DefinedFunctions for any imported functions.\u001b[0m\u001b[0;34m\u001b[0m\u001b[0;34m\u001b[0m\u001b[0m\n",
      "\u001b[0;31mValueError\u001b[0m: Node 'embedding_1_1/embedding_lookup' expects to be colocated with unknown node 'embedding_1_1/embedding_lookup/Read/ReadVariableOp'"
     ]
    }
   ],
   "source": [
    "sess.graph.as_default()\n",
    "tf.import_graph_def(graph_def)"
   ]
  },
  {
   "cell_type": "code",
   "execution_count": null,
   "metadata": {},
   "outputs": [],
   "source": []
  }
 ],
 "metadata": {
  "kernelspec": {
   "display_name": "Python 3",
   "language": "python",
   "name": "python3"
  },
  "language_info": {
   "codemirror_mode": {
    "name": "ipython",
    "version": 3
   },
   "file_extension": ".py",
   "mimetype": "text/x-python",
   "name": "python",
   "nbconvert_exporter": "python",
   "pygments_lexer": "ipython3",
   "version": "3.6.5"
  }
 },
 "nbformat": 4,
 "nbformat_minor": 2
}
