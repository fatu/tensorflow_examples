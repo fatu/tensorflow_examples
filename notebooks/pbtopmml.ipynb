{
 "cells": [
  {
   "cell_type": "code",
   "execution_count": 2,
   "metadata": {
    "collapsed": true
   },
   "outputs": [],
   "source": [
    "import tensorflow as tf\n",
    "import os\n",
    "import numpy as np\n",
    "from tensorflow.python.platform import gfile"
   ]
  },
  {
   "cell_type": "code",
   "execution_count": 4,
   "metadata": {},
   "outputs": [
    {
     "name": "stdout",
     "output_type": "stream",
     "text": [
      "(<tf.Tensor 'dense_5_input_2:0' shape=<unknown> dtype=float32>,)\n",
      "dense_5_input_2\n",
      "(<tf.Tensor 'dense_5_2/kernel:0' shape=(294, 100) dtype=float32>,)\n",
      "dense_5_2/kernel\n",
      "(<tf.Tensor 'dense_5_2/kernel/read:0' shape=(294, 100) dtype=float32>,)\n",
      "dense_5_2/kernel/read\n",
      "(<tf.Tensor 'dense_5_2/bias:0' shape=(100,) dtype=float32>,)\n",
      "dense_5_2/bias\n",
      "(<tf.Tensor 'dense_5_2/bias/read:0' shape=(100,) dtype=float32>,)\n",
      "dense_5_2/bias/read\n",
      "(<tf.Tensor 'dense_5_2/MatMul:0' shape=(?, 100) dtype=float32>,)\n",
      "dense_5_2/MatMul\n",
      "(<tf.Tensor 'dense_5_2/BiasAdd:0' shape=(?, 100) dtype=float32>,)\n",
      "dense_5_2/BiasAdd\n",
      "(<tf.Tensor 'dense_5_2/Sigmoid:0' shape=(?, 100) dtype=float32>,)\n",
      "dense_5_2/Sigmoid\n",
      "(<tf.Tensor 'dense_6_2/kernel:0' shape=(100, 2) dtype=float32>,)\n",
      "dense_6_2/kernel\n",
      "(<tf.Tensor 'dense_6_2/kernel/read:0' shape=(100, 2) dtype=float32>,)\n",
      "dense_6_2/kernel/read\n",
      "(<tf.Tensor 'dense_6_2/bias:0' shape=(2,) dtype=float32>,)\n",
      "dense_6_2/bias\n",
      "(<tf.Tensor 'dense_6_2/bias/read:0' shape=(2,) dtype=float32>,)\n",
      "dense_6_2/bias/read\n",
      "(<tf.Tensor 'dense_6_2/MatMul:0' shape=(?, 2) dtype=float32>,)\n",
      "dense_6_2/MatMul\n",
      "(<tf.Tensor 'dense_6_2/BiasAdd:0' shape=(?, 2) dtype=float32>,)\n",
      "dense_6_2/BiasAdd\n",
      "(<tf.Tensor 'dense_6_2/Softmax:0' shape=(?, 2) dtype=float32>,)\n",
      "dense_6_2/Softmax\n",
      "(<tf.Tensor 'strided_slice/stack:0' shape=(1,) dtype=int32>,)\n",
      "strided_slice/stack\n",
      "(<tf.Tensor 'strided_slice/stack_1:0' shape=(1,) dtype=int32>,)\n",
      "strided_slice/stack_1\n",
      "(<tf.Tensor 'strided_slice/stack_2:0' shape=(1,) dtype=int32>,)\n",
      "strided_slice/stack_2\n",
      "(<tf.Tensor 'strided_slice:0' shape=(2,) dtype=float32>,)\n",
      "strided_slice\n",
      "(<tf.Tensor 'output_node0:0' shape=(2,) dtype=float32>,)\n",
      "output_node0\n",
      "(<tf.Tensor 'strided_slice_1/stack:0' shape=(1,) dtype=int32>,)\n",
      "strided_slice_1/stack\n",
      "(<tf.Tensor 'strided_slice_1/stack_1:0' shape=(1,) dtype=int32>,)\n",
      "strided_slice_1/stack_1\n",
      "(<tf.Tensor 'strided_slice_1/stack_2:0' shape=(1,) dtype=int32>,)\n",
      "strided_slice_1/stack_2\n",
      "(<tf.Tensor 'strided_slice_1:0' shape=(2,) dtype=float32>,)\n",
      "strided_slice_1\n",
      "(<tf.Tensor 'output_node1:0' shape=(2,) dtype=float32>,)\n",
      "output_node1\n",
      "Tensor(\"dense_5_input_2:0\", dtype=float32)\n"
     ]
    }
   ],
   "source": [
    "# In[2]:\n",
    "\n",
    "with gfile.FastGFile(\"../tensorflow-java/src/main/resources/SNN_294_100_sigmoid_softmax.pb\",'rb') as f:\n",
    "    graph_def = tf.GraphDef()\n",
    "    graph_def.ParseFromString(f.read())\n",
    "    tf.import_graph_def(graph_def, name='')\n",
    "\n",
    "\n",
    "# In[3]:\n",
    "\n",
    "sess = tf.Session()\n",
    "all_ops_list = sess.graph.get_operations()\n",
    "\n",
    "#Method 1\n",
    "for ops_range in range(len(all_ops_list)):\n",
    "    print([m.values() for m in all_ops_list][ops_range])\n",
    "    print([m.name for m in all_ops_list][ops_range])\n",
    "\n",
    "\n",
    "# In[4]:\n",
    "\n",
    "#Method 2\n",
    "with tf.Session() as sess:\n",
    "    input_x = sess.graph.get_tensor_by_name(\"dense_5_input_2:0\")\n",
    "    print(input_x)"
   ]
  },
  {
   "cell_type": "code",
   "execution_count": 5,
   "metadata": {
    "collapsed": true
   },
   "outputs": [],
   "source": [
    "with tf.Session() as sess:\n",
    "    model_filename ='../tensorflow-java/src/main/resources/SNN_294_100_sigmoid_softmax.pb'\n",
    "    with gfile.FastGFile(model_filename, 'rb') as f:\n",
    "        graph_def = tf.GraphDef()\n",
    "        graph_def.ParseFromString(f.read())\n",
    "        g_in = tf.import_graph_def(graph_def)\n",
    "LOGDIR='graph/snn'\n",
    "train_writer = tf.summary.FileWriter(LOGDIR)\n",
    "train_writer.add_graph(sess.graph)"
   ]
  },
  {
   "cell_type": "code",
   "execution_count": null,
   "metadata": {
    "collapsed": true
   },
   "outputs": [],
   "source": []
  }
 ],
 "metadata": {
  "kernelspec": {
   "display_name": "Python [conda env:tensorflow]",
   "language": "python",
   "name": "conda-env-tensorflow-py"
  },
  "language_info": {
   "codemirror_mode": {
    "name": "ipython",
    "version": 3
   },
   "file_extension": ".py",
   "mimetype": "text/x-python",
   "name": "python",
   "nbconvert_exporter": "python",
   "pygments_lexer": "ipython3",
   "version": "3.5.4"
  }
 },
 "nbformat": 4,
 "nbformat_minor": 2
}
