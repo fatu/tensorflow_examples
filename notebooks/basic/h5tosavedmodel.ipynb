{
 "cells": [
  {
   "cell_type": "code",
   "execution_count": 1,
   "metadata": {},
   "outputs": [],
   "source": [
    "import tensorflow as tf\n",
    "import os\n",
    "import numpy as np\n",
    "from tensorflow.python.platform import gfile\n",
    " \n",
    "# def save_model_to_serving(model, export_version, export_path='prod_models'):\n",
    "#     print(model.input, model.output)\n",
    "#     signature = tf.saved_model.signature_def_utils.predict_signature_def(\n",
    "#         inputs={'inputs': model.input}, outputs={'outputs': model.output})\n",
    "#     export_path = os.path.join(\n",
    "#         tf.compat.as_bytes(export_path),\n",
    "#         tf.compat.as_bytes(str(export_version)))\n",
    "#     builder = tf.saved_model.builder.SavedModelBuilder(export_path)\n",
    "#     legacy_init_op = tf.group(tf.tables_initializer(), name='legacy_init_op')\n",
    "#     builder.add_meta_graph_and_variables(\n",
    "#         sess=K.get_session(),\n",
    "#         tags=[tf.saved_model.tag_constants.SERVING],\n",
    "#         signature_def_map={\n",
    "#             'news_classification': signature,\n",
    "#         },\n",
    "#         legacy_init_op=legacy_init_op)\n",
    "#     builder.save()\n",
    " \n",
    "# if __name__ == '__main__':\n",
    "#     model = tf.keras.models.load_model('../johzhu/keras2tf/eg_ep10.h5')\n",
    "#     model.summary()\n",
    "    \n",
    "#     export_path = './john'\n",
    "\n",
    "#     save_model_to_serving(model, \"1\", export_path)"
   ]
  },
  {
   "cell_type": "code",
   "execution_count": 4,
   "metadata": {},
   "outputs": [
    {
     "data": {
      "text/plain": [
       "'1.12.0'"
      ]
     },
     "execution_count": 4,
     "metadata": {},
     "output_type": "execute_result"
    }
   ],
   "source": [
    "tf.__version__"
   ]
  },
  {
   "cell_type": "code",
   "execution_count": 10,
   "metadata": {},
   "outputs": [],
   "source": [
    "# import keras.backend as K\n",
    "# from keras.applications import VGG19\n",
    "# from keras.models import Model\n",
    "\n",
    "from tensorflow.python.saved_model import builder as saved_model_builder\n",
    "from tensorflow.python.saved_model import utils\n",
    "from tensorflow.python.saved_model import tag_constants, signature_constants\n",
    "from tensorflow.python.saved_model.signature_def_utils_impl import build_signature_def, predict_signature_def\n",
    "from tensorflow.contrib.session_bundle import exporter"
   ]
  },
  {
   "cell_type": "code",
   "execution_count": 11,
   "metadata": {},
   "outputs": [
    {
     "name": "stderr",
     "output_type": "stream",
     "text": [
      "/Users/fatu/venv/tensorflowpy3/lib/python3.5/site-packages/tensorflow/python/ops/gradients_impl.py:112: UserWarning: Converting sparse IndexedSlices to a dense Tensor of unknown shape. This may consume a large amount of memory.\n",
      "  \"Converting sparse IndexedSlices to a dense Tensor of unknown shape. \"\n"
     ]
    },
    {
     "name": "stdout",
     "output_type": "stream",
     "text": [
      "_________________________________________________________________\n",
      "Layer (type)                 Output Shape              Param #   \n",
      "=================================================================\n",
      "embedding (Embedding)        (None, 100, 32)           13792     \n",
      "_________________________________________________________________\n",
      "conv1d (Conv1D)              (None, 98, 64)            6208      \n",
      "_________________________________________________________________\n",
      "lstm (LSTM)                  (None, 128)               98816     \n",
      "_________________________________________________________________\n",
      "dense (Dense)                (None, 40)                5160      \n",
      "_________________________________________________________________\n",
      "dense_1 (Dense)              (None, 1)                 41        \n",
      "=================================================================\n",
      "Total params: 124,017\n",
      "Trainable params: 124,017\n",
      "Non-trainable params: 0\n",
      "_________________________________________________________________\n"
     ]
    }
   ],
   "source": [
    "model = tf.keras.models.load_model('../johzhu/keras2tf/best.hdf5')\n",
    "model.summary()"
   ]
  },
  {
   "cell_type": "code",
   "execution_count": 18,
   "metadata": {},
   "outputs": [
    {
     "name": "stderr",
     "output_type": "stream",
     "text": [
      "/Users/fatu/venv/tensorflowpy3/lib/python3.5/site-packages/tensorflow/python/ops/gradients_impl.py:112: UserWarning: Converting sparse IndexedSlices to a dense Tensor of unknown shape. This may consume a large amount of memory.\n",
      "  \"Converting sparse IndexedSlices to a dense Tensor of unknown shape. \"\n"
     ]
    },
    {
     "name": "stdout",
     "output_type": "stream",
     "text": [
      "WARNING:tensorflow:This model was compiled with a Keras optimizer (<tensorflow.python.keras.optimizers.Adam object at 0x12f985e10>) but is being saved in TensorFlow format with `save_weights`. The model's weights will be saved, but unlike with TensorFlow optimizers in the TensorFlow format the optimizer's state will not be saved.\n",
      "\n",
      "Consider using a TensorFlow optimizer from `tf.train`.\n",
      "WARNING:tensorflow:Model was compiled with an optimizer, but the optimizer is not from `tf.train` (e.g. `tf.train.AdagradOptimizer`). Only the serving graph was exported. The train and evaluate graphs were not added to the SavedModel.\n",
      "INFO:tensorflow:Signatures INCLUDED in export for Predict: ['serving_default']\n",
      "INFO:tensorflow:Signatures INCLUDED in export for Classify: None\n",
      "INFO:tensorflow:Signatures INCLUDED in export for Regress: None\n",
      "INFO:tensorflow:Signatures INCLUDED in export for Eval: None\n",
      "INFO:tensorflow:Signatures INCLUDED in export for Train: None\n",
      "INFO:tensorflow:No assets to save.\n",
      "INFO:tensorflow:No assets to write.\n",
      "INFO:tensorflow:SavedModel written to: folder_to_export/temp-b'1548859406'/saved_model.pb\n"
     ]
    },
    {
     "data": {
      "text/plain": [
       "b'folder_to_export/1548859406'"
      ]
     },
     "execution_count": 18,
     "metadata": {},
     "output_type": "execute_result"
    }
   ],
   "source": [
    "\n",
    "model = tf.keras.models.load_model('../johzhu/keras2tf/eg_ep10.h5')\n",
    "export_path = 'folder_to_export'\n",
    "\n",
    "\n",
    "# tf.contrib.saved_model.save_keras_model(model, \"./saved_models\")\n",
    "tf.contrib.saved_model.save_keras_model(model, export_path)\n",
    "# saved_model_path = tf.keras.experimental.export(model, \"./saved_models\")\n",
    "# builder = saved_model_builder.SavedModelBuilder(export_path)\n",
    "\n",
    "# signature = predict_signature_def(inputs={'images': model.input},\n",
    "#                                   outputs={'scores': model.output})\n",
    "\n",
    "# with K.get_session() as sess:\n",
    "#     builder.add_meta_graph_and_variables(sess=sess,\n",
    "#                                          tags=[tag_constants.SERVING],\n",
    "#                                          signature_def_map={'predict': signature})\n",
    "#     builder.save()"
   ]
  },
  {
   "cell_type": "code",
   "execution_count": 3,
   "metadata": {},
   "outputs": [
    {
     "name": "stdout",
     "output_type": "stream",
     "text": [
      "INFO:tensorflow:Restoring parameters from ../model/1/variables/variables\n",
      "INFO:tensorflow:No assets to save.\n",
      "INFO:tensorflow:No assets to write.\n",
      "INFO:tensorflow:SavedModel written to: ../model/2/saved_model.pb\n"
     ]
    }
   ],
   "source": [
    "import tensorflow as tf\n",
    "import os\n",
    "from tensorflow.python.saved_model import tag_constants\n",
    "from tensorflow.python.saved_model import signature_constants\n",
    "vars_path = \"../model/1\"\n",
    "new_export_dir = \"../model/2\"\n",
    "# (Re-)define the inputs and the outputs.\n",
    "\n",
    "tf.reset_default_graph()\n",
    "with tf.Session(graph=tf.Graph()) as sess:\n",
    "  # Restore the variables\n",
    "\n",
    "    model = tf.saved_model.loader.load(sess, [tag_constants.SERVING], vars_path)\n",
    "    signature_def = model.signature_def\n",
    "    \n",
    "#     signature_def[signature_constants.DEFAULT_SERVING_SIGNATURE_DEF_KEY].inputs['dmt_input'].CopyFrom(signature_def[signature_constants.DEFAULT_SERVING_SIGNATURE_DEF_KEY].inputs['dmt_model'])\n",
    "#     signature_def[signature_constants.DEFAULT_SERVING_SIGNATURE_DEF_KEY].inputs['tt_input'].CopyFrom(signature_def[signature_constants.DEFAULT_SERVING_SIGNATURE_DEF_KEY].inputs['tt_model'])\n",
    "    \n",
    "#     del signature_def[signature_constants.DEFAULT_SERVING_SIGNATURE_DEF_KEY].inputs['dmt_model']\n",
    "#     del signature_def[signature_constants.DEFAULT_SERVING_SIGNATURE_DEF_KEY].inputs['tt_model']\n",
    "    signature_def[signature_constants.DEFAULT_SERVING_SIGNATURE_DEF_KEY].outputs['dmt_model_bc_output'].name = \"dmt_model_bc_output\"\n",
    "    signature_def[signature_constants.DEFAULT_SERVING_SIGNATURE_DEF_KEY].outputs['dmt_model_mcc_output'].name = \"dmt_model_mcc_output\"\n",
    "    signature_def[signature_constants.DEFAULT_SERVING_SIGNATURE_DEF_KEY].outputs['fm_model_output'].name = \"fm_model_output\"\n",
    "    signature_def[signature_constants.DEFAULT_SERVING_SIGNATURE_DEF_KEY].outputs['tt_model_output'].name = \"tt_model_output\"\n",
    "    \n",
    "    b = tf.saved_model.builder.SavedModelBuilder(new_export_dir)\n",
    "    b.add_meta_graph_and_variables(sess, [tag_constants.SERVING], signature_def)\n",
    "\n",
    "    b.save()"
   ]
  },
  {
   "cell_type": "code",
   "execution_count": null,
   "metadata": {},
   "outputs": [],
   "source": []
  }
 ],
 "metadata": {
  "kernelspec": {
   "display_name": "Python 3",
   "language": "python",
   "name": "python3"
  },
  "language_info": {
   "codemirror_mode": {
    "name": "ipython",
    "version": 3
   },
   "file_extension": ".py",
   "mimetype": "text/x-python",
   "name": "python",
   "nbconvert_exporter": "python",
   "pygments_lexer": "ipython3",
   "version": "3.6.5"
  }
 },
 "nbformat": 4,
 "nbformat_minor": 2
}
