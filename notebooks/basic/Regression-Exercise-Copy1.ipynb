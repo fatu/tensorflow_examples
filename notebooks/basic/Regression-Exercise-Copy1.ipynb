{
 "cells": [
  {
   "cell_type": "markdown",
   "metadata": {},
   "source": [
    "# Regression Exercise \n",
    "\n",
    "California Housing Data\n",
    "\n",
    "This data set contains information about all the block groups in California from the 1990 Census. In this sample a block group on average includes 1425.5 individuals living in a geographically compact area. \n",
    "\n",
    "The task is to aproximate the median house value of each block from the values of the rest of the variables. \n",
    "\n",
    " It has been obtained from the LIACC repository. The original page where the data set can be found is: http://www.liaad.up.pt/~ltorgo/Regression/DataSets.html.\n",
    " "
   ]
  },
  {
   "cell_type": "markdown",
   "metadata": {
    "collapsed": true
   },
   "source": [
    "The Features:\n",
    " \n",
    "* housingMedianAge: continuous. \n",
    "* totalRooms: continuous. \n",
    "* totalBedrooms: continuous. \n",
    "* population: continuous. \n",
    "* households: continuous. \n",
    "* medianIncome: continuous. \n",
    "* medianHouseValue: continuous. "
   ]
  },
  {
   "cell_type": "markdown",
   "metadata": {},
   "source": [
    "## The Data"
   ]
  },
  {
   "cell_type": "markdown",
   "metadata": {},
   "source": [
    "** Import the cal_housing_clean.csv file with pandas. Separate it into a training (70%) and testing set(30%).**"
   ]
  },
  {
   "cell_type": "code",
   "execution_count": 38,
   "metadata": {},
   "outputs": [],
   "source": [
    "import numpy as np\n",
    "import pandas as pd\n",
    "import matplotlib.pyplot as plt\n",
    "%matplotlib inline"
   ]
  },
  {
   "cell_type": "code",
   "execution_count": 39,
   "metadata": {},
   "outputs": [],
   "source": [
    "housing = pd.read_csv('cal_housing_clean.csv')"
   ]
  },
  {
   "cell_type": "code",
   "execution_count": 40,
   "metadata": {},
   "outputs": [
    {
     "data": {
      "text/html": [
       "<div>\n",
       "<style scoped>\n",
       "    .dataframe tbody tr th:only-of-type {\n",
       "        vertical-align: middle;\n",
       "    }\n",
       "\n",
       "    .dataframe tbody tr th {\n",
       "        vertical-align: top;\n",
       "    }\n",
       "\n",
       "    .dataframe thead th {\n",
       "        text-align: right;\n",
       "    }\n",
       "</style>\n",
       "<table border=\"1\" class=\"dataframe\">\n",
       "  <thead>\n",
       "    <tr style=\"text-align: right;\">\n",
       "      <th></th>\n",
       "      <th>housingMedianAge</th>\n",
       "      <th>totalRooms</th>\n",
       "      <th>totalBedrooms</th>\n",
       "      <th>population</th>\n",
       "      <th>households</th>\n",
       "      <th>medianIncome</th>\n",
       "      <th>medianHouseValue</th>\n",
       "    </tr>\n",
       "  </thead>\n",
       "  <tbody>\n",
       "    <tr>\n",
       "      <th>0</th>\n",
       "      <td>41.0</td>\n",
       "      <td>880.0</td>\n",
       "      <td>129.0</td>\n",
       "      <td>322.0</td>\n",
       "      <td>126.0</td>\n",
       "      <td>8.3252</td>\n",
       "      <td>452600.0</td>\n",
       "    </tr>\n",
       "    <tr>\n",
       "      <th>1</th>\n",
       "      <td>21.0</td>\n",
       "      <td>7099.0</td>\n",
       "      <td>1106.0</td>\n",
       "      <td>2401.0</td>\n",
       "      <td>1138.0</td>\n",
       "      <td>8.3014</td>\n",
       "      <td>358500.0</td>\n",
       "    </tr>\n",
       "    <tr>\n",
       "      <th>2</th>\n",
       "      <td>52.0</td>\n",
       "      <td>1467.0</td>\n",
       "      <td>190.0</td>\n",
       "      <td>496.0</td>\n",
       "      <td>177.0</td>\n",
       "      <td>7.2574</td>\n",
       "      <td>352100.0</td>\n",
       "    </tr>\n",
       "    <tr>\n",
       "      <th>3</th>\n",
       "      <td>52.0</td>\n",
       "      <td>1274.0</td>\n",
       "      <td>235.0</td>\n",
       "      <td>558.0</td>\n",
       "      <td>219.0</td>\n",
       "      <td>5.6431</td>\n",
       "      <td>341300.0</td>\n",
       "    </tr>\n",
       "    <tr>\n",
       "      <th>4</th>\n",
       "      <td>52.0</td>\n",
       "      <td>1627.0</td>\n",
       "      <td>280.0</td>\n",
       "      <td>565.0</td>\n",
       "      <td>259.0</td>\n",
       "      <td>3.8462</td>\n",
       "      <td>342200.0</td>\n",
       "    </tr>\n",
       "  </tbody>\n",
       "</table>\n",
       "</div>"
      ],
      "text/plain": [
       "   housingMedianAge  totalRooms  totalBedrooms  population  households  \\\n",
       "0              41.0       880.0          129.0       322.0       126.0   \n",
       "1              21.0      7099.0         1106.0      2401.0      1138.0   \n",
       "2              52.0      1467.0          190.0       496.0       177.0   \n",
       "3              52.0      1274.0          235.0       558.0       219.0   \n",
       "4              52.0      1627.0          280.0       565.0       259.0   \n",
       "\n",
       "   medianIncome  medianHouseValue  \n",
       "0        8.3252          452600.0  \n",
       "1        8.3014          358500.0  \n",
       "2        7.2574          352100.0  \n",
       "3        5.6431          341300.0  \n",
       "4        3.8462          342200.0  "
      ]
     },
     "execution_count": 40,
     "metadata": {},
     "output_type": "execute_result"
    }
   ],
   "source": [
    "housing.head()"
   ]
  },
  {
   "cell_type": "code",
   "execution_count": 41,
   "metadata": {},
   "outputs": [
    {
     "data": {
      "text/html": [
       "<div>\n",
       "<style scoped>\n",
       "    .dataframe tbody tr th:only-of-type {\n",
       "        vertical-align: middle;\n",
       "    }\n",
       "\n",
       "    .dataframe tbody tr th {\n",
       "        vertical-align: top;\n",
       "    }\n",
       "\n",
       "    .dataframe thead th {\n",
       "        text-align: right;\n",
       "    }\n",
       "</style>\n",
       "<table border=\"1\" class=\"dataframe\">\n",
       "  <thead>\n",
       "    <tr style=\"text-align: right;\">\n",
       "      <th></th>\n",
       "      <th>count</th>\n",
       "      <th>mean</th>\n",
       "      <th>std</th>\n",
       "      <th>min</th>\n",
       "      <th>25%</th>\n",
       "      <th>50%</th>\n",
       "      <th>75%</th>\n",
       "      <th>max</th>\n",
       "    </tr>\n",
       "  </thead>\n",
       "  <tbody>\n",
       "    <tr>\n",
       "      <th>housingMedianAge</th>\n",
       "      <td>20640.0</td>\n",
       "      <td>28.639486</td>\n",
       "      <td>12.585558</td>\n",
       "      <td>1.0000</td>\n",
       "      <td>18.0000</td>\n",
       "      <td>29.0000</td>\n",
       "      <td>37.00000</td>\n",
       "      <td>52.0000</td>\n",
       "    </tr>\n",
       "    <tr>\n",
       "      <th>totalRooms</th>\n",
       "      <td>20640.0</td>\n",
       "      <td>2635.763081</td>\n",
       "      <td>2181.615252</td>\n",
       "      <td>2.0000</td>\n",
       "      <td>1447.7500</td>\n",
       "      <td>2127.0000</td>\n",
       "      <td>3148.00000</td>\n",
       "      <td>39320.0000</td>\n",
       "    </tr>\n",
       "    <tr>\n",
       "      <th>totalBedrooms</th>\n",
       "      <td>20640.0</td>\n",
       "      <td>537.898014</td>\n",
       "      <td>421.247906</td>\n",
       "      <td>1.0000</td>\n",
       "      <td>295.0000</td>\n",
       "      <td>435.0000</td>\n",
       "      <td>647.00000</td>\n",
       "      <td>6445.0000</td>\n",
       "    </tr>\n",
       "    <tr>\n",
       "      <th>population</th>\n",
       "      <td>20640.0</td>\n",
       "      <td>1425.476744</td>\n",
       "      <td>1132.462122</td>\n",
       "      <td>3.0000</td>\n",
       "      <td>787.0000</td>\n",
       "      <td>1166.0000</td>\n",
       "      <td>1725.00000</td>\n",
       "      <td>35682.0000</td>\n",
       "    </tr>\n",
       "    <tr>\n",
       "      <th>households</th>\n",
       "      <td>20640.0</td>\n",
       "      <td>499.539680</td>\n",
       "      <td>382.329753</td>\n",
       "      <td>1.0000</td>\n",
       "      <td>280.0000</td>\n",
       "      <td>409.0000</td>\n",
       "      <td>605.00000</td>\n",
       "      <td>6082.0000</td>\n",
       "    </tr>\n",
       "    <tr>\n",
       "      <th>medianIncome</th>\n",
       "      <td>20640.0</td>\n",
       "      <td>3.870671</td>\n",
       "      <td>1.899822</td>\n",
       "      <td>0.4999</td>\n",
       "      <td>2.5634</td>\n",
       "      <td>3.5348</td>\n",
       "      <td>4.74325</td>\n",
       "      <td>15.0001</td>\n",
       "    </tr>\n",
       "    <tr>\n",
       "      <th>medianHouseValue</th>\n",
       "      <td>20640.0</td>\n",
       "      <td>206855.816909</td>\n",
       "      <td>115395.615874</td>\n",
       "      <td>14999.0000</td>\n",
       "      <td>119600.0000</td>\n",
       "      <td>179700.0000</td>\n",
       "      <td>264725.00000</td>\n",
       "      <td>500001.0000</td>\n",
       "    </tr>\n",
       "  </tbody>\n",
       "</table>\n",
       "</div>"
      ],
      "text/plain": [
       "                    count           mean            std         min  \\\n",
       "housingMedianAge  20640.0      28.639486      12.585558      1.0000   \n",
       "totalRooms        20640.0    2635.763081    2181.615252      2.0000   \n",
       "totalBedrooms     20640.0     537.898014     421.247906      1.0000   \n",
       "population        20640.0    1425.476744    1132.462122      3.0000   \n",
       "households        20640.0     499.539680     382.329753      1.0000   \n",
       "medianIncome      20640.0       3.870671       1.899822      0.4999   \n",
       "medianHouseValue  20640.0  206855.816909  115395.615874  14999.0000   \n",
       "\n",
       "                          25%          50%           75%          max  \n",
       "housingMedianAge      18.0000      29.0000      37.00000      52.0000  \n",
       "totalRooms          1447.7500    2127.0000    3148.00000   39320.0000  \n",
       "totalBedrooms        295.0000     435.0000     647.00000    6445.0000  \n",
       "population           787.0000    1166.0000    1725.00000   35682.0000  \n",
       "households           280.0000     409.0000     605.00000    6082.0000  \n",
       "medianIncome           2.5634       3.5348       4.74325      15.0001  \n",
       "medianHouseValue  119600.0000  179700.0000  264725.00000  500001.0000  "
      ]
     },
     "execution_count": 41,
     "metadata": {},
     "output_type": "execute_result"
    }
   ],
   "source": [
    "housing.describe().transpose()"
   ]
  },
  {
   "cell_type": "code",
   "execution_count": 42,
   "metadata": {
    "scrolled": true
   },
   "outputs": [],
   "source": [
    "x_data = housing.drop('medianHouseValue', axis=1)"
   ]
  },
  {
   "cell_type": "code",
   "execution_count": 43,
   "metadata": {},
   "outputs": [],
   "source": [
    "y_val = housing['medianHouseValue']"
   ]
  },
  {
   "cell_type": "code",
   "execution_count": 44,
   "metadata": {},
   "outputs": [],
   "source": [
    "from sklearn.model_selection import train_test_split"
   ]
  },
  {
   "cell_type": "code",
   "execution_count": 45,
   "metadata": {},
   "outputs": [],
   "source": [
    "X_train, X_test, y_train, y_test = train_test_split(x_data, y_val, test_size=0.3, random_state=42)"
   ]
  },
  {
   "cell_type": "markdown",
   "metadata": {},
   "source": [
    "### Scale the Feature Data\n",
    "\n",
    "** Use sklearn preprocessing to create a MinMaxScaler for the feature data. Fit this scaler only to the training data. Then use it to transform X_test and X_train. Then use the scaled X_test and X_train along with pd.Dataframe to re-create two dataframes of scaled data.**"
   ]
  },
  {
   "cell_type": "code",
   "execution_count": 46,
   "metadata": {},
   "outputs": [],
   "source": [
    "from sklearn.preprocessing import MinMaxScaler"
   ]
  },
  {
   "cell_type": "code",
   "execution_count": 47,
   "metadata": {},
   "outputs": [],
   "source": [
    "scaler = MinMaxScaler()"
   ]
  },
  {
   "cell_type": "code",
   "execution_count": 48,
   "metadata": {},
   "outputs": [
    {
     "data": {
      "text/plain": [
       "MinMaxScaler(copy=True, feature_range=(0, 1))"
      ]
     },
     "execution_count": 48,
     "metadata": {},
     "output_type": "execute_result"
    }
   ],
   "source": [
    "scaler.fit(X_train)"
   ]
  },
  {
   "cell_type": "code",
   "execution_count": 49,
   "metadata": {},
   "outputs": [],
   "source": [
    "X_train = pd.DataFrame(data=scaler.transform(X_train), columns=X_train.columns, index=X_train.index)"
   ]
  },
  {
   "cell_type": "code",
   "execution_count": 50,
   "metadata": {},
   "outputs": [],
   "source": [
    "X_test = pd.DataFrame(data=scaler.transform(X_test), columns=X_test.columns, index=X_test.index)"
   ]
  },
  {
   "cell_type": "markdown",
   "metadata": {},
   "source": [
    "### Create Feature Columns\n",
    "\n",
    "** Create the necessary tf.feature_column objects for the estimator. They should all be trated as continuous numeric_columns. **"
   ]
  },
  {
   "cell_type": "code",
   "execution_count": 51,
   "metadata": {},
   "outputs": [
    {
     "data": {
      "text/plain": [
       "Index(['housingMedianAge', 'totalRooms', 'totalBedrooms', 'population',\n",
       "       'households', 'medianIncome', 'medianHouseValue'],\n",
       "      dtype='object')"
      ]
     },
     "execution_count": 51,
     "metadata": {},
     "output_type": "execute_result"
    }
   ],
   "source": [
    "housing.columns"
   ]
  },
  {
   "cell_type": "code",
   "execution_count": 52,
   "metadata": {},
   "outputs": [],
   "source": [
    "import tensorflow as tf"
   ]
  },
  {
   "cell_type": "code",
   "execution_count": 53,
   "metadata": {},
   "outputs": [],
   "source": [
    "age = tf.feature_column.numeric_column('housingMedianAge')\n",
    "rooms = tf.feature_column.numeric_column('totalRooms')\n",
    "bedrooms = tf.feature_column.numeric_column('totalBedrooms')\n",
    "pop = tf.feature_column.numeric_column('population')\n",
    "households = tf.feature_column.numeric_column('households')\n",
    "income = tf.feature_column.numeric_column('medianIncome')"
   ]
  },
  {
   "cell_type": "code",
   "execution_count": 54,
   "metadata": {},
   "outputs": [],
   "source": [
    "feat_cols = [ age, rooms, bedrooms, pop, households, income ]"
   ]
  },
  {
   "cell_type": "markdown",
   "metadata": {},
   "source": [
    "** Create the input function for the estimator object. (play around with batch_size and num_epochs)**"
   ]
  },
  {
   "cell_type": "code",
   "execution_count": 55,
   "metadata": {},
   "outputs": [],
   "source": [
    "input_fn = tf.estimator.inputs.pandas_input_fn(x=X_train, y=y_train, batch_size=10, num_epochs=1000, shuffle=True)"
   ]
  },
  {
   "cell_type": "markdown",
   "metadata": {},
   "source": [
    "** Create the estimator model. Use a DNNRegressor. Play around with the hidden units! **"
   ]
  },
  {
   "cell_type": "code",
   "execution_count": 56,
   "metadata": {},
   "outputs": [
    {
     "name": "stdout",
     "output_type": "stream",
     "text": [
      "INFO:tensorflow:Using default config.\n"
     ]
    },
    {
     "name": "stderr",
     "output_type": "stream",
     "text": [
      "INFO:tensorflow:Using default config.\n"
     ]
    },
    {
     "name": "stdout",
     "output_type": "stream",
     "text": [
      "WARNING:tensorflow:Using temporary folder as model directory: /var/folders/77/jl8t9nkx27q3q1536fj3b87h38zwgl/T/tmps6ff3cgx\n"
     ]
    },
    {
     "name": "stderr",
     "output_type": "stream",
     "text": [
      "WARNING:tensorflow:Using temporary folder as model directory: /var/folders/77/jl8t9nkx27q3q1536fj3b87h38zwgl/T/tmps6ff3cgx\n"
     ]
    },
    {
     "name": "stdout",
     "output_type": "stream",
     "text": [
      "INFO:tensorflow:Using config: {'_model_dir': '/var/folders/77/jl8t9nkx27q3q1536fj3b87h38zwgl/T/tmps6ff3cgx', '_tf_random_seed': None, '_save_summary_steps': 100, '_save_checkpoints_steps': None, '_save_checkpoints_secs': 600, '_session_config': None, '_keep_checkpoint_max': 5, '_keep_checkpoint_every_n_hours': 10000, '_log_step_count_steps': 100, '_train_distribute': None, '_service': None, '_cluster_spec': <tensorflow.python.training.server_lib.ClusterSpec object at 0x11b913d68>, '_task_type': 'worker', '_task_id': 0, '_global_id_in_cluster': 0, '_master': '', '_evaluation_master': '', '_is_chief': True, '_num_ps_replicas': 0, '_num_worker_replicas': 1}\n"
     ]
    },
    {
     "name": "stderr",
     "output_type": "stream",
     "text": [
      "INFO:tensorflow:Using config: {'_model_dir': '/var/folders/77/jl8t9nkx27q3q1536fj3b87h38zwgl/T/tmps6ff3cgx', '_tf_random_seed': None, '_save_summary_steps': 100, '_save_checkpoints_steps': None, '_save_checkpoints_secs': 600, '_session_config': None, '_keep_checkpoint_max': 5, '_keep_checkpoint_every_n_hours': 10000, '_log_step_count_steps': 100, '_train_distribute': None, '_service': None, '_cluster_spec': <tensorflow.python.training.server_lib.ClusterSpec object at 0x11b913d68>, '_task_type': 'worker', '_task_id': 0, '_global_id_in_cluster': 0, '_master': '', '_evaluation_master': '', '_is_chief': True, '_num_ps_replicas': 0, '_num_worker_replicas': 1}\n"
     ]
    }
   ],
   "source": [
    "model = tf.estimator.DNNRegressor(hidden_units=[6,6,6], feature_columns=feat_cols)"
   ]
  },
  {
   "cell_type": "markdown",
   "metadata": {},
   "source": [
    "##### ** Train the model for ~1,000 steps. (Later come back to this and train it for more and check for improvement) **"
   ]
  },
  {
   "cell_type": "code",
   "execution_count": 57,
   "metadata": {},
   "outputs": [
    {
     "name": "stdout",
     "output_type": "stream",
     "text": [
      "INFO:tensorflow:Calling model_fn.\n"
     ]
    },
    {
     "name": "stderr",
     "output_type": "stream",
     "text": [
      "INFO:tensorflow:Calling model_fn.\n"
     ]
    },
    {
     "name": "stdout",
     "output_type": "stream",
     "text": [
      "INFO:tensorflow:Done calling model_fn.\n"
     ]
    },
    {
     "name": "stderr",
     "output_type": "stream",
     "text": [
      "INFO:tensorflow:Done calling model_fn.\n"
     ]
    },
    {
     "name": "stdout",
     "output_type": "stream",
     "text": [
      "INFO:tensorflow:Create CheckpointSaverHook.\n"
     ]
    },
    {
     "name": "stderr",
     "output_type": "stream",
     "text": [
      "INFO:tensorflow:Create CheckpointSaverHook.\n"
     ]
    },
    {
     "name": "stdout",
     "output_type": "stream",
     "text": [
      "INFO:tensorflow:Graph was finalized.\n"
     ]
    },
    {
     "name": "stderr",
     "output_type": "stream",
     "text": [
      "INFO:tensorflow:Graph was finalized.\n"
     ]
    },
    {
     "name": "stdout",
     "output_type": "stream",
     "text": [
      "INFO:tensorflow:Running local_init_op.\n"
     ]
    },
    {
     "name": "stderr",
     "output_type": "stream",
     "text": [
      "INFO:tensorflow:Running local_init_op.\n"
     ]
    },
    {
     "name": "stdout",
     "output_type": "stream",
     "text": [
      "INFO:tensorflow:Done running local_init_op.\n"
     ]
    },
    {
     "name": "stderr",
     "output_type": "stream",
     "text": [
      "INFO:tensorflow:Done running local_init_op.\n"
     ]
    },
    {
     "name": "stdout",
     "output_type": "stream",
     "text": [
      "INFO:tensorflow:Saving checkpoints for 1 into /var/folders/77/jl8t9nkx27q3q1536fj3b87h38zwgl/T/tmps6ff3cgx/model.ckpt.\n"
     ]
    },
    {
     "name": "stderr",
     "output_type": "stream",
     "text": [
      "INFO:tensorflow:Saving checkpoints for 1 into /var/folders/77/jl8t9nkx27q3q1536fj3b87h38zwgl/T/tmps6ff3cgx/model.ckpt.\n"
     ]
    },
    {
     "name": "stdout",
     "output_type": "stream",
     "text": [
      "INFO:tensorflow:loss = 491817730000.0, step = 1\n"
     ]
    },
    {
     "name": "stderr",
     "output_type": "stream",
     "text": [
      "INFO:tensorflow:loss = 491817730000.0, step = 1\n"
     ]
    },
    {
     "name": "stdout",
     "output_type": "stream",
     "text": [
      "INFO:tensorflow:global_step/sec: 431.056\n"
     ]
    },
    {
     "name": "stderr",
     "output_type": "stream",
     "text": [
      "INFO:tensorflow:global_step/sec: 431.056\n"
     ]
    },
    {
     "name": "stdout",
     "output_type": "stream",
     "text": [
      "INFO:tensorflow:loss = 281041140000.0, step = 101 (0.236 sec)\n"
     ]
    },
    {
     "name": "stderr",
     "output_type": "stream",
     "text": [
      "INFO:tensorflow:loss = 281041140000.0, step = 101 (0.236 sec)\n"
     ]
    },
    {
     "name": "stdout",
     "output_type": "stream",
     "text": [
      "INFO:tensorflow:global_step/sec: 415.419\n"
     ]
    },
    {
     "name": "stderr",
     "output_type": "stream",
     "text": [
      "INFO:tensorflow:global_step/sec: 415.419\n"
     ]
    },
    {
     "name": "stdout",
     "output_type": "stream",
     "text": [
      "INFO:tensorflow:loss = 881304700000.0, step = 201 (0.240 sec)\n"
     ]
    },
    {
     "name": "stderr",
     "output_type": "stream",
     "text": [
      "INFO:tensorflow:loss = 881304700000.0, step = 201 (0.240 sec)\n"
     ]
    },
    {
     "name": "stdout",
     "output_type": "stream",
     "text": [
      "INFO:tensorflow:global_step/sec: 558.098\n"
     ]
    },
    {
     "name": "stderr",
     "output_type": "stream",
     "text": [
      "INFO:tensorflow:global_step/sec: 558.098\n"
     ]
    },
    {
     "name": "stdout",
     "output_type": "stream",
     "text": [
      "INFO:tensorflow:loss = 475202620000.0, step = 301 (0.182 sec)\n"
     ]
    },
    {
     "name": "stderr",
     "output_type": "stream",
     "text": [
      "INFO:tensorflow:loss = 475202620000.0, step = 301 (0.182 sec)\n"
     ]
    },
    {
     "name": "stdout",
     "output_type": "stream",
     "text": [
      "INFO:tensorflow:global_step/sec: 557.609\n"
     ]
    },
    {
     "name": "stderr",
     "output_type": "stream",
     "text": [
      "INFO:tensorflow:global_step/sec: 557.609\n"
     ]
    },
    {
     "name": "stdout",
     "output_type": "stream",
     "text": [
      "INFO:tensorflow:loss = 580592100000.0, step = 401 (0.174 sec)\n"
     ]
    },
    {
     "name": "stderr",
     "output_type": "stream",
     "text": [
      "INFO:tensorflow:loss = 580592100000.0, step = 401 (0.174 sec)\n"
     ]
    },
    {
     "name": "stdout",
     "output_type": "stream",
     "text": [
      "INFO:tensorflow:global_step/sec: 489.551\n"
     ]
    },
    {
     "name": "stderr",
     "output_type": "stream",
     "text": [
      "INFO:tensorflow:global_step/sec: 489.551\n"
     ]
    },
    {
     "name": "stdout",
     "output_type": "stream",
     "text": [
      "INFO:tensorflow:loss = 241747530000.0, step = 501 (0.204 sec)\n"
     ]
    },
    {
     "name": "stderr",
     "output_type": "stream",
     "text": [
      "INFO:tensorflow:loss = 241747530000.0, step = 501 (0.204 sec)\n"
     ]
    },
    {
     "name": "stdout",
     "output_type": "stream",
     "text": [
      "INFO:tensorflow:global_step/sec: 497.215\n"
     ]
    },
    {
     "name": "stderr",
     "output_type": "stream",
     "text": [
      "INFO:tensorflow:global_step/sec: 497.215\n"
     ]
    },
    {
     "name": "stdout",
     "output_type": "stream",
     "text": [
      "INFO:tensorflow:loss = 452675900000.0, step = 601 (0.205 sec)\n"
     ]
    },
    {
     "name": "stderr",
     "output_type": "stream",
     "text": [
      "INFO:tensorflow:loss = 452675900000.0, step = 601 (0.205 sec)\n"
     ]
    },
    {
     "name": "stdout",
     "output_type": "stream",
     "text": [
      "INFO:tensorflow:global_step/sec: 583.523\n"
     ]
    },
    {
     "name": "stderr",
     "output_type": "stream",
     "text": [
      "INFO:tensorflow:global_step/sec: 583.523\n"
     ]
    },
    {
     "name": "stdout",
     "output_type": "stream",
     "text": [
      "INFO:tensorflow:loss = 185688420000.0, step = 701 (0.170 sec)\n"
     ]
    },
    {
     "name": "stderr",
     "output_type": "stream",
     "text": [
      "INFO:tensorflow:loss = 185688420000.0, step = 701 (0.170 sec)\n"
     ]
    },
    {
     "name": "stdout",
     "output_type": "stream",
     "text": [
      "INFO:tensorflow:global_step/sec: 554.243\n"
     ]
    },
    {
     "name": "stderr",
     "output_type": "stream",
     "text": [
      "INFO:tensorflow:global_step/sec: 554.243\n"
     ]
    },
    {
     "name": "stdout",
     "output_type": "stream",
     "text": [
      "INFO:tensorflow:loss = 341162400000.0, step = 801 (0.180 sec)\n"
     ]
    },
    {
     "name": "stderr",
     "output_type": "stream",
     "text": [
      "INFO:tensorflow:loss = 341162400000.0, step = 801 (0.180 sec)\n"
     ]
    },
    {
     "name": "stdout",
     "output_type": "stream",
     "text": [
      "INFO:tensorflow:global_step/sec: 568.658\n"
     ]
    },
    {
     "name": "stderr",
     "output_type": "stream",
     "text": [
      "INFO:tensorflow:global_step/sec: 568.658\n"
     ]
    },
    {
     "name": "stdout",
     "output_type": "stream",
     "text": [
      "INFO:tensorflow:loss = 172895420000.0, step = 901 (0.176 sec)\n"
     ]
    },
    {
     "name": "stderr",
     "output_type": "stream",
     "text": [
      "INFO:tensorflow:loss = 172895420000.0, step = 901 (0.176 sec)\n"
     ]
    },
    {
     "name": "stdout",
     "output_type": "stream",
     "text": [
      "INFO:tensorflow:global_step/sec: 501.188\n"
     ]
    },
    {
     "name": "stderr",
     "output_type": "stream",
     "text": [
      "INFO:tensorflow:global_step/sec: 501.188\n"
     ]
    },
    {
     "name": "stdout",
     "output_type": "stream",
     "text": [
      "INFO:tensorflow:loss = 302325900000.0, step = 1001 (0.200 sec)\n"
     ]
    },
    {
     "name": "stderr",
     "output_type": "stream",
     "text": [
      "INFO:tensorflow:loss = 302325900000.0, step = 1001 (0.200 sec)\n"
     ]
    },
    {
     "name": "stdout",
     "output_type": "stream",
     "text": [
      "INFO:tensorflow:global_step/sec: 592.811\n"
     ]
    },
    {
     "name": "stderr",
     "output_type": "stream",
     "text": [
      "INFO:tensorflow:global_step/sec: 592.811\n"
     ]
    },
    {
     "name": "stdout",
     "output_type": "stream",
     "text": [
      "INFO:tensorflow:loss = 307330550000.0, step = 1101 (0.169 sec)\n"
     ]
    },
    {
     "name": "stderr",
     "output_type": "stream",
     "text": [
      "INFO:tensorflow:loss = 307330550000.0, step = 1101 (0.169 sec)\n"
     ]
    },
    {
     "name": "stdout",
     "output_type": "stream",
     "text": [
      "INFO:tensorflow:global_step/sec: 577.013\n"
     ]
    },
    {
     "name": "stderr",
     "output_type": "stream",
     "text": [
      "INFO:tensorflow:global_step/sec: 577.013\n"
     ]
    },
    {
     "name": "stdout",
     "output_type": "stream",
     "text": [
      "INFO:tensorflow:loss = 193268470000.0, step = 1201 (0.174 sec)\n"
     ]
    },
    {
     "name": "stderr",
     "output_type": "stream",
     "text": [
      "INFO:tensorflow:loss = 193268470000.0, step = 1201 (0.174 sec)\n"
     ]
    },
    {
     "name": "stdout",
     "output_type": "stream",
     "text": [
      "INFO:tensorflow:global_step/sec: 513.917\n"
     ]
    },
    {
     "name": "stderr",
     "output_type": "stream",
     "text": [
      "INFO:tensorflow:global_step/sec: 513.917\n"
     ]
    },
    {
     "name": "stdout",
     "output_type": "stream",
     "text": [
      "INFO:tensorflow:loss = 323313040000.0, step = 1301 (0.194 sec)\n"
     ]
    },
    {
     "name": "stderr",
     "output_type": "stream",
     "text": [
      "INFO:tensorflow:loss = 323313040000.0, step = 1301 (0.194 sec)\n"
     ]
    },
    {
     "name": "stdout",
     "output_type": "stream",
     "text": [
      "INFO:tensorflow:global_step/sec: 590.993\n"
     ]
    },
    {
     "name": "stderr",
     "output_type": "stream",
     "text": [
      "INFO:tensorflow:global_step/sec: 590.993\n"
     ]
    },
    {
     "name": "stdout",
     "output_type": "stream",
     "text": [
      "INFO:tensorflow:loss = 126558320000.0, step = 1401 (0.169 sec)\n"
     ]
    },
    {
     "name": "stderr",
     "output_type": "stream",
     "text": [
      "INFO:tensorflow:loss = 126558320000.0, step = 1401 (0.169 sec)\n"
     ]
    },
    {
     "name": "stdout",
     "output_type": "stream",
     "text": [
      "INFO:tensorflow:global_step/sec: 610.758\n"
     ]
    },
    {
     "name": "stderr",
     "output_type": "stream",
     "text": [
      "INFO:tensorflow:global_step/sec: 610.758\n"
     ]
    },
    {
     "name": "stdout",
     "output_type": "stream",
     "text": [
      "INFO:tensorflow:loss = 127089540000.0, step = 1501 (0.166 sec)\n"
     ]
    },
    {
     "name": "stderr",
     "output_type": "stream",
     "text": [
      "INFO:tensorflow:loss = 127089540000.0, step = 1501 (0.166 sec)\n"
     ]
    },
    {
     "name": "stdout",
     "output_type": "stream",
     "text": [
      "INFO:tensorflow:global_step/sec: 547.682\n"
     ]
    },
    {
     "name": "stderr",
     "output_type": "stream",
     "text": [
      "INFO:tensorflow:global_step/sec: 547.682\n"
     ]
    },
    {
     "name": "stdout",
     "output_type": "stream",
     "text": [
      "INFO:tensorflow:loss = 45957726000.0, step = 1601 (0.177 sec)\n"
     ]
    },
    {
     "name": "stderr",
     "output_type": "stream",
     "text": [
      "INFO:tensorflow:loss = 45957726000.0, step = 1601 (0.177 sec)\n"
     ]
    },
    {
     "name": "stdout",
     "output_type": "stream",
     "text": [
      "INFO:tensorflow:global_step/sec: 656.538\n"
     ]
    },
    {
     "name": "stderr",
     "output_type": "stream",
     "text": [
      "INFO:tensorflow:global_step/sec: 656.538\n"
     ]
    },
    {
     "name": "stdout",
     "output_type": "stream",
     "text": [
      "INFO:tensorflow:loss = 77555750000.0, step = 1701 (0.156 sec)\n"
     ]
    },
    {
     "name": "stderr",
     "output_type": "stream",
     "text": [
      "INFO:tensorflow:loss = 77555750000.0, step = 1701 (0.156 sec)\n"
     ]
    },
    {
     "name": "stdout",
     "output_type": "stream",
     "text": [
      "INFO:tensorflow:global_step/sec: 642.661\n"
     ]
    },
    {
     "name": "stderr",
     "output_type": "stream",
     "text": [
      "INFO:tensorflow:global_step/sec: 642.661\n"
     ]
    },
    {
     "name": "stdout",
     "output_type": "stream",
     "text": [
      "INFO:tensorflow:loss = 170715630000.0, step = 1801 (0.153 sec)\n"
     ]
    },
    {
     "name": "stderr",
     "output_type": "stream",
     "text": [
      "INFO:tensorflow:loss = 170715630000.0, step = 1801 (0.153 sec)\n"
     ]
    },
    {
     "name": "stdout",
     "output_type": "stream",
     "text": [
      "INFO:tensorflow:global_step/sec: 600.951\n"
     ]
    },
    {
     "name": "stderr",
     "output_type": "stream",
     "text": [
      "INFO:tensorflow:global_step/sec: 600.951\n"
     ]
    },
    {
     "name": "stdout",
     "output_type": "stream",
     "text": [
      "INFO:tensorflow:loss = 221207800000.0, step = 1901 (0.169 sec)\n"
     ]
    },
    {
     "name": "stderr",
     "output_type": "stream",
     "text": [
      "INFO:tensorflow:loss = 221207800000.0, step = 1901 (0.169 sec)\n"
     ]
    },
    {
     "name": "stdout",
     "output_type": "stream",
     "text": [
      "INFO:tensorflow:global_step/sec: 502.102\n"
     ]
    },
    {
     "name": "stderr",
     "output_type": "stream",
     "text": [
      "INFO:tensorflow:global_step/sec: 502.102\n"
     ]
    },
    {
     "name": "stdout",
     "output_type": "stream",
     "text": [
      "INFO:tensorflow:loss = 81686280000.0, step = 2001 (0.195 sec)\n"
     ]
    },
    {
     "name": "stderr",
     "output_type": "stream",
     "text": [
      "INFO:tensorflow:loss = 81686280000.0, step = 2001 (0.195 sec)\n"
     ]
    },
    {
     "name": "stdout",
     "output_type": "stream",
     "text": [
      "INFO:tensorflow:global_step/sec: 621.604\n"
     ]
    },
    {
     "name": "stderr",
     "output_type": "stream",
     "text": [
      "INFO:tensorflow:global_step/sec: 621.604\n"
     ]
    },
    {
     "name": "stdout",
     "output_type": "stream",
     "text": [
      "INFO:tensorflow:loss = 110193450000.0, step = 2101 (0.163 sec)\n"
     ]
    },
    {
     "name": "stderr",
     "output_type": "stream",
     "text": [
      "INFO:tensorflow:loss = 110193450000.0, step = 2101 (0.163 sec)\n"
     ]
    },
    {
     "name": "stdout",
     "output_type": "stream",
     "text": [
      "INFO:tensorflow:global_step/sec: 655.076\n"
     ]
    },
    {
     "name": "stderr",
     "output_type": "stream",
     "text": [
      "INFO:tensorflow:global_step/sec: 655.076\n"
     ]
    },
    {
     "name": "stdout",
     "output_type": "stream",
     "text": [
      "INFO:tensorflow:loss = 95093640000.0, step = 2201 (0.153 sec)\n"
     ]
    },
    {
     "name": "stderr",
     "output_type": "stream",
     "text": [
      "INFO:tensorflow:loss = 95093640000.0, step = 2201 (0.153 sec)\n"
     ]
    },
    {
     "name": "stdout",
     "output_type": "stream",
     "text": [
      "INFO:tensorflow:global_step/sec: 678.228\n"
     ]
    },
    {
     "name": "stderr",
     "output_type": "stream",
     "text": [
      "INFO:tensorflow:global_step/sec: 678.228\n"
     ]
    },
    {
     "name": "stdout",
     "output_type": "stream",
     "text": [
      "INFO:tensorflow:loss = 81520730000.0, step = 2301 (0.148 sec)\n"
     ]
    },
    {
     "name": "stderr",
     "output_type": "stream",
     "text": [
      "INFO:tensorflow:loss = 81520730000.0, step = 2301 (0.148 sec)\n"
     ]
    },
    {
     "name": "stdout",
     "output_type": "stream",
     "text": [
      "INFO:tensorflow:global_step/sec: 616.828\n"
     ]
    },
    {
     "name": "stderr",
     "output_type": "stream",
     "text": [
      "INFO:tensorflow:global_step/sec: 616.828\n"
     ]
    },
    {
     "name": "stdout",
     "output_type": "stream",
     "text": [
      "INFO:tensorflow:loss = 100406910000.0, step = 2401 (0.161 sec)\n"
     ]
    },
    {
     "name": "stderr",
     "output_type": "stream",
     "text": [
      "INFO:tensorflow:loss = 100406910000.0, step = 2401 (0.161 sec)\n"
     ]
    },
    {
     "name": "stdout",
     "output_type": "stream",
     "text": [
      "INFO:tensorflow:global_step/sec: 584.531\n"
     ]
    },
    {
     "name": "stderr",
     "output_type": "stream",
     "text": [
      "INFO:tensorflow:global_step/sec: 584.531\n"
     ]
    },
    {
     "name": "stdout",
     "output_type": "stream",
     "text": [
      "INFO:tensorflow:loss = 87849090000.0, step = 2501 (0.173 sec)\n"
     ]
    },
    {
     "name": "stderr",
     "output_type": "stream",
     "text": [
      "INFO:tensorflow:loss = 87849090000.0, step = 2501 (0.173 sec)\n"
     ]
    },
    {
     "name": "stdout",
     "output_type": "stream",
     "text": [
      "INFO:tensorflow:global_step/sec: 526.749\n"
     ]
    },
    {
     "name": "stderr",
     "output_type": "stream",
     "text": [
      "INFO:tensorflow:global_step/sec: 526.749\n"
     ]
    },
    {
     "name": "stdout",
     "output_type": "stream",
     "text": [
      "INFO:tensorflow:loss = 139834900000.0, step = 2601 (0.187 sec)\n"
     ]
    },
    {
     "name": "stderr",
     "output_type": "stream",
     "text": [
      "INFO:tensorflow:loss = 139834900000.0, step = 2601 (0.187 sec)\n"
     ]
    },
    {
     "name": "stdout",
     "output_type": "stream",
     "text": [
      "INFO:tensorflow:global_step/sec: 605.965\n"
     ]
    },
    {
     "name": "stderr",
     "output_type": "stream",
     "text": [
      "INFO:tensorflow:global_step/sec: 605.965\n"
     ]
    },
    {
     "name": "stdout",
     "output_type": "stream",
     "text": [
      "INFO:tensorflow:loss = 61113663000.0, step = 2701 (0.168 sec)\n"
     ]
    },
    {
     "name": "stderr",
     "output_type": "stream",
     "text": [
      "INFO:tensorflow:loss = 61113663000.0, step = 2701 (0.168 sec)\n"
     ]
    },
    {
     "name": "stdout",
     "output_type": "stream",
     "text": [
      "INFO:tensorflow:global_step/sec: 558.959\n"
     ]
    },
    {
     "name": "stderr",
     "output_type": "stream",
     "text": [
      "INFO:tensorflow:global_step/sec: 558.959\n"
     ]
    },
    {
     "name": "stdout",
     "output_type": "stream",
     "text": [
      "INFO:tensorflow:loss = 88816780000.0, step = 2801 (0.175 sec)\n"
     ]
    },
    {
     "name": "stderr",
     "output_type": "stream",
     "text": [
      "INFO:tensorflow:loss = 88816780000.0, step = 2801 (0.175 sec)\n"
     ]
    },
    {
     "name": "stdout",
     "output_type": "stream",
     "text": [
      "INFO:tensorflow:global_step/sec: 531.728\n"
     ]
    },
    {
     "name": "stderr",
     "output_type": "stream",
     "text": [
      "INFO:tensorflow:global_step/sec: 531.728\n"
     ]
    },
    {
     "name": "stdout",
     "output_type": "stream",
     "text": [
      "INFO:tensorflow:loss = 73351070000.0, step = 2901 (0.189 sec)\n"
     ]
    },
    {
     "name": "stderr",
     "output_type": "stream",
     "text": [
      "INFO:tensorflow:loss = 73351070000.0, step = 2901 (0.189 sec)\n"
     ]
    },
    {
     "name": "stdout",
     "output_type": "stream",
     "text": [
      "INFO:tensorflow:global_step/sec: 524.274\n"
     ]
    },
    {
     "name": "stderr",
     "output_type": "stream",
     "text": [
      "INFO:tensorflow:global_step/sec: 524.274\n"
     ]
    },
    {
     "name": "stdout",
     "output_type": "stream",
     "text": [
      "INFO:tensorflow:loss = 114059260000.0, step = 3001 (0.190 sec)\n"
     ]
    },
    {
     "name": "stderr",
     "output_type": "stream",
     "text": [
      "INFO:tensorflow:loss = 114059260000.0, step = 3001 (0.190 sec)\n"
     ]
    },
    {
     "name": "stdout",
     "output_type": "stream",
     "text": [
      "INFO:tensorflow:global_step/sec: 588.737\n"
     ]
    },
    {
     "name": "stderr",
     "output_type": "stream",
     "text": [
      "INFO:tensorflow:global_step/sec: 588.737\n"
     ]
    },
    {
     "name": "stdout",
     "output_type": "stream",
     "text": [
      "INFO:tensorflow:loss = 31951680000.0, step = 3101 (0.171 sec)\n"
     ]
    },
    {
     "name": "stderr",
     "output_type": "stream",
     "text": [
      "INFO:tensorflow:loss = 31951680000.0, step = 3101 (0.171 sec)\n"
     ]
    },
    {
     "name": "stdout",
     "output_type": "stream",
     "text": [
      "INFO:tensorflow:global_step/sec: 570.603\n"
     ]
    },
    {
     "name": "stderr",
     "output_type": "stream",
     "text": [
      "INFO:tensorflow:global_step/sec: 570.603\n"
     ]
    },
    {
     "name": "stdout",
     "output_type": "stream",
     "text": [
      "INFO:tensorflow:loss = 102755890000.0, step = 3201 (0.173 sec)\n"
     ]
    },
    {
     "name": "stderr",
     "output_type": "stream",
     "text": [
      "INFO:tensorflow:loss = 102755890000.0, step = 3201 (0.173 sec)\n"
     ]
    },
    {
     "name": "stdout",
     "output_type": "stream",
     "text": [
      "INFO:tensorflow:global_step/sec: 584.7\n"
     ]
    },
    {
     "name": "stderr",
     "output_type": "stream",
     "text": [
      "INFO:tensorflow:global_step/sec: 584.7\n"
     ]
    },
    {
     "name": "stdout",
     "output_type": "stream",
     "text": [
      "INFO:tensorflow:loss = 156667690000.0, step = 3301 (0.172 sec)\n"
     ]
    },
    {
     "name": "stderr",
     "output_type": "stream",
     "text": [
      "INFO:tensorflow:loss = 156667690000.0, step = 3301 (0.172 sec)\n"
     ]
    },
    {
     "name": "stdout",
     "output_type": "stream",
     "text": [
      "INFO:tensorflow:global_step/sec: 537.73\n"
     ]
    },
    {
     "name": "stderr",
     "output_type": "stream",
     "text": [
      "INFO:tensorflow:global_step/sec: 537.73\n"
     ]
    },
    {
     "name": "stdout",
     "output_type": "stream",
     "text": [
      "INFO:tensorflow:loss = 66581324000.0, step = 3401 (0.188 sec)\n"
     ]
    },
    {
     "name": "stderr",
     "output_type": "stream",
     "text": [
      "INFO:tensorflow:loss = 66581324000.0, step = 3401 (0.188 sec)\n"
     ]
    },
    {
     "name": "stdout",
     "output_type": "stream",
     "text": [
      "INFO:tensorflow:global_step/sec: 579.361\n"
     ]
    },
    {
     "name": "stderr",
     "output_type": "stream",
     "text": [
      "INFO:tensorflow:global_step/sec: 579.361\n"
     ]
    },
    {
     "name": "stdout",
     "output_type": "stream",
     "text": [
      "INFO:tensorflow:loss = 276722480000.0, step = 3501 (0.171 sec)\n"
     ]
    },
    {
     "name": "stderr",
     "output_type": "stream",
     "text": [
      "INFO:tensorflow:loss = 276722480000.0, step = 3501 (0.171 sec)\n"
     ]
    },
    {
     "name": "stdout",
     "output_type": "stream",
     "text": [
      "INFO:tensorflow:global_step/sec: 558.516\n"
     ]
    },
    {
     "name": "stderr",
     "output_type": "stream",
     "text": [
      "INFO:tensorflow:global_step/sec: 558.516\n"
     ]
    },
    {
     "name": "stdout",
     "output_type": "stream",
     "text": [
      "INFO:tensorflow:loss = 161253330000.0, step = 3601 (0.180 sec)\n"
     ]
    },
    {
     "name": "stderr",
     "output_type": "stream",
     "text": [
      "INFO:tensorflow:loss = 161253330000.0, step = 3601 (0.180 sec)\n"
     ]
    },
    {
     "name": "stdout",
     "output_type": "stream",
     "text": [
      "INFO:tensorflow:global_step/sec: 569.603\n"
     ]
    },
    {
     "name": "stderr",
     "output_type": "stream",
     "text": [
      "INFO:tensorflow:global_step/sec: 569.603\n"
     ]
    },
    {
     "name": "stdout",
     "output_type": "stream",
     "text": [
      "INFO:tensorflow:loss = 75017930000.0, step = 3701 (0.174 sec)\n"
     ]
    },
    {
     "name": "stderr",
     "output_type": "stream",
     "text": [
      "INFO:tensorflow:loss = 75017930000.0, step = 3701 (0.174 sec)\n"
     ]
    },
    {
     "name": "stdout",
     "output_type": "stream",
     "text": [
      "INFO:tensorflow:global_step/sec: 611.778\n"
     ]
    },
    {
     "name": "stderr",
     "output_type": "stream",
     "text": [
      "INFO:tensorflow:global_step/sec: 611.778\n"
     ]
    },
    {
     "name": "stdout",
     "output_type": "stream",
     "text": [
      "INFO:tensorflow:loss = 105322090000.0, step = 3801 (0.166 sec)\n"
     ]
    },
    {
     "name": "stderr",
     "output_type": "stream",
     "text": [
      "INFO:tensorflow:loss = 105322090000.0, step = 3801 (0.166 sec)\n"
     ]
    },
    {
     "name": "stdout",
     "output_type": "stream",
     "text": [
      "INFO:tensorflow:global_step/sec: 546.248\n"
     ]
    },
    {
     "name": "stderr",
     "output_type": "stream",
     "text": [
      "INFO:tensorflow:global_step/sec: 546.248\n"
     ]
    },
    {
     "name": "stdout",
     "output_type": "stream",
     "text": [
      "INFO:tensorflow:loss = 84657390000.0, step = 3901 (0.180 sec)\n"
     ]
    },
    {
     "name": "stderr",
     "output_type": "stream",
     "text": [
      "INFO:tensorflow:loss = 84657390000.0, step = 3901 (0.180 sec)\n"
     ]
    },
    {
     "name": "stdout",
     "output_type": "stream",
     "text": [
      "INFO:tensorflow:global_step/sec: 579.033\n"
     ]
    },
    {
     "name": "stderr",
     "output_type": "stream",
     "text": [
      "INFO:tensorflow:global_step/sec: 579.033\n"
     ]
    },
    {
     "name": "stdout",
     "output_type": "stream",
     "text": [
      "INFO:tensorflow:loss = 211454920000.0, step = 4001 (0.177 sec)\n"
     ]
    },
    {
     "name": "stderr",
     "output_type": "stream",
     "text": [
      "INFO:tensorflow:loss = 211454920000.0, step = 4001 (0.177 sec)\n"
     ]
    },
    {
     "name": "stdout",
     "output_type": "stream",
     "text": [
      "INFO:tensorflow:global_step/sec: 546.003\n"
     ]
    },
    {
     "name": "stderr",
     "output_type": "stream",
     "text": [
      "INFO:tensorflow:global_step/sec: 546.003\n"
     ]
    },
    {
     "name": "stdout",
     "output_type": "stream",
     "text": [
      "INFO:tensorflow:loss = 93714600000.0, step = 4101 (0.182 sec)\n"
     ]
    },
    {
     "name": "stderr",
     "output_type": "stream",
     "text": [
      "INFO:tensorflow:loss = 93714600000.0, step = 4101 (0.182 sec)\n"
     ]
    },
    {
     "name": "stdout",
     "output_type": "stream",
     "text": [
      "INFO:tensorflow:global_step/sec: 473.214\n"
     ]
    },
    {
     "name": "stderr",
     "output_type": "stream",
     "text": [
      "INFO:tensorflow:global_step/sec: 473.214\n"
     ]
    },
    {
     "name": "stdout",
     "output_type": "stream",
     "text": [
      "INFO:tensorflow:loss = 140826380000.0, step = 4201 (0.208 sec)\n"
     ]
    },
    {
     "name": "stderr",
     "output_type": "stream",
     "text": [
      "INFO:tensorflow:loss = 140826380000.0, step = 4201 (0.208 sec)\n"
     ]
    },
    {
     "name": "stdout",
     "output_type": "stream",
     "text": [
      "INFO:tensorflow:global_step/sec: 567.437\n"
     ]
    },
    {
     "name": "stderr",
     "output_type": "stream",
     "text": [
      "INFO:tensorflow:global_step/sec: 567.437\n"
     ]
    },
    {
     "name": "stdout",
     "output_type": "stream",
     "text": [
      "INFO:tensorflow:loss = 84593960000.0, step = 4301 (0.179 sec)\n"
     ]
    },
    {
     "name": "stderr",
     "output_type": "stream",
     "text": [
      "INFO:tensorflow:loss = 84593960000.0, step = 4301 (0.179 sec)\n"
     ]
    },
    {
     "name": "stdout",
     "output_type": "stream",
     "text": [
      "INFO:tensorflow:global_step/sec: 566.551\n"
     ]
    },
    {
     "name": "stderr",
     "output_type": "stream",
     "text": [
      "INFO:tensorflow:global_step/sec: 566.551\n"
     ]
    },
    {
     "name": "stdout",
     "output_type": "stream",
     "text": [
      "INFO:tensorflow:loss = 62452146000.0, step = 4401 (0.177 sec)\n"
     ]
    },
    {
     "name": "stderr",
     "output_type": "stream",
     "text": [
      "INFO:tensorflow:loss = 62452146000.0, step = 4401 (0.177 sec)\n"
     ]
    },
    {
     "name": "stdout",
     "output_type": "stream",
     "text": [
      "INFO:tensorflow:global_step/sec: 558.524\n"
     ]
    },
    {
     "name": "stderr",
     "output_type": "stream",
     "text": [
      "INFO:tensorflow:global_step/sec: 558.524\n"
     ]
    },
    {
     "name": "stdout",
     "output_type": "stream",
     "text": [
      "INFO:tensorflow:loss = 67018120000.0, step = 4501 (0.178 sec)\n"
     ]
    },
    {
     "name": "stderr",
     "output_type": "stream",
     "text": [
      "INFO:tensorflow:loss = 67018120000.0, step = 4501 (0.178 sec)\n"
     ]
    },
    {
     "name": "stdout",
     "output_type": "stream",
     "text": [
      "INFO:tensorflow:global_step/sec: 583.782\n"
     ]
    },
    {
     "name": "stderr",
     "output_type": "stream",
     "text": [
      "INFO:tensorflow:global_step/sec: 583.782\n"
     ]
    },
    {
     "name": "stdout",
     "output_type": "stream",
     "text": [
      "INFO:tensorflow:loss = 117834310000.0, step = 4601 (0.173 sec)\n"
     ]
    },
    {
     "name": "stderr",
     "output_type": "stream",
     "text": [
      "INFO:tensorflow:loss = 117834310000.0, step = 4601 (0.173 sec)\n"
     ]
    },
    {
     "name": "stdout",
     "output_type": "stream",
     "text": [
      "INFO:tensorflow:global_step/sec: 532.272\n"
     ]
    },
    {
     "name": "stderr",
     "output_type": "stream",
     "text": [
      "INFO:tensorflow:global_step/sec: 532.272\n"
     ]
    },
    {
     "name": "stdout",
     "output_type": "stream",
     "text": [
      "INFO:tensorflow:loss = 98109780000.0, step = 4701 (0.189 sec)\n"
     ]
    },
    {
     "name": "stderr",
     "output_type": "stream",
     "text": [
      "INFO:tensorflow:loss = 98109780000.0, step = 4701 (0.189 sec)\n"
     ]
    },
    {
     "name": "stdout",
     "output_type": "stream",
     "text": [
      "INFO:tensorflow:global_step/sec: 592.697\n"
     ]
    },
    {
     "name": "stderr",
     "output_type": "stream",
     "text": [
      "INFO:tensorflow:global_step/sec: 592.697\n"
     ]
    },
    {
     "name": "stdout",
     "output_type": "stream",
     "text": [
      "INFO:tensorflow:loss = 77204590000.0, step = 4801 (0.166 sec)\n"
     ]
    },
    {
     "name": "stderr",
     "output_type": "stream",
     "text": [
      "INFO:tensorflow:loss = 77204590000.0, step = 4801 (0.166 sec)\n"
     ]
    },
    {
     "name": "stdout",
     "output_type": "stream",
     "text": [
      "INFO:tensorflow:global_step/sec: 558.011\n"
     ]
    },
    {
     "name": "stderr",
     "output_type": "stream",
     "text": [
      "INFO:tensorflow:global_step/sec: 558.011\n"
     ]
    },
    {
     "name": "stdout",
     "output_type": "stream",
     "text": [
      "INFO:tensorflow:loss = 207078420000.0, step = 4901 (0.179 sec)\n"
     ]
    },
    {
     "name": "stderr",
     "output_type": "stream",
     "text": [
      "INFO:tensorflow:loss = 207078420000.0, step = 4901 (0.179 sec)\n"
     ]
    },
    {
     "name": "stdout",
     "output_type": "stream",
     "text": [
      "INFO:tensorflow:global_step/sec: 570.503\n"
     ]
    },
    {
     "name": "stderr",
     "output_type": "stream",
     "text": [
      "INFO:tensorflow:global_step/sec: 570.503\n"
     ]
    },
    {
     "name": "stdout",
     "output_type": "stream",
     "text": [
      "INFO:tensorflow:loss = 69762560000.0, step = 5001 (0.177 sec)\n"
     ]
    },
    {
     "name": "stderr",
     "output_type": "stream",
     "text": [
      "INFO:tensorflow:loss = 69762560000.0, step = 5001 (0.177 sec)\n"
     ]
    },
    {
     "name": "stdout",
     "output_type": "stream",
     "text": [
      "INFO:tensorflow:global_step/sec: 575.867\n"
     ]
    },
    {
     "name": "stderr",
     "output_type": "stream",
     "text": [
      "INFO:tensorflow:global_step/sec: 575.867\n"
     ]
    },
    {
     "name": "stdout",
     "output_type": "stream",
     "text": [
      "INFO:tensorflow:loss = 78356470000.0, step = 5101 (0.173 sec)\n"
     ]
    },
    {
     "name": "stderr",
     "output_type": "stream",
     "text": [
      "INFO:tensorflow:loss = 78356470000.0, step = 5101 (0.173 sec)\n"
     ]
    },
    {
     "name": "stdout",
     "output_type": "stream",
     "text": [
      "INFO:tensorflow:global_step/sec: 582.585\n"
     ]
    },
    {
     "name": "stderr",
     "output_type": "stream",
     "text": [
      "INFO:tensorflow:global_step/sec: 582.585\n"
     ]
    },
    {
     "name": "stdout",
     "output_type": "stream",
     "text": [
      "INFO:tensorflow:loss = 103671770000.0, step = 5201 (0.172 sec)\n"
     ]
    },
    {
     "name": "stderr",
     "output_type": "stream",
     "text": [
      "INFO:tensorflow:loss = 103671770000.0, step = 5201 (0.172 sec)\n"
     ]
    },
    {
     "name": "stdout",
     "output_type": "stream",
     "text": [
      "INFO:tensorflow:global_step/sec: 598.086\n"
     ]
    },
    {
     "name": "stderr",
     "output_type": "stream",
     "text": [
      "INFO:tensorflow:global_step/sec: 598.086\n"
     ]
    },
    {
     "name": "stdout",
     "output_type": "stream",
     "text": [
      "INFO:tensorflow:loss = 172361060000.0, step = 5301 (0.167 sec)\n"
     ]
    },
    {
     "name": "stderr",
     "output_type": "stream",
     "text": [
      "INFO:tensorflow:loss = 172361060000.0, step = 5301 (0.167 sec)\n"
     ]
    },
    {
     "name": "stdout",
     "output_type": "stream",
     "text": [
      "INFO:tensorflow:global_step/sec: 590.691\n"
     ]
    },
    {
     "name": "stderr",
     "output_type": "stream",
     "text": [
      "INFO:tensorflow:global_step/sec: 590.691\n"
     ]
    },
    {
     "name": "stdout",
     "output_type": "stream",
     "text": [
      "INFO:tensorflow:loss = 164633130000.0, step = 5401 (0.172 sec)\n"
     ]
    },
    {
     "name": "stderr",
     "output_type": "stream",
     "text": [
      "INFO:tensorflow:loss = 164633130000.0, step = 5401 (0.172 sec)\n"
     ]
    },
    {
     "name": "stdout",
     "output_type": "stream",
     "text": [
      "INFO:tensorflow:global_step/sec: 593.373\n"
     ]
    },
    {
     "name": "stderr",
     "output_type": "stream",
     "text": [
      "INFO:tensorflow:global_step/sec: 593.373\n"
     ]
    },
    {
     "name": "stdout",
     "output_type": "stream",
     "text": [
      "INFO:tensorflow:loss = 240656200000.0, step = 5501 (0.168 sec)\n"
     ]
    },
    {
     "name": "stderr",
     "output_type": "stream",
     "text": [
      "INFO:tensorflow:loss = 240656200000.0, step = 5501 (0.168 sec)\n"
     ]
    },
    {
     "name": "stdout",
     "output_type": "stream",
     "text": [
      "INFO:tensorflow:global_step/sec: 572.236\n"
     ]
    },
    {
     "name": "stderr",
     "output_type": "stream",
     "text": [
      "INFO:tensorflow:global_step/sec: 572.236\n"
     ]
    },
    {
     "name": "stdout",
     "output_type": "stream",
     "text": [
      "INFO:tensorflow:loss = 162151240000.0, step = 5601 (0.169 sec)\n"
     ]
    },
    {
     "name": "stderr",
     "output_type": "stream",
     "text": [
      "INFO:tensorflow:loss = 162151240000.0, step = 5601 (0.169 sec)\n"
     ]
    },
    {
     "name": "stdout",
     "output_type": "stream",
     "text": [
      "INFO:tensorflow:global_step/sec: 647.098\n"
     ]
    },
    {
     "name": "stderr",
     "output_type": "stream",
     "text": [
      "INFO:tensorflow:global_step/sec: 647.098\n"
     ]
    },
    {
     "name": "stdout",
     "output_type": "stream",
     "text": [
      "INFO:tensorflow:loss = 100653200000.0, step = 5701 (0.156 sec)\n"
     ]
    },
    {
     "name": "stderr",
     "output_type": "stream",
     "text": [
      "INFO:tensorflow:loss = 100653200000.0, step = 5701 (0.156 sec)\n"
     ]
    },
    {
     "name": "stdout",
     "output_type": "stream",
     "text": [
      "INFO:tensorflow:global_step/sec: 640.94\n"
     ]
    },
    {
     "name": "stderr",
     "output_type": "stream",
     "text": [
      "INFO:tensorflow:global_step/sec: 640.94\n"
     ]
    },
    {
     "name": "stdout",
     "output_type": "stream",
     "text": [
      "INFO:tensorflow:loss = 111803700000.0, step = 5801 (0.156 sec)\n"
     ]
    },
    {
     "name": "stderr",
     "output_type": "stream",
     "text": [
      "INFO:tensorflow:loss = 111803700000.0, step = 5801 (0.156 sec)\n"
     ]
    },
    {
     "name": "stdout",
     "output_type": "stream",
     "text": [
      "INFO:tensorflow:global_step/sec: 631.229\n"
     ]
    },
    {
     "name": "stderr",
     "output_type": "stream",
     "text": [
      "INFO:tensorflow:global_step/sec: 631.229\n"
     ]
    },
    {
     "name": "stdout",
     "output_type": "stream",
     "text": [
      "INFO:tensorflow:loss = 36376314000.0, step = 5901 (0.162 sec)\n"
     ]
    },
    {
     "name": "stderr",
     "output_type": "stream",
     "text": [
      "INFO:tensorflow:loss = 36376314000.0, step = 5901 (0.162 sec)\n"
     ]
    },
    {
     "name": "stdout",
     "output_type": "stream",
     "text": [
      "INFO:tensorflow:global_step/sec: 550.031\n"
     ]
    },
    {
     "name": "stderr",
     "output_type": "stream",
     "text": [
      "INFO:tensorflow:global_step/sec: 550.031\n"
     ]
    },
    {
     "name": "stdout",
     "output_type": "stream",
     "text": [
      "INFO:tensorflow:loss = 151864930000.0, step = 6001 (0.177 sec)\n"
     ]
    },
    {
     "name": "stderr",
     "output_type": "stream",
     "text": [
      "INFO:tensorflow:loss = 151864930000.0, step = 6001 (0.177 sec)\n"
     ]
    },
    {
     "name": "stdout",
     "output_type": "stream",
     "text": [
      "INFO:tensorflow:global_step/sec: 587.599\n"
     ]
    },
    {
     "name": "stderr",
     "output_type": "stream",
     "text": [
      "INFO:tensorflow:global_step/sec: 587.599\n"
     ]
    },
    {
     "name": "stdout",
     "output_type": "stream",
     "text": [
      "INFO:tensorflow:loss = 164006790000.0, step = 6101 (0.173 sec)\n"
     ]
    },
    {
     "name": "stderr",
     "output_type": "stream",
     "text": [
      "INFO:tensorflow:loss = 164006790000.0, step = 6101 (0.173 sec)\n"
     ]
    },
    {
     "name": "stdout",
     "output_type": "stream",
     "text": [
      "INFO:tensorflow:global_step/sec: 541.404\n"
     ]
    },
    {
     "name": "stderr",
     "output_type": "stream",
     "text": [
      "INFO:tensorflow:global_step/sec: 541.404\n"
     ]
    },
    {
     "name": "stdout",
     "output_type": "stream",
     "text": [
      "INFO:tensorflow:loss = 60703556000.0, step = 6201 (0.182 sec)\n"
     ]
    },
    {
     "name": "stderr",
     "output_type": "stream",
     "text": [
      "INFO:tensorflow:loss = 60703556000.0, step = 6201 (0.182 sec)\n"
     ]
    },
    {
     "name": "stdout",
     "output_type": "stream",
     "text": [
      "INFO:tensorflow:global_step/sec: 589.032\n"
     ]
    },
    {
     "name": "stderr",
     "output_type": "stream",
     "text": [
      "INFO:tensorflow:global_step/sec: 589.032\n"
     ]
    },
    {
     "name": "stdout",
     "output_type": "stream",
     "text": [
      "INFO:tensorflow:loss = 67528320000.0, step = 6301 (0.170 sec)\n"
     ]
    },
    {
     "name": "stderr",
     "output_type": "stream",
     "text": [
      "INFO:tensorflow:loss = 67528320000.0, step = 6301 (0.170 sec)\n"
     ]
    },
    {
     "name": "stdout",
     "output_type": "stream",
     "text": [
      "INFO:tensorflow:global_step/sec: 591.36\n"
     ]
    },
    {
     "name": "stderr",
     "output_type": "stream",
     "text": [
      "INFO:tensorflow:global_step/sec: 591.36\n"
     ]
    },
    {
     "name": "stdout",
     "output_type": "stream",
     "text": [
      "INFO:tensorflow:loss = 16671752000.0, step = 6401 (0.169 sec)\n"
     ]
    },
    {
     "name": "stderr",
     "output_type": "stream",
     "text": [
      "INFO:tensorflow:loss = 16671752000.0, step = 6401 (0.169 sec)\n"
     ]
    },
    {
     "name": "stdout",
     "output_type": "stream",
     "text": [
      "INFO:tensorflow:global_step/sec: 491.342\n"
     ]
    },
    {
     "name": "stderr",
     "output_type": "stream",
     "text": [
      "INFO:tensorflow:global_step/sec: 491.342\n"
     ]
    },
    {
     "name": "stdout",
     "output_type": "stream",
     "text": [
      "INFO:tensorflow:loss = 41806725000.0, step = 6501 (0.205 sec)\n"
     ]
    },
    {
     "name": "stderr",
     "output_type": "stream",
     "text": [
      "INFO:tensorflow:loss = 41806725000.0, step = 6501 (0.205 sec)\n"
     ]
    },
    {
     "name": "stdout",
     "output_type": "stream",
     "text": [
      "INFO:tensorflow:global_step/sec: 521.507\n"
     ]
    },
    {
     "name": "stderr",
     "output_type": "stream",
     "text": [
      "INFO:tensorflow:global_step/sec: 521.507\n"
     ]
    },
    {
     "name": "stdout",
     "output_type": "stream",
     "text": [
      "INFO:tensorflow:loss = 133114610000.0, step = 6601 (0.195 sec)\n"
     ]
    },
    {
     "name": "stderr",
     "output_type": "stream",
     "text": [
      "INFO:tensorflow:loss = 133114610000.0, step = 6601 (0.195 sec)\n"
     ]
    },
    {
     "name": "stdout",
     "output_type": "stream",
     "text": [
      "INFO:tensorflow:global_step/sec: 520.44\n"
     ]
    },
    {
     "name": "stderr",
     "output_type": "stream",
     "text": [
      "INFO:tensorflow:global_step/sec: 520.44\n"
     ]
    },
    {
     "name": "stdout",
     "output_type": "stream",
     "text": [
      "INFO:tensorflow:loss = 179197760000.0, step = 6701 (0.188 sec)\n"
     ]
    },
    {
     "name": "stderr",
     "output_type": "stream",
     "text": [
      "INFO:tensorflow:loss = 179197760000.0, step = 6701 (0.188 sec)\n"
     ]
    },
    {
     "name": "stdout",
     "output_type": "stream",
     "text": [
      "INFO:tensorflow:global_step/sec: 560.117\n"
     ]
    },
    {
     "name": "stderr",
     "output_type": "stream",
     "text": [
      "INFO:tensorflow:global_step/sec: 560.117\n"
     ]
    },
    {
     "name": "stdout",
     "output_type": "stream",
     "text": [
      "INFO:tensorflow:loss = 139502400000.0, step = 6801 (0.178 sec)\n"
     ]
    },
    {
     "name": "stderr",
     "output_type": "stream",
     "text": [
      "INFO:tensorflow:loss = 139502400000.0, step = 6801 (0.178 sec)\n"
     ]
    },
    {
     "name": "stdout",
     "output_type": "stream",
     "text": [
      "INFO:tensorflow:global_step/sec: 569.366\n"
     ]
    },
    {
     "name": "stderr",
     "output_type": "stream",
     "text": [
      "INFO:tensorflow:global_step/sec: 569.366\n"
     ]
    },
    {
     "name": "stdout",
     "output_type": "stream",
     "text": [
      "INFO:tensorflow:loss = 105741206000.0, step = 6901 (0.176 sec)\n"
     ]
    },
    {
     "name": "stderr",
     "output_type": "stream",
     "text": [
      "INFO:tensorflow:loss = 105741206000.0, step = 6901 (0.176 sec)\n"
     ]
    },
    {
     "name": "stdout",
     "output_type": "stream",
     "text": [
      "INFO:tensorflow:global_step/sec: 602.228\n"
     ]
    },
    {
     "name": "stderr",
     "output_type": "stream",
     "text": [
      "INFO:tensorflow:global_step/sec: 602.228\n"
     ]
    },
    {
     "name": "stdout",
     "output_type": "stream",
     "text": [
      "INFO:tensorflow:loss = 142401770000.0, step = 7001 (0.169 sec)\n"
     ]
    },
    {
     "name": "stderr",
     "output_type": "stream",
     "text": [
      "INFO:tensorflow:loss = 142401770000.0, step = 7001 (0.169 sec)\n"
     ]
    },
    {
     "name": "stdout",
     "output_type": "stream",
     "text": [
      "INFO:tensorflow:global_step/sec: 509.622\n"
     ]
    },
    {
     "name": "stderr",
     "output_type": "stream",
     "text": [
      "INFO:tensorflow:global_step/sec: 509.622\n"
     ]
    },
    {
     "name": "stdout",
     "output_type": "stream",
     "text": [
      "INFO:tensorflow:loss = 237976260000.0, step = 7101 (0.192 sec)\n"
     ]
    },
    {
     "name": "stderr",
     "output_type": "stream",
     "text": [
      "INFO:tensorflow:loss = 237976260000.0, step = 7101 (0.192 sec)\n"
     ]
    },
    {
     "name": "stdout",
     "output_type": "stream",
     "text": [
      "INFO:tensorflow:global_step/sec: 500.751\n"
     ]
    },
    {
     "name": "stderr",
     "output_type": "stream",
     "text": [
      "INFO:tensorflow:global_step/sec: 500.751\n"
     ]
    },
    {
     "name": "stdout",
     "output_type": "stream",
     "text": [
      "INFO:tensorflow:loss = 38677692000.0, step = 7201 (0.200 sec)\n"
     ]
    },
    {
     "name": "stderr",
     "output_type": "stream",
     "text": [
      "INFO:tensorflow:loss = 38677692000.0, step = 7201 (0.200 sec)\n"
     ]
    },
    {
     "name": "stdout",
     "output_type": "stream",
     "text": [
      "INFO:tensorflow:global_step/sec: 543.815\n"
     ]
    },
    {
     "name": "stderr",
     "output_type": "stream",
     "text": [
      "INFO:tensorflow:global_step/sec: 543.815\n"
     ]
    },
    {
     "name": "stdout",
     "output_type": "stream",
     "text": [
      "INFO:tensorflow:loss = 17206250000.0, step = 7301 (0.189 sec)\n"
     ]
    },
    {
     "name": "stderr",
     "output_type": "stream",
     "text": [
      "INFO:tensorflow:loss = 17206250000.0, step = 7301 (0.189 sec)\n"
     ]
    },
    {
     "name": "stdout",
     "output_type": "stream",
     "text": [
      "INFO:tensorflow:global_step/sec: 580.994\n"
     ]
    },
    {
     "name": "stderr",
     "output_type": "stream",
     "text": [
      "INFO:tensorflow:global_step/sec: 580.994\n"
     ]
    },
    {
     "name": "stdout",
     "output_type": "stream",
     "text": [
      "INFO:tensorflow:loss = 150002140000.0, step = 7401 (0.172 sec)\n"
     ]
    },
    {
     "name": "stderr",
     "output_type": "stream",
     "text": [
      "INFO:tensorflow:loss = 150002140000.0, step = 7401 (0.172 sec)\n"
     ]
    },
    {
     "name": "stdout",
     "output_type": "stream",
     "text": [
      "INFO:tensorflow:global_step/sec: 564.296\n"
     ]
    },
    {
     "name": "stderr",
     "output_type": "stream",
     "text": [
      "INFO:tensorflow:global_step/sec: 564.296\n"
     ]
    },
    {
     "name": "stdout",
     "output_type": "stream",
     "text": [
      "INFO:tensorflow:loss = 81204750000.0, step = 7501 (0.173 sec)\n"
     ]
    },
    {
     "name": "stderr",
     "output_type": "stream",
     "text": [
      "INFO:tensorflow:loss = 81204750000.0, step = 7501 (0.173 sec)\n"
     ]
    },
    {
     "name": "stdout",
     "output_type": "stream",
     "text": [
      "INFO:tensorflow:global_step/sec: 526.003\n"
     ]
    },
    {
     "name": "stderr",
     "output_type": "stream",
     "text": [
      "INFO:tensorflow:global_step/sec: 526.003\n"
     ]
    },
    {
     "name": "stdout",
     "output_type": "stream",
     "text": [
      "INFO:tensorflow:loss = 129455690000.0, step = 7601 (0.189 sec)\n"
     ]
    },
    {
     "name": "stderr",
     "output_type": "stream",
     "text": [
      "INFO:tensorflow:loss = 129455690000.0, step = 7601 (0.189 sec)\n"
     ]
    },
    {
     "name": "stdout",
     "output_type": "stream",
     "text": [
      "INFO:tensorflow:global_step/sec: 560.41\n"
     ]
    },
    {
     "name": "stderr",
     "output_type": "stream",
     "text": [
      "INFO:tensorflow:global_step/sec: 560.41\n"
     ]
    },
    {
     "name": "stdout",
     "output_type": "stream",
     "text": [
      "INFO:tensorflow:loss = 189520760000.0, step = 7701 (0.178 sec)\n"
     ]
    },
    {
     "name": "stderr",
     "output_type": "stream",
     "text": [
      "INFO:tensorflow:loss = 189520760000.0, step = 7701 (0.178 sec)\n"
     ]
    },
    {
     "name": "stdout",
     "output_type": "stream",
     "text": [
      "INFO:tensorflow:global_step/sec: 519.426\n"
     ]
    },
    {
     "name": "stderr",
     "output_type": "stream",
     "text": [
      "INFO:tensorflow:global_step/sec: 519.426\n"
     ]
    },
    {
     "name": "stdout",
     "output_type": "stream",
     "text": [
      "INFO:tensorflow:loss = 120165370000.0, step = 7801 (0.193 sec)\n"
     ]
    },
    {
     "name": "stderr",
     "output_type": "stream",
     "text": [
      "INFO:tensorflow:loss = 120165370000.0, step = 7801 (0.193 sec)\n"
     ]
    },
    {
     "name": "stdout",
     "output_type": "stream",
     "text": [
      "INFO:tensorflow:global_step/sec: 541.079\n"
     ]
    },
    {
     "name": "stderr",
     "output_type": "stream",
     "text": [
      "INFO:tensorflow:global_step/sec: 541.079\n"
     ]
    },
    {
     "name": "stdout",
     "output_type": "stream",
     "text": [
      "INFO:tensorflow:loss = 120093835000.0, step = 7901 (0.187 sec)\n"
     ]
    },
    {
     "name": "stderr",
     "output_type": "stream",
     "text": [
      "INFO:tensorflow:loss = 120093835000.0, step = 7901 (0.187 sec)\n"
     ]
    },
    {
     "name": "stdout",
     "output_type": "stream",
     "text": [
      "INFO:tensorflow:global_step/sec: 514.819\n"
     ]
    },
    {
     "name": "stderr",
     "output_type": "stream",
     "text": [
      "INFO:tensorflow:global_step/sec: 514.819\n"
     ]
    },
    {
     "name": "stdout",
     "output_type": "stream",
     "text": [
      "INFO:tensorflow:loss = 36286063000.0, step = 8001 (0.192 sec)\n"
     ]
    },
    {
     "name": "stderr",
     "output_type": "stream",
     "text": [
      "INFO:tensorflow:loss = 36286063000.0, step = 8001 (0.192 sec)\n"
     ]
    },
    {
     "name": "stdout",
     "output_type": "stream",
     "text": [
      "INFO:tensorflow:global_step/sec: 589.488\n"
     ]
    },
    {
     "name": "stderr",
     "output_type": "stream",
     "text": [
      "INFO:tensorflow:global_step/sec: 589.488\n"
     ]
    },
    {
     "name": "stdout",
     "output_type": "stream",
     "text": [
      "INFO:tensorflow:loss = 89561760000.0, step = 8101 (0.173 sec)\n"
     ]
    },
    {
     "name": "stderr",
     "output_type": "stream",
     "text": [
      "INFO:tensorflow:loss = 89561760000.0, step = 8101 (0.173 sec)\n"
     ]
    },
    {
     "name": "stdout",
     "output_type": "stream",
     "text": [
      "INFO:tensorflow:global_step/sec: 570.115\n"
     ]
    },
    {
     "name": "stderr",
     "output_type": "stream",
     "text": [
      "INFO:tensorflow:global_step/sec: 570.115\n"
     ]
    },
    {
     "name": "stdout",
     "output_type": "stream",
     "text": [
      "INFO:tensorflow:loss = 61982073000.0, step = 8201 (0.172 sec)\n"
     ]
    },
    {
     "name": "stderr",
     "output_type": "stream",
     "text": [
      "INFO:tensorflow:loss = 61982073000.0, step = 8201 (0.172 sec)\n"
     ]
    },
    {
     "name": "stdout",
     "output_type": "stream",
     "text": [
      "INFO:tensorflow:global_step/sec: 513.555\n"
     ]
    },
    {
     "name": "stderr",
     "output_type": "stream",
     "text": [
      "INFO:tensorflow:global_step/sec: 513.555\n"
     ]
    },
    {
     "name": "stdout",
     "output_type": "stream",
     "text": [
      "INFO:tensorflow:loss = 157970240000.0, step = 8301 (0.195 sec)\n"
     ]
    },
    {
     "name": "stderr",
     "output_type": "stream",
     "text": [
      "INFO:tensorflow:loss = 157970240000.0, step = 8301 (0.195 sec)\n"
     ]
    },
    {
     "name": "stdout",
     "output_type": "stream",
     "text": [
      "INFO:tensorflow:global_step/sec: 595.827\n"
     ]
    },
    {
     "name": "stderr",
     "output_type": "stream",
     "text": [
      "INFO:tensorflow:global_step/sec: 595.827\n"
     ]
    },
    {
     "name": "stdout",
     "output_type": "stream",
     "text": [
      "INFO:tensorflow:loss = 80317750000.0, step = 8401 (0.169 sec)\n"
     ]
    },
    {
     "name": "stderr",
     "output_type": "stream",
     "text": [
      "INFO:tensorflow:loss = 80317750000.0, step = 8401 (0.169 sec)\n"
     ]
    },
    {
     "name": "stdout",
     "output_type": "stream",
     "text": [
      "INFO:tensorflow:global_step/sec: 601.493\n"
     ]
    },
    {
     "name": "stderr",
     "output_type": "stream",
     "text": [
      "INFO:tensorflow:global_step/sec: 601.493\n"
     ]
    },
    {
     "name": "stdout",
     "output_type": "stream",
     "text": [
      "INFO:tensorflow:loss = 27154424000.0, step = 8501 (0.165 sec)\n"
     ]
    },
    {
     "name": "stderr",
     "output_type": "stream",
     "text": [
      "INFO:tensorflow:loss = 27154424000.0, step = 8501 (0.165 sec)\n"
     ]
    },
    {
     "name": "stdout",
     "output_type": "stream",
     "text": [
      "INFO:tensorflow:global_step/sec: 545.702\n"
     ]
    },
    {
     "name": "stderr",
     "output_type": "stream",
     "text": [
      "INFO:tensorflow:global_step/sec: 545.702\n"
     ]
    },
    {
     "name": "stdout",
     "output_type": "stream",
     "text": [
      "INFO:tensorflow:loss = 173626030000.0, step = 8601 (0.184 sec)\n"
     ]
    },
    {
     "name": "stderr",
     "output_type": "stream",
     "text": [
      "INFO:tensorflow:loss = 173626030000.0, step = 8601 (0.184 sec)\n"
     ]
    },
    {
     "name": "stdout",
     "output_type": "stream",
     "text": [
      "INFO:tensorflow:global_step/sec: 573.317\n"
     ]
    },
    {
     "name": "stderr",
     "output_type": "stream",
     "text": [
      "INFO:tensorflow:global_step/sec: 573.317\n"
     ]
    },
    {
     "name": "stdout",
     "output_type": "stream",
     "text": [
      "INFO:tensorflow:loss = 105800730000.0, step = 8701 (0.176 sec)\n"
     ]
    },
    {
     "name": "stderr",
     "output_type": "stream",
     "text": [
      "INFO:tensorflow:loss = 105800730000.0, step = 8701 (0.176 sec)\n"
     ]
    },
    {
     "name": "stdout",
     "output_type": "stream",
     "text": [
      "INFO:tensorflow:global_step/sec: 525.621\n"
     ]
    },
    {
     "name": "stderr",
     "output_type": "stream",
     "text": [
      "INFO:tensorflow:global_step/sec: 525.621\n"
     ]
    },
    {
     "name": "stdout",
     "output_type": "stream",
     "text": [
      "INFO:tensorflow:loss = 69720556000.0, step = 8801 (0.188 sec)\n"
     ]
    },
    {
     "name": "stderr",
     "output_type": "stream",
     "text": [
      "INFO:tensorflow:loss = 69720556000.0, step = 8801 (0.188 sec)\n"
     ]
    },
    {
     "name": "stdout",
     "output_type": "stream",
     "text": [
      "INFO:tensorflow:global_step/sec: 619.045\n"
     ]
    },
    {
     "name": "stderr",
     "output_type": "stream",
     "text": [
      "INFO:tensorflow:global_step/sec: 619.045\n"
     ]
    },
    {
     "name": "stdout",
     "output_type": "stream",
     "text": [
      "INFO:tensorflow:loss = 74978570000.0, step = 8901 (0.166 sec)\n"
     ]
    },
    {
     "name": "stderr",
     "output_type": "stream",
     "text": [
      "INFO:tensorflow:loss = 74978570000.0, step = 8901 (0.166 sec)\n"
     ]
    },
    {
     "name": "stdout",
     "output_type": "stream",
     "text": [
      "INFO:tensorflow:global_step/sec: 552.606\n"
     ]
    },
    {
     "name": "stderr",
     "output_type": "stream",
     "text": [
      "INFO:tensorflow:global_step/sec: 552.606\n"
     ]
    },
    {
     "name": "stdout",
     "output_type": "stream",
     "text": [
      "INFO:tensorflow:loss = 58399597000.0, step = 9001 (0.180 sec)\n"
     ]
    },
    {
     "name": "stderr",
     "output_type": "stream",
     "text": [
      "INFO:tensorflow:loss = 58399597000.0, step = 9001 (0.180 sec)\n"
     ]
    },
    {
     "name": "stdout",
     "output_type": "stream",
     "text": [
      "INFO:tensorflow:global_step/sec: 578.285\n"
     ]
    },
    {
     "name": "stderr",
     "output_type": "stream",
     "text": [
      "INFO:tensorflow:global_step/sec: 578.285\n"
     ]
    },
    {
     "name": "stdout",
     "output_type": "stream",
     "text": [
      "INFO:tensorflow:loss = 83849890000.0, step = 9101 (0.170 sec)\n"
     ]
    },
    {
     "name": "stderr",
     "output_type": "stream",
     "text": [
      "INFO:tensorflow:loss = 83849890000.0, step = 9101 (0.170 sec)\n"
     ]
    },
    {
     "name": "stdout",
     "output_type": "stream",
     "text": [
      "INFO:tensorflow:global_step/sec: 588.62\n"
     ]
    },
    {
     "name": "stderr",
     "output_type": "stream",
     "text": [
      "INFO:tensorflow:global_step/sec: 588.62\n"
     ]
    },
    {
     "name": "stdout",
     "output_type": "stream",
     "text": [
      "INFO:tensorflow:loss = 118915140000.0, step = 9201 (0.169 sec)\n"
     ]
    },
    {
     "name": "stderr",
     "output_type": "stream",
     "text": [
      "INFO:tensorflow:loss = 118915140000.0, step = 9201 (0.169 sec)\n"
     ]
    },
    {
     "name": "stdout",
     "output_type": "stream",
     "text": [
      "INFO:tensorflow:global_step/sec: 584.184\n"
     ]
    },
    {
     "name": "stderr",
     "output_type": "stream",
     "text": [
      "INFO:tensorflow:global_step/sec: 584.184\n"
     ]
    },
    {
     "name": "stdout",
     "output_type": "stream",
     "text": [
      "INFO:tensorflow:loss = 100305990000.0, step = 9301 (0.170 sec)\n"
     ]
    },
    {
     "name": "stderr",
     "output_type": "stream",
     "text": [
      "INFO:tensorflow:loss = 100305990000.0, step = 9301 (0.170 sec)\n"
     ]
    },
    {
     "name": "stdout",
     "output_type": "stream",
     "text": [
      "INFO:tensorflow:global_step/sec: 580.231\n"
     ]
    },
    {
     "name": "stderr",
     "output_type": "stream",
     "text": [
      "INFO:tensorflow:global_step/sec: 580.231\n"
     ]
    },
    {
     "name": "stdout",
     "output_type": "stream",
     "text": [
      "INFO:tensorflow:loss = 68238176000.0, step = 9401 (0.177 sec)\n"
     ]
    },
    {
     "name": "stderr",
     "output_type": "stream",
     "text": [
      "INFO:tensorflow:loss = 68238176000.0, step = 9401 (0.177 sec)\n"
     ]
    },
    {
     "name": "stdout",
     "output_type": "stream",
     "text": [
      "INFO:tensorflow:global_step/sec: 574.759\n"
     ]
    },
    {
     "name": "stderr",
     "output_type": "stream",
     "text": [
      "INFO:tensorflow:global_step/sec: 574.759\n"
     ]
    },
    {
     "name": "stdout",
     "output_type": "stream",
     "text": [
      "INFO:tensorflow:loss = 203794640000.0, step = 9501 (0.169 sec)\n"
     ]
    },
    {
     "name": "stderr",
     "output_type": "stream",
     "text": [
      "INFO:tensorflow:loss = 203794640000.0, step = 9501 (0.169 sec)\n"
     ]
    },
    {
     "name": "stdout",
     "output_type": "stream",
     "text": [
      "INFO:tensorflow:global_step/sec: 590.751\n"
     ]
    },
    {
     "name": "stderr",
     "output_type": "stream",
     "text": [
      "INFO:tensorflow:global_step/sec: 590.751\n"
     ]
    },
    {
     "name": "stdout",
     "output_type": "stream",
     "text": [
      "INFO:tensorflow:loss = 61302645000.0, step = 9601 (0.169 sec)\n"
     ]
    },
    {
     "name": "stderr",
     "output_type": "stream",
     "text": [
      "INFO:tensorflow:loss = 61302645000.0, step = 9601 (0.169 sec)\n"
     ]
    },
    {
     "name": "stdout",
     "output_type": "stream",
     "text": [
      "INFO:tensorflow:global_step/sec: 563.901\n"
     ]
    },
    {
     "name": "stderr",
     "output_type": "stream",
     "text": [
      "INFO:tensorflow:global_step/sec: 563.901\n"
     ]
    },
    {
     "name": "stdout",
     "output_type": "stream",
     "text": [
      "INFO:tensorflow:loss = 95581250000.0, step = 9701 (0.178 sec)\n"
     ]
    },
    {
     "name": "stderr",
     "output_type": "stream",
     "text": [
      "INFO:tensorflow:loss = 95581250000.0, step = 9701 (0.178 sec)\n"
     ]
    },
    {
     "name": "stdout",
     "output_type": "stream",
     "text": [
      "INFO:tensorflow:global_step/sec: 574.234\n"
     ]
    },
    {
     "name": "stderr",
     "output_type": "stream",
     "text": [
      "INFO:tensorflow:global_step/sec: 574.234\n"
     ]
    },
    {
     "name": "stdout",
     "output_type": "stream",
     "text": [
      "INFO:tensorflow:loss = 72017660000.0, step = 9801 (0.175 sec)\n"
     ]
    },
    {
     "name": "stderr",
     "output_type": "stream",
     "text": [
      "INFO:tensorflow:loss = 72017660000.0, step = 9801 (0.175 sec)\n"
     ]
    },
    {
     "name": "stdout",
     "output_type": "stream",
     "text": [
      "INFO:tensorflow:global_step/sec: 508.508\n"
     ]
    },
    {
     "name": "stderr",
     "output_type": "stream",
     "text": [
      "INFO:tensorflow:global_step/sec: 508.508\n"
     ]
    },
    {
     "name": "stdout",
     "output_type": "stream",
     "text": [
      "INFO:tensorflow:loss = 145770410000.0, step = 9901 (0.199 sec)\n"
     ]
    },
    {
     "name": "stderr",
     "output_type": "stream",
     "text": [
      "INFO:tensorflow:loss = 145770410000.0, step = 9901 (0.199 sec)\n"
     ]
    },
    {
     "name": "stdout",
     "output_type": "stream",
     "text": [
      "INFO:tensorflow:global_step/sec: 574.118\n"
     ]
    },
    {
     "name": "stderr",
     "output_type": "stream",
     "text": [
      "INFO:tensorflow:global_step/sec: 574.118\n"
     ]
    },
    {
     "name": "stdout",
     "output_type": "stream",
     "text": [
      "INFO:tensorflow:loss = 182041700000.0, step = 10001 (0.174 sec)\n"
     ]
    },
    {
     "name": "stderr",
     "output_type": "stream",
     "text": [
      "INFO:tensorflow:loss = 182041700000.0, step = 10001 (0.174 sec)\n"
     ]
    },
    {
     "name": "stdout",
     "output_type": "stream",
     "text": [
      "INFO:tensorflow:global_step/sec: 605.767\n"
     ]
    },
    {
     "name": "stderr",
     "output_type": "stream",
     "text": [
      "INFO:tensorflow:global_step/sec: 605.767\n"
     ]
    },
    {
     "name": "stdout",
     "output_type": "stream",
     "text": [
      "INFO:tensorflow:loss = 76239905000.0, step = 10101 (0.163 sec)\n"
     ]
    },
    {
     "name": "stderr",
     "output_type": "stream",
     "text": [
      "INFO:tensorflow:loss = 76239905000.0, step = 10101 (0.163 sec)\n"
     ]
    },
    {
     "name": "stdout",
     "output_type": "stream",
     "text": [
      "INFO:tensorflow:global_step/sec: 598.312\n"
     ]
    },
    {
     "name": "stderr",
     "output_type": "stream",
     "text": [
      "INFO:tensorflow:global_step/sec: 598.312\n"
     ]
    },
    {
     "name": "stdout",
     "output_type": "stream",
     "text": [
      "INFO:tensorflow:loss = 104851685000.0, step = 10201 (0.173 sec)\n"
     ]
    },
    {
     "name": "stderr",
     "output_type": "stream",
     "text": [
      "INFO:tensorflow:loss = 104851685000.0, step = 10201 (0.173 sec)\n"
     ]
    },
    {
     "name": "stdout",
     "output_type": "stream",
     "text": [
      "INFO:tensorflow:global_step/sec: 506.745\n"
     ]
    },
    {
     "name": "stderr",
     "output_type": "stream",
     "text": [
      "INFO:tensorflow:global_step/sec: 506.745\n"
     ]
    },
    {
     "name": "stdout",
     "output_type": "stream",
     "text": [
      "INFO:tensorflow:loss = 67812688000.0, step = 10301 (0.193 sec)\n"
     ]
    },
    {
     "name": "stderr",
     "output_type": "stream",
     "text": [
      "INFO:tensorflow:loss = 67812688000.0, step = 10301 (0.193 sec)\n"
     ]
    },
    {
     "name": "stdout",
     "output_type": "stream",
     "text": [
      "INFO:tensorflow:global_step/sec: 522.12\n"
     ]
    },
    {
     "name": "stderr",
     "output_type": "stream",
     "text": [
      "INFO:tensorflow:global_step/sec: 522.12\n"
     ]
    },
    {
     "name": "stdout",
     "output_type": "stream",
     "text": [
      "INFO:tensorflow:loss = 55794823000.0, step = 10401 (0.192 sec)\n"
     ]
    },
    {
     "name": "stderr",
     "output_type": "stream",
     "text": [
      "INFO:tensorflow:loss = 55794823000.0, step = 10401 (0.192 sec)\n"
     ]
    },
    {
     "name": "stdout",
     "output_type": "stream",
     "text": [
      "INFO:tensorflow:global_step/sec: 559.625\n"
     ]
    },
    {
     "name": "stderr",
     "output_type": "stream",
     "text": [
      "INFO:tensorflow:global_step/sec: 559.625\n"
     ]
    },
    {
     "name": "stdout",
     "output_type": "stream",
     "text": [
      "INFO:tensorflow:loss = 207518560000.0, step = 10501 (0.181 sec)\n"
     ]
    },
    {
     "name": "stderr",
     "output_type": "stream",
     "text": [
      "INFO:tensorflow:loss = 207518560000.0, step = 10501 (0.181 sec)\n"
     ]
    },
    {
     "name": "stdout",
     "output_type": "stream",
     "text": [
      "INFO:tensorflow:global_step/sec: 548.372\n"
     ]
    },
    {
     "name": "stderr",
     "output_type": "stream",
     "text": [
      "INFO:tensorflow:global_step/sec: 548.372\n"
     ]
    },
    {
     "name": "stdout",
     "output_type": "stream",
     "text": [
      "INFO:tensorflow:loss = 71549950000.0, step = 10601 (0.181 sec)\n"
     ]
    },
    {
     "name": "stderr",
     "output_type": "stream",
     "text": [
      "INFO:tensorflow:loss = 71549950000.0, step = 10601 (0.181 sec)\n"
     ]
    },
    {
     "name": "stdout",
     "output_type": "stream",
     "text": [
      "INFO:tensorflow:global_step/sec: 563.975\n"
     ]
    },
    {
     "name": "stderr",
     "output_type": "stream",
     "text": [
      "INFO:tensorflow:global_step/sec: 563.975\n"
     ]
    },
    {
     "name": "stdout",
     "output_type": "stream",
     "text": [
      "INFO:tensorflow:loss = 34761064000.0, step = 10701 (0.172 sec)\n"
     ]
    },
    {
     "name": "stderr",
     "output_type": "stream",
     "text": [
      "INFO:tensorflow:loss = 34761064000.0, step = 10701 (0.172 sec)\n"
     ]
    },
    {
     "name": "stdout",
     "output_type": "stream",
     "text": [
      "INFO:tensorflow:global_step/sec: 542.502\n"
     ]
    },
    {
     "name": "stderr",
     "output_type": "stream",
     "text": [
      "INFO:tensorflow:global_step/sec: 542.502\n"
     ]
    },
    {
     "name": "stdout",
     "output_type": "stream",
     "text": [
      "INFO:tensorflow:loss = 48761987000.0, step = 10801 (0.189 sec)\n"
     ]
    },
    {
     "name": "stderr",
     "output_type": "stream",
     "text": [
      "INFO:tensorflow:loss = 48761987000.0, step = 10801 (0.189 sec)\n"
     ]
    },
    {
     "name": "stdout",
     "output_type": "stream",
     "text": [
      "INFO:tensorflow:global_step/sec: 530.788\n"
     ]
    },
    {
     "name": "stderr",
     "output_type": "stream",
     "text": [
      "INFO:tensorflow:global_step/sec: 530.788\n"
     ]
    },
    {
     "name": "stdout",
     "output_type": "stream",
     "text": [
      "INFO:tensorflow:loss = 47344333000.0, step = 10901 (0.187 sec)\n"
     ]
    },
    {
     "name": "stderr",
     "output_type": "stream",
     "text": [
      "INFO:tensorflow:loss = 47344333000.0, step = 10901 (0.187 sec)\n"
     ]
    },
    {
     "name": "stdout",
     "output_type": "stream",
     "text": [
      "INFO:tensorflow:global_step/sec: 570.809\n"
     ]
    },
    {
     "name": "stderr",
     "output_type": "stream",
     "text": [
      "INFO:tensorflow:global_step/sec: 570.809\n"
     ]
    },
    {
     "name": "stdout",
     "output_type": "stream",
     "text": [
      "INFO:tensorflow:loss = 45681275000.0, step = 11001 (0.173 sec)\n"
     ]
    },
    {
     "name": "stderr",
     "output_type": "stream",
     "text": [
      "INFO:tensorflow:loss = 45681275000.0, step = 11001 (0.173 sec)\n"
     ]
    },
    {
     "name": "stdout",
     "output_type": "stream",
     "text": [
      "INFO:tensorflow:global_step/sec: 540.854\n"
     ]
    },
    {
     "name": "stderr",
     "output_type": "stream",
     "text": [
      "INFO:tensorflow:global_step/sec: 540.854\n"
     ]
    },
    {
     "name": "stdout",
     "output_type": "stream",
     "text": [
      "INFO:tensorflow:loss = 81188450000.0, step = 11101 (0.188 sec)\n"
     ]
    },
    {
     "name": "stderr",
     "output_type": "stream",
     "text": [
      "INFO:tensorflow:loss = 81188450000.0, step = 11101 (0.188 sec)\n"
     ]
    },
    {
     "name": "stdout",
     "output_type": "stream",
     "text": [
      "INFO:tensorflow:global_step/sec: 555.546\n"
     ]
    },
    {
     "name": "stderr",
     "output_type": "stream",
     "text": [
      "INFO:tensorflow:global_step/sec: 555.546\n"
     ]
    },
    {
     "name": "stdout",
     "output_type": "stream",
     "text": [
      "INFO:tensorflow:loss = 108489020000.0, step = 11201 (0.181 sec)\n"
     ]
    },
    {
     "name": "stderr",
     "output_type": "stream",
     "text": [
      "INFO:tensorflow:loss = 108489020000.0, step = 11201 (0.181 sec)\n"
     ]
    },
    {
     "name": "stdout",
     "output_type": "stream",
     "text": [
      "INFO:tensorflow:global_step/sec: 579.029\n"
     ]
    },
    {
     "name": "stderr",
     "output_type": "stream",
     "text": [
      "INFO:tensorflow:global_step/sec: 579.029\n"
     ]
    },
    {
     "name": "stdout",
     "output_type": "stream",
     "text": [
      "INFO:tensorflow:loss = 88596636000.0, step = 11301 (0.171 sec)\n"
     ]
    },
    {
     "name": "stderr",
     "output_type": "stream",
     "text": [
      "INFO:tensorflow:loss = 88596636000.0, step = 11301 (0.171 sec)\n"
     ]
    },
    {
     "name": "stdout",
     "output_type": "stream",
     "text": [
      "INFO:tensorflow:global_step/sec: 606.462\n"
     ]
    },
    {
     "name": "stderr",
     "output_type": "stream",
     "text": [
      "INFO:tensorflow:global_step/sec: 606.462\n"
     ]
    },
    {
     "name": "stdout",
     "output_type": "stream",
     "text": [
      "INFO:tensorflow:loss = 85963230000.0, step = 11401 (0.165 sec)\n"
     ]
    },
    {
     "name": "stderr",
     "output_type": "stream",
     "text": [
      "INFO:tensorflow:loss = 85963230000.0, step = 11401 (0.165 sec)\n"
     ]
    },
    {
     "name": "stdout",
     "output_type": "stream",
     "text": [
      "INFO:tensorflow:global_step/sec: 585.168\n"
     ]
    },
    {
     "name": "stderr",
     "output_type": "stream",
     "text": [
      "INFO:tensorflow:global_step/sec: 585.168\n"
     ]
    },
    {
     "name": "stdout",
     "output_type": "stream",
     "text": [
      "INFO:tensorflow:loss = 163604430000.0, step = 11501 (0.167 sec)\n"
     ]
    },
    {
     "name": "stderr",
     "output_type": "stream",
     "text": [
      "INFO:tensorflow:loss = 163604430000.0, step = 11501 (0.167 sec)\n"
     ]
    },
    {
     "name": "stdout",
     "output_type": "stream",
     "text": [
      "INFO:tensorflow:global_step/sec: 602.148\n"
     ]
    },
    {
     "name": "stderr",
     "output_type": "stream",
     "text": [
      "INFO:tensorflow:global_step/sec: 602.148\n"
     ]
    },
    {
     "name": "stdout",
     "output_type": "stream",
     "text": [
      "INFO:tensorflow:loss = 103252200000.0, step = 11601 (0.170 sec)\n"
     ]
    },
    {
     "name": "stderr",
     "output_type": "stream",
     "text": [
      "INFO:tensorflow:loss = 103252200000.0, step = 11601 (0.170 sec)\n"
     ]
    },
    {
     "name": "stdout",
     "output_type": "stream",
     "text": [
      "INFO:tensorflow:global_step/sec: 569.58\n"
     ]
    },
    {
     "name": "stderr",
     "output_type": "stream",
     "text": [
      "INFO:tensorflow:global_step/sec: 569.58\n"
     ]
    },
    {
     "name": "stdout",
     "output_type": "stream",
     "text": [
      "INFO:tensorflow:loss = 55009268000.0, step = 11701 (0.176 sec)\n"
     ]
    },
    {
     "name": "stderr",
     "output_type": "stream",
     "text": [
      "INFO:tensorflow:loss = 55009268000.0, step = 11701 (0.176 sec)\n"
     ]
    },
    {
     "name": "stdout",
     "output_type": "stream",
     "text": [
      "INFO:tensorflow:global_step/sec: 541.952\n"
     ]
    },
    {
     "name": "stderr",
     "output_type": "stream",
     "text": [
      "INFO:tensorflow:global_step/sec: 541.952\n"
     ]
    },
    {
     "name": "stdout",
     "output_type": "stream",
     "text": [
      "INFO:tensorflow:loss = 177883450000.0, step = 11801 (0.182 sec)\n"
     ]
    },
    {
     "name": "stderr",
     "output_type": "stream",
     "text": [
      "INFO:tensorflow:loss = 177883450000.0, step = 11801 (0.182 sec)\n"
     ]
    },
    {
     "name": "stdout",
     "output_type": "stream",
     "text": [
      "INFO:tensorflow:global_step/sec: 657.692\n"
     ]
    },
    {
     "name": "stderr",
     "output_type": "stream",
     "text": [
      "INFO:tensorflow:global_step/sec: 657.692\n"
     ]
    },
    {
     "name": "stdout",
     "output_type": "stream",
     "text": [
      "INFO:tensorflow:loss = 130736260000.0, step = 11901 (0.154 sec)\n"
     ]
    },
    {
     "name": "stderr",
     "output_type": "stream",
     "text": [
      "INFO:tensorflow:loss = 130736260000.0, step = 11901 (0.154 sec)\n"
     ]
    },
    {
     "name": "stdout",
     "output_type": "stream",
     "text": [
      "INFO:tensorflow:global_step/sec: 569.528\n"
     ]
    },
    {
     "name": "stderr",
     "output_type": "stream",
     "text": [
      "INFO:tensorflow:global_step/sec: 569.528\n"
     ]
    },
    {
     "name": "stdout",
     "output_type": "stream",
     "text": [
      "INFO:tensorflow:loss = 110723330000.0, step = 12001 (0.172 sec)\n"
     ]
    },
    {
     "name": "stderr",
     "output_type": "stream",
     "text": [
      "INFO:tensorflow:loss = 110723330000.0, step = 12001 (0.172 sec)\n"
     ]
    },
    {
     "name": "stdout",
     "output_type": "stream",
     "text": [
      "INFO:tensorflow:global_step/sec: 564.401\n"
     ]
    },
    {
     "name": "stderr",
     "output_type": "stream",
     "text": [
      "INFO:tensorflow:global_step/sec: 564.401\n"
     ]
    },
    {
     "name": "stdout",
     "output_type": "stream",
     "text": [
      "INFO:tensorflow:loss = 88626790000.0, step = 12101 (0.179 sec)\n"
     ]
    },
    {
     "name": "stderr",
     "output_type": "stream",
     "text": [
      "INFO:tensorflow:loss = 88626790000.0, step = 12101 (0.179 sec)\n"
     ]
    },
    {
     "name": "stdout",
     "output_type": "stream",
     "text": [
      "INFO:tensorflow:global_step/sec: 583.679\n"
     ]
    },
    {
     "name": "stderr",
     "output_type": "stream",
     "text": [
      "INFO:tensorflow:global_step/sec: 583.679\n"
     ]
    },
    {
     "name": "stdout",
     "output_type": "stream",
     "text": [
      "INFO:tensorflow:loss = 80289915000.0, step = 12201 (0.170 sec)\n"
     ]
    },
    {
     "name": "stderr",
     "output_type": "stream",
     "text": [
      "INFO:tensorflow:loss = 80289915000.0, step = 12201 (0.170 sec)\n"
     ]
    },
    {
     "name": "stdout",
     "output_type": "stream",
     "text": [
      "INFO:tensorflow:global_step/sec: 563.51\n"
     ]
    },
    {
     "name": "stderr",
     "output_type": "stream",
     "text": [
      "INFO:tensorflow:global_step/sec: 563.51\n"
     ]
    },
    {
     "name": "stdout",
     "output_type": "stream",
     "text": [
      "INFO:tensorflow:loss = 72710570000.0, step = 12301 (0.178 sec)\n"
     ]
    },
    {
     "name": "stderr",
     "output_type": "stream",
     "text": [
      "INFO:tensorflow:loss = 72710570000.0, step = 12301 (0.178 sec)\n"
     ]
    },
    {
     "name": "stdout",
     "output_type": "stream",
     "text": [
      "INFO:tensorflow:global_step/sec: 565.826\n"
     ]
    },
    {
     "name": "stderr",
     "output_type": "stream",
     "text": [
      "INFO:tensorflow:global_step/sec: 565.826\n"
     ]
    },
    {
     "name": "stdout",
     "output_type": "stream",
     "text": [
      "INFO:tensorflow:loss = 55982137000.0, step = 12401 (0.177 sec)\n"
     ]
    },
    {
     "name": "stderr",
     "output_type": "stream",
     "text": [
      "INFO:tensorflow:loss = 55982137000.0, step = 12401 (0.177 sec)\n"
     ]
    },
    {
     "name": "stdout",
     "output_type": "stream",
     "text": [
      "INFO:tensorflow:global_step/sec: 525.041\n"
     ]
    },
    {
     "name": "stderr",
     "output_type": "stream",
     "text": [
      "INFO:tensorflow:global_step/sec: 525.041\n"
     ]
    },
    {
     "name": "stdout",
     "output_type": "stream",
     "text": [
      "INFO:tensorflow:loss = 151118040000.0, step = 12501 (0.190 sec)\n"
     ]
    },
    {
     "name": "stderr",
     "output_type": "stream",
     "text": [
      "INFO:tensorflow:loss = 151118040000.0, step = 12501 (0.190 sec)\n"
     ]
    },
    {
     "name": "stdout",
     "output_type": "stream",
     "text": [
      "INFO:tensorflow:global_step/sec: 532.223\n"
     ]
    },
    {
     "name": "stderr",
     "output_type": "stream",
     "text": [
      "INFO:tensorflow:global_step/sec: 532.223\n"
     ]
    },
    {
     "name": "stdout",
     "output_type": "stream",
     "text": [
      "INFO:tensorflow:loss = 160339460000.0, step = 12601 (0.188 sec)\n"
     ]
    },
    {
     "name": "stderr",
     "output_type": "stream",
     "text": [
      "INFO:tensorflow:loss = 160339460000.0, step = 12601 (0.188 sec)\n"
     ]
    },
    {
     "name": "stdout",
     "output_type": "stream",
     "text": [
      "INFO:tensorflow:global_step/sec: 564.026\n"
     ]
    },
    {
     "name": "stderr",
     "output_type": "stream",
     "text": [
      "INFO:tensorflow:global_step/sec: 564.026\n"
     ]
    },
    {
     "name": "stdout",
     "output_type": "stream",
     "text": [
      "INFO:tensorflow:loss = 58946404000.0, step = 12701 (0.178 sec)\n"
     ]
    },
    {
     "name": "stderr",
     "output_type": "stream",
     "text": [
      "INFO:tensorflow:loss = 58946404000.0, step = 12701 (0.178 sec)\n"
     ]
    },
    {
     "name": "stdout",
     "output_type": "stream",
     "text": [
      "INFO:tensorflow:global_step/sec: 587.144\n"
     ]
    },
    {
     "name": "stderr",
     "output_type": "stream",
     "text": [
      "INFO:tensorflow:global_step/sec: 587.144\n"
     ]
    },
    {
     "name": "stdout",
     "output_type": "stream",
     "text": [
      "INFO:tensorflow:loss = 95372030000.0, step = 12801 (0.169 sec)\n"
     ]
    },
    {
     "name": "stderr",
     "output_type": "stream",
     "text": [
      "INFO:tensorflow:loss = 95372030000.0, step = 12801 (0.169 sec)\n"
     ]
    },
    {
     "name": "stdout",
     "output_type": "stream",
     "text": [
      "INFO:tensorflow:global_step/sec: 542.263\n"
     ]
    },
    {
     "name": "stderr",
     "output_type": "stream",
     "text": [
      "INFO:tensorflow:global_step/sec: 542.263\n"
     ]
    },
    {
     "name": "stdout",
     "output_type": "stream",
     "text": [
      "INFO:tensorflow:loss = 139124950000.0, step = 12901 (0.185 sec)\n"
     ]
    },
    {
     "name": "stderr",
     "output_type": "stream",
     "text": [
      "INFO:tensorflow:loss = 139124950000.0, step = 12901 (0.185 sec)\n"
     ]
    },
    {
     "name": "stdout",
     "output_type": "stream",
     "text": [
      "INFO:tensorflow:global_step/sec: 550.312\n"
     ]
    },
    {
     "name": "stderr",
     "output_type": "stream",
     "text": [
      "INFO:tensorflow:global_step/sec: 550.312\n"
     ]
    },
    {
     "name": "stdout",
     "output_type": "stream",
     "text": [
      "INFO:tensorflow:loss = 96663810000.0, step = 13001 (0.182 sec)\n"
     ]
    },
    {
     "name": "stderr",
     "output_type": "stream",
     "text": [
      "INFO:tensorflow:loss = 96663810000.0, step = 13001 (0.182 sec)\n"
     ]
    },
    {
     "name": "stdout",
     "output_type": "stream",
     "text": [
      "INFO:tensorflow:global_step/sec: 502.205\n"
     ]
    },
    {
     "name": "stderr",
     "output_type": "stream",
     "text": [
      "INFO:tensorflow:global_step/sec: 502.205\n"
     ]
    },
    {
     "name": "stdout",
     "output_type": "stream",
     "text": [
      "INFO:tensorflow:loss = 111065620000.0, step = 13101 (0.198 sec)\n"
     ]
    },
    {
     "name": "stderr",
     "output_type": "stream",
     "text": [
      "INFO:tensorflow:loss = 111065620000.0, step = 13101 (0.198 sec)\n"
     ]
    },
    {
     "name": "stdout",
     "output_type": "stream",
     "text": [
      "INFO:tensorflow:global_step/sec: 548.628\n"
     ]
    },
    {
     "name": "stderr",
     "output_type": "stream",
     "text": [
      "INFO:tensorflow:global_step/sec: 548.628\n"
     ]
    },
    {
     "name": "stdout",
     "output_type": "stream",
     "text": [
      "INFO:tensorflow:loss = 139148170000.0, step = 13201 (0.185 sec)\n"
     ]
    },
    {
     "name": "stderr",
     "output_type": "stream",
     "text": [
      "INFO:tensorflow:loss = 139148170000.0, step = 13201 (0.185 sec)\n"
     ]
    },
    {
     "name": "stdout",
     "output_type": "stream",
     "text": [
      "INFO:tensorflow:global_step/sec: 621.813\n"
     ]
    },
    {
     "name": "stderr",
     "output_type": "stream",
     "text": [
      "INFO:tensorflow:global_step/sec: 621.813\n"
     ]
    },
    {
     "name": "stdout",
     "output_type": "stream",
     "text": [
      "INFO:tensorflow:loss = 187899080000.0, step = 13301 (0.161 sec)\n"
     ]
    },
    {
     "name": "stderr",
     "output_type": "stream",
     "text": [
      "INFO:tensorflow:loss = 187899080000.0, step = 13301 (0.161 sec)\n"
     ]
    },
    {
     "name": "stdout",
     "output_type": "stream",
     "text": [
      "INFO:tensorflow:global_step/sec: 584.614\n"
     ]
    },
    {
     "name": "stderr",
     "output_type": "stream",
     "text": [
      "INFO:tensorflow:global_step/sec: 584.614\n"
     ]
    },
    {
     "name": "stdout",
     "output_type": "stream",
     "text": [
      "INFO:tensorflow:loss = 143527170000.0, step = 13401 (0.173 sec)\n"
     ]
    },
    {
     "name": "stderr",
     "output_type": "stream",
     "text": [
      "INFO:tensorflow:loss = 143527170000.0, step = 13401 (0.173 sec)\n"
     ]
    },
    {
     "name": "stdout",
     "output_type": "stream",
     "text": [
      "INFO:tensorflow:global_step/sec: 555.692\n"
     ]
    },
    {
     "name": "stderr",
     "output_type": "stream",
     "text": [
      "INFO:tensorflow:global_step/sec: 555.692\n"
     ]
    },
    {
     "name": "stdout",
     "output_type": "stream",
     "text": [
      "INFO:tensorflow:loss = 150859900000.0, step = 13501 (0.178 sec)\n"
     ]
    },
    {
     "name": "stderr",
     "output_type": "stream",
     "text": [
      "INFO:tensorflow:loss = 150859900000.0, step = 13501 (0.178 sec)\n"
     ]
    },
    {
     "name": "stdout",
     "output_type": "stream",
     "text": [
      "INFO:tensorflow:global_step/sec: 558.353\n"
     ]
    },
    {
     "name": "stderr",
     "output_type": "stream",
     "text": [
      "INFO:tensorflow:global_step/sec: 558.353\n"
     ]
    },
    {
     "name": "stdout",
     "output_type": "stream",
     "text": [
      "INFO:tensorflow:loss = 76504990000.0, step = 13601 (0.178 sec)\n"
     ]
    },
    {
     "name": "stderr",
     "output_type": "stream",
     "text": [
      "INFO:tensorflow:loss = 76504990000.0, step = 13601 (0.178 sec)\n"
     ]
    },
    {
     "name": "stdout",
     "output_type": "stream",
     "text": [
      "INFO:tensorflow:global_step/sec: 556.069\n"
     ]
    },
    {
     "name": "stderr",
     "output_type": "stream",
     "text": [
      "INFO:tensorflow:global_step/sec: 556.069\n"
     ]
    },
    {
     "name": "stdout",
     "output_type": "stream",
     "text": [
      "INFO:tensorflow:loss = 132270460000.0, step = 13701 (0.179 sec)\n"
     ]
    },
    {
     "name": "stderr",
     "output_type": "stream",
     "text": [
      "INFO:tensorflow:loss = 132270460000.0, step = 13701 (0.179 sec)\n"
     ]
    },
    {
     "name": "stdout",
     "output_type": "stream",
     "text": [
      "INFO:tensorflow:global_step/sec: 529.221\n"
     ]
    },
    {
     "name": "stderr",
     "output_type": "stream",
     "text": [
      "INFO:tensorflow:global_step/sec: 529.221\n"
     ]
    },
    {
     "name": "stdout",
     "output_type": "stream",
     "text": [
      "INFO:tensorflow:loss = 88122700000.0, step = 13801 (0.195 sec)\n"
     ]
    },
    {
     "name": "stderr",
     "output_type": "stream",
     "text": [
      "INFO:tensorflow:loss = 88122700000.0, step = 13801 (0.195 sec)\n"
     ]
    },
    {
     "name": "stdout",
     "output_type": "stream",
     "text": [
      "INFO:tensorflow:global_step/sec: 589.285\n"
     ]
    },
    {
     "name": "stderr",
     "output_type": "stream",
     "text": [
      "INFO:tensorflow:global_step/sec: 589.285\n"
     ]
    },
    {
     "name": "stdout",
     "output_type": "stream",
     "text": [
      "INFO:tensorflow:loss = 104387230000.0, step = 13901 (0.164 sec)\n"
     ]
    },
    {
     "name": "stderr",
     "output_type": "stream",
     "text": [
      "INFO:tensorflow:loss = 104387230000.0, step = 13901 (0.164 sec)\n"
     ]
    },
    {
     "name": "stdout",
     "output_type": "stream",
     "text": [
      "INFO:tensorflow:global_step/sec: 609.916\n"
     ]
    },
    {
     "name": "stderr",
     "output_type": "stream",
     "text": [
      "INFO:tensorflow:global_step/sec: 609.916\n"
     ]
    },
    {
     "name": "stdout",
     "output_type": "stream",
     "text": [
      "INFO:tensorflow:loss = 150950690000.0, step = 14001 (0.163 sec)\n"
     ]
    },
    {
     "name": "stderr",
     "output_type": "stream",
     "text": [
      "INFO:tensorflow:loss = 150950690000.0, step = 14001 (0.163 sec)\n"
     ]
    },
    {
     "name": "stdout",
     "output_type": "stream",
     "text": [
      "INFO:tensorflow:global_step/sec: 583.586\n"
     ]
    },
    {
     "name": "stderr",
     "output_type": "stream",
     "text": [
      "INFO:tensorflow:global_step/sec: 583.586\n"
     ]
    },
    {
     "name": "stdout",
     "output_type": "stream",
     "text": [
      "INFO:tensorflow:loss = 54160753000.0, step = 14101 (0.173 sec)\n"
     ]
    },
    {
     "name": "stderr",
     "output_type": "stream",
     "text": [
      "INFO:tensorflow:loss = 54160753000.0, step = 14101 (0.173 sec)\n"
     ]
    },
    {
     "name": "stdout",
     "output_type": "stream",
     "text": [
      "INFO:tensorflow:global_step/sec: 591.023\n"
     ]
    },
    {
     "name": "stderr",
     "output_type": "stream",
     "text": [
      "INFO:tensorflow:global_step/sec: 591.023\n"
     ]
    },
    {
     "name": "stdout",
     "output_type": "stream",
     "text": [
      "INFO:tensorflow:loss = 103591140000.0, step = 14201 (0.175 sec)\n"
     ]
    },
    {
     "name": "stderr",
     "output_type": "stream",
     "text": [
      "INFO:tensorflow:loss = 103591140000.0, step = 14201 (0.175 sec)\n"
     ]
    },
    {
     "name": "stdout",
     "output_type": "stream",
     "text": [
      "INFO:tensorflow:global_step/sec: 533.169\n"
     ]
    },
    {
     "name": "stderr",
     "output_type": "stream",
     "text": [
      "INFO:tensorflow:global_step/sec: 533.169\n"
     ]
    },
    {
     "name": "stdout",
     "output_type": "stream",
     "text": [
      "INFO:tensorflow:loss = 131896770000.0, step = 14301 (0.180 sec)\n"
     ]
    },
    {
     "name": "stderr",
     "output_type": "stream",
     "text": [
      "INFO:tensorflow:loss = 131896770000.0, step = 14301 (0.180 sec)\n"
     ]
    },
    {
     "name": "stdout",
     "output_type": "stream",
     "text": [
      "INFO:tensorflow:global_step/sec: 560.847\n"
     ]
    },
    {
     "name": "stderr",
     "output_type": "stream",
     "text": [
      "INFO:tensorflow:global_step/sec: 560.847\n"
     ]
    },
    {
     "name": "stdout",
     "output_type": "stream",
     "text": [
      "INFO:tensorflow:loss = 139705780000.0, step = 14401 (0.181 sec)\n"
     ]
    },
    {
     "name": "stderr",
     "output_type": "stream",
     "text": [
      "INFO:tensorflow:loss = 139705780000.0, step = 14401 (0.181 sec)\n"
     ]
    },
    {
     "name": "stdout",
     "output_type": "stream",
     "text": [
      "INFO:tensorflow:global_step/sec: 580.372\n"
     ]
    },
    {
     "name": "stderr",
     "output_type": "stream",
     "text": [
      "INFO:tensorflow:global_step/sec: 580.372\n"
     ]
    },
    {
     "name": "stdout",
     "output_type": "stream",
     "text": [
      "INFO:tensorflow:loss = 167757270000.0, step = 14501 (0.170 sec)\n"
     ]
    },
    {
     "name": "stderr",
     "output_type": "stream",
     "text": [
      "INFO:tensorflow:loss = 167757270000.0, step = 14501 (0.170 sec)\n"
     ]
    },
    {
     "name": "stdout",
     "output_type": "stream",
     "text": [
      "INFO:tensorflow:global_step/sec: 622.573\n"
     ]
    },
    {
     "name": "stderr",
     "output_type": "stream",
     "text": [
      "INFO:tensorflow:global_step/sec: 622.573\n"
     ]
    },
    {
     "name": "stdout",
     "output_type": "stream",
     "text": [
      "INFO:tensorflow:loss = 113951230000.0, step = 14601 (0.164 sec)\n"
     ]
    },
    {
     "name": "stderr",
     "output_type": "stream",
     "text": [
      "INFO:tensorflow:loss = 113951230000.0, step = 14601 (0.164 sec)\n"
     ]
    },
    {
     "name": "stdout",
     "output_type": "stream",
     "text": [
      "INFO:tensorflow:global_step/sec: 538.111\n"
     ]
    },
    {
     "name": "stderr",
     "output_type": "stream",
     "text": [
      "INFO:tensorflow:global_step/sec: 538.111\n"
     ]
    },
    {
     "name": "stdout",
     "output_type": "stream",
     "text": [
      "INFO:tensorflow:loss = 202138290000.0, step = 14701 (0.184 sec)\n"
     ]
    },
    {
     "name": "stderr",
     "output_type": "stream",
     "text": [
      "INFO:tensorflow:loss = 202138290000.0, step = 14701 (0.184 sec)\n"
     ]
    },
    {
     "name": "stdout",
     "output_type": "stream",
     "text": [
      "INFO:tensorflow:global_step/sec: 525.384\n"
     ]
    },
    {
     "name": "stderr",
     "output_type": "stream",
     "text": [
      "INFO:tensorflow:global_step/sec: 525.384\n"
     ]
    },
    {
     "name": "stdout",
     "output_type": "stream",
     "text": [
      "INFO:tensorflow:loss = 88250320000.0, step = 14801 (0.190 sec)\n"
     ]
    },
    {
     "name": "stderr",
     "output_type": "stream",
     "text": [
      "INFO:tensorflow:loss = 88250320000.0, step = 14801 (0.190 sec)\n"
     ]
    },
    {
     "name": "stdout",
     "output_type": "stream",
     "text": [
      "INFO:tensorflow:global_step/sec: 593.743\n"
     ]
    },
    {
     "name": "stderr",
     "output_type": "stream",
     "text": [
      "INFO:tensorflow:global_step/sec: 593.743\n"
     ]
    },
    {
     "name": "stdout",
     "output_type": "stream",
     "text": [
      "INFO:tensorflow:loss = 121196265000.0, step = 14901 (0.170 sec)\n"
     ]
    },
    {
     "name": "stderr",
     "output_type": "stream",
     "text": [
      "INFO:tensorflow:loss = 121196265000.0, step = 14901 (0.170 sec)\n"
     ]
    },
    {
     "name": "stdout",
     "output_type": "stream",
     "text": [
      "INFO:tensorflow:global_step/sec: 521.934\n"
     ]
    },
    {
     "name": "stderr",
     "output_type": "stream",
     "text": [
      "INFO:tensorflow:global_step/sec: 521.934\n"
     ]
    },
    {
     "name": "stdout",
     "output_type": "stream",
     "text": [
      "INFO:tensorflow:loss = 59559477000.0, step = 15001 (0.189 sec)\n"
     ]
    },
    {
     "name": "stderr",
     "output_type": "stream",
     "text": [
      "INFO:tensorflow:loss = 59559477000.0, step = 15001 (0.189 sec)\n"
     ]
    },
    {
     "name": "stdout",
     "output_type": "stream",
     "text": [
      "INFO:tensorflow:global_step/sec: 568.221\n"
     ]
    },
    {
     "name": "stderr",
     "output_type": "stream",
     "text": [
      "INFO:tensorflow:global_step/sec: 568.221\n"
     ]
    },
    {
     "name": "stdout",
     "output_type": "stream",
     "text": [
      "INFO:tensorflow:loss = 39642900000.0, step = 15101 (0.177 sec)\n"
     ]
    },
    {
     "name": "stderr",
     "output_type": "stream",
     "text": [
      "INFO:tensorflow:loss = 39642900000.0, step = 15101 (0.177 sec)\n"
     ]
    },
    {
     "name": "stdout",
     "output_type": "stream",
     "text": [
      "INFO:tensorflow:global_step/sec: 532.859\n"
     ]
    },
    {
     "name": "stderr",
     "output_type": "stream",
     "text": [
      "INFO:tensorflow:global_step/sec: 532.859\n"
     ]
    },
    {
     "name": "stdout",
     "output_type": "stream",
     "text": [
      "INFO:tensorflow:loss = 142519520000.0, step = 15201 (0.189 sec)\n"
     ]
    },
    {
     "name": "stderr",
     "output_type": "stream",
     "text": [
      "INFO:tensorflow:loss = 142519520000.0, step = 15201 (0.189 sec)\n"
     ]
    },
    {
     "name": "stdout",
     "output_type": "stream",
     "text": [
      "INFO:tensorflow:global_step/sec: 467.185\n"
     ]
    },
    {
     "name": "stderr",
     "output_type": "stream",
     "text": [
      "INFO:tensorflow:global_step/sec: 467.185\n"
     ]
    },
    {
     "name": "stdout",
     "output_type": "stream",
     "text": [
      "INFO:tensorflow:loss = 26161000000.0, step = 15301 (0.215 sec)\n"
     ]
    },
    {
     "name": "stderr",
     "output_type": "stream",
     "text": [
      "INFO:tensorflow:loss = 26161000000.0, step = 15301 (0.215 sec)\n"
     ]
    },
    {
     "name": "stdout",
     "output_type": "stream",
     "text": [
      "INFO:tensorflow:global_step/sec: 556.997\n"
     ]
    },
    {
     "name": "stderr",
     "output_type": "stream",
     "text": [
      "INFO:tensorflow:global_step/sec: 556.997\n"
     ]
    },
    {
     "name": "stdout",
     "output_type": "stream",
     "text": [
      "INFO:tensorflow:loss = 81034440000.0, step = 15401 (0.177 sec)\n"
     ]
    },
    {
     "name": "stderr",
     "output_type": "stream",
     "text": [
      "INFO:tensorflow:loss = 81034440000.0, step = 15401 (0.177 sec)\n"
     ]
    },
    {
     "name": "stdout",
     "output_type": "stream",
     "text": [
      "INFO:tensorflow:global_step/sec: 497.629\n"
     ]
    },
    {
     "name": "stderr",
     "output_type": "stream",
     "text": [
      "INFO:tensorflow:global_step/sec: 497.629\n"
     ]
    },
    {
     "name": "stdout",
     "output_type": "stream",
     "text": [
      "INFO:tensorflow:loss = 109617170000.0, step = 15501 (0.203 sec)\n"
     ]
    },
    {
     "name": "stderr",
     "output_type": "stream",
     "text": [
      "INFO:tensorflow:loss = 109617170000.0, step = 15501 (0.203 sec)\n"
     ]
    },
    {
     "name": "stdout",
     "output_type": "stream",
     "text": [
      "INFO:tensorflow:global_step/sec: 529.983\n"
     ]
    },
    {
     "name": "stderr",
     "output_type": "stream",
     "text": [
      "INFO:tensorflow:global_step/sec: 529.983\n"
     ]
    },
    {
     "name": "stdout",
     "output_type": "stream",
     "text": [
      "INFO:tensorflow:loss = 43302674000.0, step = 15601 (0.188 sec)\n"
     ]
    },
    {
     "name": "stderr",
     "output_type": "stream",
     "text": [
      "INFO:tensorflow:loss = 43302674000.0, step = 15601 (0.188 sec)\n"
     ]
    },
    {
     "name": "stdout",
     "output_type": "stream",
     "text": [
      "INFO:tensorflow:global_step/sec: 612.157\n"
     ]
    },
    {
     "name": "stderr",
     "output_type": "stream",
     "text": [
      "INFO:tensorflow:global_step/sec: 612.157\n"
     ]
    },
    {
     "name": "stdout",
     "output_type": "stream",
     "text": [
      "INFO:tensorflow:loss = 56952152000.0, step = 15701 (0.166 sec)\n"
     ]
    },
    {
     "name": "stderr",
     "output_type": "stream",
     "text": [
      "INFO:tensorflow:loss = 56952152000.0, step = 15701 (0.166 sec)\n"
     ]
    },
    {
     "name": "stdout",
     "output_type": "stream",
     "text": [
      "INFO:tensorflow:global_step/sec: 532.478\n"
     ]
    },
    {
     "name": "stderr",
     "output_type": "stream",
     "text": [
      "INFO:tensorflow:global_step/sec: 532.478\n"
     ]
    },
    {
     "name": "stdout",
     "output_type": "stream",
     "text": [
      "INFO:tensorflow:loss = 86595780000.0, step = 15801 (0.187 sec)\n"
     ]
    },
    {
     "name": "stderr",
     "output_type": "stream",
     "text": [
      "INFO:tensorflow:loss = 86595780000.0, step = 15801 (0.187 sec)\n"
     ]
    },
    {
     "name": "stdout",
     "output_type": "stream",
     "text": [
      "INFO:tensorflow:global_step/sec: 533.174\n"
     ]
    },
    {
     "name": "stderr",
     "output_type": "stream",
     "text": [
      "INFO:tensorflow:global_step/sec: 533.174\n"
     ]
    },
    {
     "name": "stdout",
     "output_type": "stream",
     "text": [
      "INFO:tensorflow:loss = 60646867000.0, step = 15901 (0.185 sec)\n"
     ]
    },
    {
     "name": "stderr",
     "output_type": "stream",
     "text": [
      "INFO:tensorflow:loss = 60646867000.0, step = 15901 (0.185 sec)\n"
     ]
    },
    {
     "name": "stdout",
     "output_type": "stream",
     "text": [
      "INFO:tensorflow:global_step/sec: 549.179\n"
     ]
    },
    {
     "name": "stderr",
     "output_type": "stream",
     "text": [
      "INFO:tensorflow:global_step/sec: 549.179\n"
     ]
    },
    {
     "name": "stdout",
     "output_type": "stream",
     "text": [
      "INFO:tensorflow:loss = 86040300000.0, step = 16001 (0.187 sec)\n"
     ]
    },
    {
     "name": "stderr",
     "output_type": "stream",
     "text": [
      "INFO:tensorflow:loss = 86040300000.0, step = 16001 (0.187 sec)\n"
     ]
    },
    {
     "name": "stdout",
     "output_type": "stream",
     "text": [
      "INFO:tensorflow:global_step/sec: 556.53\n"
     ]
    },
    {
     "name": "stderr",
     "output_type": "stream",
     "text": [
      "INFO:tensorflow:global_step/sec: 556.53\n"
     ]
    },
    {
     "name": "stdout",
     "output_type": "stream",
     "text": [
      "INFO:tensorflow:loss = 72695130000.0, step = 16101 (0.177 sec)\n"
     ]
    },
    {
     "name": "stderr",
     "output_type": "stream",
     "text": [
      "INFO:tensorflow:loss = 72695130000.0, step = 16101 (0.177 sec)\n"
     ]
    },
    {
     "name": "stdout",
     "output_type": "stream",
     "text": [
      "INFO:tensorflow:global_step/sec: 539.753\n"
     ]
    },
    {
     "name": "stderr",
     "output_type": "stream",
     "text": [
      "INFO:tensorflow:global_step/sec: 539.753\n"
     ]
    },
    {
     "name": "stdout",
     "output_type": "stream",
     "text": [
      "INFO:tensorflow:loss = 164340070000.0, step = 16201 (0.187 sec)\n"
     ]
    },
    {
     "name": "stderr",
     "output_type": "stream",
     "text": [
      "INFO:tensorflow:loss = 164340070000.0, step = 16201 (0.187 sec)\n"
     ]
    },
    {
     "name": "stdout",
     "output_type": "stream",
     "text": [
      "INFO:tensorflow:global_step/sec: 504.602\n"
     ]
    },
    {
     "name": "stderr",
     "output_type": "stream",
     "text": [
      "INFO:tensorflow:global_step/sec: 504.602\n"
     ]
    },
    {
     "name": "stdout",
     "output_type": "stream",
     "text": [
      "INFO:tensorflow:loss = 110221070000.0, step = 16301 (0.197 sec)\n"
     ]
    },
    {
     "name": "stderr",
     "output_type": "stream",
     "text": [
      "INFO:tensorflow:loss = 110221070000.0, step = 16301 (0.197 sec)\n"
     ]
    },
    {
     "name": "stdout",
     "output_type": "stream",
     "text": [
      "INFO:tensorflow:global_step/sec: 503.388\n"
     ]
    },
    {
     "name": "stderr",
     "output_type": "stream",
     "text": [
      "INFO:tensorflow:global_step/sec: 503.388\n"
     ]
    },
    {
     "name": "stdout",
     "output_type": "stream",
     "text": [
      "INFO:tensorflow:loss = 82122180000.0, step = 16401 (0.201 sec)\n"
     ]
    },
    {
     "name": "stderr",
     "output_type": "stream",
     "text": [
      "INFO:tensorflow:loss = 82122180000.0, step = 16401 (0.201 sec)\n"
     ]
    },
    {
     "name": "stdout",
     "output_type": "stream",
     "text": [
      "INFO:tensorflow:global_step/sec: 558.153\n"
     ]
    },
    {
     "name": "stderr",
     "output_type": "stream",
     "text": [
      "INFO:tensorflow:global_step/sec: 558.153\n"
     ]
    },
    {
     "name": "stdout",
     "output_type": "stream",
     "text": [
      "INFO:tensorflow:loss = 253741420000.0, step = 16501 (0.183 sec)\n"
     ]
    },
    {
     "name": "stderr",
     "output_type": "stream",
     "text": [
      "INFO:tensorflow:loss = 253741420000.0, step = 16501 (0.183 sec)\n"
     ]
    },
    {
     "name": "stdout",
     "output_type": "stream",
     "text": [
      "INFO:tensorflow:global_step/sec: 609.842\n"
     ]
    },
    {
     "name": "stderr",
     "output_type": "stream",
     "text": [
      "INFO:tensorflow:global_step/sec: 609.842\n"
     ]
    },
    {
     "name": "stdout",
     "output_type": "stream",
     "text": [
      "INFO:tensorflow:loss = 86399220000.0, step = 16601 (0.160 sec)\n"
     ]
    },
    {
     "name": "stderr",
     "output_type": "stream",
     "text": [
      "INFO:tensorflow:loss = 86399220000.0, step = 16601 (0.160 sec)\n"
     ]
    },
    {
     "name": "stdout",
     "output_type": "stream",
     "text": [
      "INFO:tensorflow:global_step/sec: 559.88\n"
     ]
    },
    {
     "name": "stderr",
     "output_type": "stream",
     "text": [
      "INFO:tensorflow:global_step/sec: 559.88\n"
     ]
    },
    {
     "name": "stdout",
     "output_type": "stream",
     "text": [
      "INFO:tensorflow:loss = 65929830000.0, step = 16701 (0.176 sec)\n"
     ]
    },
    {
     "name": "stderr",
     "output_type": "stream",
     "text": [
      "INFO:tensorflow:loss = 65929830000.0, step = 16701 (0.176 sec)\n"
     ]
    },
    {
     "name": "stdout",
     "output_type": "stream",
     "text": [
      "INFO:tensorflow:global_step/sec: 546.251\n"
     ]
    },
    {
     "name": "stderr",
     "output_type": "stream",
     "text": [
      "INFO:tensorflow:global_step/sec: 546.251\n"
     ]
    },
    {
     "name": "stdout",
     "output_type": "stream",
     "text": [
      "INFO:tensorflow:loss = 140936530000.0, step = 16801 (0.185 sec)\n"
     ]
    },
    {
     "name": "stderr",
     "output_type": "stream",
     "text": [
      "INFO:tensorflow:loss = 140936530000.0, step = 16801 (0.185 sec)\n"
     ]
    },
    {
     "name": "stdout",
     "output_type": "stream",
     "text": [
      "INFO:tensorflow:global_step/sec: 526.319\n"
     ]
    },
    {
     "name": "stderr",
     "output_type": "stream",
     "text": [
      "INFO:tensorflow:global_step/sec: 526.319\n"
     ]
    },
    {
     "name": "stdout",
     "output_type": "stream",
     "text": [
      "INFO:tensorflow:loss = 80312025000.0, step = 16901 (0.188 sec)\n"
     ]
    },
    {
     "name": "stderr",
     "output_type": "stream",
     "text": [
      "INFO:tensorflow:loss = 80312025000.0, step = 16901 (0.188 sec)\n"
     ]
    },
    {
     "name": "stdout",
     "output_type": "stream",
     "text": [
      "INFO:tensorflow:global_step/sec: 575.238\n"
     ]
    },
    {
     "name": "stderr",
     "output_type": "stream",
     "text": [
      "INFO:tensorflow:global_step/sec: 575.238\n"
     ]
    },
    {
     "name": "stdout",
     "output_type": "stream",
     "text": [
      "INFO:tensorflow:loss = 162794080000.0, step = 17001 (0.170 sec)\n"
     ]
    },
    {
     "name": "stderr",
     "output_type": "stream",
     "text": [
      "INFO:tensorflow:loss = 162794080000.0, step = 17001 (0.170 sec)\n"
     ]
    },
    {
     "name": "stdout",
     "output_type": "stream",
     "text": [
      "INFO:tensorflow:global_step/sec: 564.417\n"
     ]
    },
    {
     "name": "stderr",
     "output_type": "stream",
     "text": [
      "INFO:tensorflow:global_step/sec: 564.417\n"
     ]
    },
    {
     "name": "stdout",
     "output_type": "stream",
     "text": [
      "INFO:tensorflow:loss = 118361790000.0, step = 17101 (0.179 sec)\n"
     ]
    },
    {
     "name": "stderr",
     "output_type": "stream",
     "text": [
      "INFO:tensorflow:loss = 118361790000.0, step = 17101 (0.179 sec)\n"
     ]
    },
    {
     "name": "stdout",
     "output_type": "stream",
     "text": [
      "INFO:tensorflow:global_step/sec: 535.567\n"
     ]
    },
    {
     "name": "stderr",
     "output_type": "stream",
     "text": [
      "INFO:tensorflow:global_step/sec: 535.567\n"
     ]
    },
    {
     "name": "stdout",
     "output_type": "stream",
     "text": [
      "INFO:tensorflow:loss = 63949677000.0, step = 17201 (0.189 sec)\n"
     ]
    },
    {
     "name": "stderr",
     "output_type": "stream",
     "text": [
      "INFO:tensorflow:loss = 63949677000.0, step = 17201 (0.189 sec)\n"
     ]
    },
    {
     "name": "stdout",
     "output_type": "stream",
     "text": [
      "INFO:tensorflow:global_step/sec: 533.186\n"
     ]
    },
    {
     "name": "stderr",
     "output_type": "stream",
     "text": [
      "INFO:tensorflow:global_step/sec: 533.186\n"
     ]
    },
    {
     "name": "stdout",
     "output_type": "stream",
     "text": [
      "INFO:tensorflow:loss = 67698053000.0, step = 17301 (0.186 sec)\n"
     ]
    },
    {
     "name": "stderr",
     "output_type": "stream",
     "text": [
      "INFO:tensorflow:loss = 67698053000.0, step = 17301 (0.186 sec)\n"
     ]
    },
    {
     "name": "stdout",
     "output_type": "stream",
     "text": [
      "INFO:tensorflow:global_step/sec: 575.31\n"
     ]
    },
    {
     "name": "stderr",
     "output_type": "stream",
     "text": [
      "INFO:tensorflow:global_step/sec: 575.31\n"
     ]
    },
    {
     "name": "stdout",
     "output_type": "stream",
     "text": [
      "INFO:tensorflow:loss = 64653600000.0, step = 17401 (0.175 sec)\n"
     ]
    },
    {
     "name": "stderr",
     "output_type": "stream",
     "text": [
      "INFO:tensorflow:loss = 64653600000.0, step = 17401 (0.175 sec)\n"
     ]
    },
    {
     "name": "stdout",
     "output_type": "stream",
     "text": [
      "INFO:tensorflow:global_step/sec: 576.413\n"
     ]
    },
    {
     "name": "stderr",
     "output_type": "stream",
     "text": [
      "INFO:tensorflow:global_step/sec: 576.413\n"
     ]
    },
    {
     "name": "stdout",
     "output_type": "stream",
     "text": [
      "INFO:tensorflow:loss = 36636733000.0, step = 17501 (0.173 sec)\n"
     ]
    },
    {
     "name": "stderr",
     "output_type": "stream",
     "text": [
      "INFO:tensorflow:loss = 36636733000.0, step = 17501 (0.173 sec)\n"
     ]
    },
    {
     "name": "stdout",
     "output_type": "stream",
     "text": [
      "INFO:tensorflow:global_step/sec: 631.684\n"
     ]
    },
    {
     "name": "stderr",
     "output_type": "stream",
     "text": [
      "INFO:tensorflow:global_step/sec: 631.684\n"
     ]
    },
    {
     "name": "stdout",
     "output_type": "stream",
     "text": [
      "INFO:tensorflow:loss = 49256153000.0, step = 17601 (0.160 sec)\n"
     ]
    },
    {
     "name": "stderr",
     "output_type": "stream",
     "text": [
      "INFO:tensorflow:loss = 49256153000.0, step = 17601 (0.160 sec)\n"
     ]
    },
    {
     "name": "stdout",
     "output_type": "stream",
     "text": [
      "INFO:tensorflow:global_step/sec: 581.89\n"
     ]
    },
    {
     "name": "stderr",
     "output_type": "stream",
     "text": [
      "INFO:tensorflow:global_step/sec: 581.89\n"
     ]
    },
    {
     "name": "stdout",
     "output_type": "stream",
     "text": [
      "INFO:tensorflow:loss = 62244080000.0, step = 17701 (0.171 sec)\n"
     ]
    },
    {
     "name": "stderr",
     "output_type": "stream",
     "text": [
      "INFO:tensorflow:loss = 62244080000.0, step = 17701 (0.171 sec)\n"
     ]
    },
    {
     "name": "stdout",
     "output_type": "stream",
     "text": [
      "INFO:tensorflow:global_step/sec: 521.093\n"
     ]
    },
    {
     "name": "stderr",
     "output_type": "stream",
     "text": [
      "INFO:tensorflow:global_step/sec: 521.093\n"
     ]
    },
    {
     "name": "stdout",
     "output_type": "stream",
     "text": [
      "INFO:tensorflow:loss = 109141890000.0, step = 17801 (0.191 sec)\n"
     ]
    },
    {
     "name": "stderr",
     "output_type": "stream",
     "text": [
      "INFO:tensorflow:loss = 109141890000.0, step = 17801 (0.191 sec)\n"
     ]
    },
    {
     "name": "stdout",
     "output_type": "stream",
     "text": [
      "INFO:tensorflow:global_step/sec: 579.747\n"
     ]
    },
    {
     "name": "stderr",
     "output_type": "stream",
     "text": [
      "INFO:tensorflow:global_step/sec: 579.747\n"
     ]
    },
    {
     "name": "stdout",
     "output_type": "stream",
     "text": [
      "INFO:tensorflow:loss = 189103770000.0, step = 17901 (0.172 sec)\n"
     ]
    },
    {
     "name": "stderr",
     "output_type": "stream",
     "text": [
      "INFO:tensorflow:loss = 189103770000.0, step = 17901 (0.172 sec)\n"
     ]
    },
    {
     "name": "stdout",
     "output_type": "stream",
     "text": [
      "INFO:tensorflow:global_step/sec: 574.802\n"
     ]
    },
    {
     "name": "stderr",
     "output_type": "stream",
     "text": [
      "INFO:tensorflow:global_step/sec: 574.802\n"
     ]
    },
    {
     "name": "stdout",
     "output_type": "stream",
     "text": [
      "INFO:tensorflow:loss = 98223450000.0, step = 18001 (0.176 sec)\n"
     ]
    },
    {
     "name": "stderr",
     "output_type": "stream",
     "text": [
      "INFO:tensorflow:loss = 98223450000.0, step = 18001 (0.176 sec)\n"
     ]
    },
    {
     "name": "stdout",
     "output_type": "stream",
     "text": [
      "INFO:tensorflow:global_step/sec: 546.347\n"
     ]
    },
    {
     "name": "stderr",
     "output_type": "stream",
     "text": [
      "INFO:tensorflow:global_step/sec: 546.347\n"
     ]
    },
    {
     "name": "stdout",
     "output_type": "stream",
     "text": [
      "INFO:tensorflow:loss = 42887310000.0, step = 18101 (0.181 sec)\n"
     ]
    },
    {
     "name": "stderr",
     "output_type": "stream",
     "text": [
      "INFO:tensorflow:loss = 42887310000.0, step = 18101 (0.181 sec)\n"
     ]
    },
    {
     "name": "stdout",
     "output_type": "stream",
     "text": [
      "INFO:tensorflow:global_step/sec: 532.861\n"
     ]
    },
    {
     "name": "stderr",
     "output_type": "stream",
     "text": [
      "INFO:tensorflow:global_step/sec: 532.861\n"
     ]
    },
    {
     "name": "stdout",
     "output_type": "stream",
     "text": [
      "INFO:tensorflow:loss = 63461070000.0, step = 18201 (0.193 sec)\n"
     ]
    },
    {
     "name": "stderr",
     "output_type": "stream",
     "text": [
      "INFO:tensorflow:loss = 63461070000.0, step = 18201 (0.193 sec)\n"
     ]
    },
    {
     "name": "stdout",
     "output_type": "stream",
     "text": [
      "INFO:tensorflow:global_step/sec: 588.939\n"
     ]
    },
    {
     "name": "stderr",
     "output_type": "stream",
     "text": [
      "INFO:tensorflow:global_step/sec: 588.939\n"
     ]
    },
    {
     "name": "stdout",
     "output_type": "stream",
     "text": [
      "INFO:tensorflow:loss = 76499030000.0, step = 18301 (0.162 sec)\n"
     ]
    },
    {
     "name": "stderr",
     "output_type": "stream",
     "text": [
      "INFO:tensorflow:loss = 76499030000.0, step = 18301 (0.162 sec)\n"
     ]
    },
    {
     "name": "stdout",
     "output_type": "stream",
     "text": [
      "INFO:tensorflow:global_step/sec: 649.629\n"
     ]
    },
    {
     "name": "stderr",
     "output_type": "stream",
     "text": [
      "INFO:tensorflow:global_step/sec: 649.629\n"
     ]
    },
    {
     "name": "stdout",
     "output_type": "stream",
     "text": [
      "INFO:tensorflow:loss = 97227850000.0, step = 18401 (0.155 sec)\n"
     ]
    },
    {
     "name": "stderr",
     "output_type": "stream",
     "text": [
      "INFO:tensorflow:loss = 97227850000.0, step = 18401 (0.155 sec)\n"
     ]
    },
    {
     "name": "stdout",
     "output_type": "stream",
     "text": [
      "INFO:tensorflow:global_step/sec: 427.465\n"
     ]
    },
    {
     "name": "stderr",
     "output_type": "stream",
     "text": [
      "INFO:tensorflow:global_step/sec: 427.465\n"
     ]
    },
    {
     "name": "stdout",
     "output_type": "stream",
     "text": [
      "INFO:tensorflow:loss = 42163060000.0, step = 18501 (0.239 sec)\n"
     ]
    },
    {
     "name": "stderr",
     "output_type": "stream",
     "text": [
      "INFO:tensorflow:loss = 42163060000.0, step = 18501 (0.239 sec)\n"
     ]
    },
    {
     "name": "stdout",
     "output_type": "stream",
     "text": [
      "INFO:tensorflow:global_step/sec: 444.919\n"
     ]
    },
    {
     "name": "stderr",
     "output_type": "stream",
     "text": [
      "INFO:tensorflow:global_step/sec: 444.919\n"
     ]
    },
    {
     "name": "stdout",
     "output_type": "stream",
     "text": [
      "INFO:tensorflow:loss = 76010390000.0, step = 18601 (0.221 sec)\n"
     ]
    },
    {
     "name": "stderr",
     "output_type": "stream",
     "text": [
      "INFO:tensorflow:loss = 76010390000.0, step = 18601 (0.221 sec)\n"
     ]
    },
    {
     "name": "stdout",
     "output_type": "stream",
     "text": [
      "INFO:tensorflow:global_step/sec: 493.861\n"
     ]
    },
    {
     "name": "stderr",
     "output_type": "stream",
     "text": [
      "INFO:tensorflow:global_step/sec: 493.861\n"
     ]
    },
    {
     "name": "stdout",
     "output_type": "stream",
     "text": [
      "INFO:tensorflow:loss = 46767112000.0, step = 18701 (0.207 sec)\n"
     ]
    },
    {
     "name": "stderr",
     "output_type": "stream",
     "text": [
      "INFO:tensorflow:loss = 46767112000.0, step = 18701 (0.207 sec)\n"
     ]
    },
    {
     "name": "stdout",
     "output_type": "stream",
     "text": [
      "INFO:tensorflow:global_step/sec: 488.807\n"
     ]
    },
    {
     "name": "stderr",
     "output_type": "stream",
     "text": [
      "INFO:tensorflow:global_step/sec: 488.807\n"
     ]
    },
    {
     "name": "stdout",
     "output_type": "stream",
     "text": [
      "INFO:tensorflow:loss = 30870344000.0, step = 18801 (0.205 sec)\n"
     ]
    },
    {
     "name": "stderr",
     "output_type": "stream",
     "text": [
      "INFO:tensorflow:loss = 30870344000.0, step = 18801 (0.205 sec)\n"
     ]
    },
    {
     "name": "stdout",
     "output_type": "stream",
     "text": [
      "INFO:tensorflow:global_step/sec: 552.651\n"
     ]
    },
    {
     "name": "stderr",
     "output_type": "stream",
     "text": [
      "INFO:tensorflow:global_step/sec: 552.651\n"
     ]
    },
    {
     "name": "stdout",
     "output_type": "stream",
     "text": [
      "INFO:tensorflow:loss = 112091780000.0, step = 18901 (0.180 sec)\n"
     ]
    },
    {
     "name": "stderr",
     "output_type": "stream",
     "text": [
      "INFO:tensorflow:loss = 112091780000.0, step = 18901 (0.180 sec)\n"
     ]
    },
    {
     "name": "stdout",
     "output_type": "stream",
     "text": [
      "INFO:tensorflow:global_step/sec: 521.814\n"
     ]
    },
    {
     "name": "stderr",
     "output_type": "stream",
     "text": [
      "INFO:tensorflow:global_step/sec: 521.814\n"
     ]
    },
    {
     "name": "stdout",
     "output_type": "stream",
     "text": [
      "INFO:tensorflow:loss = 80854500000.0, step = 19001 (0.191 sec)\n"
     ]
    },
    {
     "name": "stderr",
     "output_type": "stream",
     "text": [
      "INFO:tensorflow:loss = 80854500000.0, step = 19001 (0.191 sec)\n"
     ]
    },
    {
     "name": "stdout",
     "output_type": "stream",
     "text": [
      "INFO:tensorflow:global_step/sec: 512.164\n"
     ]
    },
    {
     "name": "stderr",
     "output_type": "stream",
     "text": [
      "INFO:tensorflow:global_step/sec: 512.164\n"
     ]
    },
    {
     "name": "stdout",
     "output_type": "stream",
     "text": [
      "INFO:tensorflow:loss = 132973216000.0, step = 19101 (0.195 sec)\n"
     ]
    },
    {
     "name": "stderr",
     "output_type": "stream",
     "text": [
      "INFO:tensorflow:loss = 132973216000.0, step = 19101 (0.195 sec)\n"
     ]
    },
    {
     "name": "stdout",
     "output_type": "stream",
     "text": [
      "INFO:tensorflow:global_step/sec: 551.651\n"
     ]
    },
    {
     "name": "stderr",
     "output_type": "stream",
     "text": [
      "INFO:tensorflow:global_step/sec: 551.651\n"
     ]
    },
    {
     "name": "stdout",
     "output_type": "stream",
     "text": [
      "INFO:tensorflow:loss = 67271164000.0, step = 19201 (0.180 sec)\n"
     ]
    },
    {
     "name": "stderr",
     "output_type": "stream",
     "text": [
      "INFO:tensorflow:loss = 67271164000.0, step = 19201 (0.180 sec)\n"
     ]
    },
    {
     "name": "stdout",
     "output_type": "stream",
     "text": [
      "INFO:tensorflow:global_step/sec: 546.338\n"
     ]
    },
    {
     "name": "stderr",
     "output_type": "stream",
     "text": [
      "INFO:tensorflow:global_step/sec: 546.338\n"
     ]
    },
    {
     "name": "stdout",
     "output_type": "stream",
     "text": [
      "INFO:tensorflow:loss = 88826190000.0, step = 19301 (0.182 sec)\n"
     ]
    },
    {
     "name": "stderr",
     "output_type": "stream",
     "text": [
      "INFO:tensorflow:loss = 88826190000.0, step = 19301 (0.182 sec)\n"
     ]
    },
    {
     "name": "stdout",
     "output_type": "stream",
     "text": [
      "INFO:tensorflow:global_step/sec: 551.812\n"
     ]
    },
    {
     "name": "stderr",
     "output_type": "stream",
     "text": [
      "INFO:tensorflow:global_step/sec: 551.812\n"
     ]
    },
    {
     "name": "stdout",
     "output_type": "stream",
     "text": [
      "INFO:tensorflow:loss = 85181645000.0, step = 19401 (0.182 sec)\n"
     ]
    },
    {
     "name": "stderr",
     "output_type": "stream",
     "text": [
      "INFO:tensorflow:loss = 85181645000.0, step = 19401 (0.182 sec)\n"
     ]
    },
    {
     "name": "stdout",
     "output_type": "stream",
     "text": [
      "INFO:tensorflow:global_step/sec: 478.3\n"
     ]
    },
    {
     "name": "stderr",
     "output_type": "stream",
     "text": [
      "INFO:tensorflow:global_step/sec: 478.3\n"
     ]
    },
    {
     "name": "stdout",
     "output_type": "stream",
     "text": [
      "INFO:tensorflow:loss = 36551627000.0, step = 19501 (0.210 sec)\n"
     ]
    },
    {
     "name": "stderr",
     "output_type": "stream",
     "text": [
      "INFO:tensorflow:loss = 36551627000.0, step = 19501 (0.210 sec)\n"
     ]
    },
    {
     "name": "stdout",
     "output_type": "stream",
     "text": [
      "INFO:tensorflow:global_step/sec: 537.721\n"
     ]
    },
    {
     "name": "stderr",
     "output_type": "stream",
     "text": [
      "INFO:tensorflow:global_step/sec: 537.721\n"
     ]
    },
    {
     "name": "stdout",
     "output_type": "stream",
     "text": [
      "INFO:tensorflow:loss = 164446180000.0, step = 19601 (0.185 sec)\n"
     ]
    },
    {
     "name": "stderr",
     "output_type": "stream",
     "text": [
      "INFO:tensorflow:loss = 164446180000.0, step = 19601 (0.185 sec)\n"
     ]
    },
    {
     "name": "stdout",
     "output_type": "stream",
     "text": [
      "INFO:tensorflow:global_step/sec: 652.806\n"
     ]
    },
    {
     "name": "stderr",
     "output_type": "stream",
     "text": [
      "INFO:tensorflow:global_step/sec: 652.806\n"
     ]
    },
    {
     "name": "stdout",
     "output_type": "stream",
     "text": [
      "INFO:tensorflow:loss = 224734900000.0, step = 19701 (0.156 sec)\n"
     ]
    },
    {
     "name": "stderr",
     "output_type": "stream",
     "text": [
      "INFO:tensorflow:loss = 224734900000.0, step = 19701 (0.156 sec)\n"
     ]
    },
    {
     "name": "stdout",
     "output_type": "stream",
     "text": [
      "INFO:tensorflow:global_step/sec: 605.716\n"
     ]
    },
    {
     "name": "stderr",
     "output_type": "stream",
     "text": [
      "INFO:tensorflow:global_step/sec: 605.716\n"
     ]
    },
    {
     "name": "stdout",
     "output_type": "stream",
     "text": [
      "INFO:tensorflow:loss = 50526210000.0, step = 19801 (0.164 sec)\n"
     ]
    },
    {
     "name": "stderr",
     "output_type": "stream",
     "text": [
      "INFO:tensorflow:loss = 50526210000.0, step = 19801 (0.164 sec)\n"
     ]
    },
    {
     "name": "stdout",
     "output_type": "stream",
     "text": [
      "INFO:tensorflow:global_step/sec: 531.92\n"
     ]
    },
    {
     "name": "stderr",
     "output_type": "stream",
     "text": [
      "INFO:tensorflow:global_step/sec: 531.92\n"
     ]
    },
    {
     "name": "stdout",
     "output_type": "stream",
     "text": [
      "INFO:tensorflow:loss = 153116700000.0, step = 19901 (0.190 sec)\n"
     ]
    },
    {
     "name": "stderr",
     "output_type": "stream",
     "text": [
      "INFO:tensorflow:loss = 153116700000.0, step = 19901 (0.190 sec)\n"
     ]
    },
    {
     "name": "stdout",
     "output_type": "stream",
     "text": [
      "INFO:tensorflow:global_step/sec: 630.884\n"
     ]
    },
    {
     "name": "stderr",
     "output_type": "stream",
     "text": [
      "INFO:tensorflow:global_step/sec: 630.884\n"
     ]
    },
    {
     "name": "stdout",
     "output_type": "stream",
     "text": [
      "INFO:tensorflow:loss = 95840846000.0, step = 20001 (0.157 sec)\n"
     ]
    },
    {
     "name": "stderr",
     "output_type": "stream",
     "text": [
      "INFO:tensorflow:loss = 95840846000.0, step = 20001 (0.157 sec)\n"
     ]
    },
    {
     "name": "stdout",
     "output_type": "stream",
     "text": [
      "INFO:tensorflow:global_step/sec: 624.671\n"
     ]
    },
    {
     "name": "stderr",
     "output_type": "stream",
     "text": [
      "INFO:tensorflow:global_step/sec: 624.671\n"
     ]
    },
    {
     "name": "stdout",
     "output_type": "stream",
     "text": [
      "INFO:tensorflow:loss = 58853265000.0, step = 20101 (0.159 sec)\n"
     ]
    },
    {
     "name": "stderr",
     "output_type": "stream",
     "text": [
      "INFO:tensorflow:loss = 58853265000.0, step = 20101 (0.159 sec)\n"
     ]
    },
    {
     "name": "stdout",
     "output_type": "stream",
     "text": [
      "INFO:tensorflow:global_step/sec: 527.168\n"
     ]
    },
    {
     "name": "stderr",
     "output_type": "stream",
     "text": [
      "INFO:tensorflow:global_step/sec: 527.168\n"
     ]
    },
    {
     "name": "stdout",
     "output_type": "stream",
     "text": [
      "INFO:tensorflow:loss = 79795810000.0, step = 20201 (0.190 sec)\n"
     ]
    },
    {
     "name": "stderr",
     "output_type": "stream",
     "text": [
      "INFO:tensorflow:loss = 79795810000.0, step = 20201 (0.190 sec)\n"
     ]
    },
    {
     "name": "stdout",
     "output_type": "stream",
     "text": [
      "INFO:tensorflow:global_step/sec: 635.223\n"
     ]
    },
    {
     "name": "stderr",
     "output_type": "stream",
     "text": [
      "INFO:tensorflow:global_step/sec: 635.223\n"
     ]
    },
    {
     "name": "stdout",
     "output_type": "stream",
     "text": [
      "INFO:tensorflow:loss = 125370786000.0, step = 20301 (0.160 sec)\n"
     ]
    },
    {
     "name": "stderr",
     "output_type": "stream",
     "text": [
      "INFO:tensorflow:loss = 125370786000.0, step = 20301 (0.160 sec)\n"
     ]
    },
    {
     "name": "stdout",
     "output_type": "stream",
     "text": [
      "INFO:tensorflow:global_step/sec: 569.33\n"
     ]
    },
    {
     "name": "stderr",
     "output_type": "stream",
     "text": [
      "INFO:tensorflow:global_step/sec: 569.33\n"
     ]
    },
    {
     "name": "stdout",
     "output_type": "stream",
     "text": [
      "INFO:tensorflow:loss = 87640150000.0, step = 20401 (0.172 sec)\n"
     ]
    },
    {
     "name": "stderr",
     "output_type": "stream",
     "text": [
      "INFO:tensorflow:loss = 87640150000.0, step = 20401 (0.172 sec)\n"
     ]
    },
    {
     "name": "stdout",
     "output_type": "stream",
     "text": [
      "INFO:tensorflow:global_step/sec: 610.531\n"
     ]
    },
    {
     "name": "stderr",
     "output_type": "stream",
     "text": [
      "INFO:tensorflow:global_step/sec: 610.531\n"
     ]
    },
    {
     "name": "stdout",
     "output_type": "stream",
     "text": [
      "INFO:tensorflow:loss = 58559790000.0, step = 20501 (0.164 sec)\n"
     ]
    },
    {
     "name": "stderr",
     "output_type": "stream",
     "text": [
      "INFO:tensorflow:loss = 58559790000.0, step = 20501 (0.164 sec)\n"
     ]
    },
    {
     "name": "stdout",
     "output_type": "stream",
     "text": [
      "INFO:tensorflow:global_step/sec: 594.025\n"
     ]
    },
    {
     "name": "stderr",
     "output_type": "stream",
     "text": [
      "INFO:tensorflow:global_step/sec: 594.025\n"
     ]
    },
    {
     "name": "stdout",
     "output_type": "stream",
     "text": [
      "INFO:tensorflow:loss = 84595950000.0, step = 20601 (0.169 sec)\n"
     ]
    },
    {
     "name": "stderr",
     "output_type": "stream",
     "text": [
      "INFO:tensorflow:loss = 84595950000.0, step = 20601 (0.169 sec)\n"
     ]
    },
    {
     "name": "stdout",
     "output_type": "stream",
     "text": [
      "INFO:tensorflow:global_step/sec: 541.562\n"
     ]
    },
    {
     "name": "stderr",
     "output_type": "stream",
     "text": [
      "INFO:tensorflow:global_step/sec: 541.562\n"
     ]
    },
    {
     "name": "stdout",
     "output_type": "stream",
     "text": [
      "INFO:tensorflow:loss = 92947710000.0, step = 20701 (0.184 sec)\n"
     ]
    },
    {
     "name": "stderr",
     "output_type": "stream",
     "text": [
      "INFO:tensorflow:loss = 92947710000.0, step = 20701 (0.184 sec)\n"
     ]
    },
    {
     "name": "stdout",
     "output_type": "stream",
     "text": [
      "INFO:tensorflow:global_step/sec: 611.426\n"
     ]
    },
    {
     "name": "stderr",
     "output_type": "stream",
     "text": [
      "INFO:tensorflow:global_step/sec: 611.426\n"
     ]
    },
    {
     "name": "stdout",
     "output_type": "stream",
     "text": [
      "INFO:tensorflow:loss = 60150270000.0, step = 20801 (0.166 sec)\n"
     ]
    },
    {
     "name": "stderr",
     "output_type": "stream",
     "text": [
      "INFO:tensorflow:loss = 60150270000.0, step = 20801 (0.166 sec)\n"
     ]
    },
    {
     "name": "stdout",
     "output_type": "stream",
     "text": [
      "INFO:tensorflow:global_step/sec: 585.766\n"
     ]
    },
    {
     "name": "stderr",
     "output_type": "stream",
     "text": [
      "INFO:tensorflow:global_step/sec: 585.766\n"
     ]
    },
    {
     "name": "stdout",
     "output_type": "stream",
     "text": [
      "INFO:tensorflow:loss = 59907932000.0, step = 20901 (0.172 sec)\n"
     ]
    },
    {
     "name": "stderr",
     "output_type": "stream",
     "text": [
      "INFO:tensorflow:loss = 59907932000.0, step = 20901 (0.172 sec)\n"
     ]
    },
    {
     "name": "stdout",
     "output_type": "stream",
     "text": [
      "INFO:tensorflow:global_step/sec: 556.22\n"
     ]
    },
    {
     "name": "stderr",
     "output_type": "stream",
     "text": [
      "INFO:tensorflow:global_step/sec: 556.22\n"
     ]
    },
    {
     "name": "stdout",
     "output_type": "stream",
     "text": [
      "INFO:tensorflow:loss = 53227900000.0, step = 21001 (0.179 sec)\n"
     ]
    },
    {
     "name": "stderr",
     "output_type": "stream",
     "text": [
      "INFO:tensorflow:loss = 53227900000.0, step = 21001 (0.179 sec)\n"
     ]
    },
    {
     "name": "stdout",
     "output_type": "stream",
     "text": [
      "INFO:tensorflow:global_step/sec: 550.457\n"
     ]
    },
    {
     "name": "stderr",
     "output_type": "stream",
     "text": [
      "INFO:tensorflow:global_step/sec: 550.457\n"
     ]
    },
    {
     "name": "stdout",
     "output_type": "stream",
     "text": [
      "INFO:tensorflow:loss = 103161600000.0, step = 21101 (0.179 sec)\n"
     ]
    },
    {
     "name": "stderr",
     "output_type": "stream",
     "text": [
      "INFO:tensorflow:loss = 103161600000.0, step = 21101 (0.179 sec)\n"
     ]
    },
    {
     "name": "stdout",
     "output_type": "stream",
     "text": [
      "INFO:tensorflow:global_step/sec: 564.605\n"
     ]
    },
    {
     "name": "stderr",
     "output_type": "stream",
     "text": [
      "INFO:tensorflow:global_step/sec: 564.605\n"
     ]
    },
    {
     "name": "stdout",
     "output_type": "stream",
     "text": [
      "INFO:tensorflow:loss = 128380930000.0, step = 21201 (0.178 sec)\n"
     ]
    },
    {
     "name": "stderr",
     "output_type": "stream",
     "text": [
      "INFO:tensorflow:loss = 128380930000.0, step = 21201 (0.178 sec)\n"
     ]
    },
    {
     "name": "stdout",
     "output_type": "stream",
     "text": [
      "INFO:tensorflow:global_step/sec: 573.987\n"
     ]
    },
    {
     "name": "stderr",
     "output_type": "stream",
     "text": [
      "INFO:tensorflow:global_step/sec: 573.987\n"
     ]
    },
    {
     "name": "stdout",
     "output_type": "stream",
     "text": [
      "INFO:tensorflow:loss = 104112100000.0, step = 21301 (0.173 sec)\n"
     ]
    },
    {
     "name": "stderr",
     "output_type": "stream",
     "text": [
      "INFO:tensorflow:loss = 104112100000.0, step = 21301 (0.173 sec)\n"
     ]
    },
    {
     "name": "stdout",
     "output_type": "stream",
     "text": [
      "INFO:tensorflow:global_step/sec: 554.686\n"
     ]
    },
    {
     "name": "stderr",
     "output_type": "stream",
     "text": [
      "INFO:tensorflow:global_step/sec: 554.686\n"
     ]
    },
    {
     "name": "stdout",
     "output_type": "stream",
     "text": [
      "INFO:tensorflow:loss = 125578680000.0, step = 21401 (0.181 sec)\n"
     ]
    },
    {
     "name": "stderr",
     "output_type": "stream",
     "text": [
      "INFO:tensorflow:loss = 125578680000.0, step = 21401 (0.181 sec)\n"
     ]
    },
    {
     "name": "stdout",
     "output_type": "stream",
     "text": [
      "INFO:tensorflow:global_step/sec: 561.535\n"
     ]
    },
    {
     "name": "stderr",
     "output_type": "stream",
     "text": [
      "INFO:tensorflow:global_step/sec: 561.535\n"
     ]
    },
    {
     "name": "stdout",
     "output_type": "stream",
     "text": [
      "INFO:tensorflow:loss = 94585930000.0, step = 21501 (0.178 sec)\n"
     ]
    },
    {
     "name": "stderr",
     "output_type": "stream",
     "text": [
      "INFO:tensorflow:loss = 94585930000.0, step = 21501 (0.178 sec)\n"
     ]
    },
    {
     "name": "stdout",
     "output_type": "stream",
     "text": [
      "INFO:tensorflow:global_step/sec: 524.982\n"
     ]
    },
    {
     "name": "stderr",
     "output_type": "stream",
     "text": [
      "INFO:tensorflow:global_step/sec: 524.982\n"
     ]
    },
    {
     "name": "stdout",
     "output_type": "stream",
     "text": [
      "INFO:tensorflow:loss = 179116310000.0, step = 21601 (0.191 sec)\n"
     ]
    },
    {
     "name": "stderr",
     "output_type": "stream",
     "text": [
      "INFO:tensorflow:loss = 179116310000.0, step = 21601 (0.191 sec)\n"
     ]
    },
    {
     "name": "stdout",
     "output_type": "stream",
     "text": [
      "INFO:tensorflow:global_step/sec: 516.222\n"
     ]
    },
    {
     "name": "stderr",
     "output_type": "stream",
     "text": [
      "INFO:tensorflow:global_step/sec: 516.222\n"
     ]
    },
    {
     "name": "stdout",
     "output_type": "stream",
     "text": [
      "INFO:tensorflow:loss = 65643524000.0, step = 21701 (0.193 sec)\n"
     ]
    },
    {
     "name": "stderr",
     "output_type": "stream",
     "text": [
      "INFO:tensorflow:loss = 65643524000.0, step = 21701 (0.193 sec)\n"
     ]
    },
    {
     "name": "stdout",
     "output_type": "stream",
     "text": [
      "INFO:tensorflow:global_step/sec: 520.129\n"
     ]
    },
    {
     "name": "stderr",
     "output_type": "stream",
     "text": [
      "INFO:tensorflow:global_step/sec: 520.129\n"
     ]
    },
    {
     "name": "stdout",
     "output_type": "stream",
     "text": [
      "INFO:tensorflow:loss = 115890150000.0, step = 21801 (0.192 sec)\n"
     ]
    },
    {
     "name": "stderr",
     "output_type": "stream",
     "text": [
      "INFO:tensorflow:loss = 115890150000.0, step = 21801 (0.192 sec)\n"
     ]
    },
    {
     "name": "stdout",
     "output_type": "stream",
     "text": [
      "INFO:tensorflow:global_step/sec: 549.922\n"
     ]
    },
    {
     "name": "stderr",
     "output_type": "stream",
     "text": [
      "INFO:tensorflow:global_step/sec: 549.922\n"
     ]
    },
    {
     "name": "stdout",
     "output_type": "stream",
     "text": [
      "INFO:tensorflow:loss = 28326504000.0, step = 21901 (0.182 sec)\n"
     ]
    },
    {
     "name": "stderr",
     "output_type": "stream",
     "text": [
      "INFO:tensorflow:loss = 28326504000.0, step = 21901 (0.182 sec)\n"
     ]
    },
    {
     "name": "stdout",
     "output_type": "stream",
     "text": [
      "INFO:tensorflow:global_step/sec: 580.96\n"
     ]
    },
    {
     "name": "stderr",
     "output_type": "stream",
     "text": [
      "INFO:tensorflow:global_step/sec: 580.96\n"
     ]
    },
    {
     "name": "stdout",
     "output_type": "stream",
     "text": [
      "INFO:tensorflow:loss = 58394747000.0, step = 22001 (0.174 sec)\n"
     ]
    },
    {
     "name": "stderr",
     "output_type": "stream",
     "text": [
      "INFO:tensorflow:loss = 58394747000.0, step = 22001 (0.174 sec)\n"
     ]
    },
    {
     "name": "stdout",
     "output_type": "stream",
     "text": [
      "INFO:tensorflow:global_step/sec: 581.114\n"
     ]
    },
    {
     "name": "stderr",
     "output_type": "stream",
     "text": [
      "INFO:tensorflow:global_step/sec: 581.114\n"
     ]
    },
    {
     "name": "stdout",
     "output_type": "stream",
     "text": [
      "INFO:tensorflow:loss = 35495200000.0, step = 22101 (0.170 sec)\n"
     ]
    },
    {
     "name": "stderr",
     "output_type": "stream",
     "text": [
      "INFO:tensorflow:loss = 35495200000.0, step = 22101 (0.170 sec)\n"
     ]
    },
    {
     "name": "stdout",
     "output_type": "stream",
     "text": [
      "INFO:tensorflow:global_step/sec: 547.466\n"
     ]
    },
    {
     "name": "stderr",
     "output_type": "stream",
     "text": [
      "INFO:tensorflow:global_step/sec: 547.466\n"
     ]
    },
    {
     "name": "stdout",
     "output_type": "stream",
     "text": [
      "INFO:tensorflow:loss = 39045616000.0, step = 22201 (0.184 sec)\n"
     ]
    },
    {
     "name": "stderr",
     "output_type": "stream",
     "text": [
      "INFO:tensorflow:loss = 39045616000.0, step = 22201 (0.184 sec)\n"
     ]
    },
    {
     "name": "stdout",
     "output_type": "stream",
     "text": [
      "INFO:tensorflow:global_step/sec: 597.957\n"
     ]
    },
    {
     "name": "stderr",
     "output_type": "stream",
     "text": [
      "INFO:tensorflow:global_step/sec: 597.957\n"
     ]
    },
    {
     "name": "stdout",
     "output_type": "stream",
     "text": [
      "INFO:tensorflow:loss = 86676320000.0, step = 22301 (0.167 sec)\n"
     ]
    },
    {
     "name": "stderr",
     "output_type": "stream",
     "text": [
      "INFO:tensorflow:loss = 86676320000.0, step = 22301 (0.167 sec)\n"
     ]
    },
    {
     "name": "stdout",
     "output_type": "stream",
     "text": [
      "INFO:tensorflow:global_step/sec: 616.655\n"
     ]
    },
    {
     "name": "stderr",
     "output_type": "stream",
     "text": [
      "INFO:tensorflow:global_step/sec: 616.655\n"
     ]
    },
    {
     "name": "stdout",
     "output_type": "stream",
     "text": [
      "INFO:tensorflow:loss = 32074900000.0, step = 22401 (0.161 sec)\n"
     ]
    },
    {
     "name": "stderr",
     "output_type": "stream",
     "text": [
      "INFO:tensorflow:loss = 32074900000.0, step = 22401 (0.161 sec)\n"
     ]
    },
    {
     "name": "stdout",
     "output_type": "stream",
     "text": [
      "INFO:tensorflow:global_step/sec: 569.758\n"
     ]
    },
    {
     "name": "stderr",
     "output_type": "stream",
     "text": [
      "INFO:tensorflow:global_step/sec: 569.758\n"
     ]
    },
    {
     "name": "stdout",
     "output_type": "stream",
     "text": [
      "INFO:tensorflow:loss = 88952510000.0, step = 22501 (0.175 sec)\n"
     ]
    },
    {
     "name": "stderr",
     "output_type": "stream",
     "text": [
      "INFO:tensorflow:loss = 88952510000.0, step = 22501 (0.175 sec)\n"
     ]
    },
    {
     "name": "stdout",
     "output_type": "stream",
     "text": [
      "INFO:tensorflow:global_step/sec: 629.474\n"
     ]
    },
    {
     "name": "stderr",
     "output_type": "stream",
     "text": [
      "INFO:tensorflow:global_step/sec: 629.474\n"
     ]
    },
    {
     "name": "stdout",
     "output_type": "stream",
     "text": [
      "INFO:tensorflow:loss = 71246250000.0, step = 22601 (0.162 sec)\n"
     ]
    },
    {
     "name": "stderr",
     "output_type": "stream",
     "text": [
      "INFO:tensorflow:loss = 71246250000.0, step = 22601 (0.162 sec)\n"
     ]
    },
    {
     "name": "stdout",
     "output_type": "stream",
     "text": [
      "INFO:tensorflow:global_step/sec: 570.473\n"
     ]
    },
    {
     "name": "stderr",
     "output_type": "stream",
     "text": [
      "INFO:tensorflow:global_step/sec: 570.473\n"
     ]
    },
    {
     "name": "stdout",
     "output_type": "stream",
     "text": [
      "INFO:tensorflow:loss = 45390893000.0, step = 22701 (0.173 sec)\n"
     ]
    },
    {
     "name": "stderr",
     "output_type": "stream",
     "text": [
      "INFO:tensorflow:loss = 45390893000.0, step = 22701 (0.173 sec)\n"
     ]
    },
    {
     "name": "stdout",
     "output_type": "stream",
     "text": [
      "INFO:tensorflow:global_step/sec: 608.85\n"
     ]
    },
    {
     "name": "stderr",
     "output_type": "stream",
     "text": [
      "INFO:tensorflow:global_step/sec: 608.85\n"
     ]
    },
    {
     "name": "stdout",
     "output_type": "stream",
     "text": [
      "INFO:tensorflow:loss = 193054440000.0, step = 22801 (0.164 sec)\n"
     ]
    },
    {
     "name": "stderr",
     "output_type": "stream",
     "text": [
      "INFO:tensorflow:loss = 193054440000.0, step = 22801 (0.164 sec)\n"
     ]
    },
    {
     "name": "stdout",
     "output_type": "stream",
     "text": [
      "INFO:tensorflow:global_step/sec: 539.678\n"
     ]
    },
    {
     "name": "stderr",
     "output_type": "stream",
     "text": [
      "INFO:tensorflow:global_step/sec: 539.678\n"
     ]
    },
    {
     "name": "stdout",
     "output_type": "stream",
     "text": [
      "INFO:tensorflow:loss = 63772148000.0, step = 22901 (0.186 sec)\n"
     ]
    },
    {
     "name": "stderr",
     "output_type": "stream",
     "text": [
      "INFO:tensorflow:loss = 63772148000.0, step = 22901 (0.186 sec)\n"
     ]
    },
    {
     "name": "stdout",
     "output_type": "stream",
     "text": [
      "INFO:tensorflow:global_step/sec: 567.305\n"
     ]
    },
    {
     "name": "stderr",
     "output_type": "stream",
     "text": [
      "INFO:tensorflow:global_step/sec: 567.305\n"
     ]
    },
    {
     "name": "stdout",
     "output_type": "stream",
     "text": [
      "INFO:tensorflow:loss = 47768183000.0, step = 23001 (0.176 sec)\n"
     ]
    },
    {
     "name": "stderr",
     "output_type": "stream",
     "text": [
      "INFO:tensorflow:loss = 47768183000.0, step = 23001 (0.176 sec)\n"
     ]
    },
    {
     "name": "stdout",
     "output_type": "stream",
     "text": [
      "INFO:tensorflow:global_step/sec: 523.347\n"
     ]
    },
    {
     "name": "stderr",
     "output_type": "stream",
     "text": [
      "INFO:tensorflow:global_step/sec: 523.347\n"
     ]
    },
    {
     "name": "stdout",
     "output_type": "stream",
     "text": [
      "INFO:tensorflow:loss = 77639130000.0, step = 23101 (0.191 sec)\n"
     ]
    },
    {
     "name": "stderr",
     "output_type": "stream",
     "text": [
      "INFO:tensorflow:loss = 77639130000.0, step = 23101 (0.191 sec)\n"
     ]
    },
    {
     "name": "stdout",
     "output_type": "stream",
     "text": [
      "INFO:tensorflow:global_step/sec: 589.995\n"
     ]
    },
    {
     "name": "stderr",
     "output_type": "stream",
     "text": [
      "INFO:tensorflow:global_step/sec: 589.995\n"
     ]
    },
    {
     "name": "stdout",
     "output_type": "stream",
     "text": [
      "INFO:tensorflow:loss = 116098870000.0, step = 23201 (0.173 sec)\n"
     ]
    },
    {
     "name": "stderr",
     "output_type": "stream",
     "text": [
      "INFO:tensorflow:loss = 116098870000.0, step = 23201 (0.173 sec)\n"
     ]
    },
    {
     "name": "stdout",
     "output_type": "stream",
     "text": [
      "INFO:tensorflow:global_step/sec: 564.267\n"
     ]
    },
    {
     "name": "stderr",
     "output_type": "stream",
     "text": [
      "INFO:tensorflow:global_step/sec: 564.267\n"
     ]
    },
    {
     "name": "stdout",
     "output_type": "stream",
     "text": [
      "INFO:tensorflow:loss = 82135200000.0, step = 23301 (0.174 sec)\n"
     ]
    },
    {
     "name": "stderr",
     "output_type": "stream",
     "text": [
      "INFO:tensorflow:loss = 82135200000.0, step = 23301 (0.174 sec)\n"
     ]
    },
    {
     "name": "stdout",
     "output_type": "stream",
     "text": [
      "INFO:tensorflow:global_step/sec: 594.987\n"
     ]
    },
    {
     "name": "stderr",
     "output_type": "stream",
     "text": [
      "INFO:tensorflow:global_step/sec: 594.987\n"
     ]
    },
    {
     "name": "stdout",
     "output_type": "stream",
     "text": [
      "INFO:tensorflow:loss = 45520093000.0, step = 23401 (0.169 sec)\n"
     ]
    },
    {
     "name": "stderr",
     "output_type": "stream",
     "text": [
      "INFO:tensorflow:loss = 45520093000.0, step = 23401 (0.169 sec)\n"
     ]
    },
    {
     "name": "stdout",
     "output_type": "stream",
     "text": [
      "INFO:tensorflow:global_step/sec: 554.112\n"
     ]
    },
    {
     "name": "stderr",
     "output_type": "stream",
     "text": [
      "INFO:tensorflow:global_step/sec: 554.112\n"
     ]
    },
    {
     "name": "stdout",
     "output_type": "stream",
     "text": [
      "INFO:tensorflow:loss = 53998838000.0, step = 23501 (0.185 sec)\n"
     ]
    },
    {
     "name": "stderr",
     "output_type": "stream",
     "text": [
      "INFO:tensorflow:loss = 53998838000.0, step = 23501 (0.185 sec)\n"
     ]
    },
    {
     "name": "stdout",
     "output_type": "stream",
     "text": [
      "INFO:tensorflow:global_step/sec: 516.732\n"
     ]
    },
    {
     "name": "stderr",
     "output_type": "stream",
     "text": [
      "INFO:tensorflow:global_step/sec: 516.732\n"
     ]
    },
    {
     "name": "stdout",
     "output_type": "stream",
     "text": [
      "INFO:tensorflow:loss = 48521548000.0, step = 23601 (0.191 sec)\n"
     ]
    },
    {
     "name": "stderr",
     "output_type": "stream",
     "text": [
      "INFO:tensorflow:loss = 48521548000.0, step = 23601 (0.191 sec)\n"
     ]
    },
    {
     "name": "stdout",
     "output_type": "stream",
     "text": [
      "INFO:tensorflow:global_step/sec: 556.01\n"
     ]
    },
    {
     "name": "stderr",
     "output_type": "stream",
     "text": [
      "INFO:tensorflow:global_step/sec: 556.01\n"
     ]
    },
    {
     "name": "stdout",
     "output_type": "stream",
     "text": [
      "INFO:tensorflow:loss = 97251090000.0, step = 23701 (0.184 sec)\n"
     ]
    },
    {
     "name": "stderr",
     "output_type": "stream",
     "text": [
      "INFO:tensorflow:loss = 97251090000.0, step = 23701 (0.184 sec)\n"
     ]
    },
    {
     "name": "stdout",
     "output_type": "stream",
     "text": [
      "INFO:tensorflow:global_step/sec: 470.389\n"
     ]
    },
    {
     "name": "stderr",
     "output_type": "stream",
     "text": [
      "INFO:tensorflow:global_step/sec: 470.389\n"
     ]
    },
    {
     "name": "stdout",
     "output_type": "stream",
     "text": [
      "INFO:tensorflow:loss = 69503750000.0, step = 23801 (0.207 sec)\n"
     ]
    },
    {
     "name": "stderr",
     "output_type": "stream",
     "text": [
      "INFO:tensorflow:loss = 69503750000.0, step = 23801 (0.207 sec)\n"
     ]
    },
    {
     "name": "stdout",
     "output_type": "stream",
     "text": [
      "INFO:tensorflow:global_step/sec: 555.898\n"
     ]
    },
    {
     "name": "stderr",
     "output_type": "stream",
     "text": [
      "INFO:tensorflow:global_step/sec: 555.898\n"
     ]
    },
    {
     "name": "stdout",
     "output_type": "stream",
     "text": [
      "INFO:tensorflow:loss = 94842470000.0, step = 23901 (0.179 sec)\n"
     ]
    },
    {
     "name": "stderr",
     "output_type": "stream",
     "text": [
      "INFO:tensorflow:loss = 94842470000.0, step = 23901 (0.179 sec)\n"
     ]
    },
    {
     "name": "stdout",
     "output_type": "stream",
     "text": [
      "INFO:tensorflow:global_step/sec: 612.34\n"
     ]
    },
    {
     "name": "stderr",
     "output_type": "stream",
     "text": [
      "INFO:tensorflow:global_step/sec: 612.34\n"
     ]
    },
    {
     "name": "stdout",
     "output_type": "stream",
     "text": [
      "INFO:tensorflow:loss = 72637920000.0, step = 24001 (0.164 sec)\n"
     ]
    },
    {
     "name": "stderr",
     "output_type": "stream",
     "text": [
      "INFO:tensorflow:loss = 72637920000.0, step = 24001 (0.164 sec)\n"
     ]
    },
    {
     "name": "stdout",
     "output_type": "stream",
     "text": [
      "INFO:tensorflow:global_step/sec: 557.7\n"
     ]
    },
    {
     "name": "stderr",
     "output_type": "stream",
     "text": [
      "INFO:tensorflow:global_step/sec: 557.7\n"
     ]
    },
    {
     "name": "stdout",
     "output_type": "stream",
     "text": [
      "INFO:tensorflow:loss = 142645330000.0, step = 24101 (0.179 sec)\n"
     ]
    },
    {
     "name": "stderr",
     "output_type": "stream",
     "text": [
      "INFO:tensorflow:loss = 142645330000.0, step = 24101 (0.179 sec)\n"
     ]
    },
    {
     "name": "stdout",
     "output_type": "stream",
     "text": [
      "INFO:tensorflow:global_step/sec: 640.791\n"
     ]
    },
    {
     "name": "stderr",
     "output_type": "stream",
     "text": [
      "INFO:tensorflow:global_step/sec: 640.791\n"
     ]
    },
    {
     "name": "stdout",
     "output_type": "stream",
     "text": [
      "INFO:tensorflow:loss = 34061990000.0, step = 24201 (0.156 sec)\n"
     ]
    },
    {
     "name": "stderr",
     "output_type": "stream",
     "text": [
      "INFO:tensorflow:loss = 34061990000.0, step = 24201 (0.156 sec)\n"
     ]
    },
    {
     "name": "stdout",
     "output_type": "stream",
     "text": [
      "INFO:tensorflow:global_step/sec: 571.041\n"
     ]
    },
    {
     "name": "stderr",
     "output_type": "stream",
     "text": [
      "INFO:tensorflow:global_step/sec: 571.041\n"
     ]
    },
    {
     "name": "stdout",
     "output_type": "stream",
     "text": [
      "INFO:tensorflow:loss = 114789655000.0, step = 24301 (0.176 sec)\n"
     ]
    },
    {
     "name": "stderr",
     "output_type": "stream",
     "text": [
      "INFO:tensorflow:loss = 114789655000.0, step = 24301 (0.176 sec)\n"
     ]
    },
    {
     "name": "stdout",
     "output_type": "stream",
     "text": [
      "INFO:tensorflow:global_step/sec: 607.762\n"
     ]
    },
    {
     "name": "stderr",
     "output_type": "stream",
     "text": [
      "INFO:tensorflow:global_step/sec: 607.762\n"
     ]
    },
    {
     "name": "stdout",
     "output_type": "stream",
     "text": [
      "INFO:tensorflow:loss = 49493205000.0, step = 24401 (0.163 sec)\n"
     ]
    },
    {
     "name": "stderr",
     "output_type": "stream",
     "text": [
      "INFO:tensorflow:loss = 49493205000.0, step = 24401 (0.163 sec)\n"
     ]
    },
    {
     "name": "stdout",
     "output_type": "stream",
     "text": [
      "INFO:tensorflow:global_step/sec: 623.532\n"
     ]
    },
    {
     "name": "stderr",
     "output_type": "stream",
     "text": [
      "INFO:tensorflow:global_step/sec: 623.532\n"
     ]
    },
    {
     "name": "stdout",
     "output_type": "stream",
     "text": [
      "INFO:tensorflow:loss = 126556774000.0, step = 24501 (0.161 sec)\n"
     ]
    },
    {
     "name": "stderr",
     "output_type": "stream",
     "text": [
      "INFO:tensorflow:loss = 126556774000.0, step = 24501 (0.161 sec)\n"
     ]
    },
    {
     "name": "stdout",
     "output_type": "stream",
     "text": [
      "INFO:tensorflow:global_step/sec: 683.129\n"
     ]
    },
    {
     "name": "stderr",
     "output_type": "stream",
     "text": [
      "INFO:tensorflow:global_step/sec: 683.129\n"
     ]
    },
    {
     "name": "stdout",
     "output_type": "stream",
     "text": [
      "INFO:tensorflow:loss = 45273633000.0, step = 24601 (0.148 sec)\n"
     ]
    },
    {
     "name": "stderr",
     "output_type": "stream",
     "text": [
      "INFO:tensorflow:loss = 45273633000.0, step = 24601 (0.148 sec)\n"
     ]
    },
    {
     "name": "stdout",
     "output_type": "stream",
     "text": [
      "INFO:tensorflow:global_step/sec: 564.554\n"
     ]
    },
    {
     "name": "stderr",
     "output_type": "stream",
     "text": [
      "INFO:tensorflow:global_step/sec: 564.554\n"
     ]
    },
    {
     "name": "stdout",
     "output_type": "stream",
     "text": [
      "INFO:tensorflow:loss = 99034415000.0, step = 24701 (0.176 sec)\n"
     ]
    },
    {
     "name": "stderr",
     "output_type": "stream",
     "text": [
      "INFO:tensorflow:loss = 99034415000.0, step = 24701 (0.176 sec)\n"
     ]
    },
    {
     "name": "stdout",
     "output_type": "stream",
     "text": [
      "INFO:tensorflow:global_step/sec: 598.536\n"
     ]
    },
    {
     "name": "stderr",
     "output_type": "stream",
     "text": [
      "INFO:tensorflow:global_step/sec: 598.536\n"
     ]
    },
    {
     "name": "stdout",
     "output_type": "stream",
     "text": [
      "INFO:tensorflow:loss = 64957387000.0, step = 24801 (0.168 sec)\n"
     ]
    },
    {
     "name": "stderr",
     "output_type": "stream",
     "text": [
      "INFO:tensorflow:loss = 64957387000.0, step = 24801 (0.168 sec)\n"
     ]
    },
    {
     "name": "stdout",
     "output_type": "stream",
     "text": [
      "INFO:tensorflow:global_step/sec: 556.394\n"
     ]
    },
    {
     "name": "stderr",
     "output_type": "stream",
     "text": [
      "INFO:tensorflow:global_step/sec: 556.394\n"
     ]
    },
    {
     "name": "stdout",
     "output_type": "stream",
     "text": [
      "INFO:tensorflow:loss = 150050520000.0, step = 24901 (0.180 sec)\n"
     ]
    },
    {
     "name": "stderr",
     "output_type": "stream",
     "text": [
      "INFO:tensorflow:loss = 150050520000.0, step = 24901 (0.180 sec)\n"
     ]
    },
    {
     "name": "stdout",
     "output_type": "stream",
     "text": [
      "INFO:tensorflow:Saving checkpoints for 25000 into /var/folders/77/jl8t9nkx27q3q1536fj3b87h38zwgl/T/tmps6ff3cgx/model.ckpt.\n"
     ]
    },
    {
     "name": "stderr",
     "output_type": "stream",
     "text": [
      "INFO:tensorflow:Saving checkpoints for 25000 into /var/folders/77/jl8t9nkx27q3q1536fj3b87h38zwgl/T/tmps6ff3cgx/model.ckpt.\n"
     ]
    },
    {
     "name": "stdout",
     "output_type": "stream",
     "text": [
      "INFO:tensorflow:Loss for final step: 93234660000.0.\n"
     ]
    },
    {
     "name": "stderr",
     "output_type": "stream",
     "text": [
      "INFO:tensorflow:Loss for final step: 93234660000.0.\n"
     ]
    },
    {
     "data": {
      "text/plain": [
       "<tensorflow.python.estimator.canned.dnn.DNNRegressor at 0x11b913940>"
      ]
     },
     "execution_count": 57,
     "metadata": {},
     "output_type": "execute_result"
    }
   ],
   "source": [
    "model.train(input_fn=input_fn, steps=25000)"
   ]
  },
  {
   "cell_type": "markdown",
   "metadata": {},
   "source": [
    "** Create a prediction input function and then use the .predict method off your estimator model to create a list or predictions on your test data. **"
   ]
  },
  {
   "cell_type": "code",
   "execution_count": 73,
   "metadata": {},
   "outputs": [],
   "source": [
    "predict_input_fn = tf.estimator.inputs.pandas_input_fn(x=X_test, batch_size=10, num_epochs=1, shuffle=False)"
   ]
  },
  {
   "cell_type": "code",
   "execution_count": 74,
   "metadata": {},
   "outputs": [],
   "source": [
    "pred = model.predict(predict_input_fn)"
   ]
  },
  {
   "cell_type": "code",
   "execution_count": 75,
   "metadata": {},
   "outputs": [
    {
     "name": "stdout",
     "output_type": "stream",
     "text": [
      "INFO:tensorflow:Calling model_fn.\n"
     ]
    },
    {
     "name": "stderr",
     "output_type": "stream",
     "text": [
      "INFO:tensorflow:Calling model_fn.\n"
     ]
    },
    {
     "name": "stdout",
     "output_type": "stream",
     "text": [
      "INFO:tensorflow:Done calling model_fn.\n"
     ]
    },
    {
     "name": "stderr",
     "output_type": "stream",
     "text": [
      "INFO:tensorflow:Done calling model_fn.\n"
     ]
    },
    {
     "name": "stdout",
     "output_type": "stream",
     "text": [
      "INFO:tensorflow:Graph was finalized.\n"
     ]
    },
    {
     "name": "stderr",
     "output_type": "stream",
     "text": [
      "INFO:tensorflow:Graph was finalized.\n"
     ]
    },
    {
     "name": "stdout",
     "output_type": "stream",
     "text": [
      "INFO:tensorflow:Restoring parameters from /var/folders/77/jl8t9nkx27q3q1536fj3b87h38zwgl/T/tmps6ff3cgx/model.ckpt-25000\n"
     ]
    },
    {
     "name": "stderr",
     "output_type": "stream",
     "text": [
      "INFO:tensorflow:Restoring parameters from /var/folders/77/jl8t9nkx27q3q1536fj3b87h38zwgl/T/tmps6ff3cgx/model.ckpt-25000\n"
     ]
    },
    {
     "name": "stdout",
     "output_type": "stream",
     "text": [
      "INFO:tensorflow:Running local_init_op.\n"
     ]
    },
    {
     "name": "stderr",
     "output_type": "stream",
     "text": [
      "INFO:tensorflow:Running local_init_op.\n"
     ]
    },
    {
     "name": "stdout",
     "output_type": "stream",
     "text": [
      "INFO:tensorflow:Done running local_init_op.\n"
     ]
    },
    {
     "name": "stderr",
     "output_type": "stream",
     "text": [
      "INFO:tensorflow:Done running local_init_op.\n"
     ]
    }
   ],
   "source": [
    "predictions = list(pred)"
   ]
  },
  {
   "cell_type": "code",
   "execution_count": 76,
   "metadata": {},
   "outputs": [
    {
     "data": {
      "text/plain": [
       "[{'predictions': array([165077.92], dtype=float32)},\n",
       " {'predictions': array([197601.97], dtype=float32)},\n",
       " {'predictions': array([261851.75], dtype=float32)},\n",
       " {'predictions': array([222015.5], dtype=float32)},\n",
       " {'predictions': array([215729.66], dtype=float32)},\n",
       " {'predictions': array([210314.89], dtype=float32)},\n",
       " {'predictions': array([232063.88], dtype=float32)},\n",
       " {'predictions': array([215292.66], dtype=float32)},\n",
       " {'predictions': array([184775.58], dtype=float32)},\n",
       " {'predictions': array([299807.66], dtype=float32)},\n",
       " {'predictions': array([176454.97], dtype=float32)},\n",
       " {'predictions': array([211109.7], dtype=float32)},\n",
       " {'predictions': array([204854.23], dtype=float32)},\n",
       " {'predictions': array([197449.16], dtype=float32)},\n",
       " {'predictions': array([236751.03], dtype=float32)},\n",
       " {'predictions': array([232577.38], dtype=float32)},\n",
       " {'predictions': array([218474.5], dtype=float32)},\n",
       " {'predictions': array([193873.62], dtype=float32)},\n",
       " {'predictions': array([218853.47], dtype=float32)},\n",
       " {'predictions': array([173009.06], dtype=float32)},\n",
       " {'predictions': array([268325.94], dtype=float32)},\n",
       " {'predictions': array([255686.28], dtype=float32)},\n",
       " {'predictions': array([204013.89], dtype=float32)},\n",
       " {'predictions': array([263305.12], dtype=float32)},\n",
       " {'predictions': array([202591.5], dtype=float32)},\n",
       " {'predictions': array([189354.], dtype=float32)},\n",
       " {'predictions': array([202684.34], dtype=float32)},\n",
       " {'predictions': array([200986.77], dtype=float32)},\n",
       " {'predictions': array([199081.84], dtype=float32)},\n",
       " {'predictions': array([257268.03], dtype=float32)},\n",
       " {'predictions': array([181903.23], dtype=float32)},\n",
       " {'predictions': array([191702.66], dtype=float32)},\n",
       " {'predictions': array([160717.47], dtype=float32)},\n",
       " {'predictions': array([250090.36], dtype=float32)},\n",
       " {'predictions': array([225992.], dtype=float32)},\n",
       " {'predictions': array([268328.34], dtype=float32)},\n",
       " {'predictions': array([213733.84], dtype=float32)},\n",
       " {'predictions': array([211920.31], dtype=float32)},\n",
       " {'predictions': array([219910.03], dtype=float32)},\n",
       " {'predictions': array([202116.53], dtype=float32)},\n",
       " {'predictions': array([250501.38], dtype=float32)},\n",
       " {'predictions': array([191610.8], dtype=float32)},\n",
       " {'predictions': array([163689.17], dtype=float32)},\n",
       " {'predictions': array([203978.38], dtype=float32)},\n",
       " {'predictions': array([195243.], dtype=float32)},\n",
       " {'predictions': array([206991.44], dtype=float32)},\n",
       " {'predictions': array([210781.6], dtype=float32)},\n",
       " {'predictions': array([206187.19], dtype=float32)},\n",
       " {'predictions': array([211921.88], dtype=float32)},\n",
       " {'predictions': array([220083.42], dtype=float32)},\n",
       " {'predictions': array([197038.17], dtype=float32)},\n",
       " {'predictions': array([199561.81], dtype=float32)},\n",
       " {'predictions': array([198043.38], dtype=float32)},\n",
       " {'predictions': array([165948.12], dtype=float32)},\n",
       " {'predictions': array([214216.34], dtype=float32)},\n",
       " {'predictions': array([207366.1], dtype=float32)},\n",
       " {'predictions': array([181973.97], dtype=float32)},\n",
       " {'predictions': array([243276.72], dtype=float32)},\n",
       " {'predictions': array([212290.28], dtype=float32)},\n",
       " {'predictions': array([244428.16], dtype=float32)},\n",
       " {'predictions': array([220993.19], dtype=float32)},\n",
       " {'predictions': array([209291.75], dtype=float32)},\n",
       " {'predictions': array([171478.39], dtype=float32)},\n",
       " {'predictions': array([188180.47], dtype=float32)},\n",
       " {'predictions': array([247789.5], dtype=float32)},\n",
       " {'predictions': array([204889.28], dtype=float32)},\n",
       " {'predictions': array([199753.16], dtype=float32)},\n",
       " {'predictions': array([197842.45], dtype=float32)},\n",
       " {'predictions': array([214039.86], dtype=float32)},\n",
       " {'predictions': array([198197.25], dtype=float32)},\n",
       " {'predictions': array([203720.44], dtype=float32)},\n",
       " {'predictions': array([243856.75], dtype=float32)},\n",
       " {'predictions': array([176199.97], dtype=float32)},\n",
       " {'predictions': array([211197.4], dtype=float32)},\n",
       " {'predictions': array([201415.47], dtype=float32)},\n",
       " {'predictions': array([181506.67], dtype=float32)},\n",
       " {'predictions': array([266231.53], dtype=float32)},\n",
       " {'predictions': array([196145.31], dtype=float32)},\n",
       " {'predictions': array([225632.16], dtype=float32)},\n",
       " {'predictions': array([210825.03], dtype=float32)},\n",
       " {'predictions': array([161097.34], dtype=float32)},\n",
       " {'predictions': array([180864.81], dtype=float32)},\n",
       " {'predictions': array([170854.62], dtype=float32)},\n",
       " {'predictions': array([154710.14], dtype=float32)},\n",
       " {'predictions': array([291476.94], dtype=float32)},\n",
       " {'predictions': array([207952.], dtype=float32)},\n",
       " {'predictions': array([182080.75], dtype=float32)},\n",
       " {'predictions': array([171068.34], dtype=float32)},\n",
       " {'predictions': array([167300.88], dtype=float32)},\n",
       " {'predictions': array([184087.3], dtype=float32)},\n",
       " {'predictions': array([215382.9], dtype=float32)},\n",
       " {'predictions': array([222414.89], dtype=float32)},\n",
       " {'predictions': array([204216.8], dtype=float32)},\n",
       " {'predictions': array([183919.75], dtype=float32)},\n",
       " {'predictions': array([164575.11], dtype=float32)},\n",
       " {'predictions': array([199181.22], dtype=float32)},\n",
       " {'predictions': array([250519.28], dtype=float32)},\n",
       " {'predictions': array([206345.9], dtype=float32)},\n",
       " {'predictions': array([196120.1], dtype=float32)},\n",
       " {'predictions': array([232110.66], dtype=float32)},\n",
       " {'predictions': array([165470.78], dtype=float32)},\n",
       " {'predictions': array([268359.47], dtype=float32)},\n",
       " {'predictions': array([206413.56], dtype=float32)},\n",
       " {'predictions': array([221805.25], dtype=float32)},\n",
       " {'predictions': array([218817.84], dtype=float32)},\n",
       " {'predictions': array([201961.97], dtype=float32)},\n",
       " {'predictions': array([184404.12], dtype=float32)},\n",
       " {'predictions': array([247644.1], dtype=float32)},\n",
       " {'predictions': array([220385.53], dtype=float32)},\n",
       " {'predictions': array([190090.34], dtype=float32)},\n",
       " {'predictions': array([221756.5], dtype=float32)},\n",
       " {'predictions': array([241682.5], dtype=float32)},\n",
       " {'predictions': array([326459.5], dtype=float32)},\n",
       " {'predictions': array([234560.19], dtype=float32)},\n",
       " {'predictions': array([221591.22], dtype=float32)},\n",
       " {'predictions': array([204261.31], dtype=float32)},\n",
       " {'predictions': array([205485.84], dtype=float32)},\n",
       " {'predictions': array([215688.9], dtype=float32)},\n",
       " {'predictions': array([224344.22], dtype=float32)},\n",
       " {'predictions': array([223412.44], dtype=float32)},\n",
       " {'predictions': array([199702.97], dtype=float32)},\n",
       " {'predictions': array([220359.11], dtype=float32)},\n",
       " {'predictions': array([238679.58], dtype=float32)},\n",
       " {'predictions': array([211584.73], dtype=float32)},\n",
       " {'predictions': array([189159.61], dtype=float32)},\n",
       " {'predictions': array([193986.88], dtype=float32)},\n",
       " {'predictions': array([136341.06], dtype=float32)},\n",
       " {'predictions': array([204997.47], dtype=float32)},\n",
       " {'predictions': array([232246.75], dtype=float32)},\n",
       " {'predictions': array([219772.94], dtype=float32)},\n",
       " {'predictions': array([260156.31], dtype=float32)},\n",
       " {'predictions': array([403641.34], dtype=float32)},\n",
       " {'predictions': array([240147.44], dtype=float32)},\n",
       " {'predictions': array([188000.69], dtype=float32)},\n",
       " {'predictions': array([206220.44], dtype=float32)},\n",
       " {'predictions': array([189563.12], dtype=float32)},\n",
       " {'predictions': array([239137.53], dtype=float32)},\n",
       " {'predictions': array([210480.66], dtype=float32)},\n",
       " {'predictions': array([233075.44], dtype=float32)},\n",
       " {'predictions': array([217190.27], dtype=float32)},\n",
       " {'predictions': array([273028.8], dtype=float32)},\n",
       " {'predictions': array([205391.17], dtype=float32)},\n",
       " {'predictions': array([225492.94], dtype=float32)},\n",
       " {'predictions': array([217841.38], dtype=float32)},\n",
       " {'predictions': array([264502.47], dtype=float32)},\n",
       " {'predictions': array([220646.6], dtype=float32)},\n",
       " {'predictions': array([247125.03], dtype=float32)},\n",
       " {'predictions': array([188594.39], dtype=float32)},\n",
       " {'predictions': array([184263.86], dtype=float32)},\n",
       " {'predictions': array([196177.03], dtype=float32)},\n",
       " {'predictions': array([179838.72], dtype=float32)},\n",
       " {'predictions': array([195051.94], dtype=float32)},\n",
       " {'predictions': array([215754.1], dtype=float32)},\n",
       " {'predictions': array([201748.88], dtype=float32)},\n",
       " {'predictions': array([198213.78], dtype=float32)},\n",
       " {'predictions': array([244252.05], dtype=float32)},\n",
       " {'predictions': array([199736.34], dtype=float32)},\n",
       " {'predictions': array([230902.56], dtype=float32)},\n",
       " {'predictions': array([144397.52], dtype=float32)},\n",
       " {'predictions': array([174145.44], dtype=float32)},\n",
       " {'predictions': array([207157.72], dtype=float32)},\n",
       " {'predictions': array([228271.56], dtype=float32)},\n",
       " {'predictions': array([292651.9], dtype=float32)},\n",
       " {'predictions': array([170871.12], dtype=float32)},\n",
       " {'predictions': array([150807.12], dtype=float32)},\n",
       " {'predictions': array([201725.56], dtype=float32)},\n",
       " {'predictions': array([215284.77], dtype=float32)},\n",
       " {'predictions': array([189144.62], dtype=float32)},\n",
       " {'predictions': array([211875.25], dtype=float32)},\n",
       " {'predictions': array([239463.36], dtype=float32)},\n",
       " {'predictions': array([238663.52], dtype=float32)},\n",
       " {'predictions': array([226842.67], dtype=float32)},\n",
       " {'predictions': array([233650.4], dtype=float32)},\n",
       " {'predictions': array([233789.81], dtype=float32)},\n",
       " {'predictions': array([172688.05], dtype=float32)},\n",
       " {'predictions': array([184974.44], dtype=float32)},\n",
       " {'predictions': array([190955.38], dtype=float32)},\n",
       " {'predictions': array([208391.69], dtype=float32)},\n",
       " {'predictions': array([215833.72], dtype=float32)},\n",
       " {'predictions': array([210221.06], dtype=float32)},\n",
       " {'predictions': array([248785.47], dtype=float32)},\n",
       " {'predictions': array([240851.16], dtype=float32)},\n",
       " {'predictions': array([209018.31], dtype=float32)},\n",
       " {'predictions': array([220584.22], dtype=float32)},\n",
       " {'predictions': array([168935.45], dtype=float32)},\n",
       " {'predictions': array([177194.19], dtype=float32)},\n",
       " {'predictions': array([206675.47], dtype=float32)},\n",
       " {'predictions': array([198723.88], dtype=float32)},\n",
       " {'predictions': array([257302.56], dtype=float32)},\n",
       " {'predictions': array([226675.61], dtype=float32)},\n",
       " {'predictions': array([220179.45], dtype=float32)},\n",
       " {'predictions': array([241730.83], dtype=float32)},\n",
       " {'predictions': array([193979.64], dtype=float32)},\n",
       " {'predictions': array([200247.94], dtype=float32)},\n",
       " {'predictions': array([180965.02], dtype=float32)},\n",
       " {'predictions': array([170683.34], dtype=float32)},\n",
       " {'predictions': array([222416.47], dtype=float32)},\n",
       " {'predictions': array([175036.06], dtype=float32)},\n",
       " {'predictions': array([324053.97], dtype=float32)},\n",
       " {'predictions': array([191423.53], dtype=float32)},\n",
       " {'predictions': array([239202.66], dtype=float32)},\n",
       " {'predictions': array([255566.5], dtype=float32)},\n",
       " {'predictions': array([233213.31], dtype=float32)},\n",
       " {'predictions': array([215261.6], dtype=float32)},\n",
       " {'predictions': array([220209.06], dtype=float32)},\n",
       " {'predictions': array([212092.06], dtype=float32)},\n",
       " {'predictions': array([122719.75], dtype=float32)},\n",
       " {'predictions': array([139681.42], dtype=float32)},\n",
       " {'predictions': array([224007.75], dtype=float32)},\n",
       " {'predictions': array([174847.84], dtype=float32)},\n",
       " {'predictions': array([203907.7], dtype=float32)},\n",
       " {'predictions': array([325364.9], dtype=float32)},\n",
       " {'predictions': array([229471.25], dtype=float32)},\n",
       " {'predictions': array([223619.03], dtype=float32)},\n",
       " {'predictions': array([217935.22], dtype=float32)},\n",
       " {'predictions': array([209630.81], dtype=float32)},\n",
       " {'predictions': array([190880.69], dtype=float32)},\n",
       " {'predictions': array([185826.84], dtype=float32)},\n",
       " {'predictions': array([204172.4], dtype=float32)},\n",
       " {'predictions': array([210488.94], dtype=float32)},\n",
       " {'predictions': array([171342.1], dtype=float32)},\n",
       " {'predictions': array([217584.88], dtype=float32)},\n",
       " {'predictions': array([253090.16], dtype=float32)},\n",
       " {'predictions': array([244969.19], dtype=float32)},\n",
       " {'predictions': array([213686.75], dtype=float32)},\n",
       " {'predictions': array([143997.23], dtype=float32)},\n",
       " {'predictions': array([256914.34], dtype=float32)},\n",
       " {'predictions': array([217245.4], dtype=float32)},\n",
       " {'predictions': array([214620.53], dtype=float32)},\n",
       " {'predictions': array([231505.16], dtype=float32)},\n",
       " {'predictions': array([243526.34], dtype=float32)},\n",
       " {'predictions': array([199465.66], dtype=float32)},\n",
       " {'predictions': array([205357.25], dtype=float32)},\n",
       " {'predictions': array([253329.8], dtype=float32)},\n",
       " {'predictions': array([194492.42], dtype=float32)},\n",
       " {'predictions': array([189523.31], dtype=float32)},\n",
       " {'predictions': array([262652.9], dtype=float32)},\n",
       " {'predictions': array([297244.4], dtype=float32)},\n",
       " {'predictions': array([212570.88], dtype=float32)},\n",
       " {'predictions': array([233464.88], dtype=float32)},\n",
       " {'predictions': array([183136.3], dtype=float32)},\n",
       " {'predictions': array([199919.84], dtype=float32)},\n",
       " {'predictions': array([203242.4], dtype=float32)},\n",
       " {'predictions': array([218112.08], dtype=float32)},\n",
       " {'predictions': array([137107.47], dtype=float32)},\n",
       " {'predictions': array([226836.88], dtype=float32)},\n",
       " {'predictions': array([245399.44], dtype=float32)},\n",
       " {'predictions': array([228575.95], dtype=float32)},\n",
       " {'predictions': array([217407.69], dtype=float32)},\n",
       " {'predictions': array([203321.05], dtype=float32)},\n",
       " {'predictions': array([167681.55], dtype=float32)},\n",
       " {'predictions': array([228363.78], dtype=float32)},\n",
       " {'predictions': array([205719.14], dtype=float32)},\n",
       " {'predictions': array([220123.9], dtype=float32)},\n",
       " {'predictions': array([142758.25], dtype=float32)},\n",
       " {'predictions': array([219880.94], dtype=float32)},\n",
       " {'predictions': array([211147.5], dtype=float32)},\n",
       " {'predictions': array([206899.9], dtype=float32)},\n",
       " {'predictions': array([184365.08], dtype=float32)},\n",
       " {'predictions': array([216986.14], dtype=float32)},\n",
       " {'predictions': array([225418.38], dtype=float32)},\n",
       " {'predictions': array([203024.34], dtype=float32)},\n",
       " {'predictions': array([296573.53], dtype=float32)},\n",
       " {'predictions': array([210072.5], dtype=float32)},\n",
       " {'predictions': array([198573.53], dtype=float32)},\n",
       " {'predictions': array([257482.6], dtype=float32)},\n",
       " {'predictions': array([188723.84], dtype=float32)},\n",
       " {'predictions': array([232525.77], dtype=float32)},\n",
       " {'predictions': array([246464.17], dtype=float32)},\n",
       " {'predictions': array([205876.28], dtype=float32)},\n",
       " {'predictions': array([393431.72], dtype=float32)},\n",
       " {'predictions': array([227030.83], dtype=float32)},\n",
       " {'predictions': array([208156.22], dtype=float32)},\n",
       " {'predictions': array([202816.08], dtype=float32)},\n",
       " {'predictions': array([145503.8], dtype=float32)},\n",
       " {'predictions': array([205473.75], dtype=float32)},\n",
       " {'predictions': array([242961.69], dtype=float32)},\n",
       " {'predictions': array([176545.47], dtype=float32)},\n",
       " {'predictions': array([225968.1], dtype=float32)},\n",
       " {'predictions': array([217072.6], dtype=float32)},\n",
       " {'predictions': array([209221.1], dtype=float32)},\n",
       " {'predictions': array([185972.52], dtype=float32)},\n",
       " {'predictions': array([168393.94], dtype=float32)},\n",
       " {'predictions': array([225167.14], dtype=float32)},\n",
       " {'predictions': array([221581.61], dtype=float32)},\n",
       " {'predictions': array([250413.58], dtype=float32)},\n",
       " {'predictions': array([233360.47], dtype=float32)},\n",
       " {'predictions': array([182087.55], dtype=float32)},\n",
       " {'predictions': array([246014.66], dtype=float32)},\n",
       " {'predictions': array([287581.28], dtype=float32)},\n",
       " {'predictions': array([218616.4], dtype=float32)},\n",
       " {'predictions': array([183049.81], dtype=float32)},\n",
       " {'predictions': array([194124.62], dtype=float32)},\n",
       " {'predictions': array([181648.75], dtype=float32)},\n",
       " {'predictions': array([220510.05], dtype=float32)},\n",
       " {'predictions': array([140393.88], dtype=float32)},\n",
       " {'predictions': array([226858.38], dtype=float32)},\n",
       " {'predictions': array([192178.88], dtype=float32)},\n",
       " {'predictions': array([218848.25], dtype=float32)},\n",
       " {'predictions': array([224337.75], dtype=float32)},\n",
       " {'predictions': array([165172.22], dtype=float32)},\n",
       " {'predictions': array([196540.33], dtype=float32)},\n",
       " {'predictions': array([261005.14], dtype=float32)},\n",
       " {'predictions': array([196810.4], dtype=float32)},\n",
       " {'predictions': array([199299.05], dtype=float32)},\n",
       " {'predictions': array([298490.34], dtype=float32)},\n",
       " {'predictions': array([169008.36], dtype=float32)},\n",
       " {'predictions': array([162859.27], dtype=float32)},\n",
       " {'predictions': array([244227.08], dtype=float32)},\n",
       " {'predictions': array([204887.62], dtype=float32)},\n",
       " {'predictions': array([207275.2], dtype=float32)},\n",
       " {'predictions': array([156980.72], dtype=float32)},\n",
       " {'predictions': array([198751.5], dtype=float32)},\n",
       " {'predictions': array([230507.14], dtype=float32)},\n",
       " {'predictions': array([398990.3], dtype=float32)},\n",
       " {'predictions': array([205974.94], dtype=float32)},\n",
       " {'predictions': array([176686.75], dtype=float32)},\n",
       " {'predictions': array([273646.78], dtype=float32)},\n",
       " {'predictions': array([241904.12], dtype=float32)},\n",
       " {'predictions': array([244325.84], dtype=float32)},\n",
       " {'predictions': array([225719.38], dtype=float32)},\n",
       " {'predictions': array([238787.75], dtype=float32)},\n",
       " {'predictions': array([200023.4], dtype=float32)},\n",
       " {'predictions': array([300802.56], dtype=float32)},\n",
       " {'predictions': array([207158.34], dtype=float32)},\n",
       " {'predictions': array([198811.34], dtype=float32)},\n",
       " {'predictions': array([256298.05], dtype=float32)},\n",
       " {'predictions': array([143050.08], dtype=float32)},\n",
       " {'predictions': array([187371.55], dtype=float32)},\n",
       " {'predictions': array([209660.72], dtype=float32)},\n",
       " {'predictions': array([201695.05], dtype=float32)},\n",
       " {'predictions': array([187416.7], dtype=float32)},\n",
       " {'predictions': array([235007.36], dtype=float32)},\n",
       " {'predictions': array([188613.08], dtype=float32)},\n",
       " {'predictions': array([193989.5], dtype=float32)},\n",
       " {'predictions': array([229431.47], dtype=float32)},\n",
       " {'predictions': array([161573.92], dtype=float32)},\n",
       " {'predictions': array([157482.72], dtype=float32)},\n",
       " {'predictions': array([160131.16], dtype=float32)},\n",
       " {'predictions': array([277308.3], dtype=float32)},\n",
       " {'predictions': array([228056.38], dtype=float32)},\n",
       " {'predictions': array([193469.67], dtype=float32)},\n",
       " {'predictions': array([163061.4], dtype=float32)},\n",
       " {'predictions': array([235835.28], dtype=float32)},\n",
       " {'predictions': array([199425.28], dtype=float32)},\n",
       " {'predictions': array([178991.66], dtype=float32)},\n",
       " {'predictions': array([256028.16], dtype=float32)},\n",
       " {'predictions': array([236231.1], dtype=float32)},\n",
       " {'predictions': array([345593.62], dtype=float32)},\n",
       " {'predictions': array([187112.22], dtype=float32)},\n",
       " {'predictions': array([153319.69], dtype=float32)},\n",
       " {'predictions': array([234268.34], dtype=float32)},\n",
       " {'predictions': array([183891.1], dtype=float32)},\n",
       " {'predictions': array([152918.14], dtype=float32)},\n",
       " {'predictions': array([202616.64], dtype=float32)},\n",
       " {'predictions': array([213697.], dtype=float32)},\n",
       " {'predictions': array([174149.94], dtype=float32)},\n",
       " {'predictions': array([193860.5], dtype=float32)},\n",
       " {'predictions': array([236631.53], dtype=float32)},\n",
       " {'predictions': array([185182.5], dtype=float32)},\n",
       " {'predictions': array([248580.58], dtype=float32)},\n",
       " {'predictions': array([211012.22], dtype=float32)},\n",
       " {'predictions': array([225530.84], dtype=float32)},\n",
       " {'predictions': array([177867.95], dtype=float32)},\n",
       " {'predictions': array([219373.38], dtype=float32)},\n",
       " {'predictions': array([215756.88], dtype=float32)},\n",
       " {'predictions': array([212191.19], dtype=float32)},\n",
       " {'predictions': array([285008.4], dtype=float32)},\n",
       " {'predictions': array([223643.9], dtype=float32)},\n",
       " {'predictions': array([231560.1], dtype=float32)},\n",
       " {'predictions': array([196464.47], dtype=float32)},\n",
       " {'predictions': array([161269.5], dtype=float32)},\n",
       " {'predictions': array([147776.14], dtype=float32)},\n",
       " {'predictions': array([197477.92], dtype=float32)},\n",
       " {'predictions': array([214757.9], dtype=float32)},\n",
       " {'predictions': array([235132.9], dtype=float32)},\n",
       " {'predictions': array([212427.89], dtype=float32)},\n",
       " {'predictions': array([200003.12], dtype=float32)},\n",
       " {'predictions': array([196266.31], dtype=float32)},\n",
       " {'predictions': array([303325.16], dtype=float32)},\n",
       " {'predictions': array([242875.19], dtype=float32)},\n",
       " {'predictions': array([321256.84], dtype=float32)},\n",
       " {'predictions': array([222014.5], dtype=float32)},\n",
       " {'predictions': array([197093.23], dtype=float32)},\n",
       " {'predictions': array([203347.88], dtype=float32)},\n",
       " {'predictions': array([225536.05], dtype=float32)},\n",
       " {'predictions': array([169300.83], dtype=float32)},\n",
       " {'predictions': array([213287.95], dtype=float32)},\n",
       " {'predictions': array([173541.58], dtype=float32)},\n",
       " {'predictions': array([188403.83], dtype=float32)},\n",
       " {'predictions': array([236425.84], dtype=float32)},\n",
       " {'predictions': array([192660.75], dtype=float32)},\n",
       " {'predictions': array([209235.47], dtype=float32)},\n",
       " {'predictions': array([208394.94], dtype=float32)},\n",
       " {'predictions': array([192237.22], dtype=float32)},\n",
       " {'predictions': array([207661.66], dtype=float32)},\n",
       " {'predictions': array([412506.9], dtype=float32)},\n",
       " {'predictions': array([245908.69], dtype=float32)},\n",
       " {'predictions': array([238201.83], dtype=float32)},\n",
       " {'predictions': array([229249.44], dtype=float32)},\n",
       " {'predictions': array([239988.19], dtype=float32)},\n",
       " {'predictions': array([224818.94], dtype=float32)},\n",
       " {'predictions': array([218054.58], dtype=float32)},\n",
       " {'predictions': array([173104.53], dtype=float32)},\n",
       " {'predictions': array([195508.88], dtype=float32)},\n",
       " {'predictions': array([177871.7], dtype=float32)},\n",
       " {'predictions': array([301333.06], dtype=float32)},\n",
       " {'predictions': array([214417.03], dtype=float32)},\n",
       " {'predictions': array([160124.77], dtype=float32)},\n",
       " {'predictions': array([215195.17], dtype=float32)},\n",
       " {'predictions': array([217599.03], dtype=float32)},\n",
       " {'predictions': array([312993.28], dtype=float32)},\n",
       " {'predictions': array([232465.34], dtype=float32)},\n",
       " {'predictions': array([169042.88], dtype=float32)},\n",
       " {'predictions': array([200959.25], dtype=float32)},\n",
       " {'predictions': array([235459.], dtype=float32)},\n",
       " {'predictions': array([223550.44], dtype=float32)},\n",
       " {'predictions': array([177584.02], dtype=float32)},\n",
       " {'predictions': array([241408.53], dtype=float32)},\n",
       " {'predictions': array([212228.6], dtype=float32)},\n",
       " {'predictions': array([169273.84], dtype=float32)},\n",
       " {'predictions': array([184197.39], dtype=float32)},\n",
       " {'predictions': array([289949.4], dtype=float32)},\n",
       " {'predictions': array([195393.66], dtype=float32)},\n",
       " {'predictions': array([293836.16], dtype=float32)},\n",
       " {'predictions': array([215091.39], dtype=float32)},\n",
       " {'predictions': array([220528.3], dtype=float32)},\n",
       " {'predictions': array([220936.], dtype=float32)},\n",
       " {'predictions': array([235216.31], dtype=float32)},\n",
       " {'predictions': array([167970.34], dtype=float32)},\n",
       " {'predictions': array([188211.75], dtype=float32)},\n",
       " {'predictions': array([192949.05], dtype=float32)},\n",
       " {'predictions': array([239327.3], dtype=float32)},\n",
       " {'predictions': array([200836.45], dtype=float32)},\n",
       " {'predictions': array([188176.78], dtype=float32)},\n",
       " {'predictions': array([265277.4], dtype=float32)},\n",
       " {'predictions': array([237488.62], dtype=float32)},\n",
       " {'predictions': array([179056.89], dtype=float32)},\n",
       " {'predictions': array([208252.42], dtype=float32)},\n",
       " {'predictions': array([222911.53], dtype=float32)},\n",
       " {'predictions': array([247352.75], dtype=float32)},\n",
       " {'predictions': array([192820.25], dtype=float32)},\n",
       " {'predictions': array([228914.42], dtype=float32)},\n",
       " {'predictions': array([213309.12], dtype=float32)},\n",
       " {'predictions': array([189246.72], dtype=float32)},\n",
       " {'predictions': array([181179.56], dtype=float32)},\n",
       " {'predictions': array([263574.28], dtype=float32)},\n",
       " {'predictions': array([225820.78], dtype=float32)},\n",
       " {'predictions': array([186105.38], dtype=float32)},\n",
       " {'predictions': array([242271.34], dtype=float32)},\n",
       " {'predictions': array([243102.5], dtype=float32)},\n",
       " {'predictions': array([184167.7], dtype=float32)},\n",
       " {'predictions': array([275606.88], dtype=float32)},\n",
       " {'predictions': array([181483.25], dtype=float32)},\n",
       " {'predictions': array([211943.45], dtype=float32)},\n",
       " {'predictions': array([222599.2], dtype=float32)},\n",
       " {'predictions': array([210447.84], dtype=float32)},\n",
       " {'predictions': array([247627.19], dtype=float32)},\n",
       " {'predictions': array([237834.33], dtype=float32)},\n",
       " {'predictions': array([162807.47], dtype=float32)},\n",
       " {'predictions': array([192237.53], dtype=float32)},\n",
       " {'predictions': array([283551.16], dtype=float32)},\n",
       " {'predictions': array([200078.56], dtype=float32)},\n",
       " {'predictions': array([147861.22], dtype=float32)},\n",
       " {'predictions': array([181298.97], dtype=float32)},\n",
       " {'predictions': array([194070.75], dtype=float32)},\n",
       " {'predictions': array([217254.22], dtype=float32)},\n",
       " {'predictions': array([213531.16], dtype=float32)},\n",
       " {'predictions': array([184936.88], dtype=float32)},\n",
       " {'predictions': array([163815.61], dtype=float32)},\n",
       " {'predictions': array([210792.9], dtype=float32)},\n",
       " {'predictions': array([210595.16], dtype=float32)},\n",
       " {'predictions': array([201618.34], dtype=float32)},\n",
       " {'predictions': array([165789.28], dtype=float32)},\n",
       " {'predictions': array([227224.36], dtype=float32)},\n",
       " {'predictions': array([205694.19], dtype=float32)},\n",
       " {'predictions': array([184165.22], dtype=float32)},\n",
       " {'predictions': array([139948.2], dtype=float32)},\n",
       " {'predictions': array([191006.11], dtype=float32)},\n",
       " {'predictions': array([142747.78], dtype=float32)},\n",
       " {'predictions': array([223353.81], dtype=float32)},\n",
       " {'predictions': array([199358.9], dtype=float32)},\n",
       " {'predictions': array([226903.88], dtype=float32)},\n",
       " {'predictions': array([215687.56], dtype=float32)},\n",
       " {'predictions': array([216685.62], dtype=float32)},\n",
       " {'predictions': array([181116.6], dtype=float32)},\n",
       " {'predictions': array([196638.47], dtype=float32)},\n",
       " {'predictions': array([232702.62], dtype=float32)},\n",
       " {'predictions': array([196637.16], dtype=float32)},\n",
       " {'predictions': array([207079.05], dtype=float32)},\n",
       " {'predictions': array([187711.9], dtype=float32)},\n",
       " {'predictions': array([212467.16], dtype=float32)},\n",
       " {'predictions': array([210894.23], dtype=float32)},\n",
       " {'predictions': array([162438.78], dtype=float32)},\n",
       " {'predictions': array([236338.17], dtype=float32)},\n",
       " {'predictions': array([190714.31], dtype=float32)},\n",
       " {'predictions': array([239539.19], dtype=float32)},\n",
       " {'predictions': array([291361.22], dtype=float32)},\n",
       " {'predictions': array([205489.28], dtype=float32)},\n",
       " {'predictions': array([240155.6], dtype=float32)},\n",
       " {'predictions': array([220903.19], dtype=float32)},\n",
       " {'predictions': array([236375.47], dtype=float32)},\n",
       " {'predictions': array([199697.61], dtype=float32)},\n",
       " {'predictions': array([156007.19], dtype=float32)},\n",
       " {'predictions': array([226095.53], dtype=float32)},\n",
       " {'predictions': array([320371.72], dtype=float32)},\n",
       " {'predictions': array([194746.81], dtype=float32)},\n",
       " {'predictions': array([267996.66], dtype=float32)},\n",
       " {'predictions': array([240274.62], dtype=float32)},\n",
       " {'predictions': array([193062.72], dtype=float32)},\n",
       " {'predictions': array([193164.84], dtype=float32)},\n",
       " {'predictions': array([212951.56], dtype=float32)},\n",
       " {'predictions': array([240929.16], dtype=float32)},\n",
       " {'predictions': array([264126.8], dtype=float32)},\n",
       " {'predictions': array([232686.9], dtype=float32)},\n",
       " {'predictions': array([248336.06], dtype=float32)},\n",
       " {'predictions': array([191473.25], dtype=float32)},\n",
       " {'predictions': array([199302.53], dtype=float32)},\n",
       " {'predictions': array([167743.14], dtype=float32)},\n",
       " {'predictions': array([205137.75], dtype=float32)},\n",
       " {'predictions': array([212489.94], dtype=float32)},\n",
       " {'predictions': array([216342.19], dtype=float32)},\n",
       " {'predictions': array([241757.4], dtype=float32)},\n",
       " {'predictions': array([195450.72], dtype=float32)},\n",
       " {'predictions': array([180743.62], dtype=float32)},\n",
       " {'predictions': array([266136.88], dtype=float32)},\n",
       " {'predictions': array([160788.08], dtype=float32)},\n",
       " {'predictions': array([194310.31], dtype=float32)},\n",
       " {'predictions': array([114073.4], dtype=float32)},\n",
       " {'predictions': array([197273.53], dtype=float32)},\n",
       " {'predictions': array([198019.25], dtype=float32)},\n",
       " {'predictions': array([195150.94], dtype=float32)},\n",
       " {'predictions': array([187768.81], dtype=float32)},\n",
       " {'predictions': array([191781.], dtype=float32)},\n",
       " {'predictions': array([215762.95], dtype=float32)},\n",
       " {'predictions': array([229656.06], dtype=float32)},\n",
       " {'predictions': array([222948.22], dtype=float32)},\n",
       " {'predictions': array([166653.8], dtype=float32)},\n",
       " {'predictions': array([199970.77], dtype=float32)},\n",
       " {'predictions': array([165370.8], dtype=float32)},\n",
       " {'predictions': array([228840.12], dtype=float32)},\n",
       " {'predictions': array([245139.9], dtype=float32)},\n",
       " {'predictions': array([231990.69], dtype=float32)},\n",
       " {'predictions': array([192351.4], dtype=float32)},\n",
       " {'predictions': array([168430.78], dtype=float32)},\n",
       " {'predictions': array([264352.62], dtype=float32)},\n",
       " {'predictions': array([208875.88], dtype=float32)},\n",
       " {'predictions': array([336434.9], dtype=float32)},\n",
       " {'predictions': array([241022.78], dtype=float32)},\n",
       " {'predictions': array([181766.28], dtype=float32)},\n",
       " {'predictions': array([187073.88], dtype=float32)},\n",
       " {'predictions': array([251106.47], dtype=float32)},\n",
       " {'predictions': array([212273.38], dtype=float32)},\n",
       " {'predictions': array([202953.9], dtype=float32)},\n",
       " {'predictions': array([185430.47], dtype=float32)},\n",
       " {'predictions': array([213597.16], dtype=float32)},\n",
       " {'predictions': array([176394.34], dtype=float32)},\n",
       " {'predictions': array([218585.47], dtype=float32)},\n",
       " {'predictions': array([201214.19], dtype=float32)},\n",
       " {'predictions': array([168497.45], dtype=float32)},\n",
       " {'predictions': array([253047.38], dtype=float32)},\n",
       " {'predictions': array([259664.22], dtype=float32)},\n",
       " {'predictions': array([222499.19], dtype=float32)},\n",
       " {'predictions': array([235019.58], dtype=float32)},\n",
       " {'predictions': array([175035.89], dtype=float32)},\n",
       " {'predictions': array([261373.28], dtype=float32)},\n",
       " {'predictions': array([232762.5], dtype=float32)},\n",
       " {'predictions': array([205573.08], dtype=float32)},\n",
       " {'predictions': array([242014.16], dtype=float32)},\n",
       " {'predictions': array([267425.6], dtype=float32)},\n",
       " {'predictions': array([273500.4], dtype=float32)},\n",
       " {'predictions': array([173946.25], dtype=float32)},\n",
       " {'predictions': array([205873.48], dtype=float32)},\n",
       " {'predictions': array([233394.14], dtype=float32)},\n",
       " {'predictions': array([181798.64], dtype=float32)},\n",
       " {'predictions': array([210916.08], dtype=float32)},\n",
       " {'predictions': array([184001.53], dtype=float32)},\n",
       " {'predictions': array([211706.5], dtype=float32)},\n",
       " {'predictions': array([150058.56], dtype=float32)},\n",
       " {'predictions': array([244014.55], dtype=float32)},\n",
       " {'predictions': array([222722.53], dtype=float32)},\n",
       " {'predictions': array([283682.66], dtype=float32)},\n",
       " {'predictions': array([291271.25], dtype=float32)},\n",
       " {'predictions': array([182984.84], dtype=float32)},\n",
       " {'predictions': array([191312.78], dtype=float32)},\n",
       " {'predictions': array([266355.28], dtype=float32)},\n",
       " {'predictions': array([198110.61], dtype=float32)},\n",
       " {'predictions': array([202844.7], dtype=float32)},\n",
       " {'predictions': array([176309.28], dtype=float32)},\n",
       " {'predictions': array([224687.22], dtype=float32)},\n",
       " {'predictions': array([187278.84], dtype=float32)},\n",
       " {'predictions': array([187287.78], dtype=float32)},\n",
       " {'predictions': array([182284.45], dtype=float32)},\n",
       " {'predictions': array([204979.77], dtype=float32)},\n",
       " {'predictions': array([162904.25], dtype=float32)},\n",
       " {'predictions': array([227796.69], dtype=float32)},\n",
       " {'predictions': array([211052.94], dtype=float32)},\n",
       " {'predictions': array([193221.28], dtype=float32)},\n",
       " {'predictions': array([179871.7], dtype=float32)},\n",
       " {'predictions': array([270560.28], dtype=float32)},\n",
       " {'predictions': array([197406.06], dtype=float32)},\n",
       " {'predictions': array([247623.9], dtype=float32)},\n",
       " {'predictions': array([228724.6], dtype=float32)},\n",
       " {'predictions': array([175176.84], dtype=float32)},\n",
       " {'predictions': array([158693.58], dtype=float32)},\n",
       " {'predictions': array([235313.27], dtype=float32)},\n",
       " {'predictions': array([198034.25], dtype=float32)},\n",
       " {'predictions': array([253828.92], dtype=float32)},\n",
       " {'predictions': array([214947.75], dtype=float32)},\n",
       " {'predictions': array([180169.2], dtype=float32)},\n",
       " {'predictions': array([214578.2], dtype=float32)},\n",
       " {'predictions': array([192098.58], dtype=float32)},\n",
       " {'predictions': array([181863.75], dtype=float32)},\n",
       " {'predictions': array([227284.03], dtype=float32)},\n",
       " {'predictions': array([248791.22], dtype=float32)},\n",
       " {'predictions': array([227693.5], dtype=float32)},\n",
       " {'predictions': array([233298.03], dtype=float32)},\n",
       " {'predictions': array([194429.56], dtype=float32)},\n",
       " {'predictions': array([203667.9], dtype=float32)},\n",
       " {'predictions': array([146404.06], dtype=float32)},\n",
       " {'predictions': array([244634.55], dtype=float32)},\n",
       " {'predictions': array([215131.25], dtype=float32)},\n",
       " {'predictions': array([204216.2], dtype=float32)},\n",
       " {'predictions': array([248412.42], dtype=float32)},\n",
       " {'predictions': array([409146.94], dtype=float32)},\n",
       " {'predictions': array([217188.08], dtype=float32)},\n",
       " {'predictions': array([230259.4], dtype=float32)},\n",
       " {'predictions': array([206338.69], dtype=float32)},\n",
       " {'predictions': array([308041.78], dtype=float32)},\n",
       " {'predictions': array([273553.5], dtype=float32)},\n",
       " {'predictions': array([257617.03], dtype=float32)},\n",
       " {'predictions': array([220100.19], dtype=float32)},\n",
       " {'predictions': array([126197.69], dtype=float32)},\n",
       " {'predictions': array([196533.23], dtype=float32)},\n",
       " {'predictions': array([197914.45], dtype=float32)},\n",
       " {'predictions': array([226558.9], dtype=float32)},\n",
       " {'predictions': array([208697.62], dtype=float32)},\n",
       " {'predictions': array([241835.88], dtype=float32)},\n",
       " {'predictions': array([185868.9], dtype=float32)},\n",
       " {'predictions': array([174666.94], dtype=float32)},\n",
       " {'predictions': array([207289.12], dtype=float32)},\n",
       " {'predictions': array([181832.95], dtype=float32)},\n",
       " {'predictions': array([229110.14], dtype=float32)},\n",
       " {'predictions': array([223102.2], dtype=float32)},\n",
       " {'predictions': array([234452.56], dtype=float32)},\n",
       " {'predictions': array([225731.22], dtype=float32)},\n",
       " {'predictions': array([176857.69], dtype=float32)},\n",
       " {'predictions': array([193076.73], dtype=float32)},\n",
       " {'predictions': array([228544.44], dtype=float32)},\n",
       " {'predictions': array([211456.9], dtype=float32)},\n",
       " {'predictions': array([175933.7], dtype=float32)},\n",
       " {'predictions': array([169471.83], dtype=float32)},\n",
       " {'predictions': array([178996.92], dtype=float32)},\n",
       " {'predictions': array([160251.62], dtype=float32)},\n",
       " {'predictions': array([167192.5], dtype=float32)},\n",
       " {'predictions': array([209867.78], dtype=float32)},\n",
       " {'predictions': array([193697.45], dtype=float32)},\n",
       " {'predictions': array([204412.2], dtype=float32)},\n",
       " {'predictions': array([203278.75], dtype=float32)},\n",
       " {'predictions': array([181356.38], dtype=float32)},\n",
       " {'predictions': array([170978.36], dtype=float32)},\n",
       " {'predictions': array([230597.39], dtype=float32)},\n",
       " {'predictions': array([234721.31], dtype=float32)},\n",
       " {'predictions': array([203846.25], dtype=float32)},\n",
       " {'predictions': array([232354.61], dtype=float32)},\n",
       " {'predictions': array([205093.78], dtype=float32)},\n",
       " {'predictions': array([158199.06], dtype=float32)},\n",
       " {'predictions': array([188822.44], dtype=float32)},\n",
       " {'predictions': array([185093.61], dtype=float32)},\n",
       " {'predictions': array([230032.2], dtype=float32)},\n",
       " {'predictions': array([201707.53], dtype=float32)},\n",
       " {'predictions': array([192334.14], dtype=float32)},\n",
       " {'predictions': array([290519.47], dtype=float32)},\n",
       " {'predictions': array([205528.19], dtype=float32)},\n",
       " {'predictions': array([194043.95], dtype=float32)},\n",
       " {'predictions': array([232503.75], dtype=float32)},\n",
       " {'predictions': array([194978.97], dtype=float32)},\n",
       " {'predictions': array([168433.64], dtype=float32)},\n",
       " {'predictions': array([254660.5], dtype=float32)},\n",
       " {'predictions': array([295104.53], dtype=float32)},\n",
       " {'predictions': array([185196.22], dtype=float32)},\n",
       " {'predictions': array([192661.62], dtype=float32)},\n",
       " {'predictions': array([205279.1], dtype=float32)},\n",
       " {'predictions': array([231419.62], dtype=float32)},\n",
       " {'predictions': array([247869.06], dtype=float32)},\n",
       " {'predictions': array([227187.02], dtype=float32)},\n",
       " {'predictions': array([257894.34], dtype=float32)},\n",
       " {'predictions': array([230453.88], dtype=float32)},\n",
       " {'predictions': array([177243.72], dtype=float32)},\n",
       " {'predictions': array([157614.11], dtype=float32)},\n",
       " {'predictions': array([174555.17], dtype=float32)},\n",
       " {'predictions': array([178867.38], dtype=float32)},\n",
       " {'predictions': array([190156.48], dtype=float32)},\n",
       " {'predictions': array([220036.31], dtype=float32)},\n",
       " {'predictions': array([239894.19], dtype=float32)},\n",
       " {'predictions': array([168915.9], dtype=float32)},\n",
       " {'predictions': array([183507.33], dtype=float32)},\n",
       " {'predictions': array([147254.78], dtype=float32)},\n",
       " {'predictions': array([181907.], dtype=float32)},\n",
       " {'predictions': array([239678.22], dtype=float32)},\n",
       " {'predictions': array([216080.53], dtype=float32)},\n",
       " {'predictions': array([217993.36], dtype=float32)},\n",
       " {'predictions': array([236584.], dtype=float32)},\n",
       " {'predictions': array([186615.19], dtype=float32)},\n",
       " {'predictions': array([195884.31], dtype=float32)},\n",
       " {'predictions': array([251714.34], dtype=float32)},\n",
       " {'predictions': array([219199.38], dtype=float32)},\n",
       " {'predictions': array([263336.75], dtype=float32)},\n",
       " {'predictions': array([194224.84], dtype=float32)},\n",
       " {'predictions': array([250177.31], dtype=float32)},\n",
       " {'predictions': array([227883.36], dtype=float32)},\n",
       " {'predictions': array([227587.88], dtype=float32)},\n",
       " {'predictions': array([245409.], dtype=float32)},\n",
       " {'predictions': array([226459.66], dtype=float32)},\n",
       " {'predictions': array([178456.05], dtype=float32)},\n",
       " {'predictions': array([227964.67], dtype=float32)},\n",
       " {'predictions': array([224759.25], dtype=float32)},\n",
       " {'predictions': array([239315.36], dtype=float32)},\n",
       " {'predictions': array([244306.12], dtype=float32)},\n",
       " {'predictions': array([185682.72], dtype=float32)},\n",
       " {'predictions': array([260917.62], dtype=float32)},\n",
       " {'predictions': array([211445.56], dtype=float32)},\n",
       " {'predictions': array([192107.3], dtype=float32)},\n",
       " {'predictions': array([223532.98], dtype=float32)},\n",
       " {'predictions': array([213949.53], dtype=float32)},\n",
       " {'predictions': array([163231.23], dtype=float32)},\n",
       " {'predictions': array([213987.7], dtype=float32)},\n",
       " {'predictions': array([178319.52], dtype=float32)},\n",
       " {'predictions': array([184012.03], dtype=float32)},\n",
       " {'predictions': array([243463.28], dtype=float32)},\n",
       " {'predictions': array([212856.12], dtype=float32)},\n",
       " {'predictions': array([170289.73], dtype=float32)},\n",
       " {'predictions': array([211264.16], dtype=float32)},\n",
       " {'predictions': array([212845.94], dtype=float32)},\n",
       " {'predictions': array([288079.25], dtype=float32)},\n",
       " {'predictions': array([243618.03], dtype=float32)},\n",
       " {'predictions': array([227744.7], dtype=float32)},\n",
       " {'predictions': array([164935.05], dtype=float32)},\n",
       " {'predictions': array([200579.84], dtype=float32)},\n",
       " {'predictions': array([229022.27], dtype=float32)},\n",
       " {'predictions': array([209657.28], dtype=float32)},\n",
       " {'predictions': array([207393.47], dtype=float32)},\n",
       " {'predictions': array([169919.9], dtype=float32)},\n",
       " {'predictions': array([259333.97], dtype=float32)},\n",
       " {'predictions': array([209576.69], dtype=float32)},\n",
       " {'predictions': array([206165.62], dtype=float32)},\n",
       " {'predictions': array([209086.42], dtype=float32)},\n",
       " {'predictions': array([209759.03], dtype=float32)},\n",
       " {'predictions': array([209137.62], dtype=float32)},\n",
       " {'predictions': array([186579.28], dtype=float32)},\n",
       " {'predictions': array([147945.75], dtype=float32)},\n",
       " {'predictions': array([257958.5], dtype=float32)},\n",
       " {'predictions': array([196779.31], dtype=float32)},\n",
       " {'predictions': array([179812.16], dtype=float32)},\n",
       " {'predictions': array([247260.6], dtype=float32)},\n",
       " {'predictions': array([275472.44], dtype=float32)},\n",
       " {'predictions': array([209145.81], dtype=float32)},\n",
       " {'predictions': array([283116.84], dtype=float32)},\n",
       " {'predictions': array([206926.1], dtype=float32)},\n",
       " {'predictions': array([213561.77], dtype=float32)},\n",
       " {'predictions': array([191323.2], dtype=float32)},\n",
       " {'predictions': array([206511.44], dtype=float32)},\n",
       " {'predictions': array([234937.31], dtype=float32)},\n",
       " {'predictions': array([259983.06], dtype=float32)},\n",
       " {'predictions': array([240836.78], dtype=float32)},\n",
       " {'predictions': array([189915.28], dtype=float32)},\n",
       " {'predictions': array([232156.9], dtype=float32)},\n",
       " {'predictions': array([239731.67], dtype=float32)},\n",
       " {'predictions': array([232915.28], dtype=float32)},\n",
       " {'predictions': array([172890.4], dtype=float32)},\n",
       " {'predictions': array([199011.16], dtype=float32)},\n",
       " {'predictions': array([294006.1], dtype=float32)},\n",
       " {'predictions': array([212762.75], dtype=float32)},\n",
       " {'predictions': array([165762.17], dtype=float32)},\n",
       " {'predictions': array([228325.22], dtype=float32)},\n",
       " {'predictions': array([197120.39], dtype=float32)},\n",
       " {'predictions': array([170876.62], dtype=float32)},\n",
       " {'predictions': array([183697.98], dtype=float32)},\n",
       " {'predictions': array([201752.3], dtype=float32)},\n",
       " {'predictions': array([209308.], dtype=float32)},\n",
       " {'predictions': array([213123.36], dtype=float32)},\n",
       " {'predictions': array([219318.78], dtype=float32)},\n",
       " {'predictions': array([220103.66], dtype=float32)},\n",
       " {'predictions': array([261327.78], dtype=float32)},\n",
       " {'predictions': array([158594.12], dtype=float32)},\n",
       " {'predictions': array([219784.92], dtype=float32)},\n",
       " {'predictions': array([228387.55], dtype=float32)},\n",
       " {'predictions': array([147538.84], dtype=float32)},\n",
       " {'predictions': array([161481.08], dtype=float32)},\n",
       " {'predictions': array([216750.3], dtype=float32)},\n",
       " {'predictions': array([264363.34], dtype=float32)},\n",
       " {'predictions': array([197051.9], dtype=float32)},\n",
       " {'predictions': array([200938.6], dtype=float32)},\n",
       " {'predictions': array([177878.36], dtype=float32)},\n",
       " {'predictions': array([285471.2], dtype=float32)},\n",
       " {'predictions': array([208261.94], dtype=float32)},\n",
       " {'predictions': array([272783.47], dtype=float32)},\n",
       " {'predictions': array([219670.89], dtype=float32)},\n",
       " {'predictions': array([249940.5], dtype=float32)},\n",
       " {'predictions': array([189618.27], dtype=float32)},\n",
       " {'predictions': array([182568.52], dtype=float32)},\n",
       " {'predictions': array([207161.31], dtype=float32)},\n",
       " {'predictions': array([225915.1], dtype=float32)},\n",
       " {'predictions': array([197102.05], dtype=float32)},\n",
       " {'predictions': array([221037.02], dtype=float32)},\n",
       " {'predictions': array([153986.06], dtype=float32)},\n",
       " {'predictions': array([190059.06], dtype=float32)},\n",
       " {'predictions': array([142281.86], dtype=float32)},\n",
       " {'predictions': array([228771.9], dtype=float32)},\n",
       " {'predictions': array([234121.39], dtype=float32)},\n",
       " {'predictions': array([199757.1], dtype=float32)},\n",
       " {'predictions': array([168040.45], dtype=float32)},\n",
       " {'predictions': array([200691.53], dtype=float32)},\n",
       " {'predictions': array([194005.72], dtype=float32)},\n",
       " {'predictions': array([181432.75], dtype=float32)},\n",
       " {'predictions': array([226374.12], dtype=float32)},\n",
       " {'predictions': array([187101.1], dtype=float32)},\n",
       " {'predictions': array([217061.58], dtype=float32)},\n",
       " {'predictions': array([223826.5], dtype=float32)},\n",
       " {'predictions': array([170685.84], dtype=float32)},\n",
       " {'predictions': array([255904.22], dtype=float32)},\n",
       " {'predictions': array([228188.22], dtype=float32)},\n",
       " {'predictions': array([204503.73], dtype=float32)},\n",
       " {'predictions': array([236741.97], dtype=float32)},\n",
       " {'predictions': array([228206.22], dtype=float32)},\n",
       " {'predictions': array([317196.1], dtype=float32)},\n",
       " {'predictions': array([281211.2], dtype=float32)},\n",
       " {'predictions': array([205505.97], dtype=float32)},\n",
       " {'predictions': array([205137.64], dtype=float32)},\n",
       " {'predictions': array([221029.1], dtype=float32)},\n",
       " {'predictions': array([182146.75], dtype=float32)},\n",
       " {'predictions': array([199236.36], dtype=float32)},\n",
       " {'predictions': array([211741.58], dtype=float32)},\n",
       " {'predictions': array([211322.38], dtype=float32)},\n",
       " {'predictions': array([208254.12], dtype=float32)},\n",
       " {'predictions': array([189158.08], dtype=float32)},\n",
       " {'predictions': array([179960.53], dtype=float32)},\n",
       " {'predictions': array([313604.22], dtype=float32)},\n",
       " {'predictions': array([200123.66], dtype=float32)},\n",
       " {'predictions': array([205041.53], dtype=float32)},\n",
       " {'predictions': array([194403.89], dtype=float32)},\n",
       " {'predictions': array([210308.], dtype=float32)},\n",
       " {'predictions': array([259049.44], dtype=float32)},\n",
       " {'predictions': array([180661.14], dtype=float32)},\n",
       " {'predictions': array([210189.2], dtype=float32)},\n",
       " {'predictions': array([204727.47], dtype=float32)},\n",
       " {'predictions': array([167671.62], dtype=float32)},\n",
       " {'predictions': array([216833.73], dtype=float32)},\n",
       " {'predictions': array([188639.62], dtype=float32)},\n",
       " {'predictions': array([261056.81], dtype=float32)},\n",
       " {'predictions': array([176060.14], dtype=float32)},\n",
       " {'predictions': array([225343.39], dtype=float32)},\n",
       " {'predictions': array([260682.16], dtype=float32)},\n",
       " {'predictions': array([211596.88], dtype=float32)},\n",
       " {'predictions': array([236920.92], dtype=float32)},\n",
       " {'predictions': array([209237.78], dtype=float32)},\n",
       " {'predictions': array([216725.9], dtype=float32)},\n",
       " {'predictions': array([243824.14], dtype=float32)},\n",
       " {'predictions': array([208805.75], dtype=float32)},\n",
       " {'predictions': array([237283.19], dtype=float32)},\n",
       " {'predictions': array([193568.03], dtype=float32)},\n",
       " {'predictions': array([254806.25], dtype=float32)},\n",
       " {'predictions': array([247279.11], dtype=float32)},\n",
       " {'predictions': array([150864.88], dtype=float32)},\n",
       " {'predictions': array([213388.9], dtype=float32)},\n",
       " {'predictions': array([194320.1], dtype=float32)},\n",
       " {'predictions': array([220758.4], dtype=float32)},\n",
       " {'predictions': array([257334.1], dtype=float32)},\n",
       " {'predictions': array([258804.88], dtype=float32)},\n",
       " {'predictions': array([261226.28], dtype=float32)},\n",
       " {'predictions': array([234444.97], dtype=float32)},\n",
       " {'predictions': array([228967.98], dtype=float32)},\n",
       " {'predictions': array([197092.4], dtype=float32)},\n",
       " {'predictions': array([202677.88], dtype=float32)},\n",
       " {'predictions': array([238429.44], dtype=float32)},\n",
       " {'predictions': array([134075.56], dtype=float32)},\n",
       " {'predictions': array([243735.45], dtype=float32)},\n",
       " {'predictions': array([227757.28], dtype=float32)},\n",
       " {'predictions': array([211967.75], dtype=float32)},\n",
       " {'predictions': array([198226.27], dtype=float32)},\n",
       " {'predictions': array([244556.69], dtype=float32)},\n",
       " {'predictions': array([201058.27], dtype=float32)},\n",
       " {'predictions': array([245289.73], dtype=float32)},\n",
       " {'predictions': array([195086.97], dtype=float32)},\n",
       " {'predictions': array([204345.77], dtype=float32)},\n",
       " {'predictions': array([192715.1], dtype=float32)},\n",
       " {'predictions': array([176178.94], dtype=float32)},\n",
       " {'predictions': array([203986.75], dtype=float32)},\n",
       " {'predictions': array([222062.88], dtype=float32)},\n",
       " {'predictions': array([208356.84], dtype=float32)},\n",
       " {'predictions': array([210725.78], dtype=float32)},\n",
       " {'predictions': array([218854.1], dtype=float32)},\n",
       " {'predictions': array([168633.97], dtype=float32)},\n",
       " {'predictions': array([239577.], dtype=float32)},\n",
       " {'predictions': array([262394.34], dtype=float32)},\n",
       " {'predictions': array([195887.53], dtype=float32)},\n",
       " {'predictions': array([224269.16], dtype=float32)},\n",
       " {'predictions': array([194602.17], dtype=float32)},\n",
       " {'predictions': array([200990.12], dtype=float32)},\n",
       " {'predictions': array([175584.64], dtype=float32)},\n",
       " {'predictions': array([230768.81], dtype=float32)},\n",
       " {'predictions': array([178900.9], dtype=float32)},\n",
       " {'predictions': array([169250.36], dtype=float32)},\n",
       " {'predictions': array([220525.16], dtype=float32)},\n",
       " {'predictions': array([213902.89], dtype=float32)},\n",
       " {'predictions': array([204864.5], dtype=float32)},\n",
       " {'predictions': array([374869.34], dtype=float32)},\n",
       " {'predictions': array([228323.12], dtype=float32)},\n",
       " {'predictions': array([198280.52], dtype=float32)},\n",
       " {'predictions': array([270973.4], dtype=float32)},\n",
       " {'predictions': array([171033.44], dtype=float32)},\n",
       " {'predictions': array([201721.1], dtype=float32)},\n",
       " {'predictions': array([211692.03], dtype=float32)},\n",
       " {'predictions': array([201575.48], dtype=float32)},\n",
       " {'predictions': array([300673.84], dtype=float32)},\n",
       " {'predictions': array([156620.23], dtype=float32)},\n",
       " {'predictions': array([233289.72], dtype=float32)},\n",
       " {'predictions': array([179358.92], dtype=float32)},\n",
       " {'predictions': array([180942.6], dtype=float32)},\n",
       " {'predictions': array([243390.97], dtype=float32)},\n",
       " {'predictions': array([163496.78], dtype=float32)},\n",
       " {'predictions': array([235452.88], dtype=float32)},\n",
       " {'predictions': array([239077.86], dtype=float32)},\n",
       " {'predictions': array([180121.75], dtype=float32)},\n",
       " {'predictions': array([216420.94], dtype=float32)},\n",
       " {'predictions': array([185395.14], dtype=float32)},\n",
       " {'predictions': array([235794.5], dtype=float32)},\n",
       " {'predictions': array([242475.72], dtype=float32)},\n",
       " {'predictions': array([212608.4], dtype=float32)},\n",
       " {'predictions': array([245399.5], dtype=float32)},\n",
       " {'predictions': array([185577.36], dtype=float32)},\n",
       " {'predictions': array([251813.34], dtype=float32)},\n",
       " {'predictions': array([172287.39], dtype=float32)},\n",
       " {'predictions': array([180228.7], dtype=float32)},\n",
       " {'predictions': array([231284.47], dtype=float32)},\n",
       " {'predictions': array([185632.47], dtype=float32)},\n",
       " {'predictions': array([239473.5], dtype=float32)},\n",
       " {'predictions': array([235742.], dtype=float32)},\n",
       " {'predictions': array([176332.78], dtype=float32)},\n",
       " {'predictions': array([210403.97], dtype=float32)},\n",
       " {'predictions': array([201881.25], dtype=float32)},\n",
       " {'predictions': array([248243.19], dtype=float32)},\n",
       " {'predictions': array([256634.72], dtype=float32)},\n",
       " {'predictions': array([183064.31], dtype=float32)},\n",
       " {'predictions': array([216521.16], dtype=float32)},\n",
       " {'predictions': array([220414.95], dtype=float32)},\n",
       " {'predictions': array([181809.83], dtype=float32)},\n",
       " {'predictions': array([196176.2], dtype=float32)},\n",
       " {'predictions': array([167456.03], dtype=float32)},\n",
       " {'predictions': array([197259.9], dtype=float32)},\n",
       " {'predictions': array([256378.55], dtype=float32)},\n",
       " {'predictions': array([174336.89], dtype=float32)},\n",
       " {'predictions': array([220619.28], dtype=float32)},\n",
       " {'predictions': array([187167.73], dtype=float32)},\n",
       " {'predictions': array([169741.22], dtype=float32)},\n",
       " {'predictions': array([242015.97], dtype=float32)},\n",
       " {'predictions': array([205464.83], dtype=float32)},\n",
       " {'predictions': array([193068.88], dtype=float32)},\n",
       " {'predictions': array([204539.03], dtype=float32)},\n",
       " {'predictions': array([164066.36], dtype=float32)},\n",
       " {'predictions': array([193073.12], dtype=float32)},\n",
       " {'predictions': array([358496.28], dtype=float32)},\n",
       " {'predictions': array([195603.81], dtype=float32)},\n",
       " {'predictions': array([318029.5], dtype=float32)},\n",
       " {'predictions': array([246310.66], dtype=float32)},\n",
       " {'predictions': array([168417.17], dtype=float32)},\n",
       " {'predictions': array([215237.97], dtype=float32)},\n",
       " {'predictions': array([231292.1], dtype=float32)},\n",
       " {'predictions': array([227490.97], dtype=float32)},\n",
       " {'predictions': array([173343.6], dtype=float32)},\n",
       " {'predictions': array([228657.25], dtype=float32)},\n",
       " {'predictions': array([227971.2], dtype=float32)},\n",
       " {'predictions': array([226090.12], dtype=float32)},\n",
       " {'predictions': array([191463.27], dtype=float32)},\n",
       " {'predictions': array([182502.08], dtype=float32)},\n",
       " {'predictions': array([198080.64], dtype=float32)},\n",
       " {'predictions': array([195201.64], dtype=float32)},\n",
       " {'predictions': array([228002.73], dtype=float32)},\n",
       " {'predictions': array([165308.84], dtype=float32)},\n",
       " {'predictions': array([188285.34], dtype=float32)},\n",
       " {'predictions': array([191746.47], dtype=float32)},\n",
       " {'predictions': array([240445.5], dtype=float32)},\n",
       " {'predictions': array([225649.69], dtype=float32)},\n",
       " {'predictions': array([223936.28], dtype=float32)},\n",
       " {'predictions': array([234619.69], dtype=float32)},\n",
       " {'predictions': array([211028.1], dtype=float32)},\n",
       " {'predictions': array([226692.98], dtype=float32)},\n",
       " {'predictions': array([338649.9], dtype=float32)},\n",
       " {'predictions': array([167724.44], dtype=float32)},\n",
       " {'predictions': array([251785.47], dtype=float32)},\n",
       " {'predictions': array([229077.3], dtype=float32)},\n",
       " {'predictions': array([228364.28], dtype=float32)},\n",
       " {'predictions': array([185791.53], dtype=float32)},\n",
       " {'predictions': array([182618.17], dtype=float32)},\n",
       " {'predictions': array([221162.69], dtype=float32)},\n",
       " {'predictions': array([218148.61], dtype=float32)},\n",
       " {'predictions': array([194533.45], dtype=float32)},\n",
       " {'predictions': array([187309.05], dtype=float32)},\n",
       " {'predictions': array([316227.88], dtype=float32)},\n",
       " {'predictions': array([207634.34], dtype=float32)},\n",
       " ...]"
      ]
     },
     "execution_count": 76,
     "metadata": {},
     "output_type": "execute_result"
    }
   ],
   "source": [
    "predictions"
   ]
  },
  {
   "cell_type": "markdown",
   "metadata": {},
   "source": [
    "** Calculate the RMSE. You should be able to get around 100,000 RMSE (remember that this is in the same units as the label.) Do this manually or use [sklearn.metrics](http://scikit-learn.org/stable/modules/generated/sklearn.metrics.mean_squared_error.html) **"
   ]
  },
  {
   "cell_type": "code",
   "execution_count": 77,
   "metadata": {},
   "outputs": [],
   "source": [
    "final_pred = []\n",
    "for pred in predictions:\n",
    "    final_pred.append(pred['predictions'])"
   ]
  },
  {
   "cell_type": "code",
   "execution_count": 78,
   "metadata": {},
   "outputs": [],
   "source": [
    "from sklearn.metrics import mean_squared_error"
   ]
  },
  {
   "cell_type": "code",
   "execution_count": 79,
   "metadata": {},
   "outputs": [
    {
     "data": {
      "text/plain": [
       "94956.24681223316"
      ]
     },
     "execution_count": 79,
     "metadata": {},
     "output_type": "execute_result"
    }
   ],
   "source": [
    "mean_squared_error(y_test, final_pred)**0.5"
   ]
  },
  {
   "cell_type": "markdown",
   "metadata": {},
   "source": [
    "# Great Job!"
   ]
  },
  {
   "cell_type": "code",
   "execution_count": null,
   "metadata": {},
   "outputs": [],
   "source": []
  }
 ],
 "metadata": {
  "kernelspec": {
   "display_name": "Python 3",
   "language": "python",
   "name": "python3"
  },
  "language_info": {
   "codemirror_mode": {
    "name": "ipython",
    "version": 3
   },
   "file_extension": ".py",
   "mimetype": "text/x-python",
   "name": "python",
   "nbconvert_exporter": "python",
   "pygments_lexer": "ipython3",
   "version": "3.6.3"
  }
 },
 "nbformat": 4,
 "nbformat_minor": 2
}
