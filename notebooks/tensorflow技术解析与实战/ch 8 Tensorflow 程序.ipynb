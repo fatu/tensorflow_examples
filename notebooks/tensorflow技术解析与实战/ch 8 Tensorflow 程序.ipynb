{
 "cells": [
  {
   "cell_type": "markdown",
   "metadata": {},
   "source": [
    "## 8.1 Tensorflow 的运行方式"
   ]
  },
  {
   "cell_type": "markdown",
   "metadata": {},
   "source": [
    "1. 加载数据及定义超参数\n",
    "2. 构建网络\n",
    "3. 训练模型\n",
    "4. 评估模型和进行预测"
   ]
  },
  {
   "cell_type": "markdown",
   "metadata": {},
   "source": [
    "### 8.1.1 生成及加载数据"
   ]
  },
  {
   "cell_type": "code",
   "execution_count": 2,
   "metadata": {
    "collapsed": true
   },
   "outputs": [],
   "source": [
    "import tensorflow as tf\n",
    "import numpy as np\n",
    "# 构造二元一次方程组\n",
    "x_data = np.linspace(-1, 1, 300)[:, np.newaxis]\n",
    "noise = np.random.normal(0, 0.05, x_data.shape)\n",
    "y_data = np.square(x_data) - 0.5 + noise # y = x^2 - 0.5 + 噪声"
   ]
  },
  {
   "cell_type": "code",
   "execution_count": 3,
   "metadata": {
    "collapsed": true
   },
   "outputs": [],
   "source": [
    "xs = tf.placeholder(tf.float32, [None, 1])\n",
    "ys = tf.placeholder(tf.float32, [None, 1])"
   ]
  },
  {
   "cell_type": "markdown",
   "metadata": {},
   "source": [
    "### 8.1.2 构建网络模型"
   ]
  },
  {
   "cell_type": "code",
   "execution_count": 14,
   "metadata": {},
   "outputs": [],
   "source": [
    "# 定义隐藏层和输出层\n",
    "def add_layer(inputs, in_size, out_size, activation_function=None):\n",
    "    # 构建权重: in_size*out_size 大小的矩阵\n",
    "    weights = tf.Variable(tf.random_normal([in_size, out_size]))\n",
    "    # 构建偏置: 1*out_size 的矩阵\n",
    "    biases= tf.Variable(tf.zeros([1, out_size]) + 0.1)\n",
    "    # 矩阵相乘\n",
    "    Wx_plus_b = tf.matmul(inputs, weights) + biases\n",
    "    if activation_function is None:\n",
    "        outputs = Wx_plus_b\n",
    "    else:\n",
    "        outputs = activation_function(Wx_plus_b)\n",
    "    return outputs\n",
    "\n",
    "# 构建隐藏层，假设隐藏层有10个神经元\n",
    "h1 = add_layer(xs, 1, 20, activation_function=tf.nn.relu)\n",
    "# 构建输出层，假设输出层和输入层一样，有1个神经元\n",
    "prediction = add_layer(h1, 20, 1, activation_function=None)"
   ]
  },
  {
   "cell_type": "code",
   "execution_count": 15,
   "metadata": {
    "collapsed": true
   },
   "outputs": [],
   "source": [
    "# 计算预测值和真实值间的误差\n",
    "loss = tf.reduce_mean(tf.reduce_sum(tf.square(ys - prediction),\n",
    "                                   reduction_indices=[1]))\n",
    "train_step = tf.train.GradientDescentOptimizer(0.1).minimize(loss)"
   ]
  },
  {
   "cell_type": "markdown",
   "metadata": {},
   "source": [
    "### 8.1.3 训练模型"
   ]
  },
  {
   "cell_type": "code",
   "execution_count": 16,
   "metadata": {},
   "outputs": [
    {
     "name": "stdout",
     "output_type": "stream",
     "text": [
      "1.80396\n",
      "0.00497298\n",
      "0.00421409\n",
      "0.00405438\n",
      "0.00396791\n",
      "0.00388714\n",
      "0.00380229\n",
      "0.00372453\n",
      "0.00365738\n",
      "0.00359222\n",
      "0.00352559\n",
      "0.00345658\n",
      "0.00339346\n",
      "0.00334234\n",
      "0.00330342\n",
      "0.00327033\n",
      "0.0032372\n",
      "0.00320039\n",
      "0.00315891\n",
      "0.0031244\n"
     ]
    }
   ],
   "source": [
    "init = tf.global_variables_initializer() # 初始化所有变量\n",
    "sess = tf.Session()\n",
    "sess.run(init)\n",
    "\n",
    "for i in range(1000):\n",
    "    sess.run(train_step, feed_dict={xs: x_data, ys: y_data})\n",
    "    if i % 50 == 0:\n",
    "        print(sess.run(loss, feed_dict={xs: x_data, ys: y_data}))"
   ]
  },
  {
   "cell_type": "markdown",
   "metadata": {},
   "source": [
    "## 8.2 超参数的设定"
   ]
  },
  {
   "cell_type": "markdown",
   "metadata": {},
   "source": [
    "learning_rate  \n",
    "early stopping: no-improvement-in-n  \n",
    "mini-batch  \n",
    "regularization parameter  "
   ]
  },
  {
   "cell_type": "code",
   "execution_count": null,
   "metadata": {
    "collapsed": true
   },
   "outputs": [],
   "source": []
  }
 ],
 "metadata": {
  "kernelspec": {
   "display_name": "Python 2",
   "language": "python",
   "name": "python2"
  },
  "language_info": {
   "codemirror_mode": {
    "name": "ipython",
    "version": 2
   },
   "file_extension": ".py",
   "mimetype": "text/x-python",
   "name": "python",
   "nbconvert_exporter": "python",
   "pygments_lexer": "ipython2",
   "version": "2.7.13"
  }
 },
 "nbformat": 4,
 "nbformat_minor": 2
}
