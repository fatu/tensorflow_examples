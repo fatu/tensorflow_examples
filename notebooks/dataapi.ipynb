{
 "cells": [
  {
   "cell_type": "code",
   "execution_count": 1,
   "metadata": {},
   "outputs": [
    {
     "name": "stderr",
     "output_type": "stream",
     "text": [
      "/Users/fatu/env/tensorflow/lib/python3.6/site-packages/h5py/__init__.py:36: FutureWarning: Conversion of the second argument of issubdtype from `float` to `np.floating` is deprecated. In future, it will be treated as `np.float64 == np.dtype(float).type`.\n",
      "  from ._conv import register_converters as _register_converters\n"
     ]
    }
   ],
   "source": [
    "import tensorflow as tf"
   ]
  },
  {
   "cell_type": "code",
   "execution_count": null,
   "metadata": {},
   "outputs": [],
   "source": [
    "files = tf.data.Dataset.list_files(file_pattern)\n",
    "dataset = tf.data.TFRecordDataset(files)\n",
    "\n",
    "dataset = dataset.shuffle(10000)\n",
    "dataset = dataset.repeat(NUM_EPOCHS)\n",
    "dataset = dataset.map(lambda x: tf.parse_single_example(x, features))\n",
    "dataset = dataset.batch(BATCH_SIZE)\n",
    "\n",
    "or:\n",
    "\n",
    "dataset = dataset.apply(\n",
    "   tf.contrib.data.shuffle_and_repeat(10000, NUM_EPOCHS))\n",
    "dataset = dataset.apply(\n",
    "   tf.contrib.data.map_and_batch(lambda x: ..., BATCH_SIZE))\n",
    "\n",
    "dataset = dataset.apply(tf.contrib.data.prefetch_to_device('/gpu:0'))\n",
    "iterator = dataset.make_one_shot_iterator()\n",
    "features = iterator.get_next()"
   ]
  },
  {
   "cell_type": "markdown",
   "metadata": {},
   "source": [
    "* performance guideline\n",
    "https://www.tensorflow.org/performance/datasets_performance"
   ]
  },
  {
   "cell_type": "code",
   "execution_count": null,
   "metadata": {},
   "outputs": [],
   "source": [
    "tf.enable_eager_execution()\n",
    "\n",
    "files = tf.data.Dataset.list_files(file_pattern)\n",
    "dataset = tf.data.TFRecordDataset(files)\n",
    "dataset = dataset.shuffle(10000)\n",
    "dataset = dataset.repeat(NUM_EPOCHS)\n",
    "dataset = dataset.map(lambda x : tf.parse_single_example(x, features))\n",
    "dataset = dataset.batch(BATCH_SIZE)"
   ]
  },
  {
   "cell_type": "code",
   "execution_count": null,
   "metadata": {},
   "outputs": [],
   "source": [
    "# Also implements best practivces for high performance!\n",
    "# (See optional args for details.)\n",
    "dataset = tf.contrib.data.make_batched_features_dataset(\n",
    "   file_pattern, BATCH_SIZE, features, num_epochs=NUM_EPOCHS)\n",
    "\n",
    "for batch in dataset:\n",
    "   train_model(batch)"
   ]
  },
  {
   "cell_type": "code",
   "execution_count": null,
   "metadata": {},
   "outputs": [],
   "source": [
    "# In a terminal, run the following commands, e.g. :\n",
    "# $ pip install kaggle\n",
    "# $ kaggle datasets download -d therohk/million-headlines -p .\n",
    "dataset = tf.contrib.data.make_csv_dataset(\n",
    "   \"*.csv\", BATCH_SIZE, num_epochs=NUM_EPOCHS)\n",
    "\n",
    "for batch in dataset:\n",
    "   train_model(batch[\"publish_date\"], batch[\"headline_text\"])"
   ]
  },
  {
   "cell_type": "code",
   "execution_count": null,
   "metadata": {},
   "outputs": [],
   "source": [
    "# Wrap the dataset in an input function, and return it directly.\n",
    "def input_fn():\n",
    "   dataset = tf.contrib.data.make_csv_dataset(\n",
    "      \"*.csv\", BATCH_SIZE, num_epochs=NUM_EPOCHS)\n",
    "   return dataset\n",
    "\n",
    "# Train an Estimator on the dataset.\n",
    "tf.estimator.Estimator(model_fn=train_model).train(input_fn=input_fn)"
   ]
  },
  {
   "cell_type": "markdown",
   "metadata": {},
   "source": [
    "For more information see:\n",
    "https://www.tensorflow.org/performance/datasets_performance\n",
    "https://www.tensorflow.org/programmers_guide/datasets"
   ]
  }
 ],
 "metadata": {
  "kernelspec": {
   "display_name": "Python 3",
   "language": "python",
   "name": "python3"
  },
  "language_info": {
   "codemirror_mode": {
    "name": "ipython",
    "version": 3
   },
   "file_extension": ".py",
   "mimetype": "text/x-python",
   "name": "python",
   "nbconvert_exporter": "python",
   "pygments_lexer": "ipython3",
   "version": "3.6.3"
  }
 },
 "nbformat": 4,
 "nbformat_minor": 2
}
